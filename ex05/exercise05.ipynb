{
<<<<<<< HEAD
 "cells": [
  {
   "cell_type": "markdown",
   "metadata": {},
   "source": [
    "### **Computational Statistical Physics, FS2019**\n",
    "\n",
    "\n",
    "**Exercise 06**\n",
    "\n",
    "Beat Hubmann"
   ]
  },
  {
   "cell_type": "markdown",
   "metadata": {},
   "source": [
    "### Setup"
   ]
  },
  {
   "cell_type": "code",
   "execution_count": 1,
   "metadata": {
    "ExecuteTime": {
     "end_time": "2019-04-04T16:56:20.027912Z",
     "start_time": "2019-04-04T16:56:15.357119Z"
    }
   },
   "outputs": [
    {
     "name": "stdout",
     "output_type": "stream",
     "text": [
      "TensorFlow version: 2.0.0-alpha0\n"
     ]
    }
   ],
   "source": [
    "import copy\n",
    "import datetime\n",
    "import itertools\n",
    "import math\n",
    "import os\n",
    "import random\n",
    "import sys\n",
    "\n",
    "import deepdish as dd\n",
    "import matplotlib.pyplot as plt\n",
    "import numpy as np\n",
    "import tensorflow as tf\n",
    "\n",
    "from tensorflow.keras.models import Sequential\n",
    "from tensorflow.keras.layers import Dense\n",
    "from tensorflow.keras.layers import Dropout\n",
    "from tensorflow.keras.layers import Conv2D\n",
    "from tensorflow.keras.layers import MaxPooling2D\n",
    "from tensorflow.keras.layers import Activation\n",
    "from tensorflow.keras.layers import Flatten\n",
    "from tensorflow.keras.layers import BatchNormalization\n",
    "\n",
    "\n",
    "from sklearn.preprocessing import Binarizer\n",
    "from sklearn.preprocessing import OneHotEncoder\n",
    "from sklearn.model_selection import train_test_split\n",
    "from tqdm import tqdm_notebook as tqdm\n",
    "\n",
    "%matplotlib inline\n",
    "\n",
    "print('TensorFlow version: {}'.format(tf.__version__))"
   ]
  },
  {
   "cell_type": "markdown",
   "metadata": {},
   "source": [
    "# Exercise 1"
   ]
  },
  {
   "cell_type": "markdown",
   "metadata": {},
   "source": [
    "## Task 1"
   ]
  },
  {
   "cell_type": "markdown",
   "metadata": {},
   "source": [
    "Nothing to report."
   ]
  },
  {
   "cell_type": "markdown",
   "metadata": {},
   "source": [
    "## Task 2"
   ]
  },
  {
   "cell_type": "markdown",
   "metadata": {},
   "source": [
    "### Hopfield Networks\n",
    "\n",
    "Hopfield networks are the oldest among the concepts discussed in this question. They're associative memory systems in the form of a fully connected (i.e. complete) undirected graph of binary treshold nodes as shown in the figure ![Hopfield network](./src/hopfield.png) from the book by [Geron](#geron). Updating a single unit is according to the rule\n",
    "\n",
    "\n",
    "$s_i \\leftarrow$ \\begin{cases}\n",
    "+1\\ \\text{if}\\ \\sum_j w_{ij}s_j \\geq \\theta_i,\\\\\n",
    "-1\\ \\text{otherwise}.\n",
    "\\end{cases}\n",
    "\n",
    "where:\n",
    "* $w_{ij}$ is the connection weight,\n",
    "* $s_j$ is the state of unit $j$,\n",
    "* $\\theta_i$ is the treshold of unit $i$.\n",
    "Any state of the network can be described by a scalar energy term:\n",
    "\n",
    "$E= -\\frac{1}{2}\\sum_{i,j}w_{ij}s_i s_j + \\sum_i \\theta_i s_i$"
   ]
  },
  {
   "cell_type": "markdown",
   "metadata": {},
   "source": [
    "### Boltzmann Machines\n",
    "\n",
    "A Boltzmann machine is identical in structure when compared to a Hopfield network. However, the Boltzmann machine's units are stochastic: A unit's output isn't set to one when the sum of its weighted connections reaches a certain treshold, but only with a probability based on the Boltzmann distribution depending on the same inputs (*i.e. the Boltzmann Machine is a Monte Carlo version of the Hopfield network*):\n",
    "\n",
    "$p(s_i =1) = \\sigma(\\frac{\\sum_j w_{ij}s_j}{T})=\\frac{1}{1+\\exp{-\\frac{\\Delta E_i}{T}}}$\n",
    "\n",
    "where:\n",
    "* $w_{ij}$ is the connection weight,\n",
    "* $s_j$ is the state of unit $j$,\n",
    "* $\\theta_i$ is the treshold of unit $i$,\n",
    "* $T$ is the network's (artificial) temperature,\n",
    "* $\\sigma$ is the logistic function,\n",
    "* $\\Delta E_i = E_{\\text{i off}} - E_{\\text{i on}} = -k_B T \\ln(p_{\\text{i off}}) -(-k_B T \\ln(p_{\\text{i on}}))$\n",
    "\n",
    "The other major difference from Hopfield networks where all units are visible (i.e. used for input/output) is that only part of the Boltzmann machine's neuron units are visible while the remaining ones remain hidden as shown in the figure ![Boltzmann machine](./src/BM.png) from the book by [Geron](#geron).\n",
    "\n",
    "Boltzmann machines can't be trained efficiently mostly because the learning time grows exponentially with the number of neurons of which more than a few are required to do anything practical (e.g. each visible unit would need to be connected to an image's pixel to do image recognition/generation)."
   ]
  },
  {
   "cell_type": "markdown",
   "metadata": {},
   "source": [
    "### Restricted Boltzmann Machines\n",
    "Finally, Restricted Boltzmann Machines are a modification of the Boltzmann machines where the complete graph is replaced by a bipartite graph: There are no connections *within* the visible and the hidden parts of the graph and only the full connectedness between these two parts remain as shown in another figure ![Restricted Boltzmann machine](./src/RBM.png) from the book by [Geron](#geron)."
   ]
  },
  {
   "cell_type": "markdown",
   "metadata": {},
   "source": [
    "### Discussion\n",
    "Of all the three models looked at, only the Restricted Boltzmann machine has useful practical applications. Using the [Contrastive Divergence](#hinton) training algorithm, training becomes efficient enough so that several layers of Restricted Boltzmann machines (RBMs) can be stacked into deep belief networks (DBNs) which, on a historical note, is what started the current success wave of Deep Learning and earned Hinton the Turing award in March 2019.\n",
    "\n",
    "RBMs are useful as they can learn to reproduce the probability distribution shown to their inputs."
   ]
  },
  {
   "cell_type": "markdown",
   "metadata": {},
   "source": [
    "## Task 3"
   ]
  },
  {
   "cell_type": "code",
   "execution_count": 6,
   "metadata": {
    "ExecuteTime": {
     "end_time": "2019-04-04T18:11:09.392872Z",
     "start_time": "2019-04-04T18:11:09.334841Z"
    }
   },
   "outputs": [],
   "source": [
    "'''\n",
    "class monitoring():\n",
    "    def reconstruction_cross_e(): \n",
    "    \n",
    "    def ava_sq_error(): \n",
    "    \n",
    "    def pseudo_log_l():\n",
    "'''\n",
    "\n",
    "class RBM():\n",
    "    def __init__(self, visible_dim, hidden_dim,  number_of_epochs, picture_shape, batch_size, optimizer='cd',n_test_samples=100, init_learning_rate = 0.8):\n",
    "        self._n_epoch = number_of_epochs\n",
    "        self._v_dim = visible_dim\n",
    "        self._h_dim = hidden_dim\n",
    "        self._l_r = init_learning_rate\n",
    "        self._batch_size = batch_size\n",
    "        self._picture_shape = picture_shape\n",
    "        self.n_test_samples = n_test_samples\n",
    "        self.optimizer = optimizer\n",
    "        self._current_time = datetime.datetime.now().strftime(\"%Y%m%d-%H%M%S\")\n",
    "        self._log_dir = 'logs/scalars/' + self._current_time + '/train'\n",
    "        self._file_writer = tf.summary.create_file_writer(self._log_dir)\n",
    "        self._file_writer.set_as_default()\n",
    "        #self.model = self.model\n",
    "        self.visible_biases = tf.Variable(tf.random.uniform([1, visible_dim], 0, 0.1), tf.float32, name=\"visible_biases\")\n",
    "        self.hidden_biases = tf.Variable(tf.random.uniform([1, hidden_dim], 0, 0.1), tf.float32, name=\"hidden_biases\")\n",
    "        self.weights = tf.Variable(tf.random.normal([hidden_dim, visible_dim], mean = 0.0, stddev = 0.1), tf.float32, name=\"weights\")\n",
    "\n",
    "    '''\n",
    "    @tf.function    \n",
    "    def model(self):\n",
    "        self.visible_biases = tf.Variable(tf.random.uniform([1, self._v_dim], 0, 1), tf.float32, name=\"visible_biases\")\n",
    "        self.hidden_biases = tf.Variable(tf.random.uniform([1, self._h_dim], 0, 1), tf.float32, name=\"hidden_biases\")\n",
    "        self.weights = tf.Variable(tf.random.normal([self._h_dim,self._v_dim], mean = 0.0, stddev = 0.01),tf.float32, name=\"weights\")\n",
    "        #self.learning_rate = tf.Variable(tf.fill([self._v_dim, self._h_dim], learning_rate), name=\"learning_rate\")\n",
    "    '''\n",
    "    def save_model(self):\n",
    "        \"\"\"\n",
    "        Save the current RBM model as .h5 file dictionary with  keys: {'weights', 'visible biases', 'hidden_biases' }\n",
    "        \"\"\"\n",
    "        model_dict = {'weights': np.asarray(self.weights), 'visible_biases': np.asarray(self.visible_biases), 'hidden_biases': np.asarray(self.hidden_biases)}\n",
    "        return dd.io.save('results/models/'+self._current_time+'model.h5', model_dict)\n",
    "\n",
    "    def from_saved_model(self,model_path):\n",
    "        \"\"\"\n",
    "        :param model_path: string\n",
    "                           path of .h5 file containing dictionary of the model with  keys: {'weights', 'visible biases', 'hidden biases' }\n",
    "        :return: loaded model\n",
    "        \"\"\"\n",
    "        model_dict = dd.io.load(model_path)\n",
    "        self.weights = model_dict['weights']\n",
    "        self.visible_biases = model_dict['visible biases']\n",
    "        self.hidden_biases = model_dict['hidden biases']\n",
    "        return self\n",
    "\n",
    "    #@tf.function\n",
    "    def calculate_state(self, probability):\n",
    "        \"\"\"\n",
    "        Given the probability(x'=1|W,b) = sigmoid(Wx+b) computes the next state by sampling from the relative binomial distribution.\n",
    "        x and x' can be the visible and hidden layers respectively or viceversa.\n",
    "        :param probability: array, shape(visible_dim) or shape(hidden_dim)\n",
    "        :return: array , shape(visible_dim) or shape(hidden_dim)\n",
    "                 0,1 state of each unit in the layer\n",
    "        \"\"\"\n",
    "        binom = tf.concat([1-probability,probability],0)\n",
    "        prob_re = tf.reshape(binom,(2,probability.get_shape()[1]))\n",
    "        #print(\"check summation probability:\", tf.reduce_sum(prob_re,0)) # check prob summation to 1\n",
    "        return tf.reshape(tf.cast(tf.random.categorical(tf.math.log(tf.transpose(prob_re)),1), tf.float32), (1,probability.get_shape()[1]))\n",
    "   \n",
    "    #@tf.function\n",
    "    def sample(self, inpt = [] ,n_step_MC=1,p_0=0.5,p_1=0.5):\n",
    "        \"\"\"\n",
    "        Sample from the RBM with n_step_MC steps markov chain.\n",
    "        :param inpt: array shape(visible_dim)\n",
    "                     It is possible to start the markov chain from a given point from the dataset or from a random state\n",
    "        :param n_step_MC: scalar\n",
    "                          number of markov chain steps to sample.\n",
    "        :return: visible_states_1: array shape(visible_dim)\n",
    "                 visible state after n_step_MC steps\n",
    "                 visible_probabilities_1: array shape(visible_dim)\n",
    "                 probabilities from which visible_states_1 is sampled\n",
    "        \"\"\"\n",
    "        if len(inpt) == 0:\n",
    "            #inpt = tf.constant(np.random.randint(2, size=self._v_dim), tf.float32)\n",
    "            inpt = tf.constant(np.random.choice([0,1], size=self._v_dim,p=[p_0,p_1]), tf.float32)\n",
    "        hidden_probabilities_0 = tf.sigmoid(tf.add(tf.tensordot(self.weights, inpt,1), self.hidden_biases)) # dimension W + 1 row for biases\n",
    "        hidden_states_0 = self.calculate_state(hidden_probabilities_0)\n",
    "        evolution_MC = [inpt]\n",
    "        for _ in range(n_step_MC): #gibbs update\n",
    "            visible_probabilities_1 = tf.sigmoid(tf.add(tf.tensordot(hidden_states_0,self.weights,1), self.visible_biases)) # dimension W + 1 row for biases\n",
    "            visible_states_1 = self.calculate_state(visible_probabilities_1)\n",
    "            hidden_probabilities_1 = tf.sigmoid(tf.add(tf.tensordot(visible_states_1, tf.transpose(self.weights),1), self.hidden_biases)) # dimension W + 1 row for biases\n",
    "            hidden_states_1 = self.calculate_state(hidden_probabilities_1)\n",
    "            hidden_states_0 = hidden_states_1\n",
    "            evolution_MC.append(visible_states_1)\n",
    "        return visible_states_1,visible_probabilities_1,inpt,evolution_MC\n",
    "\n",
    "    #@tf.function\n",
    "    def contr_divergence(self, data_point, k=1):\n",
    "        \"\"\"\n",
    "        Perform k-PCD (Progressive Contrastive Divergence) given a data point as visible input.\n",
    "        :param data_point: array, shape(visible layer)\n",
    "                           visible data point sampled from the batch of training data\n",
    "        :param n_step_MC: int\n",
    "                          number of Constrastive Divergence steps to perform (CD1, CD2,...)\n",
    "        :return: delta_W: array shape(hidden_dim, visible_dim)\n",
    "                          Array in the shape of the weight matrix whose entries are the gradients dw_{ij}\n",
    "                 delta_vb: array, shape(visible_dim)\n",
    "                           Array in the shape of the visible biases whose entries are the gradients d_vb_i\n",
    "                 delta_hb: array, shape(hidden_dim)\n",
    "                           Array in the shape of the hidden biases whose entries are the gradients d_hb_i\n",
    "                 visible_states_1: array, shape(visible layer)\n",
    "                                   final state of visible layer after contrastive divergence step\n",
    "        \"\"\"\n",
    "        visible_states_0 = tf.expand_dims(data_point, 0)\n",
    "        hidden_probabilities_0 = tf.sigmoid(tf.add(tf.tensordot(visible_states_0, tf.transpose(self.weights), 1),\n",
    "                                                   self.hidden_biases))\n",
    "        hidden_states_0 = self.calculate_state(hidden_probabilities_0)\n",
    "            \n",
    "        for _ in range(k):\n",
    "            visible_probabilities_1 = tf.sigmoid(tf.add(tf.tensordot(hidden_states_0, self.weights, 1),\n",
    "                                                        self.visible_biases))\n",
    "            visible_states_1 = self.calculate_state(visible_probabilities_1)\n",
    "        \n",
    "            hidden_probabilities_1 = tf.sigmoid(tf.add(tf.tensordot(visible_states_1, tf.transpose(self.weights), 1),\n",
    "                                                self.hidden_biases))\n",
    "            hidden_states_0 = hidden_states_1 = self.calculate_state(hidden_probabilities_1)\n",
    "        \n",
    "        pos_phase = tf.tensordot(hidden_probabilities_0, visible_states_0, axes=[0, 0])\n",
    "        neg_phase = tf.tensordot(hidden_probabilities_1, visible_states_1, axes=[0, 0])    \n",
    "    \n",
    "        delta_W = tf.subtract(pos_phase, neg_phase)\n",
    "        delta_vb = tf.subtract(visible_states_0, visible_states_1)\n",
    "        delta_hb = tf.subtract(hidden_probabilities_0, hidden_probabilities_1)\n",
    "        return delta_W, delta_vb, delta_hb, visible_states_1\n",
    "\n",
    "    #@tf.function\n",
    "    def persistent_contr_divergence(self, data):\n",
    "        \"\"\"\n",
    "        Persistent CD [Tieleman08] uses another approximation for sampling from p(v,h).\n",
    "        It relies on a single Markov chain, which has a persistent state (i.e., not restarting\n",
    "        a chain for each observed example). For each parameter update, we extract new samples by\n",
    "        simply running the chain for k-steps. The state of the chain is then preserved for subsequent updates.\n",
    "        \"\"\"\n",
    "        raise NotImplementedError\n",
    "        return None\n",
    "\n",
    "    def reconstruction_cross_entropy(self,test_points, plot=True):\n",
    "        \"\"\"\n",
    "        Compute the reconstruction cross entropy = - \\Sum_[i=1]^d z_i log(p(z_i)) + (1-z_i) log(1-p(z_i)) where i\n",
    "        is the i-th component of the reconstructed vector and p(z_i) = sigmoid(Wx+b)_i.\n",
    "        :param test_point: array like\n",
    "                           Random point sampled from the test set\n",
    "        :param plot: bool\n",
    "                    if True plot the reconstruction togheter with the sampled test point for comparison\n",
    "        :return: scalar\n",
    "                Reconstruction cross entropy\n",
    "        \"\"\"        \n",
    "        r_ce_list=[]\n",
    "        for vec in test_points: \n",
    "            reconstruction,prob,_,_ = self.sample(inpt=vec)\n",
    "            #tf.where is needed to have 0*-\\infty = 0\n",
    "            r_ce = tf.multiply(reconstruction, tf.where(tf.math.is_inf(tf.math.log(prob)),np.zeros_like(tf.math.log(prob)),tf.math.log(prob))) \\\n",
    "                   + tf.multiply((1-reconstruction), tf.where(tf.math.is_inf(tf.math.log(1-prob)),np.zeros_like(tf.math.log(1-prob)), tf.math.log(1-prob)))\n",
    "            r_ce_list.append(-tf.reduce_sum(r_ce,1)[0])\n",
    "\n",
    "        if plot:\n",
    "            reconstruction_plot= self.sample(inpt=test_points[1,:])[0]\n",
    "            fig, axes = plt.subplots(nrows=1, ncols=2)\n",
    "            axes[0].imshow(test_points[1,:].reshape(self._picture_shape),cmap='Greys')\n",
    "            axes[0].set_title(\"Original Image\")\n",
    "            axes[1].imshow(np.asarray(reconstruction_plot).reshape(self._picture_shape), cmap='Greys')\n",
    "            axes[1].set_title(\"Reconstruction\")\n",
    "            plt.show(block=False)\n",
    "            plt.pause(3)\n",
    "            plt.close()\n",
    "\n",
    "        return np.average(r_ce_list)\n",
    "\n",
    "    def average_squared_error(self, test_points):\n",
    "        \"\"\"\n",
    "        Compute the mean squared error between a test vector and its reconstruction performed by the RBM, ||x - z||^2.  \n",
    "        :param test_point: array, shape(visible_dim)\n",
    "                           data point to test the reconstruction\n",
    "        :return: sqr: float\n",
    "                      error\n",
    "        \"\"\"\n",
    "        ase_list=[]\n",
    "        for vec in test_points:\n",
    "            reconstruction= self.sample(inpt = vec)[0]\n",
    "            as_e = tf.pow(vec - reconstruction,2)\n",
    "            sqr = tf.reduce_sum(as_e,1)/self._v_dim\n",
    "            ase_list.append(sqr[0])\n",
    "            return np.mean(ase_list)\n",
    "\n",
    "    def free_energy(self,test_point):\n",
    "        \"\"\"\n",
    "        Compute the free energy of the RBM, it is useful to compute the pseudologlikelihood.\n",
    "        F(v) = - log \\sum_h e^{-E(v,h)} = -bv - \\sum_i \\log(1 + e^{c_i + W_i v}) where v= visible state, h = hidden state,\n",
    "        b = visible biases, c = hidden biases, W_i = i-th column of the weights matrix\n",
    "        :param test_point: array, shape(visible_dim)\n",
    "                           random point sampled from the test set\n",
    "        :return: scalar\n",
    "        \"\"\"\n",
    "        bv = tf.tensordot(test_point, tf.transpose(self.visible_biases),1)\n",
    "        wx_b = tf.tensordot(self.weights,test_point,1) + self.hidden_biases\n",
    "        hidden_term = tf.reduce_sum(tf.math.log(1+tf.math.exp(wx_b)))\n",
    "        return np.asarray(-hidden_term -bv)[0]\n",
    "\n",
    "    def pseudo_log_likelihood(self):\n",
    "        raise NotImplementedError\n",
    "        return self\n",
    "\n",
    "    def KL_divergence(self):\n",
    "        raise NotImplementedError\n",
    "        return self\n",
    "\n",
    "    def exp_decay_l_r(self,epoch):\n",
    "        \"\"\"\n",
    "        When training a model, it is often recommended to lower the learning rate as the training progresses.\n",
    "        This function applies an exponential decay function to a provided initial learning rate.\n",
    "        :param epoch: scalar\n",
    "        :return: scalar\n",
    "        \"\"\"\n",
    "#         k = 0.1\n",
    "        k = 0.005\n",
    "        lrate = self._l_r * np.exp(-k * epoch)\n",
    "        return lrate\n",
    "\n",
    "    def variable_summaries(self,var, step):\n",
    "        with tf.name_scope('summaries'):\n",
    "            mean = tf.reduce_mean(var)\n",
    "            tf.summary.scalar('mean', mean, step)\n",
    "            with tf.name_scope('stddev'):\n",
    "                stddev = tf.sqrt(tf.reduce_mean(tf.square(var - mean)))\n",
    "            tf.summary.scalar('stddev', stddev, step)\n",
    "            tf.summary.scalar('max', tf.reduce_max(var), step)\n",
    "            tf.summary.scalar('min', tf.reduce_min(var), step)\n",
    "#             tf.summary.histogram('histogram', var)\n",
    "\n",
    "    def train(self, data):\n",
    "        \"\"\"\n",
    "        This function shuffle the dataset and create #data_train/batch_size mini batches and perform contrastive divergence on each vector of the batch. \n",
    "        The upgrade of the parameters is performed only at the end of each batch by taking the average of the gradients on the batch. \n",
    "        In the last part a random datapoint is sampled from the test set to calculate the error reconstruction. The entire procedure is repeted \n",
    "         _n_epochs times.\n",
    "        :param data: dict\n",
    "                     dictionary of numpy arrays with labels ['x_train','y_train','x_test', 'y_test']\n",
    "        :return: self\n",
    "        \"\"\"\n",
    "        print('Start training...')\n",
    "        for epoch in range(self._n_epoch):\n",
    "            sys.stdout.write('\\r')\n",
    "            print('Epoch:',epoch, '/', self._n_epoch)\n",
    "            np.random.shuffle(data['x_train'])\n",
    "            with tf.name_scope('Learning rate'):\n",
    "                learning_rate = self.exp_decay_l_r(epoch)\n",
    "            for i in tqdm(range(0, data['x_train'].shape[0], self._batch_size)):\n",
    "                x_train_mini = data['x_train'][i:i+self._batch_size]\n",
    "                batch_dw = np.zeros((self._h_dim, self._v_dim, self._batch_size)) #d_w,d_v,d_h don't know why but this is not working\n",
    "                batch_dvb = np.zeros((self._v_dim, self._batch_size))\n",
    "                batch_dhb = np.zeros((self._h_dim, self._batch_size))\n",
    "                # I should create an optimizer class at the moment is just if\n",
    "                if self.optimizer == 'cd':\n",
    "                    for ind,vec in enumerate(x_train_mini):\n",
    "                        #print(ind)\n",
    "                        batch_dw[:,:,ind],batch_dvb[:,ind],batch_dhb[:,ind],_ = self.contr_divergence(vec) #d_w,d_v,d_h not working get lost to write down the values\n",
    "                #Persistent contrastive divergence\n",
    "                elif self.optimizer == 'pcd':\n",
    "                    start_point = x_train_mini[np.random.randint(0,self._batch_size,1)].reshape(self._v_dim)\n",
    "                    for ind in range(self._batch_size):\n",
    "                        batch_dw[:, :, ind], batch_dvb[:, ind], batch_dhb[:, ind], last_state = self.contr_divergence(start_point)\n",
    "                        start_point = tf.reshape(last_state,(self._v_dim,))\n",
    "                dw = np.average(batch_dw,2)\n",
    "                dvb = np.average(batch_dvb,1)\n",
    "                dhb = np.average(batch_dhb,1)\n",
    "                self.weights = self.weights + learning_rate * dw\n",
    "                self.visible_biases = self.visible_biases + learning_rate* dvb\n",
    "                self.hidden_biases = self.hidden_biases + learning_rate* dhb\n",
    "            #Save model every epoch\n",
    "            self.save_model()\n",
    "\n",
    "            #test every epoch\n",
    "            np.random.shuffle(data['x_test'])\n",
    "            rnd_test_points_idx = np.random.randint(low = 0,high = data['x_test'].shape[0], size=self.n_test_samples) #sample size random points indexes from test\n",
    "            with tf.name_scope('Errors'):\n",
    "                rec_error = self.reconstruction_cross_entropy(data['x_test'][rnd_test_points_idx,:])\n",
    "                sq_error = self.average_squared_error(data['x_test'][rnd_test_points_idx,:])\n",
    "                free_energy = self.free_energy(data['x_test'][rnd_test_points_idx[0],:])\n",
    "                tf.summary.scalar('rec_error', rec_error, step = epoch)\n",
    "                tf.summary.scalar('squared_error', sq_error, step = epoch)\n",
    "                tf.summary.scalar('Free Energy', free_energy, step = epoch)\n",
    "                tf.summary.scalar('Learning rate', learning_rate, step = epoch)\n",
    "            with tf.name_scope('Weights'):\n",
    "                self.variable_summaries(self.weights, step = epoch)\n",
    "            with tf.name_scope('Hidden biases'):\n",
    "                self.variable_summaries(self.hidden_biases, step = epoch)\n",
    "            with tf.name_scope('Visible biases'):\n",
    "                self.variable_summaries(self.visible_biases, step=epoch)\n",
    "\n",
    "            print(\"epoch %d\" % (epoch + 1),\"Rec error: %s\" % np.asarray(rec_error),\"sq_error %s\" % np.asarray(sq_error))\n"
   ]
  },
  {
   "cell_type": "markdown",
   "metadata": {},
   "source": [
    "## Task 4"
   ]
  },
  {
   "cell_type": "markdown",
   "metadata": {},
   "source": [
    "After some experimenting, I found that the preset training rate was much too high: I changed the code to start with a learning rate of $0.1$ instead of $0.8$ and an almost-zero decay factor $k=0.005$. This gave me an acceptable training progress in terms of the reconstruction error:\n",
    "![recerror](./src/Errors_rec_error.svg)\n",
    "The progress was also reflected in the free energy over the epochs:\n",
    "![freeenergy](./src/Errors_Free_energy.svg)\n",
    "\n"
   ]
  },
  {
   "cell_type": "code",
   "execution_count": 7,
   "metadata": {
    "ExecuteTime": {
     "end_time": "2019-04-04T20:23:58.784336Z",
     "start_time": "2019-04-04T18:11:12.018986Z"
    },
    "scrolled": false
   },
   "outputs": [
    {
     "name": "stdout",
     "output_type": "stream",
     "text": [
      "Start training...\n",
      "\r",
      "Epoch: 0 / 100\n"
     ]
    },
    {
     "data": {
      "application/vnd.jupyter.widget-view+json": {
       "model_id": "d32ff96effa3409ea0f2e40655ea9e76",
       "version_major": 2,
       "version_minor": 0
      },
      "text/plain": [
       "HBox(children=(IntProgress(value=0, max=422), HTML(value='')))"
      ]
     },
     "metadata": {},
     "output_type": "display_data"
    },
    {
     "data": {
      "image/png": "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\n",
      "text/plain": [
       "<Figure size 432x288 with 2 Axes>"
      ]
     },
     "metadata": {
      "needs_background": "light"
     },
     "output_type": "display_data"
    },
    {
     "name": "stdout",
     "output_type": "stream",
     "text": [
      "epoch 1 Rec error: 499.39816 sq_error 0.28125\n",
      "\r",
      "Epoch: 1 / 100\n"
     ]
    },
    {
     "data": {
      "application/vnd.jupyter.widget-view+json": {
       "model_id": "eefb23547a2e41fe945a648d58357a9b",
       "version_major": 2,
       "version_minor": 0
      },
      "text/plain": [
       "HBox(children=(IntProgress(value=0, max=422), HTML(value='')))"
      ]
     },
     "metadata": {},
     "output_type": "display_data"
    },
    {
     "data": {
      "image/png": "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\n",
      "text/plain": [
       "<Figure size 432x288 with 2 Axes>"
      ]
     },
     "metadata": {
      "needs_background": "light"
     },
     "output_type": "display_data"
    },
    {
     "name": "stdout",
     "output_type": "stream",
     "text": [
      "epoch 2 Rec error: 486.10522 sq_error 0.28808594\n",
      "\r",
      "Epoch: 2 / 100\n"
     ]
    },
    {
     "data": {
      "application/vnd.jupyter.widget-view+json": {
       "model_id": "e15d3b8f68d74b8dba6881529ed9c01d",
       "version_major": 2,
       "version_minor": 0
      },
      "text/plain": [
       "HBox(children=(IntProgress(value=0, max=422), HTML(value='')))"
      ]
     },
     "metadata": {},
     "output_type": "display_data"
    },
    {
     "data": {
      "image/png": "iVBORw0KGgoAAAANSUhEUgAAAXQAAADHCAYAAAAJSqg8AAAABHNCSVQICAgIfAhkiAAAAAlwSFlzAAALEgAACxIB0t1+/AAAADl0RVh0U29mdHdhcmUAbWF0cGxvdGxpYiB2ZXJzaW9uIDMuMC4zLCBodHRwOi8vbWF0cGxvdGxpYi5vcmcvnQurowAAFn5JREFUeJzt3X+QJGV9x/H3R34rKOCteBw/TgEhZylH7YZCJQkB0ZMqcphSC6IGFXMmkZRYxAioiCl/l4pGjeYU6jAg+AuUKCE5KNQQEd0lB9xxIkgOuePg9sCTI/6Aw2/+eHplWGZ3enu6e6b7Pq+qqZ3tmen+zsx3vvPM8/TTrYjAzMya7ymDDsDMzMrhgm5m1hIu6GZmLeGCbmbWEi7oZmYt4YJuZtYSLug5STpH0hfLvm+OdYWkg8tYl9n2SNIaSccMOo46aHvcD13SG4AzgYOAh4ArgLMjYssg4+pGUgCHRMSdXW77LnBxRJTy5WHNJWkdsA/wGPAwcDVwekQ8PMi4ppN0HnBwRLyuovWvANZHxLurWP+w2+5a6JLOBD4CvAN4BnAUcCCwUtLOMzxmx/oiNCvsxIjYHVgMHAGcPeB45kzJdleXShMR280FeDqp9fKaact3ByaBN2X/nwd8HbiY1IJ/c7bs4o7H/CVwN/AA8B5gHfDSjsdfnF1fCARwKvBzYDPwro71HAncAGwBNgKfAXbuuD1ILZpuz+e7wJuz68cA64F/ADZl6zoJOAH4KfAgcM4ctvsy4Hbgl8A/A9+b2lZ2+5uAtcAvgP8ADhz0+7s9XzrzL/v/o8B3suu7AB/L8u9+4PPAbh33XQqsynL9Z8CSbPm+wJVZ7twJ/FXHY84Dvgp8CdgKrAHGOm5/J7Ahu+124DhgCfAI8Gj2Oby5I48/APw38Gvg4C7PZ/rn72jgB1n+3gO8AViWrfuRbP3/Nv21yV6LTwL3ZpdPArtM+wyd2fEZeuOg39u5XLa3b8IXA7sCl3cujPSz9Crg+I7FS0lFfU/gks77S1pEKnKvBeaTWvoLemz7aOBQUmKfK+kPsuWPAW8H5gEvym7/2zk+rynPJj2/BcC5wBeA1wGjwB8B75H0nF7blTSP9NzPBp5J+kC+eGojkpYC5wB/DowA/wVcWjBmK5mk/YBXkIowwIeB55Fa7gfzeH4g6UhSUX4HKdf/mFQAAS4jFbh9gVcBH5R0bMem/iy7z56kwv+ZbJ2HAqcDfxgRewAvB9ZFxNXAB4GvRMTuEXF4x7peTyrIe5AaSrM9vwOBfwc+Tcq/xcCqiFhO+qx+NFv/iV0e/i7Sr/LFwOGkhk1n98yzefzzfBrwWUl7zRbPMNneCvo8YHNEbOty28bs9ik3RMQ3I+J3EfHrafd9Fenb//qIeIT04eg1GPG+iPh1RNwM3ExKJiJiIiJ+GBHbImId8C/An8z9qQGpdfKBiHiU9EGbB3wqIrZGxBrgtpzbPQFYExGXZ6/VPwH3dWznr4EPRcTa7PYPAouzD5oNzjclbSW1WDcB75UkUqF8e0Q8GBFbSe/XydljTgMujIiVWa5viIifSNofeAnwzoj4TUSsAr5I+mU65fqIuCoiHgP+lSy3SI2FXYBFknaKiHUR8bMesa+IiDVZPj7a475/AVwTEZdGxKMR8UAWXx6vBf4xIjZFxCTwPtKXyZRHs9sfjYirSC39Q3Oue+C2t4K+GZg3Q5/4/Oz2KffMsp59O2+PiF+Rul5m01kQf0Xq5kHS8yR9W9J9kh4ifdjmdVtBDg9kHy5IP10h/cSmY1me7U5/fkFqqU05EPiUpC2StpB+kovev1KsWidlLeJjgMNI7+cI8FRgouP9ujpbDrA/qZtlun2BqS+AKXfzxPd4ek7vKmnHSAP4Z5C6STZJukzSvj1in+3zNt1MMeexL0/8BXB3tmzKA9MafL//rDbB9lbQbwB+S+oq+D1Ju5N+ol7bsXi2FvdGYL+Ox+9G6poo4nPAT0h7sjyd1JWhgusqa7vTn586/yd9+N4SEXt2XHaLiB/UELf1EBHfA1aQ+s03k77In9/xXj0j0uAppPfyoC6ruRfYW9IeHcsOIPWL54nhyxFxNOnLP0g7IsDMn6vpy/+P9EU05dkd12eKebb1T7k3i2nKAdmyVtiuCnpE/JL0E+vTkpZI2knSQtLgznrSz8Y8vg6cKOnF2Z4x51G8CO9BGox6WNJhwN8UXE+Z2/0O8AJJJ2W/Zt7KEz9QnwfOlvR8AEnPkPTqmuK2fD5JGhN6AWks5XxJzwKQtEDSy7P7XQC8UdJxkp6S3XZYRNxDGnT8kKRdJb2Q1D1zca8NSzpU0rGSdgF+Q/pC+V128/3Awhx7sqwCTs4+o2Okbs4plwAvlfQaSTtKeqakxR3rf+4s670UeLekkWys6Nw8z6kptquCDhARHyW1Rj9GKmg3kr7xj4uI3+Zcxxrg70j91BtJ/WybSK3/ufp7Up/gVtIH7ysF1lHEjNuNiM3Aq0l7SjwALALGyZ5fRFxBanFdlnXXrCb9wrEhkfUPf4lUsN5JGiD9YfZ+XUPWLxwRPwLeCJxP2qPpezzegj2FtJfWvaS5Gu+NiGtybH4X0kDsZlK3zLN4fBfKr2V/H5B00yzreA+pFf4LUiPsyx3P7eekcZ4zSd19q3i8//4CUt/9Fknf7LLe95Ny+RbgVuCmbFkrbJcTi8qWddlsIXVf/O+g4ylb1ppaD7w2Iq4bdDxm1t1210Ivi6QTJT1V0tNIrf1beXx3r8aT9HJJe2Y/m6f613844LDMbBYu6MUt5fHJCYcAJ0e7fu68iLQnwWbgRNIeFNN33zSzIeIuFzOzlnAL3cysJfoq6Nmuf7dLulPSWWUFZTZozm1rosJdLpJ2IB306XjSHhA/Bk6JiNtmesy8efNi4cKFhbZn1su6devYvHlz35OyiuR2dpjjxhodHX3SsomJiQFEMpymvz6DeG0iomdu93NY2COBOyPiLgBJl5EGCmdM+oULFzI+Pt7HJs1mNjY2Vtaq5pzbTdftc5kmCBs8+fUZ1temny6XBTzx+Avr6XIsD0nLJI1LGp+cnOxjc2a1mXNu1xaZ2SwqHxSNiOURMRYRYyMjI70fYNYQnbk96FjMoL8ulw2ko55N2Y+cB+4xG3K15Xa3MaxB/Jwf1i6EYdGU16efFvqPgUMkPSc7QNXJpIPcmzWdc9saqXALPSK2STqddPqxHUgHyV9TWmRmA+Lctqbq6+TH2Rk9riopFrOh4dy2JvJMUTOzluirhW5m/al6sG1YBl2nx1F2DFWvv6i6X3+30M3MWsIF3cysJVzQzcxawn3oZhWpu/+0n+3leeyw9Md3kyeOQcRf9+vjFrqZWUu4oJuZtYQLuplZS7igm5m1hAdFzSrSbUAszxnCig6k9TMAl+exwzwJKs/Eon7iH9aJS9O5hW5m1hIu6GZmLeGCbmbWEn31oUtaB2wFHgO2+VRc1hbObWuiMgZF/zQiNpewHrNhU3puD+tgWh79DFrmmXXaj6Kva97nVGb8PtqimZn11G9BD+A/JU1IWlZGQGZDwrltjdNvl8vREbFB0rOAlZJ+EhHf77xD9mFYBnDAAQf0uTmz2swpt82GQV8t9IjYkP3dBFwBHNnlPssjYiwixkZGRvrZnFlt5prbdcdn1k3hgi7paZL2mLoOvAxYXVZgZoNSJLdHR0eJiCdcyjR93d3Wn+c+/ZD0pEvRWLutq9tlWJ9T3vjzrr8s/XS57ANckQW4I/DliLi6lKjMBsu5bY1UuKBHxF3A4SXGYjYUnNvWVN5t0cysJXy0RbMSTExMDHzSUN6jOzbptGtVTxiq+vWp+/V3C93MrCVc0M3MWsIF3cysJVzQzcxawgXdrARVTywqOkGln4ktVT6fojHMdJku7/Muer+88qy/zMlTLuhmZi3hgm5m1hIu6GZmLeGCbmbWEp4palaCvDNF8wx4DctMxbKeT7d1FT31Wx3qnt2ZZwbr2Fi+IzS7hW5m1hIu6GZmLeGCbmbWEj0LuqQLJW2StLpj2d6SVkq6I/u7V7VhmpXPuW1tk6eFvgJYMm3ZWcC1EXEIcG32v1nTrKDm3K7ytGvdHtfP+vPcp+hp1+o+NdtclBlb0fdy+vYnJiZyPa5nQc/OdP7gtMVLgYuy6xcBJ+XamtkQcW5b2xTtQ98nIjZm1+8jnYPRrA2c29ZYfQ+KRvoNMePvCEnLJI1LGp+cnOx3c2a1mUtu1xiW2YyKFvT7Jc0HyP5umumOEbE8IsYiYmxkZKTg5sxqUyi3a4vObBZFC/qVwKnZ9VOBb5UTjtnANTa3yz5kbN2KDtaWfWjfutdfpjy7LV4K3AAcKmm9pNOADwPHS7oDeGn2v1mjOLetbXoeyyUiTpnhpuNKjsWsVs5taxvPFDUzawkfbdFsgKo+st8gjrZYNP48Rx3sZ/3bA7fQzcxawgXdzKwlXNDNzFrCBd3MrCVc0M1KMDo6WtqEkaontvQTR56jORZd1zArGmuRI1H2wwXdzKwlXNDNzFrCBd3MrCVc0M3MWsIzRc1KMDEx8aQBrjyzHPs9vVmvdfUz+7LMAbuqZ53meS3K3uYwrH86t9DNzFrCBd3MrCVc0M3MWiLPCS4ulLRJ0uqOZedJ2iBpVXY5odowzcrn3La2ydNCXwEs6bL8/IhYnF2uKjcss1qsoMLcLjorMO8syqIzNMucrdjPaePKnCla9WtR5kzRKvUs6BHxfeDBSqMwGwDntrVNP33op0u6JfvZutdMd5K0TNK4pPHJyck+NmdWmznndp3Bmc2kaEH/HHAQsBjYCHx8pjtGxPKIGIuIsZGRkYKbM6tNodyuKziz2RSaWBQR909dl/QF4NulRWQ2QGXmdpmTSoqua5gnLtVtGGKoWqEWuqT5Hf++Elg9033NmsS5bU3Ws4Uu6VLgGGCepPXAe4FjJC0GAlgHvKXCGM0q4dy2tulZ0CPilC6LL6ggFrNaObetbTxT1MysJXy0RbMhM4ij/ZU5kFn3wG8d6o5j+msxNpZvRyq30M3MWsIF3cysJVzQzcxawgXdzKwlPChqVpFhGdDLYxhirTqGYRl0LToDNw+30M3MWsIF3cysJVzQzcxawgXdzKwlPChq1mLDMNhpT1Tle+IWuplZS7igm5m1hAu6mVlL9CzokvaXdJ2k2yStkfS2bPneklZKuiP7O+PJdM2GkXPb2iZPC30bcGZELAKOAt4qaRFwFnBtRBwCXJv9b9Ykzu05iIgnXYZhXXnXL+lJl6pV/Tyn61nQI2JjRNyUXd8KrAUWAEuBi7K7XQScVFWQZlVwblvbzKkPXdJC4AjgRmCfiNiY3XQfsM8Mj1kmaVzS+OTkZB+hmlWn39yuJUizHnIXdEm7A98AzoiIhzpvi/Q7outviYhYHhFjETE2MjLSV7BmVSgjt2sI06ynXBOLJO1ESvhLIuLybPH9kuZHxEZJ84FNVQVpVpW6czvPkfbKWvdc1p/nsf3EWuXz7qbq0+z1E8d0ZcaVZy8Xkc6EvjYiPtFx05XAqdn1U4FvFYrAbECc29Y2eVroLwFeD9wqaVW27Bzgw8BXJZ0G3A28ppoQzSrj3LZW6VnQI+J6YKb2/3HlhmNWH+e2tY1nipqZtYSPtmhWkWE55VlZ+nk+RZ93ma/hsAxAl/W4btxCNzNrCRd0M7OWcEE3M2sJF3Qzs5ZwQTcrwejo6MCP7tfP9gZxJMI8isZV9lEO87y3ebdZ5dEXXdDNzFrCBd3MrCVc0M3MWsIF3cysJTxT1Kyhih6Stugsx2E5JG03VR+et+jrk+d+tR4+18zMmsEF3cysJfKc4GJ/SddJuk3SGklvy5afJ2mDpFXZ5YTqwzUrj3Pb2iZPH/o24MyIuEnSHsCEpJXZbedHxMeqC8+sUs5ta5U8J7jYCGzMrm+VtBZYUHVgZlUrM7cnJiYqHewqKu9MxDyxDsPzaZo8r//ADp8raSFwBHBjtuh0SbdIulDSXqVFZVYz57a1Qe6CLml30tnRz4iIh4DPAQcBi0mtnI/P8LhlksYljU9OTpYQslm5ysjt2oI1m0Wugi5pJ1LCXxIRlwNExP0R8VhE/A74AnBkt8dGxPKIGIuIsZGRkbLiNitFWbldX8RmM+vZh67UwXMBsDYiPtGxfH7WBwnwSmB1NSGaVaPq3K76tGtlTnbJY5j7y+s+vVyZ71GZYxN59nJ5CfB64FZJq7Jl5wCnSFoMBLAOeEuhCMwGx7ltrZJnL5frgW5fF1eVH45ZfZzb1jaeKWpm1hIu6GZmLeGjLZpVpMzBtaon9QzrpKG8E6OqjjXP0RzLPIplUW6hm5m1hAu6mVlLuKCbmbWEC7qZWUu4oJuVYHR0lIh4wkXSky7T5blPXtO3n3dAsew4ytQtrqpjLbq9YXgNXdDNzFrCBd3MrCVc0M3MWsIF3cysJTxT1KwidZ/WbRAzTLsZ1lmn3RSdqTuss3TdQjczawkXdDOzluhZ0CXtKulHkm6WtEbS+7Llz5F0o6Q7JX1F0s7Vh2tWHue2tU2eFvpvgWMj4nDSSXOXSDoK+AhwfkQcDPwCOK26MM0qUVpuT0xMFJpU0s9klG4TifJMLCp6v7y6Paei6yoq73MsOmmoTGVOSOpZ0CN5OPt3p+wSwLHA17PlFwEnFY7CbACc29Y2ufrQJe2QnXNxE7AS+BmwJSK2ZXdZDyyoJkSz6ji3rU1yFfSIeCwiFgP7AUcCh+XdgKRlksYljU9OThYM06waZeV2ZQGazcGc9nKJiC3AdcCLgD0lTe3Hvh+wYYbHLI+IsYgYGxkZ6StYs6r0m9s1hWk2qzx7uYxI2jO7vhtwPLCWlPyvyu52KvCtqoI0q0KZud3taIslx1rpJc82y4w/z4DuMA2eNkWemaLzgYsk7UD6AvhqRHxb0m3AZZLeD/wPcEGFcZpVwbltrdKzoEfELcARXZbfRepzNGsk57a1jWeKmpm1hAu6mVlLqM5BAEmTwN3APGBzbRsuX5Pjb3LsMHv8B0bEQHalcm4PhSbHDiXkdq0F/fcblcabvKtXk+Nvcuww/PEPe3y9NDn+JscO5cTvLhczs5ZwQTcza4lBFfTlA9puWZocf5Njh+GPf9jj66XJ8Tc5digh/oH0oZuZWfnc5WJm1hK1F3RJSyTdnp0N5qy6tz9Xki6UtEnS6o5le0taKemO7O9eg4xxJpL2l3SdpNuyM/K8LVs+9PGrYWcTcl7Xp8l5DdXmdq0FPTtmxmeBVwCLgFMkLaozhgJWAEumLTsLuDYiDgGuzf4fRtuAMyNiEXAU8Nbs9W5C/I05U5bzunZNzmuoMLfrbqEfCdwZEXdFxCPAZcDSmmOYk4j4PvDgtMVLSWeygSE+o01EbIyIm7LrW0lHElxAA+Jv2NmEnNc1anJeQ7W5XXdBXwDc0/F/U88Gs09EbMyu3wfsM8hg8pC0kHQgqhtpSPxqztmEnNcD0sS8hupy24OifYq0m9BQ7yokaXfgG8AZEfFQ523DHH8/ZxOy/gxzXkxpal5Ddbldd0HfAOzf8f+MZ4MZcvdLmg+Q/d004HhmJGknUtJfEhGXZ4sbEz8UO5tQzZzXNWtDXkP5uV13Qf8xcEg2mrszcDJwZc0xlOFK0plsYIjP1qR0mpkLgLUR8YmOm4Y+fjXrTFnO6xo1Oa+h4tzOeyqosi7ACcBPSX1G76p7+wXivRTYCDxK6tc6DXgmaRT9DuAaYO9BxzlD7EeTfnbeAqzKLic0IX7ghaSzBd0CrAbOzZY/F/gRcCfwNWCXQceaxeW8ri/2xuZ1Fn9lue2ZomZmLeFBUTOzlnBBNzNrCRd0M7OWcEE3M2sJF3Qzs5ZwQTczawkXdDOzlnBBNzNrif8HqJ+4bmbJXbcAAAAASUVORK5CYII=\n",
      "text/plain": [
       "<Figure size 432x288 with 2 Axes>"
      ]
     },
     "metadata": {
      "needs_background": "light"
     },
     "output_type": "display_data"
    },
    {
     "name": "stdout",
     "output_type": "stream",
     "text": [
      "epoch 3 Rec error: 496.09735 sq_error 0.12988281\n",
      "\r",
      "Epoch: 3 / 100\n"
     ]
    },
    {
     "data": {
      "application/vnd.jupyter.widget-view+json": {
       "model_id": "03693880c176452094502c670ec2572d",
       "version_major": 2,
       "version_minor": 0
      },
      "text/plain": [
       "HBox(children=(IntProgress(value=0, max=422), HTML(value='')))"
      ]
     },
     "metadata": {},
     "output_type": "display_data"
    },
    {
     "data": {
      "image/png": "iVBORw0KGgoAAAANSUhEUgAAAXQAAADHCAYAAAAJSqg8AAAABHNCSVQICAgIfAhkiAAAAAlwSFlzAAALEgAACxIB0t1+/AAAADl0RVh0U29mdHdhcmUAbWF0cGxvdGxpYiB2ZXJzaW9uIDMuMC4zLCBodHRwOi8vbWF0cGxvdGxpYi5vcmcvnQurowAAGUJJREFUeJzt3X+wZGV95/H3R0Q0QgTkisPwS4XgkoqOde9S/mB3WdFIqGIhW8aCVYOG7Li7YUuzbFbAqGht1FhGza/VHQMFWRA0isomxAQpostG0XvZARnQgFmIjAMzAxKGjVHA7/7xnOs0Td/bzz19ft/Pq6rr9j3d55xvd3/P008/zznPo4jAzMz67yltB2BmZtVwgW5mNhAu0M3MBsIFupnZQLhANzMbCBfoZmYD4QI9k6QLJf1R1c/N2FZIOqaKbZmtR5K2STqp7TiaoPV4HrqkNwHnAS8AHgY+B1wQEQ+1GdckkgI4NiLumvDYXwGXR0QlXx7WX5LuBg4FHgceAb4InBsRj7QZ1zhJFwHHRMQbatr+pcC9EfGbdWy/69ZdDV3SecBvA78BPAt4KXAUcJ2kp62wzlObi9CstNMiYn9gE/AS4IKW41kzJeuuXKpMRKybG/DTpNrL68aW7w/sAn6l+P8i4DPA5aQa/K8Wyy4fWeeXgXuAB4B3AncDrxpZ//Li/tFAAGcDfwfsBt4xsp0TgK8CDwE7gD8AnjbyeJBqNJNez18Bv1rcPwm4F/gvwM5iW2cApwJ/AzwIXLiG/f488G3g74H/Bnx5eV/F478C3AF8H/gL4Ki2P9/1fBvNv+L/DwJ/VtzfD/hQkX/3Ax8HnjHy3NOBrUWufwc4pVh+GHBNkTt3Af92ZJ2LgE8DfwzsAbYBCyOPvx3YXjz2beBk4BTgR8CjxXF4y0ge/xbwv4EfAMdMeD3jx9+JwF8X+ftd4E3A5mLbPyq2/z/H35vivfgo8L3i9lFgv7Fj6LyRY+jNbX+2a7mtt2/ClwNPB64eXRjpZ+m1wKtHFp9OKtQPBK4Yfb6k40mF3OuBDaSa/sYp+z4ROI6U2O+S9E+K5Y8Dvw4cArysePw/rPF1LXsu6fVtBN4FfAJ4AzAP/DPgnZKeN22/kg4hvfYLgGeTDsiXL+9E0unAhcC/BuaA/wVcWTJmq5ikw4FfIBXCAB8AfoZUcz+GvfmBpBNIhfJvkHL9n5MKQICrSAXcYcBrgfdJeuXIrv5V8ZwDSQX/HxTbPA44F/inEXEA8Brg7oj4IvA+4FMRsX9EvHhkW28kFcgHkCpKq72+o4A/B36flH+bgK0RsYV0rH6w2P5pE1Z/B+lX+SbgxaSKzWjzzHPZezyfA/yhpINWi6dL1luBfgiwOyIem/DYjuLxZV+NiM9HxI8j4gdjz30t6dv/xoj4EengmNYZ8Z6I+EFE3ALcQkomImIpIr4WEY9FxN3Afwf+xdpfGpBqJ78VEY+SDrRDgN+NiD0RsQ24PXO/pwLbIuLq4r36PeC+kf38O+D9EXFH8fj7gE3FgWbt+bykPaQa607g3ZJEKih/PSIejIg9pM/rzGKdc4BLIuK6Ite3R8S3JB0BvAJ4e0T8Y0RsBf6I9Mt02Y0RcW1EPA78D4rcIlUW9gOOl7RvRNwdEd+ZEvulEbGtyMdHpzz33wBfiogrI+LRiHigiC/H64H3RsTOiNgFvIf0ZbLs0eLxRyPiWlJN/7jMbbduvRXou4FDVmgT31A8vuy7q2znsNHHI+IfSE0vqxktEP+B1MyDpJ+R9KeS7pP0MOlgO2TSBjI8UBxckH66QvqJzciynP2Ov74g1dSWHQX8rqSHJD1E+kkupv9KsXqdUdSITwJeSPo854CfApZGPq8vFssBjiA1s4w7DFj+Alh2D0/8jMdz+umSnhqpA/9tpGaSnZKuknTYlNhXO97GrRRzjsN44i+Ae4plyx4Yq/D95Fjtg/VWoH8V+CGpqeAnJO1P+ol6/cji1WrcO4DDR9Z/BqlpooyPAd8incny06SmDJXcVlX7HX99Gv2fdPC9JSIOHLk9IyL+uoG4bYqI+DJwKandfDfpi/xnRz6rZ0XqPIX0Wb5gwma+Bxws6YCRZUeS2sVzYvhkRJxI+vIP0okIsPJxNb78/5G+iJY9d+T+SjGvtv1l3ytiWnZksWwQ1lWBHhF/T/qJ9fuSTpG0r6SjSZ0795J+Nub4DHCapJcXZ8ZcRPlC+ABSZ9Qjkl4I/PuS26lyv38G/JykM4pfM7/GEw+ojwMXSPpZAEnPkvRLDcVteT5K6hP6OVJfykckPQdA0kZJrymedzHwZkknS3pK8dgLI+K7pE7H90t6uqQXkZpnLp+2Y0nHSXqlpP2AfyR9ofy4ePh+4OiMM1m2AmcWx+gCqZlz2RXAqyS9TtJTJT1b0qaR7T9/le1eCfympLmir+hdOa+pL9ZVgQ4QER8k1UY/RCrQbiJ9458cET/M3MY24D+S2ql3kNrZdpJq/2v1n0ltgntIB96nSmyjjBX3GxG7gV8inSnxAHA8sEjx+iLic6Qa11VFc81tpF841hFF+/Afkwqst5M6SL9WfF5fomgXjoivA28GPkI6o+nL7K3BnkU6S+t7pGs13h0RX8rY/X6kjtjdpGaZ57D3FMo/Kf4+IOnmVbbxTlIt/PukStgnR17b35H6ec4jNfdtZW/7/cWktvuHJH1+wnb/KymXbwW+CdxcLBuEdXlhUdWKJpuHSM0X/7fteKpW1KbuBV4fETe0HY+ZTbbuauhVkXSapJ+S9ExSbf+b7D3dq/ckvUbSgcXP5uX29a+1HJaZrcIFenmns/fihGOBM2NYP3deRjqTYDdwGukMivHTN82sQ9zkYmY2EK6hm5kNxEwFenHq37cl3SXp/KqCMmubc9v6qHSTi6R9SIM+vZp0BsQ3gLMi4vZV1mm9fWd+fr7W7S8tLdW6/a6o8n2s8j2LiJkvyhpSbq+XfMwxS86Ov49VbitXTm7PUqC/DLgoIl5T/H9BsdP3r7JO60lfd59Buqhy+Kp8H6t8zyoq0AeT2+slH3PMkrPj72OV28qVk9uzNLls5InjL9zLhLE8JG2WtChpcYZ9mTXJuW29VPvEDcWQllugG7UYs6o4t61rZinQt5NGPVt2OJkD94zyz8SV5f6sm+EnXK3bnyWOlnOgktzuu/HPpe/HZW78k/Ix573oQh7P0uTyDeBYSc8rBqg6kzTIvVnfObetl0rX0CPiMUnnkqYf24c0SP62yiIza4lz2/qq0StFJ7UzNv0zpU9nuXS5yaWr72MVZ7mU0YU29KqPpaE1ueTKye02mlzqPsvFzMw6pPazXKZp+lu/jdpmWV2pEc1wrUJl27InK9tRN8mkdbuSf3Uq+/7krtd0C4Rr6GZmA+EC3cxsIFygm5kNROtt6JNU2WZrzalyvIv1eobFWuS8J+7HWF3Zi42avkhpYWEha3+uoZuZDYQLdDOzgXCBbmY2EC7QzcwGotFO0fn5eRYX2x06uuoOoa521rXR8VXliHQ58ZftOGpKV4e1qLsjcIjKvvamO6VdQzczGwgX6GZmA+EC3cxsIGZqQ5d0N7AHeBx4LCK61YhpVpJz2/qoik7RfxkRuyvYzorq7ozpe2dPGx2gOZ09s3QKduQzmSm3uzCS6CS5n0tHPoMsVY5hnrtuVduqsvPcTS5mZgMxa4EewF9KWpK0uYqAzDrCuW29M2uTy4kRsV3Sc4DrJH0rIr4y+oTiYNgMcOSRR864O7PGrCm3zbpgphp6RGwv/u4EPgecMOE5WyJiISIW5ubmZtmdWWPWmttNx2c2SekauqRnAk+JiD3F/Z8H3ltZZA2apVOiC1fTtTFhbW4cfdxfVbmd8xnMcuVslVcv9l3ZTsu6j/OqJnDPvQp6liaXQ4HPFQE/FfhkRHxxhu2ZdYVz23qpdIEeEX8LvLjCWMw6wbltfeXTFs3MBqKTU9B1QdUj1zWtC3FVecFTF17PasqOJNqzC60GpwvHeZUjMrqGbmY2EC7QzcwGwgW6mdlAuEA3MxuIwXeKtjESYZ1meT1duPiibPw567U5Bd3S0lLWRUNdUPZipr53zM4Sf515WyXX0M3MBsIFupnZQLhANzMbCBfoZmYDMfhO0Sp1oVNolo7GKjt2qpySaz3pQkfjerg6dZZRLHPUPSKmrxQ1M1vnXKCbmQ2EC3Qzs4GYWqBLukTSTkm3jSw7WNJ1ku4s/h5Ub5hm1XNu29Dk1NAvBU4ZW3Y+cH1EHAtcX/xfiqQn3ao0afs5+6s7rrrlvO7c2yQR8aRb0/FX4FIazu2yryHn/a76M6nz8+2b8c9t0ns96fOd9Lyc2/h2lpaWsuKcWqAXM50/OLb4dOCy4v5lwBlreXPMusC5bUNTtg390IjYUdy/jzQHo9kQOLett2buFI30W2zF32OSNktalLS4a9euWXdn1pi15HaDYZmtqGyBfr+kDQDF350rPTEitkTEQkQszM3NldydWWNK5XZj0ZmtomyBfg1wdnH/bOAL1YSTNN0ZWWWHW9lOkPXc6dSxDuhac3tcbh7kvEdVv48d+kyeoEyn4kodlJPkrJu7/aY/t5zTFq8EvgocJ+leSecAHwBeLelO4FXF/2a94ty2oZk6lktEnLXCQydXHItZo5zbNjS+UtTMbCB6O9pilW3ObbQP5uwzd/S2Scu6MELirH0R07bVpXbd+fl5FhefeLJLTnxdeg3TVDma4Cxy8n2WPM55nbOMcFrne+YaupnZQLhANzMbCBfoZmYD4QLdzGwgetspWmVHYJWq7Ags+5zcddvo0BrqBVRLS0u96uAsoyuvr42O+y4cOzlcQzczGwgX6GZmA+EC3cxsIFygm5kNhJrspJI0zB6xBnWlU7Huq07LdjpFRCu9VWVzu+6O/NzPIOckg7rjKttBOYu6Ozer/Hxzcts1dDOzgXCBbmY2EC7QzcwGImeCi0sk7ZR028iyiyRtl7S1uJ1ab5hm1XNu29Dk1NAvBU6ZsPwjEbGpuF2bs7P5+flS066tlyncqnyNXZjWbVIMubeGXErLuZ372stOa5j7fld5PLUxRVzOe9hGnpXd5/j7MD8/n7Xe1AI9Ir4CPJi1NbMecW7b0MzShn6upFuLn60HrfQkSZslLUpa3LVr1wy7M2uMc9t6qWyB/jHgBcAmYAfwOys9MSK2RMRCRCzMzc2V3J1ZY5zb1lulRluMiPuX70v6BPCnZQPowoUVuSM35pgl9pxprnJjbSP+HF0YEXM1ZXO7ytEW25g+cIaLXbK2VXaKuDbyuAs5WnZ/pWrokjaM/PuLwG0rPdesT5zb1mdTa+iSrgROAg6RdC/wbuAkSZuAAO4G3lJjjGa1cG7b0Ewt0CPirAmLL64hFrNGObdtaHylqJnZQHRyCrqyHZk5ZukALdvZU2Wsdau7Y61LHaB1K5sLXcntKterssM/xyzHYdM5WmWZ4Rq6mdlAuEA3MxsIF+hmZgPhAt3MbCBa7xQt2xFS9+iKVXbQtKHpK/+q3v5Q1TmtW64udLbn5lSVeZz7vLqPnZznjG9rYWEhKwbX0M3MBsIFupnZQLhANzMbCBfoZmYD0XqnaI61TNtUxXPW8ryy22pjmNoubKtsZ1hODLkdR3WYn59ncXHxCcvKDnlbNt8nrVf1MLK2NlXldi7X0M3MBsIFupnZQLhANzMbiKkFuqQjJN0g6XZJ2yS9tVh+sKTrJN1Z/F1xMl2zLnJu29DkdIo+BpwXETdLOgBYknQd8Cbg+oj4gKTzgfOBt681gLIdmVV3AOXss0ptDLPb9PyquVocXrjx3K5ybtC6r6Isu78qj+lcTV+JOkkbwx6Pm1pDj4gdEXFzcX8PcAewETgduKx42mXAGaUiMGuJc9uGZk1t6JKOBl4C3AQcGhE7iofuAw5dYZ3NkhYlLe7atWuGUM3q49y2Icgu0CXtD3wWeFtEPDz6WKTfBxN/I0TElohYiIiFubm5mYI1q4Nz24Yi68IiSfuSEv6KiLi6WHy/pA0RsUPSBmBnXUEOcTS+LoyyN6mdrsrp+PpwUUtVub20tFRp+3gZdU+7Vnfb/iyanv6wylFJq4wr5ywXkWZCvyMiPjzy0DXA2cX9s4EvVBaVWQOc2zY0OTX0VwBvBL4paWux7ELgA8CnJZ0D3AO8rp4QzWrj3LZBmVqgR8SNwEq/CU6uNhyz5ji3bWh8paiZ2UA0OtpiVzuOZlHlyGlNT09W9farHF2wTAdum6Mt5qoy//t8Mc0kfZqecJa46uzAdQ3dzGwgXKCbmQ2EC3Qzs4FwgW5mNhCdnIIup0Os7lEBu9oZU3fHUVc70br6eTSlC+/bLKMtNn0lZ1c0/ZpcQzczGwgX6GZmA+EC3cxsIFygm5kNRCc7RctOYVVWlZ09uZ21bUzT1YXt5xpiBxk0P5xqlbo8fG7TunpVq2voZmYD4QLdzGwgcia4OELSDZJul7RN0luL5RdJ2i5pa3E7tf5wzarj3Lah0bR2sWIKrg0RcbOkA4Al0izorwMeiYgPZe9MymqEa2r6sWV1XzDR1QuehtiGHhHZK3Y1t7vQFjuJ29D3aqMNPSe3cya42AHsKO7vkXQHsHH28Pqn7aF/V9r+LF9IZZ7ThDJDw651+Nwqc3t+fp7FxcUnLMsZFngWdQ+3XHZ43qr2t9I+q9TVzs2y1tSGLulo4CXATcWicyXdKukSSQdVHJtZY5zbNgTZBbqk/Umzo78tIh4GPga8ANhEquX8zgrrbZa0KGlx0uNmbasit3ft2tVYvGYrySrQJe1LSvgrIuJqgIi4PyIej4gfA58ATpi0bkRsiYiFiOj+dDK27lSV23Nzc80FbbaCqW3oSg1KFwN3RMSHR5ZvKNogAX4RuG3atia1M9atC+1hXWl7nKGjsdR6VaojhipzO3d6xSp1NbdzVD2CatOd+V147yfJuVL0FcAbgW9K2losuxA4S9ImIIC7gbfUEqFZfZzbNig5Z7ncCEz6Orq2+nDMmuPctqHxlaJmZgPhAt3MbCAaHW2xbMfRLB1idV98Ma4rnSVtdOyUvfCqzvXWu1nety5cBNWVK6PLlkFV5XvuRXOuoZuZDYQLdDOzgXCBbmY2EC7QzcwGopNT0I2bpWOkjdEPx5WNv+rX3fTIdVVerdr1DtDcq6Cb7gCuMofqHma6brPEML5u3Vdnl13PNXQzs4FwgW5mNhAu0M3MBsIFupnZQEydU7TSnWXOuziu7iE0uzA8bNVyhiLteyfXJGuZU7RKZXO7T7qcB1VeEV7l66x4W1NXdA3dzGwgXKCbmQ3E1AJd0tMlfV3SLZK2SXpPsfx5km6SdJekT0l6Wv3hmlXHuW1DM7UNvZim65kR8Ugx/+KNwFuB/wRcHRFXSfo4cEtEfGzKtjrZzlh3G3ru1FplLzrJ3WeOrvYnrKG9P/uFr4fczpWTj11uQy+ryuOp7venkjb0SB4p/t23uAXwSuAzxfLLgDNKxmnWCue2DU1WG7qkfYo5F3cC1wHfAR6KiMeKp9wLbKwnRLP6OLdtSLIK9Ih4PCI2AYcDJwAvzN2BpM2SFiVNH+jCrGHObRuSNZ3lEhEPATcALwMOlLQ8uNfhwPYV1tkSEQsRkTflhlkLnNs2BDlnucxJOrC4/wzg1cAdpOR/bfG0s4EvlAkgIp50q1Pd+5P0pFvf1f2aJm1//FbH51Z3bvdJznve99yuMoeaLrdy5Zzl8iJSx9A+pC+AT0fEeyU9H7gKOBj4P8AbIuKHU7b1pJ013XPexhktuXF09SyX3LN0yqryDII1nuVSa273XdPz8dZtlpzNOeMnZ71Z5OR265f+u0Bf27ou0Fdfz5f+V8cF+l59KdB9paiZ2UC4QDczG4imp6DbDdwDHFLcb/xnXEX7+0n8TcdRQfyrxp67/RY/t9XiP6qZaCZ6Um73VGvHZgUqye0cNb03M+d2o23oP9mptNjnU736HH+fY4fux9/1+Kbpc/x9jh2qid9NLmZmA+EC3cxsINoq0Le0tN+q9Dn+PscO3Y+/6/FN0+f4+xw7VBB/K23oZmZWPTe5mJkNROMFuqRTJH27mA3m/Kb3v1aSLpG0U9JtI8sOlnSdpDuLvwe1GeNKJB0h6QZJtyvNyPPWYnnn41fPZhNyXjenz3kN9eZ2owW6pH2APwR+ATgeOEvS8U3GUMKlwCljy84Hro+IY4Hri/+76DHgvIg4Hngp8GvF+92H+H8IvDIiXgxsAk6R9FLgt4GPRMQxwPeBc1qMEXBet6DPeQ015nbTNfQTgLsi4m8j4kekAZBObziGNYmIrwAPji0+nTSoE3R4RpuI2BERNxf395BGEtxID+Lv2WxCzusG9Tmvod7cbrpA3wh8d+T/vs4Gc2hE7Cju3wcc2mYwOSQdDbwEuImexK/+zCbkvG5JH/Ma6sttd4rOKNJpQp0+VUjS/sBngbdFxMOjj3U5/llmE7LZdDkvlvU1r6G+3G66QN8OHDHy/4qzwXTc/ZI2ABR/d7Ycz4qUZrP/LHBFRFxdLO5N/FBuNqGGOa8bNoS8hupzu+kC/RvAsUVv7tOAM4FrGo6hCteQZrKBDs9oozSC0MXAHRHx4ZGHOh+/+jWbkPO6QX3Oa6g5tydNpVTnDTgV+BtSm9E7mt5/iXivBHYAj5Latc4Bnk3qRb8T+BJwcNtxrhD7iaSfnbcCW4vbqX2IH3gRabagW4HbgHcVy58PfB24C/gTYL+2Yy3icl43F3tv87qIv7bc9pWiZmYD4U5RM7OBcIFuZjYQLtDNzAbCBbqZ2UC4QDczGwgX6GZmA+EC3cxsIFygm5kNxP8HjSKbEnX2XsYAAAAASUVORK5CYII=\n",
      "text/plain": [
       "<Figure size 432x288 with 2 Axes>"
      ]
     },
     "metadata": {
      "needs_background": "light"
     },
     "output_type": "display_data"
    },
    {
     "name": "stdout",
     "output_type": "stream",
     "text": [
      "epoch 4 Rec error: 443.96988 sq_error 0.36914062\n",
      "\r",
      "Epoch: 4 / 100\n"
     ]
    },
    {
     "data": {
      "application/vnd.jupyter.widget-view+json": {
       "model_id": "96e4123b4e5241aaa7d629e4e444ef4c",
       "version_major": 2,
       "version_minor": 0
      },
      "text/plain": [
       "HBox(children=(IntProgress(value=0, max=422), HTML(value='')))"
      ]
     },
     "metadata": {},
     "output_type": "display_data"
    },
    {
     "data": {
      "image/png": "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\n",
      "text/plain": [
       "<Figure size 432x288 with 2 Axes>"
      ]
     },
     "metadata": {
      "needs_background": "light"
     },
     "output_type": "display_data"
    },
    {
     "name": "stdout",
     "output_type": "stream",
     "text": [
      "epoch 5 Rec error: 424.45493 sq_error 0.13769531\n",
      "\r",
      "Epoch: 5 / 100\n"
     ]
    },
    {
     "data": {
      "application/vnd.jupyter.widget-view+json": {
       "model_id": "d5517517a3e943e58be06758825d7e23",
       "version_major": 2,
       "version_minor": 0
      },
      "text/plain": [
       "HBox(children=(IntProgress(value=0, max=422), HTML(value='')))"
      ]
     },
     "metadata": {},
     "output_type": "display_data"
    },
    {
     "data": {
      "image/png": "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\n",
      "text/plain": [
       "<Figure size 432x288 with 2 Axes>"
      ]
     },
     "metadata": {
      "needs_background": "light"
     },
     "output_type": "display_data"
    },
    {
     "name": "stdout",
     "output_type": "stream",
     "text": [
      "epoch 6 Rec error: 439.02747 sq_error 0.20019531\n",
      "\r",
      "Epoch: 6 / 100\n"
     ]
    },
    {
     "data": {
      "application/vnd.jupyter.widget-view+json": {
       "model_id": "64095cfa260843a8b62d5ed4fc22f3d2",
       "version_major": 2,
       "version_minor": 0
      },
      "text/plain": [
       "HBox(children=(IntProgress(value=0, max=422), HTML(value='')))"
      ]
     },
     "metadata": {},
     "output_type": "display_data"
    },
    {
     "data": {
      "image/png": "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\n",
      "text/plain": [
       "<Figure size 432x288 with 2 Axes>"
      ]
     },
     "metadata": {
      "needs_background": "light"
     },
     "output_type": "display_data"
    },
    {
     "name": "stdout",
     "output_type": "stream",
     "text": [
      "epoch 7 Rec error: 396.10474 sq_error 0.19921875\n",
      "\r",
      "Epoch: 7 / 100\n"
     ]
    },
    {
     "data": {
      "application/vnd.jupyter.widget-view+json": {
       "model_id": "51279ecc2f8347d8a830f0b811096d21",
       "version_major": 2,
       "version_minor": 0
      },
      "text/plain": [
       "HBox(children=(IntProgress(value=0, max=422), HTML(value='')))"
      ]
     },
     "metadata": {},
     "output_type": "display_data"
    },
    {
     "data": {
      "image/png": "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\n",
      "text/plain": [
       "<Figure size 432x288 with 2 Axes>"
      ]
     },
     "metadata": {
      "needs_background": "light"
     },
     "output_type": "display_data"
    },
    {
     "name": "stdout",
     "output_type": "stream",
     "text": [
      "epoch 8 Rec error: 400.8315 sq_error 0.37109375\n",
      "\r",
      "Epoch: 8 / 100\n"
     ]
    },
    {
     "data": {
      "application/vnd.jupyter.widget-view+json": {
       "model_id": "81aaca80aa024ccf8740ff0c0e29cca5",
       "version_major": 2,
       "version_minor": 0
      },
      "text/plain": [
       "HBox(children=(IntProgress(value=0, max=422), HTML(value='')))"
      ]
     },
     "metadata": {},
     "output_type": "display_data"
    },
    {
     "data": {
      "image/png": "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\n",
      "text/plain": [
       "<Figure size 432x288 with 2 Axes>"
      ]
     },
     "metadata": {
      "needs_background": "light"
     },
     "output_type": "display_data"
    },
    {
     "name": "stdout",
     "output_type": "stream",
     "text": [
      "epoch 9 Rec error: 392.21332 sq_error 0.22265625\n",
      "\r",
      "Epoch: 9 / 100\n"
     ]
    },
    {
     "data": {
      "application/vnd.jupyter.widget-view+json": {
       "model_id": "a41cb4ca51db46f0bbb5757fa7fa389d",
       "version_major": 2,
       "version_minor": 0
      },
      "text/plain": [
       "HBox(children=(IntProgress(value=0, max=422), HTML(value='')))"
      ]
     },
     "metadata": {},
     "output_type": "display_data"
    },
    {
     "data": {
      "image/png": "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\n",
      "text/plain": [
       "<Figure size 432x288 with 2 Axes>"
      ]
     },
     "metadata": {
      "needs_background": "light"
     },
     "output_type": "display_data"
    },
    {
     "name": "stdout",
     "output_type": "stream",
     "text": [
      "epoch 10 Rec error: 416.09598 sq_error 0.3671875\n",
      "\r",
      "Epoch: 10 / 100\n"
     ]
    },
    {
     "data": {
      "application/vnd.jupyter.widget-view+json": {
       "model_id": "fe77f438404b46f3be557a3dc98b2e82",
       "version_major": 2,
       "version_minor": 0
      },
      "text/plain": [
       "HBox(children=(IntProgress(value=0, max=422), HTML(value='')))"
      ]
     },
     "metadata": {},
     "output_type": "display_data"
    },
    {
     "data": {
      "image/png": "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\n",
      "text/plain": [
       "<Figure size 432x288 with 2 Axes>"
      ]
     },
     "metadata": {
      "needs_background": "light"
     },
     "output_type": "display_data"
    },
    {
     "name": "stdout",
     "output_type": "stream",
     "text": [
      "epoch 11 Rec error: 415.25897 sq_error 0.1328125\n",
      "\r",
      "Epoch: 11 / 100\n"
     ]
    },
    {
     "data": {
      "application/vnd.jupyter.widget-view+json": {
       "model_id": "e64f7ce1abe94caeb363e43286942faf",
       "version_major": 2,
       "version_minor": 0
      },
      "text/plain": [
       "HBox(children=(IntProgress(value=0, max=422), HTML(value='')))"
      ]
     },
     "metadata": {},
     "output_type": "display_data"
    },
    {
     "data": {
      "image/png": "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\n",
      "text/plain": [
       "<Figure size 432x288 with 2 Axes>"
      ]
     },
     "metadata": {
      "needs_background": "light"
     },
     "output_type": "display_data"
    },
    {
     "name": "stdout",
     "output_type": "stream",
     "text": [
      "epoch 12 Rec error: 400.22095 sq_error 0.328125\n",
      "\r",
      "Epoch: 12 / 100\n"
     ]
    },
    {
     "data": {
      "application/vnd.jupyter.widget-view+json": {
       "model_id": "3a00b8df20a34f378c08a76bdb42d02b",
       "version_major": 2,
       "version_minor": 0
      },
      "text/plain": [
       "HBox(children=(IntProgress(value=0, max=422), HTML(value='')))"
      ]
     },
     "metadata": {},
     "output_type": "display_data"
    },
    {
     "data": {
      "image/png": "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\n",
      "text/plain": [
       "<Figure size 432x288 with 2 Axes>"
      ]
     },
     "metadata": {
      "needs_background": "light"
     },
     "output_type": "display_data"
    },
    {
     "name": "stdout",
     "output_type": "stream",
     "text": [
      "epoch 13 Rec error: 388.7169 sq_error 0.21777344\n",
      "\r",
      "Epoch: 13 / 100\n"
     ]
    },
    {
     "data": {
      "application/vnd.jupyter.widget-view+json": {
       "model_id": "e7a75672bfe449fb9c2aceb21e936bf2",
       "version_major": 2,
       "version_minor": 0
      },
      "text/plain": [
       "HBox(children=(IntProgress(value=0, max=422), HTML(value='')))"
      ]
     },
     "metadata": {},
     "output_type": "display_data"
    },
    {
     "data": {
      "image/png": "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\n",
      "text/plain": [
       "<Figure size 432x288 with 2 Axes>"
      ]
     },
     "metadata": {
      "needs_background": "light"
     },
     "output_type": "display_data"
    },
    {
     "name": "stdout",
     "output_type": "stream",
     "text": [
      "epoch 14 Rec error: 395.96417 sq_error 0.37695312\n",
      "\r",
      "Epoch: 14 / 100\n"
     ]
    },
    {
     "data": {
      "application/vnd.jupyter.widget-view+json": {
       "model_id": "6df0b68b0d794bb9a69bc6ea86673e95",
       "version_major": 2,
       "version_minor": 0
      },
      "text/plain": [
       "HBox(children=(IntProgress(value=0, max=422), HTML(value='')))"
      ]
     },
     "metadata": {},
     "output_type": "display_data"
    },
    {
     "data": {
      "image/png": "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\n",
      "text/plain": [
       "<Figure size 432x288 with 2 Axes>"
      ]
     },
     "metadata": {
      "needs_background": "light"
     },
     "output_type": "display_data"
    },
    {
     "name": "stdout",
     "output_type": "stream",
     "text": [
      "epoch 15 Rec error: 377.3656 sq_error 0.19824219\n",
      "\r",
      "Epoch: 15 / 100\n"
     ]
    },
    {
     "data": {
      "application/vnd.jupyter.widget-view+json": {
       "model_id": "ce214b27dc094044afed1a05ba5852e1",
       "version_major": 2,
       "version_minor": 0
      },
      "text/plain": [
       "HBox(children=(IntProgress(value=0, max=422), HTML(value='')))"
      ]
     },
     "metadata": {},
     "output_type": "display_data"
    },
    {
     "data": {
      "image/png": "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\n",
      "text/plain": [
       "<Figure size 432x288 with 2 Axes>"
      ]
     },
     "metadata": {
      "needs_background": "light"
     },
     "output_type": "display_data"
    },
    {
     "name": "stdout",
     "output_type": "stream",
     "text": [
      "epoch 16 Rec error: 374.38364 sq_error 0.11035156\n",
      "\r",
      "Epoch: 16 / 100\n"
     ]
    },
    {
     "data": {
      "application/vnd.jupyter.widget-view+json": {
       "model_id": "6362faaa1a4641f3adf25432587f84f6",
       "version_major": 2,
       "version_minor": 0
      },
      "text/plain": [
       "HBox(children=(IntProgress(value=0, max=422), HTML(value='')))"
      ]
     },
     "metadata": {},
     "output_type": "display_data"
    },
    {
     "data": {
      "image/png": "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\n",
      "text/plain": [
       "<Figure size 432x288 with 2 Axes>"
      ]
     },
     "metadata": {
      "needs_background": "light"
     },
     "output_type": "display_data"
    },
    {
     "name": "stdout",
     "output_type": "stream",
     "text": [
      "epoch 17 Rec error: 379.34418 sq_error 0.111328125\n",
      "\r",
      "Epoch: 17 / 100\n"
     ]
    },
    {
     "data": {
      "application/vnd.jupyter.widget-view+json": {
       "model_id": "9b3ab4f6080245a78ab264f1467070ee",
       "version_major": 2,
       "version_minor": 0
      },
      "text/plain": [
       "HBox(children=(IntProgress(value=0, max=422), HTML(value='')))"
      ]
     },
     "metadata": {},
     "output_type": "display_data"
    },
    {
     "data": {
      "image/png": "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\n",
      "text/plain": [
       "<Figure size 432x288 with 2 Axes>"
      ]
     },
     "metadata": {
      "needs_background": "light"
     },
     "output_type": "display_data"
    },
    {
     "name": "stdout",
     "output_type": "stream",
     "text": [
      "epoch 18 Rec error: 369.88882 sq_error 0.08691406\n",
      "\r",
      "Epoch: 18 / 100\n"
     ]
    },
    {
     "data": {
      "application/vnd.jupyter.widget-view+json": {
       "model_id": "aed4b89665d34a518162103ba2bf7748",
       "version_major": 2,
       "version_minor": 0
      },
      "text/plain": [
       "HBox(children=(IntProgress(value=0, max=422), HTML(value='')))"
      ]
     },
     "metadata": {},
     "output_type": "display_data"
    },
    {
     "data": {
      "image/png": "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\n",
      "text/plain": [
       "<Figure size 432x288 with 2 Axes>"
      ]
     },
     "metadata": {
      "needs_background": "light"
     },
     "output_type": "display_data"
    },
    {
     "name": "stdout",
     "output_type": "stream",
     "text": [
      "epoch 19 Rec error: 403.00125 sq_error 0.23535156\n",
      "\r",
      "Epoch: 19 / 100\n"
     ]
    },
    {
     "data": {
      "application/vnd.jupyter.widget-view+json": {
       "model_id": "01edc9215faa4362bfafb3bc21e1cc0b",
       "version_major": 2,
       "version_minor": 0
      },
      "text/plain": [
       "HBox(children=(IntProgress(value=0, max=422), HTML(value='')))"
      ]
     },
     "metadata": {},
     "output_type": "display_data"
    },
    {
     "data": {
      "image/png": "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\n",
      "text/plain": [
       "<Figure size 432x288 with 2 Axes>"
      ]
     },
     "metadata": {
      "needs_background": "light"
     },
     "output_type": "display_data"
    },
    {
     "name": "stdout",
     "output_type": "stream",
     "text": [
      "epoch 20 Rec error: 367.9869 sq_error 0.12109375\n",
      "\r",
      "Epoch: 20 / 100\n"
     ]
    },
    {
     "data": {
      "application/vnd.jupyter.widget-view+json": {
       "model_id": "e8e9cf40c48c4c4e835e43d55efa00d2",
       "version_major": 2,
       "version_minor": 0
      },
      "text/plain": [
       "HBox(children=(IntProgress(value=0, max=422), HTML(value='')))"
      ]
     },
     "metadata": {},
     "output_type": "display_data"
    },
    {
     "data": {
      "image/png": "iVBORw0KGgoAAAANSUhEUgAAAXQAAADHCAYAAAAJSqg8AAAABHNCSVQICAgIfAhkiAAAAAlwSFlzAAALEgAACxIB0t1+/AAAADl0RVh0U29mdHdhcmUAbWF0cGxvdGxpYiB2ZXJzaW9uIDMuMC4zLCBodHRwOi8vbWF0cGxvdGxpYi5vcmcvnQurowAAGUFJREFUeJzt3X+0ZXVd//HnK0W0IAFRHAZkTAi/9MNxzc2lRsXyRxJr8YVa5oKvFSo19oOWtqgETB0rfy5K+10ULPCLgmaoRGQhizTLX3NpRAY0sIYEB4YBJ4cyBXz3x2df58zl3Hs/d5/P/nlfj7XOuufuc/Znv88+7/05e38+e++PIgIzMxu+b+s6ADMzK8MVupnZSLhCNzMbCVfoZmYj4QrdzGwkXKGbmY2EK/RMki6Q9Bel35tRVkg6tkRZZmuRpO2STuo6jjZoLZ6HLullwLnA04CvAh8Azo+IPV3GNY2kAI6LiNunvPYPwOURUeTHw4ZL0g7gCOBh4AHgw8A5EfFAl3EtJmkLcGxE/FRD5V8K3BkRv9FE+X235vbQJZ0LvA34NeDxwLOBY4DrJD1miXke3V6EZrWdGhEHARuBZwLndxzPqilZc/VSMRGxZh7Ad5L2Xl6yaPpBwL3AK6r/twDvBy4n7cH/bDXt8ol5fga4A7gPeB2wA3jBxPyXV883AAGcBfwHsBt47UQ5zwI+AewBdgJ/CDxm4vUg7dFM+zz/APxs9fwk4E7g14FdVVmnA6cA/wrcD1ywiuX+KPAF4D+BPwY+urCs6vVXALcCXwH+Djim6+93LT8m86/6/+3A31TPDwQurPLvHuBPgcdNvPc0YFuV618ETq6mHwlcXeXO7cDPTcyzBXgf8C5gL7AdmJt4/TXAXdVrXwCeD5wMfAN4sNoOPzuRx28C/gn4GnDslM+zePs7EfjnKn+/BLwM2FyV/Y2q/L9evG6qdfFO4MvV453AgYu2oXMntqGXd/3druax1n4Jnws8FrhqcmKkw9JrgRdOTD6NVKkfArx78v2STiBVci8F1pH29NevsOwTgeNJif16Sf+nmv4w8CvA4cBzqtd/cZWfa8GTSZ9vPfB64M+BnwI2AT8EvE7SU1darqTDSZ/9fOAJpA3yuQsLkXQacAHwE8ATgX8ErqgZsxUm6Sjgx0iVMMBbge8m7bkfy778QNKzSJXyr5Fy/YdJFSDAlaQK7kjgxcCbJT1vYlH/t3rPIaSK/w+rMo8HzgF+ICIOBl4E7IiIDwNvBt4bEQdFxDMmyvppUoV8MGlHabnPdwzwt8AfkPJvI7AtIi4ibatvr8o/dcrsryUdlW8EnkHasZlsnnky+7bns4E/knTocvH0yVqr0A8HdkfEQ1Ne21m9vuATEfHBiPhmRHxt0XtfTPr1/3hEfIO0cazUGfHGiPhaRHwW+CwpmYiI+Yj4ZEQ8FBE7gD8DfmT1Hw1IeydviogHSRva4cDvRcTeiNgO3JK53FOA7RFxVbWufh+4e2I5Pw+8JSJurV5/M7Cx2tCsOx+UtJe0x7oLeIMkkSrKX4mI+yNiL+n7OqOa52zgkoi4rsr1uyLi85KOBn4QeE1E/E9EbAP+gnRkuuDjEXFtRDwM/H+q3CLtLBwInCDpgIjYERFfXCH2SyNie5WPD67w3v8HfCQiroiIByPiviq+HC8FfjMidkXEvcAbST8mCx6sXn8wIq4l7ekfn1l259Zahb4bOHyJNvF11esLvrRMOUdOvh4R/01qelnOZIX436RmHiR9t6RrJN0t6aukje3waQVkuK/auCAdukI6xGZiWs5yF3++IO2pLTgG+D1JeyTtIR2Si5WPUqxZp1d7xCcBTyd9n08Evh2Yn/i+PlxNBzia1Myy2JHAwg/AgjvY/ztenNOPlfToSB34ryY1k+ySdKWkI1eIfbntbbGlYs5xJPsfAdxRTVtw36Idvm9tq0Ow1ir0TwBfJzUVfIukg0iHqNdPTF5uj3sncNTE/I8jNU3U8SfA50lnsnwnqSlDNcsqtdzFn0+T/5M2vldGxCETj8dFxD+3ELetICI+ClxKajffTfoh/56J7+rxkTpPIX2XT5tSzJeBwyQdPDHtKaR28ZwY3hMRJ5J+/IN0IgIsvV0tnv5fpB+iBU+eeL5UzMuVv+DLVUwLnlJNG4U1VaFHxH+SDrH+QNLJkg6QtIHUuXMn6bAxx/uBUyU9tzozZgv1K+GDSZ1RD0h6OvALNcspudy/Ab5P0unV0cwvsf8G9afA+ZK+B0DS4yX9ZEtxW553kvqEvo/Ul/IOSU8CkLRe0ouq910MvFzS8yV9W/Xa0yPiS6ROx7dIeqyk7yc1z1y+0oIlHS/peZIOBP6H9IPyzerle4ANGWeybAPOqLbROVIz54J3Ay+Q9BJJj5b0BEkbJ8r/rmXKvQL4DUlPrPqKXp/zmYZiTVXoABHxdtLe6IWkCu1TpF/850fE1zPL2A78MqmdeiepnW0Xae9/tX6V1Ca4l7ThvbdGGXUsudyI2A38JOlMifuAE4CtVJ8vIj5A2uO6smquuZl0hGM9UbUPv4tUYb2G1EH6yer7+ghVu3BEfBp4OfAO0hlNH2XfHuyZpLO0vky6VuMNEfGRjMUfSOqI3U1qlnkS+06h/Mvq732SblymjNeR9sK/QtoJe8/EZ/sPUj/PuaTmvm3sa7+/mNR2v0fSB6eU+9ukXL4J+BxwYzVtFNbkhUWlVU02e0jNF//edTylVXtTdwIvjYgbuo7HzKZbc3vopUg6VdK3S/oO0t7+59h3utfgSXqRpEOqw+aF9vVPdhyWmS3DFXp9p7Hv4oTjgDNiXIc7zyGdSbAbOJV0BsXi0zfNrEfc5GJmNhLeQzczG4mZKvTq1L8vSLpd0nmlgjLrmnPbhqh2k4ukR5Fu+vRC0hkQnwHOjIhblpkna2GbNm1a8T3z8/NZceaUNUv5fVD3M/ZZ3fUfETNflNVmbk/7nNO+zyHlY0klt9/c9drFMnPk5PYsFfpzgC0R8aLq//Orhb5lmXmyFpYTU7p4sUxZs5TfB2PsB6m7/gtV6K3l9rTPOe37HFI+llRy+81dr10sM0dObs/S5LKe/e+/cCdT7uUhabOkrZK2zrAsszY5t22QGh+4obql5UWQvxdjNgTObeubWSr0u0h3PVtwFJk37plUsrlgSE0POYdiYzz0rnuIm/Oeubm5WjFNUSS3p2nyO54l/3O+l1lyr2RZdZa3mveVzNGcz1kyB2ZpcvkMcJykp1Y3qDqDdJN7s6Fzbtsg1d5Dj4iHJJ1DGn7sUaSb5G8vFplZR5zbNlQztaFXI3pcWygWs95wbtsQ+UpRM7ORaPwsl6bkdnrU7ZToooO1VOdgn5WMf+gdxEvpy/nSdZc3rfy622FdTZ+HPst1MIvnLZnH3kM3MxsJV+hmZiPhCt3MbCR62Yaec/FFrroXNJRssyypr3FBsxdR9L29fNOmTWzduv8dAOp+rqbvP9R023sf8rH0hUV1tZ233kM3MxsJV+hmZiPhCt3MbCRcoZuZjUSrFfqmTZuIiP0eOSQ94rFWLV5/XXVA+TvZ3/z8/CPWx7TvKudRV+ncyPk8Q9fXPF68nnNHUfIeupnZSLhCNzMbCVfoZmYjMdOFRZJ2AHuBh4GHIqLYkDFmXXJu2xBpxmGrdgBzEbE78/2PWFjJYZuWWGbW++qW3wd96cjpg5yR0XM0lduZZWW9r8kh4mYtL6f8upoe1q3k3RZLysltN7mYmY3ErBV6AH8vaV7S5hIBmfWEc9sGZ9abc50YEXdJehJwnaTPR8THJt9QbQzeIGxonNs2ODO1oe9XkLQFeCAiLlzmPW5Db4Db0Pcp1YY+qWRuZy4v631uQ1/d8tyGvgxJ3yHp4IXnwI8CNy83T90rRbsw7QqynKvK6s43NHWvgqx7tWFOOblX062kVG43nQd1y5q27urGVvc7bnqbmFZ+bqx92H7r5vYsTS5HAB+oPtyjgfdExIdnKM+sL5zbNki1K/SI+DfgGQVjMesF57YNlU9bNDMbic6HoJvWHlW3s6eLtunFy8ztjCnZ8Vuyg3iWsnK+t2nl97kvJdfC3RZXK3cdlcztusssmRu5861VddeF99DNzEbCFbqZ2Ui4QjczGwlX6GZmI9Fqp2hux1Gp93Sh5NV6Ja9syy1/lo7Muh3E09TtYLV6mt7m2t5eZ8mNIXfgeg/dzGwkXKGbmY2EK3Qzs5FwhW5mNhKtVuh177ZY9w59TZdVWtd3dJvlbojTystd5jQ5d8obqzHenbOuvn7vpbedUryHbmY2Eq7QzcxGwhW6mdlIrFihS7pE0i5JN09MO0zSdZJuq/4e2myYZuU5t21scvbQLwVOXjTtPOD6iDgOuL76f0ULV4qudlioaeq+r3SHU9edIH02y7puab1eSqHcrqsPHWm5uoh1SB3Eswx7t9Ijdwi6FSv0SCOd379o8mnAZdXzy4DTV/PBzfrAuW1jU7cN/YiI2Fk9v5s0BqPZGDi3bbBmvjlXRISkJY+9JG0GNs+6HLO2ObdtaOruod8jaR1A9XfXUm+MiIsiYi4i5mouy6xNzm0brLoV+tXAWdXzs4AP5cxU90rRWZTqlJvlSrC6ZeXO19eOo9Id3C0plttNd/i3rS95Vmq7nEVuB2ip8ufn57Pmyzlt8QrgE8Dxku6UdDbwVuCFkm4DXlD9bzYozm0bmxXb0CPizCVeen7hWMxa5dy2sfGVomZmI9HqEHRNm9ZmVbedr+5QabO0my2et/QQdDlDxPXFkGJtQ8ncLhnDNDnDBZaOve18mbV9vFRZi3kP3cxsJFyhm5mNhCt0M7ORcIVuZjYSnXeK5nSg2PL6ciFRSWPIgZK53UVHY8nvoGRsfcj3Wb7bnPctfs/cXN7FyN5DNzMbCVfoZmYj4QrdzGwkXKGbmY1E552i0+R0evT5SrAmY5ilQ6jpTq4+rLOuLAyvuFqzfJ9Ndw7WLT8nD/qSx0OOYRrvoZuZjYQrdDOzkXCFbmY2EjkDXFwiaZekmyembZF0l6Rt1eOUZsM0K8+5bWOjlRr3Jf0w8ADwroj43mraFuCBiLhwVQubMuBuySvnSurr7Uq76EwqfRvfksucEkP2jE3ntq1OyXwveXvbaeU1fRXwNDm5veIeekR8DLg/a4lmA+LctrGZpQ39HEk3VYethy71JkmbJW2VtHWGZZm1ybltg7RikwuApA3ANROHpUcAu4EAfgtYFxGvyCjHTS4dxuAml6nL2UBDuW2r4yaX5eXkdq0LiyLinolg/hy4pk451fy15mv6xP6mK7Gc8ktfvONh3VZWMreXKH+///tw58BcXVS4dZdZ+m6Idbedtr/fWk0uktZN/PvjwM1LvddsSJzbNmQr7qFLugI4CThc0p3AG4CTJG0kHZbuAF7ZYIxmjXBu29hktaEXW1jBdsa10ORScnnTlln6sHGIbeil5Oa2m1yWLitXH5bZRZNLkdMWzcxsGHp5t8UmdXGHumm/5k3fka6kvhwNLVZ3mK4u9eU7LaWLM6eaPgOti+H+SvEeupnZSLhCNzMbCVfoZmYj4QrdzGwkRtUpWvgUoazy+9o5Mk2Tly9PK89Xoj5S3e+gr3lWN4dmOe2vZEdsyU7XPnxv3kM3MxsJV+hmZiPhCt3MbCRcoZuZjUTnnaIlO8760CkxTd2r4rroVCx929Em9eG7XU7JW7+W1MUtaevqyzZd90rRtuP3HrqZ2Ui4QjczGwlX6GZmI7FihS7paEk3SLpF0nZJr6qmHybpOkm3VX+XHEzXrI+c2zY2Kw5wUQ3JtS4ibpR0MDAPnA68DLg/It4q6Tzg0Ih4zQpl1RoEYImycooalD4MEDFN01fm5c6bYzUDXPQht4d+pWhdfR2TE3o9cP3sA1xExM6IuLF6vhe4FVgPnAZcVr3tMtKGYDYYzm0bm1WdtihpA/BM4FPAERGxs3rpbuCIJebZDGyuH6JZ85zbNgbZY4pKOgj4KPCmiLhK0p6IOGTi9a9ExLJtjW5yWZ6bXJafN0edMUW7zG03uSzPTS775OR21h66pAOAvwLeHRFXVZPvkbQuInZWbZG7agZZZ7baZZVe6SUvOCipZKVQ8o56XVycspy2c3tsFXOuuj9kfa74F+vDD0HOWS4CLgZujYjfnXjpauCs6vlZwIeKRWXWAue2jU3OWS4nAv8IfA74ZjX5AlJb4/uApwB3AC+JiPtXKOsRC2v7cH6t7KFPM6RmmJbOcmk9t4dyX+3S2r4X/yz6eguLnNzObkMvwRX60vO1oQ9J36cKvSRX6Mtzhb60khW6rxQ1MxuJzu+2WFfJzpJZ9oja7mjsi5z4Z1mHQzvTadOmTWzdunXF99X9joe+115yO5mmbu6VVPLoc/F8c3NzWTF4D93MbCRcoZuZjYQrdDOzkXCFbmY2Er3sFF3cadD01WJ96Vya4VS9YjF00TE7pM7gpczPz2flbZ33rBVd3Aah7tXMfT1N0nvoZmYj4QrdzGwkXKGbmY2EK3Qzs5HovFN0DFcJdq30rUhzyp9mDJ2bJeWsN+fx8vpwosAscbSdA95DNzMbCVfoZmYjkTPAxdGSbpB0i6Ttkl5VTd8i6S5J26rHKc2Ha1aOc9vGJmeAi3XAuoi4UdLBwDxpFPSXAA9ExIXZC/OYoq3pYnzStu8Nv0TfwWoGuGg9t60ZfR2Pt6QiY4pWo5/vrJ7vlXQrsL5OQLm3GK17pWjT2u5UbDqxSpc/tFsJl8ztLpT8Ae1xJdZo+WMbpHtVbeiSNgDPJA3RBXCOpJskXSJp2VHRzfrMuW1jkF2hSzqINDr6qyPiq8CfAE8DNpL2cn5nifk2S9oqaeu9995bIGSzskrkdmvBmi0ja0xRSQcA1wB/t2h09IXXNwDXRMT3LlfO3NxclGpy6eIQaEhNLkPvh6gb/2rHFC2V2120obvJZXZDanIp0oau9EkuBm6dTHhJ66o2SIAfB25eqaxpd6RrW+nh5kpWwnWHy6urL4Py1lV3mK4FJXO7C0O/u2iOLvpXhrR+Fsu5UvQHgZ8GPidpWzXtAuBMSRuBAHYAr2wkQrPmOLdtVHLOcvk4MO0n69ry4Zi1x7ltY+MrRc3MRsIVupnZSHR+t8W2NX3mSO58Q+p46SLWIa2fsWr7TKmhbyd9iN976GZmI+EK3cxsJFyhm5mNhCt0M7ORGESnaBcdmSXjGFLHzixX5g3pc9r+cjr0ZhnWsK+5UbIjsw+f0XvoZmYj4QrdzGwkXKGbmY2EK3Qzs5EYRKdorhnuod1EOK2VX1JfOrnaHo5vrctZv7Pcb72v22ZdfbgqdBrvoZuZjYQrdDOzkVixQpf0WEmflvRZSdslvbGa/lRJn5J0u6T3SnpM8+GalePctrHJ2UP/OvC8iHgGadDckyU9G3gb8I6IOBb4CnB2c2HmkbTio+58pdvH2l7eLJqOLSIe8WhpXQwmt215fdh++2DFCj2SB6p/D6geATwPeH81/TLg9EYiNGuIc9vGJqsNXdKjqjEXdwHXAV8E9kTEQ9Vb7gTWNxOiWXOc2zYmWRV6RDwcERuBo4BnAU/PXYCkzZK2StpaM0azxji3bUxWdZZLROwBbgCeAxwiaeE89qOAu5aY56KImIuIuZkiNWuQc9vGIOcslydKOqR6/jjghcCtpOR/cfW2s4APlQpqWifZ4keTZbdxMUPdGEp2xpTuDM5dt22v66V0kds56q6jWdZt29/LtDxrejufRV9ydiU5V4quAy6T9CjSD8D7IuIaSbcAV0r6beBfgIsbjNOsCc5tGxW1+WsjKWthTQ5O28Wl7U3fk71u+U2cfljKDN9vJ+eP5eZ2jrqXlc9yOXrJS9m7uMx/cXkly5pWXhenKebktq8UNTMbCVfoZmYj0fbdFncDdwCHV8+navJwplDZy8bf0DJLlb+q2BuMo67l4j+mjQCWkJXbOequx1k7yCuDjL/yrdibuDK0BTPndqtt6N9aqLR1yKd6DTn+IccO/Y+/7/GtZMjxDzl2KBO/m1zMzEbCFbqZ2Uh0VaFf1NFySxly/EOOHfoff9/jW8mQ4x9y7FAg/k7a0M3MrDw3uZiZjUTrFbqkkyV9QWk0mPPaXv5qSbpE0i5JN09MO0zSdZJuq/4e2mWMS5F0tKQbJN2iNCLPq6rpvY9fAxtNyHndniHnNTSb261W6NU9M/4I+DHgBOBMSSe0GUMNlwInL5p2HnB9RBwHXF/930cPAedGxAnAs4Ffqtb3EOIfzGhCzuvWDTmvocHcbnsP/VnA7RHxbxHxDeBK4LSWY1iViPgYcP+iyaeRRrKBHo9oExE7I+LG6vle0p0E1zOA+CMZymhCzusWDTmvodncbrtCXw98aeL/oY4Gc0RE7Kye3w0c0WUwOSRtAJ4JfIqBxK/hjCbkvO7IEPMamsttd4rOKNJpQr0+VUjSQcBfAa+OiK9Ovtbn+GOG0YRsNn3OiwVDzWtoLrfbrtDvAo6e+H/J0WB67h5J6wCqv7s6jmdJkg4gJf27I+KqavJg4od6owm1zHndsjHkNZTP7bYr9M8Ax1W9uY8BzgCubjmGEq4mjWQDHYxok0vpjkIXA7dGxO9OvNT7+NXT0YSW4Lxu0ZDzGhrO7brDhtV9AKcA/0pqM3pt28uvEe8VwE7gQVK71tnAE0i96LcBHwEO6zrOJWI/kXTYeROwrXqcMoT4ge8njRZ0E3Az8Ppq+ncBnwZuB/4SOLDrWKu4nNftxT7YvK7ibyy3faWomdlIuFPUzGwkXKGbmY2EK3Qzs5FwhW5mNhKu0M3MRsIVupnZSLhCNzMbCVfoZmYj8b+7O99VVB1SeQAAAABJRU5ErkJggg==\n",
      "text/plain": [
       "<Figure size 432x288 with 2 Axes>"
      ]
     },
     "metadata": {
      "needs_background": "light"
     },
     "output_type": "display_data"
    },
    {
     "name": "stdout",
     "output_type": "stream",
     "text": [
      "epoch 21 Rec error: 352.77008 sq_error 0.1015625\n",
      "\r",
      "Epoch: 21 / 100\n"
     ]
    },
    {
     "data": {
      "application/vnd.jupyter.widget-view+json": {
       "model_id": "e81e93c772ee46918affe0332e62e399",
       "version_major": 2,
       "version_minor": 0
      },
      "text/plain": [
       "HBox(children=(IntProgress(value=0, max=422), HTML(value='')))"
      ]
     },
     "metadata": {},
     "output_type": "display_data"
    },
    {
     "data": {
      "image/png": "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\n",
      "text/plain": [
       "<Figure size 432x288 with 2 Axes>"
      ]
     },
     "metadata": {
      "needs_background": "light"
     },
     "output_type": "display_data"
    },
    {
     "name": "stdout",
     "output_type": "stream",
     "text": [
      "epoch 22 Rec error: 371.5247 sq_error 0.17871094\n",
      "\r",
      "Epoch: 22 / 100\n"
     ]
    },
    {
     "data": {
      "application/vnd.jupyter.widget-view+json": {
       "model_id": "f3e7713c99094e3d85abafcb002cda36",
       "version_major": 2,
       "version_minor": 0
      },
      "text/plain": [
       "HBox(children=(IntProgress(value=0, max=422), HTML(value='')))"
      ]
     },
     "metadata": {},
     "output_type": "display_data"
    },
    {
     "data": {
      "image/png": "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\n",
      "text/plain": [
       "<Figure size 432x288 with 2 Axes>"
      ]
     },
     "metadata": {
      "needs_background": "light"
     },
     "output_type": "display_data"
    },
    {
     "name": "stdout",
     "output_type": "stream",
     "text": [
      "epoch 23 Rec error: 362.17636 sq_error 0.22363281\n",
      "\r",
      "Epoch: 23 / 100\n"
     ]
    },
    {
     "data": {
      "application/vnd.jupyter.widget-view+json": {
       "model_id": "46d161dd138d49ea9de447829c61f2b3",
       "version_major": 2,
       "version_minor": 0
      },
      "text/plain": [
       "HBox(children=(IntProgress(value=0, max=422), HTML(value='')))"
      ]
     },
     "metadata": {},
     "output_type": "display_data"
    },
    {
     "data": {
      "image/png": "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\n",
      "text/plain": [
       "<Figure size 432x288 with 2 Axes>"
      ]
     },
     "metadata": {
      "needs_background": "light"
     },
     "output_type": "display_data"
    },
    {
     "name": "stdout",
     "output_type": "stream",
     "text": [
      "epoch 24 Rec error: 358.08624 sq_error 0.22558594\n",
      "\r",
      "Epoch: 24 / 100\n"
     ]
    },
    {
     "data": {
      "application/vnd.jupyter.widget-view+json": {
       "model_id": "c1d36457563b471ba87034a0a1eb9289",
       "version_major": 2,
       "version_minor": 0
      },
      "text/plain": [
       "HBox(children=(IntProgress(value=0, max=422), HTML(value='')))"
      ]
     },
     "metadata": {},
     "output_type": "display_data"
    },
    {
     "data": {
      "image/png": "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\n",
      "text/plain": [
       "<Figure size 432x288 with 2 Axes>"
      ]
     },
     "metadata": {
      "needs_background": "light"
     },
     "output_type": "display_data"
    },
    {
     "name": "stdout",
     "output_type": "stream",
     "text": [
      "epoch 25 Rec error: 375.0511 sq_error 0.25097656\n",
      "\r",
      "Epoch: 25 / 100\n"
     ]
    },
    {
     "data": {
      "application/vnd.jupyter.widget-view+json": {
       "model_id": "eda32c4a20184e20b883e2585c971265",
       "version_major": 2,
       "version_minor": 0
      },
      "text/plain": [
       "HBox(children=(IntProgress(value=0, max=422), HTML(value='')))"
      ]
     },
     "metadata": {},
     "output_type": "display_data"
    },
    {
     "data": {
      "image/png": "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\n",
      "text/plain": [
       "<Figure size 432x288 with 2 Axes>"
      ]
     },
     "metadata": {
      "needs_background": "light"
     },
     "output_type": "display_data"
    },
    {
     "name": "stdout",
     "output_type": "stream",
     "text": [
      "epoch 26 Rec error: 374.34607 sq_error 0.19726562\n",
      "\r",
      "Epoch: 26 / 100\n"
     ]
    },
    {
     "data": {
      "application/vnd.jupyter.widget-view+json": {
       "model_id": "0425f9f1b5c9443d921fa0cb45e6e909",
       "version_major": 2,
       "version_minor": 0
      },
      "text/plain": [
       "HBox(children=(IntProgress(value=0, max=422), HTML(value='')))"
      ]
     },
     "metadata": {},
     "output_type": "display_data"
    },
    {
     "data": {
      "image/png": "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\n",
      "text/plain": [
       "<Figure size 432x288 with 2 Axes>"
      ]
     },
     "metadata": {
      "needs_background": "light"
     },
     "output_type": "display_data"
    },
    {
     "name": "stdout",
     "output_type": "stream",
     "text": [
      "epoch 27 Rec error: 328.1542 sq_error 0.25195312\n",
      "\r",
      "Epoch: 27 / 100\n"
     ]
    },
    {
     "data": {
      "application/vnd.jupyter.widget-view+json": {
       "model_id": "e7c155ba17a446508811a48d7cf157ea",
       "version_major": 2,
       "version_minor": 0
      },
      "text/plain": [
       "HBox(children=(IntProgress(value=0, max=422), HTML(value='')))"
      ]
     },
     "metadata": {},
     "output_type": "display_data"
    },
    {
     "data": {
      "image/png": "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\n",
      "text/plain": [
       "<Figure size 432x288 with 2 Axes>"
      ]
     },
     "metadata": {
      "needs_background": "light"
     },
     "output_type": "display_data"
    },
    {
     "name": "stdout",
     "output_type": "stream",
     "text": [
      "epoch 28 Rec error: 359.80237 sq_error 0.375\n",
      "\r",
      "Epoch: 28 / 100\n"
     ]
    },
    {
     "data": {
      "application/vnd.jupyter.widget-view+json": {
       "model_id": "de95fb39c83943a985ac746a5f8841e6",
       "version_major": 2,
       "version_minor": 0
      },
      "text/plain": [
       "HBox(children=(IntProgress(value=0, max=422), HTML(value='')))"
      ]
     },
     "metadata": {},
     "output_type": "display_data"
    },
    {
     "data": {
      "image/png": "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\n",
      "text/plain": [
       "<Figure size 432x288 with 2 Axes>"
      ]
     },
     "metadata": {
      "needs_background": "light"
     },
     "output_type": "display_data"
    },
    {
     "name": "stdout",
     "output_type": "stream",
     "text": [
      "epoch 29 Rec error: 367.2207 sq_error 0.34472656\n",
      "\r",
      "Epoch: 29 / 100\n"
     ]
    },
    {
     "data": {
      "application/vnd.jupyter.widget-view+json": {
       "model_id": "cc4fc8fe36384f4b8b1bea95bed57f6b",
       "version_major": 2,
       "version_minor": 0
      },
      "text/plain": [
       "HBox(children=(IntProgress(value=0, max=422), HTML(value='')))"
      ]
     },
     "metadata": {},
     "output_type": "display_data"
    },
    {
     "data": {
      "image/png": "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\n",
      "text/plain": [
       "<Figure size 432x288 with 2 Axes>"
      ]
     },
     "metadata": {
      "needs_background": "light"
     },
     "output_type": "display_data"
    },
    {
     "name": "stdout",
     "output_type": "stream",
     "text": [
      "epoch 30 Rec error: 356.5328 sq_error 0.22167969\n",
      "\r",
      "Epoch: 30 / 100\n"
     ]
    },
    {
     "data": {
      "application/vnd.jupyter.widget-view+json": {
       "model_id": "8355fd5eb8444e5f9b08dce5d1d843ea",
       "version_major": 2,
       "version_minor": 0
      },
      "text/plain": [
       "HBox(children=(IntProgress(value=0, max=422), HTML(value='')))"
      ]
     },
     "metadata": {},
     "output_type": "display_data"
    },
    {
     "data": {
      "image/png": "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\n",
      "text/plain": [
       "<Figure size 432x288 with 2 Axes>"
      ]
     },
     "metadata": {
      "needs_background": "light"
     },
     "output_type": "display_data"
    },
    {
     "name": "stdout",
     "output_type": "stream",
     "text": [
      "epoch 31 Rec error: 360.27347 sq_error 0.3232422\n",
      "\r",
      "Epoch: 31 / 100\n"
     ]
    },
    {
     "data": {
      "application/vnd.jupyter.widget-view+json": {
       "model_id": "2cb0d63ef0584348833c8162596022d0",
       "version_major": 2,
       "version_minor": 0
      },
      "text/plain": [
       "HBox(children=(IntProgress(value=0, max=422), HTML(value='')))"
      ]
     },
     "metadata": {},
     "output_type": "display_data"
    },
    {
     "data": {
      "image/png": "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\n",
      "text/plain": [
       "<Figure size 432x288 with 2 Axes>"
      ]
     },
     "metadata": {
      "needs_background": "light"
     },
     "output_type": "display_data"
    },
    {
     "name": "stdout",
     "output_type": "stream",
     "text": [
      "epoch 32 Rec error: 366.62497 sq_error 0.35546875\n",
      "\r",
      "Epoch: 32 / 100\n"
     ]
    },
    {
     "data": {
      "application/vnd.jupyter.widget-view+json": {
       "model_id": "1a895675936c4a07a067858b4e52c83d",
       "version_major": 2,
       "version_minor": 0
      },
      "text/plain": [
       "HBox(children=(IntProgress(value=0, max=422), HTML(value='')))"
      ]
     },
     "metadata": {},
     "output_type": "display_data"
    },
    {
     "data": {
      "image/png": "iVBORw0KGgoAAAANSUhEUgAAAXQAAADHCAYAAAAJSqg8AAAABHNCSVQICAgIfAhkiAAAAAlwSFlzAAALEgAACxIB0t1+/AAAADl0RVh0U29mdHdhcmUAbWF0cGxvdGxpYiB2ZXJzaW9uIDMuMC4zLCBodHRwOi8vbWF0cGxvdGxpYi5vcmcvnQurowAAFVBJREFUeJzt3X+wXGV9x/H3R34rKGCuGMKPKCA0jhImtwwqbSmIRmZosKMOVC0qNraVjjjUCqiIHX+PilatNgoTLAj+AqVKaUMGtVRELzRAQkQiDZIQyA0YCfUHBL/94znXLJf749zdc87uee7nNbNz957dPee7u9/97rPPc855FBGYmVn7PaXfAZiZWTVc0M3MMuGCbmaWCRd0M7NMuKCbmWXCBd3MLBMu6CVJOk/SF6u+b4l1haRDq1iX2WwkaY2k4/odRxM0G/dDl/QG4GzgEOBh4Crg3IjY2s+4JiIpgMMiYt0Et30XuDQiKvnysPaStB7YD3gceAS4FjgzIh7pZ1zjSboAODQiXlfT+pcDGyLi3XWsf9DNuha6pLOBjwDvAJ4BHAMcDKyQtOskj9m5uQjNunZyROwJLASOAs7tczwzpmTW1aXKRMSsuQBPJ7VeXjNu+Z7AKPCm4v8LgK8Dl5Ja8G8ull3a8Zi/BO4BHgTeA6wHXtrx+EuL6/OBAE4Hfg5sAd7VsZ6jgRuBrcAm4DPArh23B6lFM9Hz+S7w5uL6ccAG4B+AzcW6TgFOAn4KPAScN4Ptvgy4E/gl8M/A98a2Vdz+JmAt8AvgP4CD+/3+zuZLZ/4V/38U+E5xfTfgY0X+PQB8Htij475LgFVFrv8MWFws3x+4usiddcBfdTzmAuCrwJeAbcAaYLjj9ncCG4vb7gROABYDjwKPFZ/DWzvy+APAfwO/Bg6d4PmM//wdC/ygyN97gTcAS4t1P1qs/9/GvzbFa/FJ4L7i8klgt3GfobM7PkNv7Pd7O5PLbPsmfDGwO3Bl58JIP0uvAU7sWLyEVNT3Bi7rvL+kBaQi91pgLqmlP2+abR8LHE5K7PMl/UGx/HHg7cAc4EXF7X87w+c15tmk5zcPOB/4AvA6YBHwR8B7JD1nuu1KmkN67ucCzyR9IF88thFJS4DzgD8HhoD/Ai7vMmarmKQDgFeQijDAh4HnkVruh7IjP5B0NKkov4OU639MKoAAV5AK3P7Aq4APSjq+Y1N/Vtxnb1Lh/0yxzsOBM4E/jIi9gJcD6yPiWuCDwFciYs+IOLJjXa8nFeS9SA2lqZ7fwcC/A58m5d9CYFVELCN9Vj9arP/kCR7+LtKv8oXAkaSGTWf3zLPZ8Xk+A/ispH2mimeQzLaCPgfYEhHbJ7htU3H7mBsj4psR8buI+PW4+76K9O1/Q0Q8SvpwTDcY8b6I+HVE3ArcSkomIuLmiPhhRGyPiPXAvwB/MvOnBqTWyQci4jHSB20O8KmI2BYRa4A7Sm73JGBNRFxZvFb/BNzfsZ2/Bj4UEWuL2z8ILCw+aNY/35S0jdRi3Qy8V5JIhfLtEfFQRGwjvV+nFo85A7g4IlYUub4xIn4i6UDgJcA7I+I3EbEK+CLpl+mYGyLimoh4HPhXitwiNRZ2AxZI2iUi1kfEz6aJfXlErCny8bFp7vsXwHURcXlEPBYRDxbxlfFa4B8jYnNEjALvI32ZjHmsuP2xiLiG1NI/vOS6+262FfQtwJxJ+sTnFrePuXeK9ezfeXtE/IrU9TKVzoL4K1I3D5KeJ+nbku6X9DDpwzZnohWU8GDx4YL00xXST2w6lpXZ7vjnF6SW2piDgU9J2ippK+knuZj+V4rV65SiRXwccATp/RwCngrc3PF+XVssBziQ1M0y3v7A2BfAmHt44ns8Pqd3l7RzpAH8s0jdJJslXSFp/2lin+rzNt5kMZexP0/8BXBPsWzMg+MafL//rLbBbCvoNwK/JXUV/J6kPUk/UVd2LJ6qxb0JOKDj8XuQuia68TngJ6Q9WZ5O6spQl+uqarvjn586/yd9+N4SEXt3XPaIiB80ELdNIyK+Bywn9ZtvIX2RP7/jvXpGpMFTSO/lIROs5j5gX0l7dSw7iNQvXiaGL0fEsaQv/yDtiACTf67GL/8/0hfRmGd3XJ8s5qnWP+a+IqYxBxXLsjCrCnpE/JL0E+vTkhZL2kXSfNLgzgbSz8Yyvg6cLOnFxZ4xF9B9Ed6LNBj1iKQjgL/pcj1Vbvc7wAsknVL8mnkrT/xAfR44V9LzASQ9Q9KrG4rbyvkkaUzoBaSxlAslPQtA0jxJLy/udxHwRkknSHpKcdsREXEvadDxQ5J2l/RCUvfMpdNtWNLhko6XtBvwG9IXyu+Kmx8A5pfYk2UVcGrxGR0mdXOOuQx4qaTXSNpZ0jMlLexY/3OnWO/lwLslDRVjReeXeU5tMasKOkBEfJTUGv0YqaDdRPrGPyEifltyHWuAvyP1U28i9bNtJrX+Z+rvSX2C20gfvK90sY5uTLrdiNgCvJq0p8SDwAJghOL5RcRVpBbXFUV3zWrSLxwbEEX/8JdIBeudpAHSHxbv13UU/cIR8SPgjcCFpD2avseOFuxppL207iMdq/HeiLiuxOZ3Iw3EbiF1yzyLHbtQfq34+6CkW6ZYx3tIrfBfkBphX+54bj8njfOcTeruW8WO/vuLSH33WyV9c4L1vp+Uy7cBtwO3FMuyMCsPLKpa0WWzldR98b/9jqdqRWtqA/DaiLi+3/GY2cRmXQu9KpJOlvRUSU8jtfZvZ8fuXq0n6eWS9i5+No/1r/+wz2GZ2RRc0Lu3hB0HJxwGnBp5/dx5EWlPgi3AyaQ9KMbvvmlmA8RdLmZmmXAL3cwsEz0V9GLXvzslrZN0TlVBmfWbc9vaqOsuF0k7kU76dCJpD4gfA6dFxB2TPWbOnDkxf/78rrZnNp3169ezZcuWng/K6ia3i9Mcm9UmIqbN7V5OC3s0sC4i7gaQdAVpoHDSpJ8/fz4jIyM9bNJscsPDw1Wtasa5bTYIeulymccTz7+wgQnO5SFpqaQRSSOjo6M9bM6sMTPO7cYiM5tC7YOiEbEsIoYjYnhoaGj6B5i1RGdu9zsWM+ity2Uj6axnYw6g5Il7zAZcbbk9fswqnfesWRONm/UjjkHV5tenlxb6j4HDJD2nOEHVqaST3Ju1nXPbWqnrFnpEbJd0Jmn6sZ1IJ8lfU1lkZn3i3La26mny42JGj2sqisVsYDi3rY18pKiZWSZ6aqGb2cw0PbjW5gG+fmnz6+MWuplZJlzQzcwy4YJuZpYJ96Gb9VHdfdxt7g+2mXML3cwsEy7oZmaZcEE3M8uEC7qZWSY8KGrWoEE42+JsUPdg86AesOUWuplZJlzQzcwy4YJuZpaJnvrQJa0HtgGPA9s9FZflwrltbVTFoOifRsSWCtZjNmgqz+1uB84GYRBuEGIoq+64BvV5u8vFzCwTvRb0AP5T0s2SllYRkNmAcG5b6/Ta5XJsRGyU9CxghaSfRMT3O+9QfBiWAhx00EE9bs6sMTPKbbNB0FMLPSI2Fn83A1cBR09wn2URMRwRw0NDQ71szqwxM83tpuMzm0jXBV3S0yTtNXYdeBmwuqrAzPqlydyOiCddJonpSZem9RJDmedoveuly2U/4KriTd0Z+HJEXFtJVGb95dy2Vuq6oEfE3cCRFcZiNhCc29ZW3m3RzCwTPtuiWR8N6gEqVZstz7Pf3EI3M8uEC7qZWSZc0M3MMuGCbmaWCQ+KmmVikM+G6Kn3muEWuplZJlzQzcwy4YJuZpYJF3Qzs0x4UNSsjwZ5ILOMsvG36TnVrc4BYrfQzcwy4YJuZpYJF3Qzs0xMW9AlXSxps6TVHcv2lbRC0l3F333qDdOses5ty02ZFvpyYPG4ZecAKyPiMGBl8b9Z2yynz7ld5dRy/ZimbhCmxmtClVPo1fl6TVvQi5nOHxq3eAlwSXH9EuCUSqMya4Bz23LTbR/6fhGxqbh+P2kORrMcOLettXoeFI30+2PS3yCSlkoakTQyOjra6+bMGjOT3G4wLLNJdVvQH5A0F6D4u3myO0bEsogYjojhoaGhLjdn1piucrux6Mym0G1Bvxo4vbh+OvCtasIx67uucnvRokWlBs6qHFxrk7Y/7zoHMse/Nr28PmV2W7wcuBE4XNIGSWcAHwZOlHQX8NLif7NWcW5bbqY9l0tEnDbJTSdUHItZo5zblhsfKWpmlgmfbdGsAjfffHOpvtVcD7yZzmx93mX4bItmZvYkLuhmZplwQTczy4QLuplZJjwoajZg2j4tXZuUfa3rnDauyvfbLXQzs0y4oJuZZcIF3cwsEy7oZmaZ8KCo2YApOyBWZqCuHwOsbRrULRtXt/E3/Vq4hW5mlgkXdDOzTLigm5lloswEFxdL2ixpdceyCyRtlLSquJxUb5hm1XNuW27KtNCXA4snWH5hRCwsLtdUG5ZZI5bTktzudpqy8VOnNTE4WWabVU67VlY/tlnmtajyPZq2oEfE94GHut6C2YBybltueulDP1PSbcXP1n0mu5OkpZJGJI2Mjo72sDmzxsw4t5sMzmwy3Rb0zwGHAAuBTcDHJ7tjRCyLiOGIGB4aGupyc2aN6Sq3mwrObCpdHVgUEQ+MXZf0BeDblUVk1keDmttl+lUH5YCeMn3TPripHl210CXN7fj3lcDqye5r1ibObWuzaVvoki4HjgPmSNoAvBc4TtJCIID1wFtqjNGsFs5ty820BT0iTptg8UU1xGLWKOe25cZHipqZZcJnWzTLxKAMgA7C4GPVMdQ5BV2V3EI3M8uEC7qZWSZc0M3MMuGCbmaWCQ+KmtmEygwEDurgYNXa8jzdQjczy4QLuplZJlzQzcwy4YJuZpYJD4qa2YTaMhA4kUE9grVubqGbmWXCBd3MLBMu6GZmmZi2oEs6UNL1ku6QtEbS24rl+0paIemu4u+kk+maDSLntuWmTAt9O3B2RCwAjgHeKmkBcA6wMiIOA1YW/5u1Sd9zOyKedOnlfoOq6dglPenSJuNfr0WLFpV63LQFPSI2RcQtxfVtwFpgHrAEuKS42yXAKV1FbtYnzm3LzYz60CXNB44CbgL2i4hNxU33A/tN8pilkkYkjYyOjvYQqll9es3tRoI0m0bpgi5pT+AbwFkR8XDnbZF+Q034OyoilkXEcEQMDw0N9RSsWR2qyO0GwjSbVqkDiyTtQkr4yyLiymLxA5LmRsQmSXOBzXUFaVaXfud22b7dQZherpcYmo6/HwcWVbnNbh9XZi8XkWZCXxsRn+i46Wrg9OL66cC3uorArE+c25abMi30lwCvB26XtKpYdh7wYeCrks4A7gFeU0+IZrVxbltWpi3oEXEDMFn7/4RqwzFrjnPbcuMjRc3MMuGzLZrZhLodmBuEMx22aQC0zPqHh8vtSOUWuplZJlzQzcwy4YJuZpYJF3Qzs0x4UNTMBuIoR9uhtiNFzcysHVzQzcwy4YJuZpYJF3Qzs0x4UNTMZsXpbas0UayD8JzcQjczy4QLuplZJspMcHGgpOsl3SFpjaS3FcsvkLRR0qriclL94ZpVx7ltuSnTh74dODsibpG0F3CzpBXFbRdGxMfqC8+sVs5ty0qZCS42AZuK69skrQXm1R2YWd2c2/UYhMHBfhiE5zijPnRJ84GjgJuKRWdKuk3SxZL2qTg2s8Y4ty0HpQu6pD1Js6OfFREPA58DDgEWklo5H5/kcUsljUgaGR0drSBks2pVkduNBWs2hVIFXdIupIS/LCKuBIiIByLi8Yj4HfAF4OiJHhsRyyJiOCKGh4aGqorbrBJV5XZzEZtNrsxeLgIuAtZGxCc6ls/tuNsrgdXVh2dWn7pzOyKedKlSnevuhaQnXbq5z2w2/r1dtGhRqceV2cvlJcDrgdslrSqWnQecJmkhEMB64C0zD9usr5zblpUye7ncAEz09XlN9eGYNce5bbnxkaJmZplwQTczy4TPtmhWk7oH+savf1AO6BmUOAZBt6+Fp6AzM5vlXNDNzDLhgm5mlgkXdDOzTHhQ1Mwq1e2AXtmjXctM/zZbB2HdQjczy4QLuplZJlzQzcwy4YJuZpYJD4qaZaLtA4G9xF/msf04grXp98QtdDOzTLigm5llosyMRbtL+pGkWyWtkfS+YvlzJN0kaZ2kr0jatf5wzarj3LbclGmh/xY4PiKOJE2au1jSMcBHgAsj4lDgF8AZ9YVpVotac3uiKejKXNoux+fUFtMW9EgeKf7dpbgEcDzw9WL5JcAptURoVhPntuWmVB+6pJ2KORc3AyuAnwFbI2J7cZcNwLx6QjSrj3PbclKqoEfE4xGxEDgAOBo4ouwGJC2VNCJpZHR0tMswzepRVW7XFqDZDMxoL5eI2ApcD7wI2FvS2H7sBwAbJ3nMsogYjojhoaGhnoI1q0uvud1QmGZTKrOXy5CkvYvrewAnAmtJyf+q4m6nA9+qK0izOtSd25K6uvRDmYHMsoOdg/KcxqsyrroHfseve9GiRaUeV+ZI0bnAJZJ2In0BfDUivi3pDuAKSe8H/ge4qNvgzfrEuW1ZmbagR8RtwFETLL+b1Odo1krObcuNjxQ1M8uEC7qZWSbU5FFckkaBe4A5wJbGNly9Nsff5thh6vgPjoi+7Erl3B4IbY4dKsjtRgv67zcqjbR5V682x9/m2GHw4x/0+KbT5vjbHDtUE7+7XMzMMuGCbmaWiX4V9GV92m5V2hx/m2OHwY9/0OObTpvjb3PsUEH8felDNzOz6rnLxcwsE40XdEmLJd1ZzAZzTtPbnylJF0vaLGl1x7J9Ja2QdFfxd59+xjgZSQdKul7SHcWMPG8rlg98/G2bTch53Zw25zXUm9uNFvTinBmfBV4BLABOk7SgyRi6sBxYPG7ZOcDKiDgMWFn8P4i2A2dHxALgGOCtxevdhvhbM1OW87pxbc5rqDG3m26hHw2si4i7I+JR4ApgScMxzEhEfB94aNziJaSZbGCAZ7SJiE0RcUtxfRvpTILzaEH8LZtNyHndoDbnNdSb200X9HnAvR3/t3U2mP0iYlNx/X5gv34GU4ak+aQTUd1ES+JXe2YTcl73SRvzGurLbQ+K9ijSbkIDvauQpD2BbwBnRcTDnbcNcvy9zCZkvRnkvBjT1ryG+nK76YK+ETiw4/9JZ4MZcA9ImgtQ/N3c53gmJWkXUtJfFhFXFotbEz90N5tQw5zXDcshr6H63G66oP8YOKwYzd0VOBW4uuEYqnA1aSYbGODZmpSmZLkIWBsRn+i4aeDjV7tmynJeN6jNeQ015/ZEUynVeQFOAn5K6jN6V9Pb7yLey4FNwGOkfq0zgGeSRtHvAq4D9u13nJPEfizpZ+dtwKriclIb4gdeSJot6DZgNXB+sfy5wI+AdcDXgN36HWsRl/O6udhbm9dF/LXlto8UNTPLhAdFzcwy4YJuZpYJF3Qzs0y4oJuZZcIF3cwsEy7oZmaZcEE3M8uEC7qZWSb+H/hGdSk/+f1tAAAAAElFTkSuQmCC\n",
      "text/plain": [
       "<Figure size 432x288 with 2 Axes>"
      ]
     },
     "metadata": {
      "needs_background": "light"
     },
     "output_type": "display_data"
    },
    {
     "name": "stdout",
     "output_type": "stream",
     "text": [
      "epoch 33 Rec error: 358.54614 sq_error 0.20410156\n",
      "\r",
      "Epoch: 33 / 100\n"
     ]
    },
    {
     "data": {
      "application/vnd.jupyter.widget-view+json": {
       "model_id": "2040efc2b10842fbabc1327bae8d56a3",
       "version_major": 2,
       "version_minor": 0
      },
      "text/plain": [
       "HBox(children=(IntProgress(value=0, max=422), HTML(value='')))"
      ]
     },
     "metadata": {},
     "output_type": "display_data"
    },
    {
     "data": {
      "image/png": "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\n",
      "text/plain": [
       "<Figure size 432x288 with 2 Axes>"
      ]
     },
     "metadata": {
      "needs_background": "light"
     },
     "output_type": "display_data"
    },
    {
     "name": "stdout",
     "output_type": "stream",
     "text": [
      "epoch 34 Rec error: 346.73645 sq_error 0.18554688\n",
      "\r",
      "Epoch: 34 / 100\n"
     ]
    },
    {
     "data": {
      "application/vnd.jupyter.widget-view+json": {
       "model_id": "5e41d7a3ac4e4372bed2ab0ae57a153c",
       "version_major": 2,
       "version_minor": 0
      },
      "text/plain": [
       "HBox(children=(IntProgress(value=0, max=422), HTML(value='')))"
      ]
     },
     "metadata": {},
     "output_type": "display_data"
    },
    {
     "data": {
      "image/png": "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\n",
      "text/plain": [
       "<Figure size 432x288 with 2 Axes>"
      ]
     },
     "metadata": {
      "needs_background": "light"
     },
     "output_type": "display_data"
    },
    {
     "name": "stdout",
     "output_type": "stream",
     "text": [
      "epoch 35 Rec error: 351.90887 sq_error 0.1328125\n",
      "\r",
      "Epoch: 35 / 100\n"
     ]
    },
    {
     "data": {
      "application/vnd.jupyter.widget-view+json": {
       "model_id": "5a6f8e1c8aa0456981ff5aff4a724783",
       "version_major": 2,
       "version_minor": 0
      },
      "text/plain": [
       "HBox(children=(IntProgress(value=0, max=422), HTML(value='')))"
      ]
     },
     "metadata": {},
     "output_type": "display_data"
    },
    {
     "data": {
      "image/png": "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\n",
      "text/plain": [
       "<Figure size 432x288 with 2 Axes>"
      ]
     },
     "metadata": {
      "needs_background": "light"
     },
     "output_type": "display_data"
    },
    {
     "name": "stdout",
     "output_type": "stream",
     "text": [
      "epoch 36 Rec error: 334.31073 sq_error 0.14160156\n",
      "\r",
      "Epoch: 36 / 100\n"
     ]
    },
    {
     "data": {
      "application/vnd.jupyter.widget-view+json": {
       "model_id": "770772121e9d49d9965a30031b68ee10",
       "version_major": 2,
       "version_minor": 0
      },
      "text/plain": [
       "HBox(children=(IntProgress(value=0, max=422), HTML(value='')))"
      ]
     },
     "metadata": {},
     "output_type": "display_data"
    },
    {
     "data": {
      "image/png": "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\n",
      "text/plain": [
       "<Figure size 432x288 with 2 Axes>"
      ]
     },
     "metadata": {
      "needs_background": "light"
     },
     "output_type": "display_data"
    },
    {
     "name": "stdout",
     "output_type": "stream",
     "text": [
      "epoch 37 Rec error: 340.0055 sq_error 0.33203125\n",
      "\r",
      "Epoch: 37 / 100\n"
     ]
    },
    {
     "data": {
      "application/vnd.jupyter.widget-view+json": {
       "model_id": "2352ffd9db8b4a69a13b92a3d8e6524d",
       "version_major": 2,
       "version_minor": 0
      },
      "text/plain": [
       "HBox(children=(IntProgress(value=0, max=422), HTML(value='')))"
      ]
     },
     "metadata": {},
     "output_type": "display_data"
    },
    {
     "data": {
      "image/png": "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\n",
      "text/plain": [
       "<Figure size 432x288 with 2 Axes>"
      ]
     },
     "metadata": {
      "needs_background": "light"
     },
     "output_type": "display_data"
    },
    {
     "name": "stdout",
     "output_type": "stream",
     "text": [
      "epoch 38 Rec error: 326.63788 sq_error 0.35253906\n",
      "\r",
      "Epoch: 38 / 100\n"
     ]
    },
    {
     "data": {
      "application/vnd.jupyter.widget-view+json": {
       "model_id": "1349a4d020074f69a777645db45c7164",
       "version_major": 2,
       "version_minor": 0
      },
      "text/plain": [
       "HBox(children=(IntProgress(value=0, max=422), HTML(value='')))"
      ]
     },
     "metadata": {},
     "output_type": "display_data"
    },
    {
     "data": {
      "image/png": "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\n",
      "text/plain": [
       "<Figure size 432x288 with 2 Axes>"
      ]
     },
     "metadata": {
      "needs_background": "light"
     },
     "output_type": "display_data"
    },
    {
     "name": "stdout",
     "output_type": "stream",
     "text": [
      "epoch 39 Rec error: 341.3428 sq_error 0.13085938\n",
      "\r",
      "Epoch: 39 / 100\n"
     ]
    },
    {
     "data": {
      "application/vnd.jupyter.widget-view+json": {
       "model_id": "f70376b2da844521944ce3853d9c01b7",
       "version_major": 2,
       "version_minor": 0
      },
      "text/plain": [
       "HBox(children=(IntProgress(value=0, max=422), HTML(value='')))"
      ]
     },
     "metadata": {},
     "output_type": "display_data"
    },
    {
     "data": {
      "image/png": "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\n",
      "text/plain": [
       "<Figure size 432x288 with 2 Axes>"
      ]
     },
     "metadata": {
      "needs_background": "light"
     },
     "output_type": "display_data"
    },
    {
     "name": "stdout",
     "output_type": "stream",
     "text": [
      "epoch 40 Rec error: 339.34827 sq_error 0.34179688\n",
      "\r",
      "Epoch: 40 / 100\n"
     ]
    },
    {
     "data": {
      "application/vnd.jupyter.widget-view+json": {
       "model_id": "81828e266194458283b16ab4c41a26f7",
       "version_major": 2,
       "version_minor": 0
      },
      "text/plain": [
       "HBox(children=(IntProgress(value=0, max=422), HTML(value='')))"
      ]
     },
     "metadata": {},
     "output_type": "display_data"
    },
    {
     "data": {
      "image/png": "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\n",
      "text/plain": [
       "<Figure size 432x288 with 2 Axes>"
      ]
     },
     "metadata": {
      "needs_background": "light"
     },
     "output_type": "display_data"
    },
    {
     "name": "stdout",
     "output_type": "stream",
     "text": [
      "epoch 41 Rec error: 315.7774 sq_error 0.05859375\n",
      "\r",
      "Epoch: 41 / 100\n"
     ]
    },
    {
     "data": {
      "application/vnd.jupyter.widget-view+json": {
       "model_id": "faf38f40682a40ab98cdefe57a29d79b",
       "version_major": 2,
       "version_minor": 0
      },
      "text/plain": [
       "HBox(children=(IntProgress(value=0, max=422), HTML(value='')))"
      ]
     },
     "metadata": {},
     "output_type": "display_data"
    },
    {
     "data": {
      "image/png": "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\n",
      "text/plain": [
       "<Figure size 432x288 with 2 Axes>"
      ]
     },
     "metadata": {
      "needs_background": "light"
     },
     "output_type": "display_data"
    },
    {
     "name": "stdout",
     "output_type": "stream",
     "text": [
      "epoch 42 Rec error: 321.25128 sq_error 0.21582031\n",
      "\r",
      "Epoch: 42 / 100\n"
     ]
    },
    {
     "data": {
      "application/vnd.jupyter.widget-view+json": {
       "model_id": "a00072a403094be2affc390f7ffabb6d",
       "version_major": 2,
       "version_minor": 0
      },
      "text/plain": [
       "HBox(children=(IntProgress(value=0, max=422), HTML(value='')))"
      ]
     },
     "metadata": {},
     "output_type": "display_data"
    },
    {
     "data": {
      "image/png": "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\n",
      "text/plain": [
       "<Figure size 432x288 with 2 Axes>"
      ]
     },
     "metadata": {
      "needs_background": "light"
     },
     "output_type": "display_data"
    },
    {
     "name": "stdout",
     "output_type": "stream",
     "text": [
      "epoch 43 Rec error: 328.42667 sq_error 0.39160156\n",
      "\r",
      "Epoch: 43 / 100\n"
     ]
    },
    {
     "data": {
      "application/vnd.jupyter.widget-view+json": {
       "model_id": "0e18ccc8f18e490f8ceee4462e1acf7d",
       "version_major": 2,
       "version_minor": 0
      },
      "text/plain": [
       "HBox(children=(IntProgress(value=0, max=422), HTML(value='')))"
      ]
     },
     "metadata": {},
     "output_type": "display_data"
    },
    {
     "data": {
      "image/png": "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\n",
      "text/plain": [
       "<Figure size 432x288 with 2 Axes>"
      ]
     },
     "metadata": {
      "needs_background": "light"
     },
     "output_type": "display_data"
    },
    {
     "name": "stdout",
     "output_type": "stream",
     "text": [
      "epoch 44 Rec error: 326.27478 sq_error 0.10546875\n",
      "\r",
      "Epoch: 44 / 100\n"
     ]
    },
    {
     "data": {
      "application/vnd.jupyter.widget-view+json": {
       "model_id": "10bb7938d8b34766a2342f7ca72a75c2",
       "version_major": 2,
       "version_minor": 0
      },
      "text/plain": [
       "HBox(children=(IntProgress(value=0, max=422), HTML(value='')))"
      ]
     },
     "metadata": {},
     "output_type": "display_data"
    },
    {
     "data": {
      "image/png": "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\n",
      "text/plain": [
       "<Figure size 432x288 with 2 Axes>"
      ]
     },
     "metadata": {
      "needs_background": "light"
     },
     "output_type": "display_data"
    },
    {
     "name": "stdout",
     "output_type": "stream",
     "text": [
      "epoch 45 Rec error: 325.83102 sq_error 0.0546875\n",
      "\r",
      "Epoch: 45 / 100\n"
     ]
    },
    {
     "data": {
      "application/vnd.jupyter.widget-view+json": {
       "model_id": "74682c69a1e048acba587ca118fbc54e",
       "version_major": 2,
       "version_minor": 0
      },
      "text/plain": [
       "HBox(children=(IntProgress(value=0, max=422), HTML(value='')))"
      ]
     },
     "metadata": {},
     "output_type": "display_data"
    },
    {
     "data": {
      "image/png": "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\n",
      "text/plain": [
       "<Figure size 432x288 with 2 Axes>"
      ]
     },
     "metadata": {
      "needs_background": "light"
     },
     "output_type": "display_data"
    },
    {
     "name": "stdout",
     "output_type": "stream",
     "text": [
      "epoch 46 Rec error: 325.74432 sq_error 0.057617188\n",
      "\r",
      "Epoch: 46 / 100\n"
     ]
    },
    {
     "data": {
      "application/vnd.jupyter.widget-view+json": {
       "model_id": "aa22a7224a76423699133578e25fd992",
       "version_major": 2,
       "version_minor": 0
      },
      "text/plain": [
       "HBox(children=(IntProgress(value=0, max=422), HTML(value='')))"
      ]
     },
     "metadata": {},
     "output_type": "display_data"
    },
    {
     "data": {
      "image/png": "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\n",
      "text/plain": [
       "<Figure size 432x288 with 2 Axes>"
      ]
     },
     "metadata": {
      "needs_background": "light"
     },
     "output_type": "display_data"
    },
    {
     "name": "stdout",
     "output_type": "stream",
     "text": [
      "epoch 47 Rec error: 329.132 sq_error 0.17773438\n",
      "\r",
      "Epoch: 47 / 100\n"
     ]
    },
    {
     "data": {
      "application/vnd.jupyter.widget-view+json": {
       "model_id": "175a51eb87b34dedb9831650567ef16a",
       "version_major": 2,
       "version_minor": 0
      },
      "text/plain": [
       "HBox(children=(IntProgress(value=0, max=422), HTML(value='')))"
      ]
     },
     "metadata": {},
     "output_type": "display_data"
    },
    {
     "data": {
      "image/png": "iVBORw0KGgoAAAANSUhEUgAAAXQAAADHCAYAAAAJSqg8AAAABHNCSVQICAgIfAhkiAAAAAlwSFlzAAALEgAACxIB0t1+/AAAADl0RVh0U29mdHdhcmUAbWF0cGxvdGxpYiB2ZXJzaW9uIDMuMC4zLCBodHRwOi8vbWF0cGxvdGxpYi5vcmcvnQurowAAFYJJREFUeJzt3X+wXGV9x/H3R34rVMBEDAFBAaFYJUxSRixtKYhEZmiwowxUW1RsbCsddajlh4ro1J+jolWrRWGCBcFfoFQpFhhErYgmNEBCRNAGSQgkASKhKj+//eM5lyzL3rvn7p6ze85zP6+Znbt7dvec79n9nu99zvOcPUcRgZmZtd8zxh2AmZlVwwXdzCwTLuhmZplwQTczy4QLuplZJlzQzcwy4YJekqQzJX2x6teWmFdI2reKeZnNRJJWSjp83HGMgmbiceiS3gCcCuwDPAhcBpwREZvGGVcvkgLYLyLu6PHc94ALI6KSfx7WXpJWA7sBjwMPAVcCp0TEQ+OMq5uks4F9I+L1Nc1/CbAmIt5dx/ybbsa10CWdCnwEeCfwbOBlwF7AVZK2neQ9W48uQrOBHRsROwLzgIOBM8Ycz7QpmXF1qTIRMWNuwO+RWi/Hd03fEdgAvKl4fDbwdeBCUgv+zcW0Czve89fAncB9wHuA1cArOt5/YXF/byCAk4BfARuBd3XM5xDgemATsA74DLBtx/NBatH0Wp/vAW8u7h8OrAH+CVhfzOs44Bjg58D9wJnTWO4rgduAXwP/Clw3sazi+TcBq4AHgO8Ce437+53Jt878Kx5/FPhOcX874GNF/t0LfB7YoeO1i4DlRa7/AlhYTN8duLzInTuAv+l4z9nAV4EvAZuBlcCCjudPA9YWz90GHAksBB4BHi22w5s68vgDwH8DvwX27bE+3dvfYcCPivy9C3gDsLiY9yPF/P+j+7MpPotPAncXt08C23VtQ6d2bENvHPd3O53bTPtP+HJge+DSzomRdkuvAI7qmLyIVNR3Bi7qfL2kA0lF7nXAHFJLf26fZR8G7E9K7LMk/X4x/XHgHcAs4NDi+b+f5npNeB5p/eYCZwFfAF4PzAf+GHiPpBf0W66kWaR1PwN4DmmDfPnEQiQtAs4E/gKYDfwAuHjAmK1ikvYAXkUqwgAfBl5Earnvy5b8QNIhpKL8TlKu/wmpAAJcQipwuwOvAT4o6YiORf158ZqdSYX/M8U89wdOAf4wInYCjgZWR8SVwAeBr0TEjhFxUMe8/opUkHciNZSmWr+9gP8EPk3Kv3nA8og4l7StfrSY/7E93v4u0l75POAgUsOms3vmeWzZnk8GPitpl6niaZKZVtBnARsj4rEez60rnp9wfUR8MyKeiIjfdr32NaT//j+MiEdIG0e/wYj3RcRvI+Im4CZSMhERyyLixxHxWESsBv4N+NPprxqQWicfiIhHSRvaLOBTEbE5IlYCt5Zc7jHAyoi4tPis/gW4p2M5fwt8KCJWFc9/EJhXbGg2Pt+UtJnUYl0PvFeSSIXyHRFxf0RsJn1fJxTvORk4PyKuKnJ9bUT8TNKewB8Bp0XE7yJiOfBF0p7phB9GxBUR8Tjw7xS5RWosbAccKGmbiFgdEb/oE/uSiFhZ5OOjfV77l8DVEXFxRDwaEfcV8ZXxOuD9EbE+IjYA7yP9M5nwaPH8oxFxBamlv3/JeY/dTCvoG4FZk/SJzymen3DXFPPZvfP5iPgNqetlKp0F8Tekbh4kvUjStyXdI+lB0sY2q9cMSriv2Lgg7bpC2sWmY1qZ5XavX5BaahP2Aj4laZOkTaRdctF/L8XqdVzRIj4cOID0fc4Gngks6/i+riymA+xJ6mbptjsw8Q9gwp089TvuzuntJW0daQD/7aRukvWSLpG0e5/Yp9reuk0Wcxm789Q9gDuLaRPu62rwPbmttsFMK+jXAw+TugqeJGlH0i7qNR2Tp2pxrwP26Hj/DqSuiUF8DvgZ6UiW3yN1ZWjAeVW13O71U+dj0sb3lojYueO2Q0T8aARxWx8RcR2whNRvvpH0j/zFHd/VsyMNnkL6LvfpMZu7gV0l7dQx7fmkfvEyMXw5Ig4j/fMP0oEIMPl21T39/0j/iCY8r+P+ZDFPNf8JdxcxTXh+MS0LM6qgR8SvSbtYn5a0UNI2kvYmDe6sIe02lvF14FhJLy+OjDmbwYvwTqTBqIckHQD83YDzqXK53wFeIum4Ym/mrTx1g/o8cIakFwNIerak144obivnk6QxoZeQxlLOkfRcAElzJR1dvO484I2SjpT0jOK5AyLiLtKg44ckbS/ppaTumQv7LVjS/pKOkLQd8DvSP5QniqfvBfYucSTLcuCEYhtdQOrmnHAR8ApJx0vaWtJzJM3rmP8Lp5jvxcC7Jc0uxorOKrNObTGjCjpARHyU1Br9GKmg3UD6j39kRDxcch4rgX8g9VOvI/WzrSe1/qfrH0l9gptJG95XBpjHICZdbkRsBF5LOlLiPuBAYCnF+kXEZaQW1yVFd80K0h6ONUTRP/wlUsE6jTRA+uPi+7qaol84In4CvBE4h3RE03VsacGeSDpK627SbzXeGxFXl1j8dqSB2I2kbpnnsuUQyq8Vf++TdOMU83gPqRX+AKkR9uWOdfsVaZznVFJ333K29N+fR+q73yTpmz3m+8+kXL4ZuAW4sZiWhRn5w6KqFV02m0jdF/877niqVrSm1gCvi4hrxx2PmfU241roVZF0rKRnSnoWqbV/C1sO92o9SUdL2rnYbZ7oX//xmMMysym4oA9uEVt+nLAfcELktbtzKOlIgo3AsaQjKLoP3zSzBnGXi5lZJtxCNzPLxFAFvTj07zZJd0g6vaqgzMbNuW1tNHCXi6StSCd9Oop0BMRPgRMj4tYp3uP+HatVRAz9o6w6c3v+/PlPebxs2bLBA61Qd1zQnNjaou7PsExuD1PQDwXOjoiji8dnFAv90BTvcUG3WlVU0GvL7e7tLf0Id/x61YGmxNYWdX+GZXJ7mC6XuTz1/Atr6HEuD0mLJS2VtHSIZZmNknPbWqn2CzcUp7Q8F9xCt7w4t61phmmhryWd9WzCHpQ8cY9Zw007t+fPn9/rohNPI+kpt7qVvTBCd1xlY+s1r5lq0M+wl+7PtFf/fC/DFPSfAvtJekFxgqoTSCe5N2s757a10sBdLhHxmKRTSJcf24p0kvyVlUVmNibObWurofrQiyt6XFFRLGaN4dy2NvIvRc3MMjHSc7n4SACrWxXHoQ/CuW11q/s4dDMzaxAXdDOzTLigm5llovZfiprZaPh8LOYWuplZJlzQzcwy4YJuZpYJF3Qzs0x4UNSsJmV+tFfloGWbBkBn8gBunRc5cQvdzCwTLuhmZplwQTczy8RQfeiSVgObgceBxyJiQRVBmY2bc9vaqIpB0T+LiI0VzGdshhmgqfNslXXH0IR1nE4cY9CY3K57gHUEV6yvbF6DLq/X+lQZ16CfV5kYFiwo155wl4uZWSaGLegB/JekZZIWVxGQWUM4t611hu1yOSwi1kp6LnCVpJ9FxPc7X1BsDN4grG2c29Y6Q7XQI2Jt8Xc9cBlwSI/XnBsRCzyoZG3i3LY2GrigS3qWpJ0m7gOvBFZM9Z758+cTEY279TLMe6tSdwxNWMfpxNHvNn/+/EriqSq3B9Vr3SQ97VbmfWVvg86/SuPYpscRf7cyn31Zw3S57AZcVix8a+DLEXHlEPMzawrntrXSwAU9In4JHFRhLGaN4Ny2tvJhi2ZmmfDZFs3GaBRjFGVUGUdT1qktqvy83EI3M8uEC7qZWSZc0M3MMuGCbmaWCQ+KmrVAUwcamxpXk3X/cMiDomZm9jQu6GZmmXBBNzPLhAu6mVkmPChqNkZ1XxbNtij7Wdf9ndT5/bqFbmaWCRd0M7NMuKCbmWWib0GXdL6k9ZJWdEzbVdJVkm4v/u5Sb5hm1XNuW27KtNCXAAu7pp0OXBMR+wHXFI/N2mYJY87tYS6LVtVly0ahCbE25VJ1depb0CNd6fz+rsmLgAuK+xcAx1Ucl1ntnNuWm0H70HeLiHXF/XtI12A0y4Fz21pr6EHRSPsjk+6TSFosaamkpRs2bBh2cWYj49y2thm0oN8raQ5A8Xf9ZC+MiHMjYkFELJg9e/aAizMbGee2tdagBf1y4KTi/knAt6oJx2zsRprb3YOF0xkwbOrAXa91qjvWQT/DYT7/Jipz2OLFwPXA/pLWSDoZ+DBwlKTbgVcUj81axbltuel7LpeIOHGSp46sOBazkXJuW278S1Ezs0z4bIv4jHc2PmXzrE052tS4emlTrGW4hW5mlgkXdDOzTLigm5llwgXdzCwTHhQlv4ERy49zdGr+fBK30M3MMuGCbmaWCRd0M7NMuKCbmWXCg6JmNWnTrzstD26hm5llwgXdzCwTLuhmZpkoc4GL8yWtl7SiY9rZktZKWl7cjqk3TLPqObctN2Va6EuAhT2mnxMR84rbFdWGZTYSS6gxt7svuzZTBkRzu6xbm/Qt6BHxfeD+EcRiNlLObcvNMH3op0i6udht3WWyF0laLGmppKUbNmwYYnFmI+PctlYatKB/DtgHmAesAz4+2Qsj4tyIWBARC2bPnj3g4sxGxrltrTVQQY+IeyPi8Yh4AvgCcEi1YZmNh3N7eDN17KAJBirokuZ0PHw1sGKy15q1iXPb2qzvT/8lXQwcDsyStAZ4L3C4pHlAAKuBt9QYo1ktnNuWm74FPSJO7DH5vBpiMRsp57blxr8UNTPLhM+2aAPxmQRHq+7P299nHtxCNzPLhAu6mVkmXNDNzDLhgm5mlomRDoouW7bMZ16bQlMHocp+Z2Ve12sdc8iJsrk96Hec6+fWRIMOEJd9X5154ha6mVkmXNDNzDLhgm5mlgkXdDOzTPiXog1S52BJlTE0ef5N173+dQ921j3/Qec1jgMAhlnvQd876ve5hW5mlgkXdDOzTLigm5llom9Bl7SnpGsl3SpppaS3FdN3lXSVpNuLv5NeTNesiZzblhv1G5woLsk1JyJulLQTsAw4DngDcH9EfFjS6cAuEXFan3k186eQLedfEW4REaVX3Lk9PW3KszbFWlaZ3O7bQo+IdRFxY3F/M7AKmAssAi4oXnYBaUMwaw3ntuVmWoctStobOBi4AdgtItYVT90D7DbJexYDiwcP0ax+zm3LQd8ulydfKO0IXAd8ICIulbQpInbueP6BiJiyr3Em7JaOQ467l4OaTpfLBOd2OW3KszbFWlYlXS4AkrYBvgFcFBGXFpPvLfogJ/oi1w8aqA1H0tNuVs6oczsinnKrW/fyhllmm/KsTbFWqcxRLiJdCX1VRHyi46nLgZOK+ycB36o+PLP6OLctN2WOcjkM+AFwC/BEMflMUl/jV4HnA3cCx0fE/X3mlf1uqY3XNI9yGXlud29vdbccc+x6mKnK5HbpPvQquKBb3QbpQ6+CC7rVrbI+dDMzaz6fbdFshEbdOnZrvHnq3EtzC93MLBMu6GZmmXBBNzPLhAu6mVkmPChqZlaBQQ8RrfLQUrfQzcwy4YJuZpYJF3Qzs0y4oJuZZcKDomZWSt3nhWn7eWfKxlrnOrmFbmaWCRd0M7NMlLnAxZ6SrpV0q6SVkt5WTD9b0lpJy4vbMfWHa1Yd57blpswFLuYAcyLiRkk7ActIV0E/HngoIj5WemE+H7rVbJoXuHBuT4P70MerTG73HRQtrn6+rri/WdIqYO7w4ZmNV1Nzu6mFrVcMVcbahHWczKgvTDKoafWhS9obOJh0iS6AUyTdLOl8SVNeFd2syZzbloPSBV3SjqSro789Ih4EPgfsA8wjtXI+Psn7FktaKmlpBfGaVc65bbkodU1RSdsA3wa+23V19Inn9wa+HRF/0Gc+2fcz2nhN95qiTcztpna59NKmWIfRhC6XSq4pqhT5ecCqzoQvBpQmvBpYMUiQZuPS1NyW9LRbU7Up1mEMuo4R8bTbIK8pHWeJo1wOA34A3AI8UUw+EziRtEsawGrgLcUg01TzcgvdajXNo1yc21arMnswZfdyyuR2qS6XqjjprW7T7XKpinPbehl1QfcvRc3MMuGCbmaWCZ9t0cysJmUGUKscSHYL3cwsEy7oZmaZcEE3M8uEC7qZWSY8KGo2RlX+dH6m/Ay/lyb8NL+XUX8nbqGbmWXCBd3MLBMu6GZmmXBBNzPLhAdFzcaoygGypgwEjkNT133UcbmFbmaWCRd0M7NMlLli0faSfiLpJkkrJb2vmP4CSTdIukPSVyRtW3+4ZtVxbltuyrTQHwaOiIiDSFdxWSjpZcBHgHMiYl/gAeDk+sI0q4VzOxNVXcKt7foW9EgeKh5uU9wCOAL4ejH9AuC4WiI0q4lz23JTqg9d0laSlgPrgauAXwCbIuKx4iVrgLn1hGhWH+e25aRUQY+IxyNiHrAHcAhwQNkFSFosaamkpQPGaFYb57blZFpHuUTEJuBa4FBgZ0kTx7HvAayd5D3nRsSCiFgwVKRmNXJuWw7KHOUyW9LOxf0dgKOAVaTkf03xspOAb9UVpFkdnNv5kPSU20ylfiPCkl5KGhjaivQP4KsR8X5JLwQuAXYF/gd4fUQ83GdeM3f42UYiIkpvzc5ta5Myud23oFfJSW91m05Br5Jz2+pWJrf9S1Ezs0y4oJuZZWLUZ1vcCNwJzCrut1Wb429z7DB1/HuNMpAuzu3xa3PsUEFuj7QP/cmFSkvbfKhXm+Nvc+zQ/PibHl8/bY6/zbFDNfG7y8XMLBMu6GZmmRhXQT93TMutSpvjb3Ps0Pz4mx5fP22Ov82xQwXxj6UP3czMqucuFzOzTIy8oEtaKOm24mowp496+dMl6XxJ6yWt6Ji2q6SrJN1e/N1lnDFORtKekq6VdGtxRZ63FdMbH3/bribkvB6dNuc11JvbIy3okrYCPgu8CjgQOFHSgaOMYQBLgIVd004HromI/YBrisdN9BhwakQcCLwMeGvxebch/tZcTch5PXJtzmuoMbdH3UI/BLgjIn4ZEY+QToC0aMQxTEtEfB+4v2vyItJJnaDBV7SJiHURcWNxfzPpTIJzaUH8LbuakPN6hNqc11Bvbo+6oM8F7up43NarwewWEeuK+/cAu40zmDIk7Q0cDNxAS+Jv0dWEnNdj0sa8hvpy24OiQ4p0mFCjDxWStCPwDeDtEfFg53NNjn+YqwnZcJqcFxPamtdQX26PuqCvBfbseDzp1WAa7l5JcwCKv+vHHM+kJG1DSvqLIuLSYnJr4ofBriY0Ys7rEcshr6H63B51Qf8psF8xmrstcAJw+YhjqMLlpCvZQIOvaKN06ZbzgFUR8YmOpxoff8uuJuS8HqE25zXUnNsRMdIbcAzwc1Kf0btGvfwB4r0YWAc8SurXOhl4DmkU/XbgamDXccc5SeyHkXY7bwaWF7dj2hA/8FLS1YJuBlYAZxXTXwj8BLgD+Bqw3bhjLeJyXo8u9tbmdRF/bbntX4qamWXCg6JmZplwQTczy4QLuplZJlzQzcwy4YJuZpYJF3Qzs0y4oJuZZcIF3cwsE/8P5thwUjZHem8AAAAASUVORK5CYII=\n",
      "text/plain": [
       "<Figure size 432x288 with 2 Axes>"
      ]
     },
     "metadata": {
      "needs_background": "light"
     },
     "output_type": "display_data"
    },
    {
     "name": "stdout",
     "output_type": "stream",
     "text": [
      "epoch 48 Rec error: 316.17468 sq_error 0.1328125\n",
      "\r",
      "Epoch: 48 / 100\n"
     ]
    },
    {
     "data": {
      "application/vnd.jupyter.widget-view+json": {
       "model_id": "9b75a6498f9a43dfb8a4cf218ca7191e",
       "version_major": 2,
       "version_minor": 0
      },
      "text/plain": [
       "HBox(children=(IntProgress(value=0, max=422), HTML(value='')))"
      ]
     },
     "metadata": {},
     "output_type": "display_data"
    },
    {
     "data": {
      "image/png": "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\n",
      "text/plain": [
       "<Figure size 432x288 with 2 Axes>"
      ]
     },
     "metadata": {
      "needs_background": "light"
     },
     "output_type": "display_data"
    },
    {
     "name": "stdout",
     "output_type": "stream",
     "text": [
      "epoch 49 Rec error: 324.0156 sq_error 0.3544922\n",
      "\r",
      "Epoch: 49 / 100\n"
     ]
    },
    {
     "data": {
      "application/vnd.jupyter.widget-view+json": {
       "model_id": "f16496eb970c4c618a62a6ed0dc44ced",
       "version_major": 2,
       "version_minor": 0
      },
      "text/plain": [
       "HBox(children=(IntProgress(value=0, max=422), HTML(value='')))"
      ]
     },
     "metadata": {},
     "output_type": "display_data"
    },
    {
     "data": {
      "image/png": "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\n",
      "text/plain": [
       "<Figure size 432x288 with 2 Axes>"
      ]
     },
     "metadata": {
      "needs_background": "light"
     },
     "output_type": "display_data"
    },
    {
     "name": "stdout",
     "output_type": "stream",
     "text": [
      "epoch 50 Rec error: 321.758 sq_error 0.043945312\n",
      "\r",
      "Epoch: 50 / 100\n"
     ]
    },
    {
     "data": {
      "application/vnd.jupyter.widget-view+json": {
       "model_id": "da1f79cd999a448995eef762e22ecb5d",
       "version_major": 2,
       "version_minor": 0
      },
      "text/plain": [
       "HBox(children=(IntProgress(value=0, max=422), HTML(value='')))"
      ]
     },
     "metadata": {},
     "output_type": "display_data"
    },
    {
     "data": {
      "image/png": "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\n",
      "text/plain": [
       "<Figure size 432x288 with 2 Axes>"
      ]
     },
     "metadata": {
      "needs_background": "light"
     },
     "output_type": "display_data"
    },
    {
     "name": "stdout",
     "output_type": "stream",
     "text": [
      "epoch 51 Rec error: 327.6267 sq_error 0.053710938\n",
      "\r",
      "Epoch: 51 / 100\n"
     ]
    },
    {
     "data": {
      "application/vnd.jupyter.widget-view+json": {
       "model_id": "253a96c61e514af39e1f2341ce89aaac",
       "version_major": 2,
       "version_minor": 0
      },
      "text/plain": [
       "HBox(children=(IntProgress(value=0, max=422), HTML(value='')))"
      ]
     },
     "metadata": {},
     "output_type": "display_data"
    },
    {
     "data": {
      "image/png": "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\n",
      "text/plain": [
       "<Figure size 432x288 with 2 Axes>"
      ]
     },
     "metadata": {
      "needs_background": "light"
     },
     "output_type": "display_data"
    },
    {
     "name": "stdout",
     "output_type": "stream",
     "text": [
      "epoch 52 Rec error: 317.39972 sq_error 0.04296875\n",
      "\r",
      "Epoch: 52 / 100\n"
     ]
    },
    {
     "data": {
      "application/vnd.jupyter.widget-view+json": {
       "model_id": "d1f1386e90a444e5b05b17b19182897f",
       "version_major": 2,
       "version_minor": 0
      },
      "text/plain": [
       "HBox(children=(IntProgress(value=0, max=422), HTML(value='')))"
      ]
     },
     "metadata": {},
     "output_type": "display_data"
    },
    {
     "data": {
      "image/png": "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\n",
      "text/plain": [
       "<Figure size 432x288 with 2 Axes>"
      ]
     },
     "metadata": {
      "needs_background": "light"
     },
     "output_type": "display_data"
    },
    {
     "name": "stdout",
     "output_type": "stream",
     "text": [
      "epoch 53 Rec error: 328.2044 sq_error 0.3232422\n",
      "\r",
      "Epoch: 53 / 100\n"
     ]
    },
    {
     "data": {
      "application/vnd.jupyter.widget-view+json": {
       "model_id": "3b1cbf47d454482e983f7215ec5d8bcf",
       "version_major": 2,
       "version_minor": 0
      },
      "text/plain": [
       "HBox(children=(IntProgress(value=0, max=422), HTML(value='')))"
      ]
     },
     "metadata": {},
     "output_type": "display_data"
    },
    {
     "data": {
      "image/png": "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\n",
      "text/plain": [
       "<Figure size 432x288 with 2 Axes>"
      ]
     },
     "metadata": {
      "needs_background": "light"
     },
     "output_type": "display_data"
    },
    {
     "name": "stdout",
     "output_type": "stream",
     "text": [
      "epoch 54 Rec error: 328.22003 sq_error 0.18261719\n",
      "\r",
      "Epoch: 54 / 100\n"
     ]
    },
    {
     "data": {
      "application/vnd.jupyter.widget-view+json": {
       "model_id": "e16fd8b7d089462c8221c2e78844eab2",
       "version_major": 2,
       "version_minor": 0
      },
      "text/plain": [
       "HBox(children=(IntProgress(value=0, max=422), HTML(value='')))"
      ]
     },
     "metadata": {},
     "output_type": "display_data"
    },
    {
     "data": {
      "image/png": "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\n",
      "text/plain": [
       "<Figure size 432x288 with 2 Axes>"
      ]
     },
     "metadata": {
      "needs_background": "light"
     },
     "output_type": "display_data"
    },
    {
     "name": "stdout",
     "output_type": "stream",
     "text": [
      "epoch 55 Rec error: 300.6031 sq_error 0.328125\n",
      "\r",
      "Epoch: 55 / 100\n"
     ]
    },
    {
     "data": {
      "application/vnd.jupyter.widget-view+json": {
       "model_id": "dab6d997aa7548159bc185aa61f2f7a7",
       "version_major": 2,
       "version_minor": 0
      },
      "text/plain": [
       "HBox(children=(IntProgress(value=0, max=422), HTML(value='')))"
      ]
     },
     "metadata": {},
     "output_type": "display_data"
    },
    {
     "data": {
      "image/png": "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\n",
      "text/plain": [
       "<Figure size 432x288 with 2 Axes>"
      ]
     },
     "metadata": {
      "needs_background": "light"
     },
     "output_type": "display_data"
    },
    {
     "name": "stdout",
     "output_type": "stream",
     "text": [
      "epoch 56 Rec error: 321.18127 sq_error 0.22753906\n",
      "\r",
      "Epoch: 56 / 100\n"
     ]
    },
    {
     "data": {
      "application/vnd.jupyter.widget-view+json": {
       "model_id": "f6756d864e614316a1e0c0d4a0c1f325",
       "version_major": 2,
       "version_minor": 0
      },
      "text/plain": [
       "HBox(children=(IntProgress(value=0, max=422), HTML(value='')))"
      ]
     },
     "metadata": {},
     "output_type": "display_data"
    },
    {
     "data": {
      "image/png": "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\n",
      "text/plain": [
       "<Figure size 432x288 with 2 Axes>"
      ]
     },
     "metadata": {
      "needs_background": "light"
     },
     "output_type": "display_data"
    },
    {
     "name": "stdout",
     "output_type": "stream",
     "text": [
      "epoch 57 Rec error: 306.61533 sq_error 0.040039062\n",
      "\r",
      "Epoch: 57 / 100\n"
     ]
    },
    {
     "data": {
      "application/vnd.jupyter.widget-view+json": {
       "model_id": "9c96ce5a2f8240348b632b96658935c0",
       "version_major": 2,
       "version_minor": 0
      },
      "text/plain": [
       "HBox(children=(IntProgress(value=0, max=422), HTML(value='')))"
      ]
     },
     "metadata": {},
     "output_type": "display_data"
    },
    {
     "data": {
      "image/png": "iVBORw0KGgoAAAANSUhEUgAAAXQAAADHCAYAAAAJSqg8AAAABHNCSVQICAgIfAhkiAAAAAlwSFlzAAALEgAACxIB0t1+/AAAADl0RVh0U29mdHdhcmUAbWF0cGxvdGxpYiB2ZXJzaW9uIDMuMC4zLCBodHRwOi8vbWF0cGxvdGxpYi5vcmcvnQurowAAFjVJREFUeJzt3X2wJFV5x/HvL7wrq4CL67K8rApC8G2p3VBiSELwhZUqsphSCqIJKmZNIim1iOFFhdXE1yKiUaNBoRYDgqiIBAkGKESNiu6SBXZZEUwWYVlYF1hZovL65I/T1x0u997pmeme6T7z+1RN3bk9Pd2nZ55+5vQ53X0UEZiZWfv9zqgLYGZm1XBCNzPLhBO6mVkmnNDNzDLhhG5mlgkndDOzTDihlyTpNElfqHreEssKSftWsSyzcSRpjaTDRl2OYdA4nocu6U3AScDzgQeBrwOnRsTmUZZrKpIC2C8ibp/itW8D50dEJT8e1l6S1gFzgMeBh4ArgRMj4qFRlmsyScuAfSPijTUtfzlwV0S8t47lN93Y1dAlnQR8FHg38EzgZcA+wFWStp/mPdsOr4RmfTsqInYGFgAHAaeOuDw9UzJ2eakyETE2D+AZpNrLMZOm7wz8AnhL8f8y4KvA+aQa/FuLaed3vOcvgDuA+4D3AeuAV3a8//zi+XwggOOBnwObgPd0LOdg4AfAZmAD8Glg+47Xg1SjmWp7vg28tXh+GHAX8PfAxmJZRwNHAj8F7gdO62G9rwZuBX4J/Atw3cS6itffAqwFHgC+Bewz6u93nB+d8Vf8/zHgm8XzHYAzi/i7F/gcsFPHvEuAVUWs/wxYXEzfA7isiJ3bgb/seM8y4GLgi8AWYA2wqOP1k4H1xWu3Aq8AFgOPAI8W++GNHXH8QeC/gF8D+06xPZP3v0OB7xfxeyfwJmBpsexHiuX/++TPpvgsPgHcXTw+AewwaR86qWMfevOov9teHuP2S/hyYEfgks6JkQ5LrwBe1TF5CSmp7wJc0Dm/pANJSe4NwFxSTX9el3UfCuxPCuzTJf1uMf1x4F3AbOCQ4vW/6XG7JjyHtH3zgNOBzwNvBBYCfwC8T9Jzu61X0mzStp8KPIu0Q758YiWSlgCnAX8K7A58F7iwzzJbxSTtCbyGlIQBPgK8gFRz35et8YGkg0lJ+d2kWP9DUgIEuIiU4PYAXgd8SNLhHav6k2KeXUiJ/9PFMvcHTgR+LyJmAUcA6yLiSuBDwJcjYueIeGnHsv6clJBnkSpKM23fPsB/AJ8ixd8CYFVEnE3aVz9WLP+oKd7+HtJR+QLgpaSKTWfzzHPYuj+fAHxG0q4zladJxi2hzwY2RcRjU7y2oXh9wg8i4tKIeCIifj1p3teRfv2/FxGPkHaObp0R74+IX0fEjcCNpGAiIlZGxA8j4rGIWAf8K/BHvW8akGonH4yIR0k72mzgkxGxJSLWALeUXO+RwJqIuKT4rP4ZuKdjPX8FfDgi1havfwhYUOxoNjqXStpCqrFuBM6QJFKifFdE3B8RW0jf17HFe04Azo2Iq4pYXx8RP5G0F/D7wMkR8ZuIWAV8gXRkOuF7EXFFRDwO/BtFbJEqCzsAB0raLiLWRcTPupR9eUSsKeLx0S7z/hlwdURcGBGPRsR9RfnKeAPwgYjYGBG/AN5P+jGZ8Gjx+qMRcQWppr9/yWWP3Lgl9E3A7GnaxOcWr0+4c4bl7NH5ekT8itT0MpPOhPgrUjMPkl4g6XJJ90h6kLSzzZ5qASXcV+xckA5dIR1i0zGtzHonb1+QamoT9gE+KWmzpM2kQ3LR/SjF6nV0USM+DDiA9H3uDjwNWNnxfV1ZTAfYi9TMMtkewMQPwIQ7ePJ3PDmmd5S0baQO/HeSmkk2SrpI0h5dyj7T/jbZdGUuYw+efARwRzFtwn2TKny/3VfbYNwS+g+Ah0lNBb8laWfSIeo1HZNnqnFvAPbseP9OpKaJfnwW+AnpTJZnkJoy1Oeyqlrv5O1T5/+kne9tEbFLx2OniPj+EMptXUTEdcByUrv5JtIP+Qs7vqtnRuo8hfRdPn+KxdwN7CZpVse0vUnt4mXK8KWIOJT04x+kExFg+v1q8vT/I/0QTXhOx/PpyjzT8ifcXZRpwt7FtCyMVUKPiF+SDrE+JWmxpO0kzSd17txFOmws46vAUZJeXpwZs4z+k/AsUmfUQ5IOAP66z+VUud5vAi+WdHRxNPN2nrxDfQ44VdILASQ9U9Lrh1RuK+cTpD6hF5P6Us6S9GwASfMkHVHMdw7wZkmvkPQ7xWsHRMSdpE7HD0vaUdJLSM0z53dbsaT9JR0uaQfgN6QflCeKl+8F5pc4k2UVcGyxjy4iNXNOuAB4paRjJG0r6VmSFnQs/3kzLPdC4L2Sdi/6ik4vs01tMVYJHSAiPkaqjZ5JSmjXk37xXxERD5dcxhrgb0nt1BtI7WwbSbX/Xv0dqU1wC2nH+3Ify+jHtOuNiE3A60lnStwHHAisoNi+iPg6qcZ1UdFcs5p0hGMNUbQPf5GUsE4mdZD+sPi+rqZoF46IHwFvBs4indF0HVtrsMeRztK6m3StxhkRcXWJ1e9A6ojdRGqWeTZbT6H8SvH3Pkk3zLCM95Fq4Q+QKmFf6ti2n5P6eU4iNfetYmv7/TmktvvNki6dYrn/SIrlm4CbgRuKaVkYywuLqlY02WwmNV/876jLU7WiNnUX8IaIuHbU5TGzqY1dDb0qko6S9DRJTyfV9m9m6+lerSfpCEm7FIfNE+3rPxxxscxsBk7o/VvC1osT9gOOjbwOdw4hnUmwCTiKdAbF5NM3zaxB3ORiZpYJ19DNzDIxUEIvTv27VdLtkk6pqlBmo+bYtjbqu8lF0jakmz69inQGxI+B4yLilhne4/adGixcuPAp01auXNl1vqnmKbv8Msouv0oRMfBFWVXFdtnvxQbXb2w31eTtWbduHZs2beoa24Mk9EOAZRFxRPH/qQAR8eEZ3uOEXoOpvsN0cefM8001T9nll1F2+VWqKKFXEttlvxcbXL+x3VSTt2fRokWsWLGi60YN0uQyjyfff+EupriXh6SlklZIWjHAusyGybFtrVT7wA3FLS3PBtfQLS+ObWuaQRL6etJdzybsSckb99hoVHkY2vZD2i4qie22f0ZVNmPU3STS1M+632a3frdnkCaXHwP7SXpucYOqY0k3uTdrO8e2tVLfNfSIeEzSiaThx7Yh3SR/TWUlMxsRx7a11VCvFHU7Yz3qPpuiTWdrVHGWSz9yjO02Nbk0VZX7TpnY9pWiZmaZqP0slyqUPYoYl1/9yere7nH9XMfduHaiV1mrHvZ2u4ZuZpYJJ3Qzs0w4oZuZZaIVbehtan+zerTpTBtrt2HHVZWx7Rq6mVkmnNDNzDLhhG5mlgkndDOzTLSiU7Qpmtox19RyWV4GibPcLv1v6sVHrqGbmWXCCd3MLBNO6GZmmRioDV3SOmAL8DjwWEQsqqJQZqPm2LY2qqJT9I8jYlMFy2m8JnTkDPP+9TY+sV3GIPHfhH2nSk3dHje5mJllYtCEHsB/SlopaWkVBTJrCMe2tc6gTS6HRsR6Sc8GrpL0k4j4TucMxc7gHcLaxrFtrVPZmKKSlgEPRcSZM8zjBuABjevoTWUv5KhjTFHHtjVBrWOKSnq6pFkTz4FXA6v7XV4VIuIpj37myVWbt1vSUx41rmuksT0OMTrINo7D59OvQZpc5gBfL3asbYEvRcSVlZTKbLQc29ZKlTW5lFpZzYelZQ7L237fk0GaXHK7n8ZU6mhyKaPK2G57jJZR5X1henlvm9Xa5GJmZs2S/d0Wc6uVDlKL6WeeXtZp1RiHz3sUFymNQ83eNXQzs0w4oZuZZcIJ3cwsE07oZmaZyKpTNLcOjlFo6mdYpgN30aI87nDbps67NpV1HLiGbmaWCSd0M7NMOKGbmWXCCd3MLBNZdYpWqe7OnrqX3/aOqTKdoG3fxunkul2jNg6fq2voZmaZcEI3M8uEE7qZWSa6JnRJ50raKGl1x7TdJF0l6bbi7671FtOseo5ty02ZGvpyYPGkaacA10TEfsA1xf9ZqXLIszYNmdWUsk71+dcwBN1yaoztpnyWk1VZrmEODdhGw46Brgm9GOn8/kmTlwDnFc/PA46uuFxmtXNsW276bUOfExEbiuf3kMZgNMuBY9taa+Dz0CMiZhpPUdJSYOmg6zEbNse2tU2/NfR7Jc0FKP5unG7GiDg7IhZFRB63wrPcObattfpN6JcBxxfPjwe+UU1x8tSmjqM2lbUmlcV2Uz/Luss1VUdgEzuHh2HYMaBuH66kC4HDgNnAvcAZwKXAxcDewB3AMRExuXNpqmWNzzfZhe8jXY+IKP0hOrbrMc63bahTmdjumtCr5KDfygm9Hr0k9Co5trdyQq9Hmdj2laJmZpnw3RbNrG/9HmmWbRloU02+CUfdrqGbmWXCCd3MLBNO6GZmmXBCNzPLRGs7RdveqdLUclWpCZ1E1kw5xkETtsk1dDOzTDihm5llwgndzCwTTuhmZplobadoEzogrHdt78y2J/P31CyuoZuZZcIJ3cwsE07oZmaZ6JrQJZ0raaOk1R3TlklaL2lV8Tiy3mKaVc+xbbkpU0NfDiyeYvpZEbGgeFxRbbFsUE0Y9qupQ7B1WI5j2zLSNaFHxHeArkNwmbWNY9tyM0gb+omSbioOW3edbiZJSyWtkLRigHWZDZNj21qp1JiikuYDl0fEi4r/5wCbgAD+AZgbEW8psRyPuzgkTb0xVt3nofc6pqhj29qiTGz3dWFRRNw78VzS54HL+1mOGTTjh2ZCU2O77h/oplYArDd9NblImtvx72uB1dPNa9Ymjm1rs641dEkXAocBsyXdBZwBHCZpAemwdB3wthrLaFYLx7blplQbemUrczvj0DT1EHoITQcj2ci6Y9tNLlYmtn2lqJlZJlp7t8U2GUXtp6m1q6aWq+nGNV6sN66hm5llwgndzCwTTuhmZplwQjczy8RQE/rChQsruwNgE+4mWFYL7jrYs2F//lOtb/Jj4cKFtZbBnqrfOGjT/tsmrqGbmWXCCd3MLBNO6GZmmXBCNzPLRGuvFM2hY7GbQTqKxuHKwiaUIWeT42+qz7vf78DfXT1cQzczy4QTuplZJpzQzcwy0TWhS9pL0rWSbpG0RtI7ium7SbpK0m3F32kH0zVrIse25abrABfFkFxzI+IGSbOAlcDRwJuA+yPiI5JOAXaNiJO7LMuXg9Wg7O15y3RytV0vA1w4tkfHA2r0rpIBLiJiQ0TcUDzfAqwF5gFLgPOK2c4j7QhmreHYttz0dNqipPnAQcD1wJyI2FC8dA8wZ5r3LAWW9l9Es/o5ti0HpccUlbQzcB3wwYi4RNLmiNil4/UHImLGtkYfltbDTS5b9TOmqGN7+Nzk0rvKxhSVtB3wNeCCiLikmHxv0QY50Ra5sd+C1mkc7uhW9m6Oud3xsQptju02G8UdSMfhDo9lznIRcA6wNiI+3vHSZcDxxfPjgW9UXzyz+ji2LTdlznI5FPgucDPwRDH5NFJb48XA3sAdwDERcX+XZQ39J3Ecmhlsqx7Pcml1bFtv2t7MUya2S7ehV8EJ3erWTxt6FZzQm28cErqvFDUzy0Rr77ZYVpt+gW16ba9d2eiNQ7y4hm5mlgkndDOzTDihm5llwgndzCwT2XeKWm+a0vmY41V8NlpNie06uYZuZpYJJ3Qzs0w4oZuZZcIJ3cwsE+4UtSfJrZPIbEJTYrvO+0u5hm5mlgkndDOzTJQZ4GIvSddKukXSGknvKKYvk7Re0qricWT9xTWrjmPbclNmgIu5wNyIuEHSLGAlaRT0Y4CHIuLM0ivzPaOtpDIXFk0zbmovA1w4tm3o+m1DLxPbXTtFi9HPNxTPt0haC8wrVQKzPg1pjEnHtg3d5Niu8grWntrQJc0HDiIN0QVwoqSbJJ0racZR0c2azLFtOSid0CXtTBod/Z0R8SDwWeD5wAJSLeefpnnfUkkrJK2ooLxmlXNsWy5KjSkqaTvgcuBbk0ZHn3h9PnB5RLyoy3Lczmi16nVMUce2jVrZJpdKxhRVWvI5wNrOgC86lCa8FljdbVmjEBFPephNaHtsWx4kPeXR97JKnOVyKPBd4GbgiWLyacBxpEPSANYBbys6mWZa1tAzap1XZVnz9HiWS6tj28ZLmdgu1eRSFSd0q1uvTS5VcUK3ulXS5GJmZu3ghG5mlgnfbXEaZZui3ISzlZu3RquHsyVKzddm47CNU3EN3cwsE07oZmaZcEI3M8uEE7qZWSay7xTttyNkHDpQqubPrHdVdt6Vfd84fE/jsI1TcQ3dzCwTTuhmZplwQjczy4QTuplZJrLvFLXejOsVdqNS92fr73O8uIZuZpYJJ3Qzs0yUGbFoR0k/knSjpDWS3l9Mf66k6yXdLunLkravv7hm1XFsW27K1NAfBg6PiJeSRnFZLOllwEeBsyJiX+AB4IT6imnDUnY4rMlD+7V0eL/sY7vK4c2s+bom9EgeKv7drngEcDjw1WL6ecDRtZTQrCaObctNqTZ0SdtIWgVsBK4CfgZsjojHilnuAubVU0Sz+ji2LSelEnpEPB4RC4A9gYOBA8quQNJSSSskreizjGa1cWxbTno6yyUiNgPXAocAu0iaOI99T2D9NO85OyIWRcSigUpqViPHtuWgzFkuu0vapXi+E/AqYC0p+F9XzHY88I26Cmkzq7uDMpMO0KeoO7Zz/dysudQtyCS9hNQxtA3pB+DiiPiApOcBFwG7Af8NvDEiHu6yLEd0Deq+GrBN46tGROlC1B3bvkrTqlQmtrsm9Co5odfDCX2rXhJ6lZzQrW5lYttXipqZZcIJ3cwsE8O+2+Im4A5gdvG8rRpV/h4P43sue8OaCWYq/z7DLMgkT4nthn1uZTUqtnvU5rJDBbE91Db0365UWtHmU73aXP42lx2aX/6ml6+bNpe/zWWHasrvJhczs0w4oZuZZWJUCf3sEa23Km0uf5vLDs0vf9PL102by9/mskMF5R9JG7qZmVXPTS5mZpkYekKXtFjSrcVoMKcMe/29knSupI2SVndM203SVZJuK/7uOsoyTkfSXpKulXRLMSLPO4rpjS9/20YTclwPT5vjGuqN7aEmdEnbAJ8BXgMcCBwn6cBhlqEPy4HFk6adAlwTEfsB1xT/N9FjwEkRcSDwMuDtxefdhvK3ZjQhx/XQtTmuocbYHnYN/WDg9oj4n4h4hHQDpCVDLkNPIuI7wP2TJi8h3dQJGjyiTURsiIgbiudbSHcSnEcLyt+y0YQc10PU5riGemN72Al9HnBnx/9tHQ1mTkRsKJ7fA8wZZWHKkDQfOAi4npaUv0WjCTmuR6SNcQ31xbY7RQcU6TShRp8qJGln4GvAOyPiwc7Xmlz+QUYTssE0OS4mtDWuob7YHnZCXw/s1fH/tKPBNNy9kuYCFH83jrg805K0HSnoL4iIS4rJrSk/9Dea0JA5rocsh7iG6mN72An9x8B+RW/u9sCxwGVDLkMVLiONZAMNHq1J6e5Q5wBrI+LjHS81vvx1jyZUMcf1ELU5rqHm2J5qmKw6H8CRwE9JbUbvGfb6+yjvhcAG4FFSu9YJwLNIvei3AVcDu426nNOU/VDSYedNwKricWQbyg+8hDRa0E3AauD0YvrzgB8BtwNfAXYYdVmLcjmuh1f21sZ1Uf7aYttXipqZZcKdomZmmXBCNzPLhBO6mVkmnNDNzDLhhG5mlgkndDOzTDihm5llwgndzCwT/w/6Wnwbf3l6nAAAAABJRU5ErkJggg==\n",
      "text/plain": [
       "<Figure size 432x288 with 2 Axes>"
      ]
     },
     "metadata": {
      "needs_background": "light"
     },
     "output_type": "display_data"
    },
    {
     "name": "stdout",
     "output_type": "stream",
     "text": [
      "epoch 58 Rec error: 292.23547 sq_error 0.032226562\n",
      "\r",
      "Epoch: 58 / 100\n"
     ]
    },
    {
     "data": {
      "application/vnd.jupyter.widget-view+json": {
       "model_id": "4f7067d6cca740ffb0219744d6627f22",
       "version_major": 2,
       "version_minor": 0
      },
      "text/plain": [
       "HBox(children=(IntProgress(value=0, max=422), HTML(value='')))"
      ]
     },
     "metadata": {},
     "output_type": "display_data"
    },
    {
     "data": {
      "image/png": "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\n",
      "text/plain": [
       "<Figure size 432x288 with 2 Axes>"
      ]
     },
     "metadata": {
      "needs_background": "light"
     },
     "output_type": "display_data"
    },
    {
     "name": "stdout",
     "output_type": "stream",
     "text": [
      "epoch 59 Rec error: 323.5575 sq_error 0.37109375\n",
      "\r",
      "Epoch: 59 / 100\n"
     ]
    },
    {
     "data": {
      "application/vnd.jupyter.widget-view+json": {
       "model_id": "142eb69a4101499c9dc7299297773c0b",
       "version_major": 2,
       "version_minor": 0
      },
      "text/plain": [
       "HBox(children=(IntProgress(value=0, max=422), HTML(value='')))"
      ]
     },
     "metadata": {},
     "output_type": "display_data"
    },
    {
     "data": {
      "image/png": "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\n",
      "text/plain": [
       "<Figure size 432x288 with 2 Axes>"
      ]
     },
     "metadata": {
      "needs_background": "light"
     },
     "output_type": "display_data"
    },
    {
     "name": "stdout",
     "output_type": "stream",
     "text": [
      "epoch 60 Rec error: 321.56604 sq_error 0.140625\n",
      "\r",
      "Epoch: 60 / 100\n"
     ]
    },
    {
     "data": {
      "application/vnd.jupyter.widget-view+json": {
       "model_id": "477b0f6f6b0946b98048a2ed86923062",
       "version_major": 2,
       "version_minor": 0
      },
      "text/plain": [
       "HBox(children=(IntProgress(value=0, max=422), HTML(value='')))"
      ]
     },
     "metadata": {},
     "output_type": "display_data"
    },
    {
     "data": {
      "image/png": "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\n",
      "text/plain": [
       "<Figure size 432x288 with 2 Axes>"
      ]
     },
     "metadata": {
      "needs_background": "light"
     },
     "output_type": "display_data"
    },
    {
     "name": "stdout",
     "output_type": "stream",
     "text": [
      "epoch 61 Rec error: 301.1751 sq_error 0.2998047\n",
      "\r",
      "Epoch: 61 / 100\n"
     ]
    },
    {
     "data": {
      "application/vnd.jupyter.widget-view+json": {
       "model_id": "b6952b45f3934c76a2f4d98a56a01f32",
       "version_major": 2,
       "version_minor": 0
      },
      "text/plain": [
       "HBox(children=(IntProgress(value=0, max=422), HTML(value='')))"
      ]
     },
     "metadata": {},
     "output_type": "display_data"
    },
    {
     "data": {
      "image/png": "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\n",
      "text/plain": [
       "<Figure size 432x288 with 2 Axes>"
      ]
     },
     "metadata": {
      "needs_background": "light"
     },
     "output_type": "display_data"
    },
    {
     "name": "stdout",
     "output_type": "stream",
     "text": [
      "epoch 62 Rec error: 338.4954 sq_error 0.10253906\n",
      "\r",
      "Epoch: 62 / 100\n"
     ]
    },
    {
     "data": {
      "application/vnd.jupyter.widget-view+json": {
       "model_id": "2920909be5af40ee87072f55024bf1ac",
       "version_major": 2,
       "version_minor": 0
      },
      "text/plain": [
       "HBox(children=(IntProgress(value=0, max=422), HTML(value='')))"
      ]
     },
     "metadata": {},
     "output_type": "display_data"
    },
    {
     "data": {
      "image/png": "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\n",
      "text/plain": [
       "<Figure size 432x288 with 2 Axes>"
      ]
     },
     "metadata": {
      "needs_background": "light"
     },
     "output_type": "display_data"
    },
    {
     "name": "stdout",
     "output_type": "stream",
     "text": [
      "epoch 63 Rec error: 315.1127 sq_error 0.03515625\n",
      "\r",
      "Epoch: 63 / 100\n"
     ]
    },
    {
     "data": {
      "application/vnd.jupyter.widget-view+json": {
       "model_id": "d3c0d9c95db04405a884dbaf8e9a667a",
       "version_major": 2,
       "version_minor": 0
      },
      "text/plain": [
       "HBox(children=(IntProgress(value=0, max=422), HTML(value='')))"
      ]
     },
     "metadata": {},
     "output_type": "display_data"
    },
    {
     "data": {
      "image/png": "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\n",
      "text/plain": [
       "<Figure size 432x288 with 2 Axes>"
      ]
     },
     "metadata": {
      "needs_background": "light"
     },
     "output_type": "display_data"
    },
    {
     "name": "stdout",
     "output_type": "stream",
     "text": [
      "epoch 64 Rec error: 311.41345 sq_error 0.35253906\n",
      "\r",
      "Epoch: 64 / 100\n"
     ]
    },
    {
     "data": {
      "application/vnd.jupyter.widget-view+json": {
       "model_id": "b99e2a2d9ae4442c927fbd42cb1687e8",
       "version_major": 2,
       "version_minor": 0
      },
      "text/plain": [
       "HBox(children=(IntProgress(value=0, max=422), HTML(value='')))"
      ]
     },
     "metadata": {},
     "output_type": "display_data"
    },
    {
     "data": {
      "image/png": "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\n",
      "text/plain": [
       "<Figure size 432x288 with 2 Axes>"
      ]
     },
     "metadata": {
      "needs_background": "light"
     },
     "output_type": "display_data"
    },
    {
     "name": "stdout",
     "output_type": "stream",
     "text": [
      "epoch 65 Rec error: 301.3885 sq_error 0.3798828\n",
      "\r",
      "Epoch: 65 / 100\n"
     ]
    },
    {
     "data": {
      "application/vnd.jupyter.widget-view+json": {
       "model_id": "95dd0e0996834d6183973523baf7276a",
       "version_major": 2,
       "version_minor": 0
      },
      "text/plain": [
       "HBox(children=(IntProgress(value=0, max=422), HTML(value='')))"
      ]
     },
     "metadata": {},
     "output_type": "display_data"
    },
    {
     "data": {
      "image/png": "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\n",
      "text/plain": [
       "<Figure size 432x288 with 2 Axes>"
      ]
     },
     "metadata": {
      "needs_background": "light"
     },
     "output_type": "display_data"
    },
    {
     "name": "stdout",
     "output_type": "stream",
     "text": [
      "epoch 66 Rec error: 296.81445 sq_error 0.33496094\n",
      "\r",
      "Epoch: 66 / 100\n"
     ]
    },
    {
     "data": {
      "application/vnd.jupyter.widget-view+json": {
       "model_id": "4ec9e5bde9fe4babbd592ee34bf3c011",
       "version_major": 2,
       "version_minor": 0
      },
      "text/plain": [
       "HBox(children=(IntProgress(value=0, max=422), HTML(value='')))"
      ]
     },
     "metadata": {},
     "output_type": "display_data"
    },
    {
     "data": {
      "image/png": "iVBORw0KGgoAAAANSUhEUgAAAXQAAADHCAYAAAAJSqg8AAAABHNCSVQICAgIfAhkiAAAAAlwSFlzAAALEgAACxIB0t1+/AAAADl0RVh0U29mdHdhcmUAbWF0cGxvdGxpYiB2ZXJzaW9uIDMuMC4zLCBodHRwOi8vbWF0cGxvdGxpYi5vcmcvnQurowAAFJhJREFUeJzt3X2wXHV9x/H3R54VFDBXDOEhCgiNo4ThlkGlLQXRyAwNdtSBqkXFxrbSESe1Aipix+dR0arVRmGCBcEnUKqUNmRQS0X0QgMkRARpkIRAbsBIqA8k+O0fv9+V5eY+7N09Z3fP735eMzt395zdc75793u++9vf7zwoIjAzs+Z7Sr8DMDOzarigm5kVwgXdzKwQLuhmZoVwQTczK4QLuplZIVzQ2yTpPElfrPq5bSwrJB1axbLMZiNJayQd3+84ekGzcT90SW8AlgKHAI8AVwHnRsSWfsY1EUkBHBYRd08w77vApRFRyZeHNZekdcB+wOPAo8C1wFkR8Wg/4xpP0gXAoRHxupqWvxxYHxHvrmP5g27WtdAlLQU+ArwDeAZwLHAwsELSrpO8ZufeRWjWsVMiYk9gIXAUcG6f45kxJbOuLlUmImbNDXg6qfXymnHT9wRGgTflxxcAXwcuJbXg35ynXdrymr8E7gUeAt4DrANe2vL6S/P9+UAAZwA/BzYD72pZzjHAjcAWYCPwGWDXlvlBatFM9H6+C7w53z8eWA/8A7ApL+tU4GTgp8DDwHkzWO/LgDuBXwL/DHxvbF15/puAtcAvgP8ADu735zubb635lx9/FPhOvr8b8LGcfw8Cnwf2aHnuYmBVzvWfAYvy9P2Bq3Pu3A38VctrLgC+CnwJ2AqsAYZb5r8T2JDn3QmcCCwCHgO25e3w1pY8/gDw38CvgUMneD/jt7/jgB/k/L0PeAOwJC/7sbz8fxv/v8n/i08C9+fbJ4Hdxm1DS1u2oTf2+7OdyW22fRO+GNgduLJ1YqSfpdcAJ7VMXkwq6nsDl7U+X9ICUpF7LTCX1NKfN826jwMOJyX2+ZL+IE9/HHg7MAd4UZ7/tzN8X2OeTXp/84DzgS8ArwOOBv4IeI+k50y3XklzSO/9XOCZpA3yxWMrkbQYOA/4c2AI+C/g8g5jtopJOgB4BakIA3wYeB6p5X4oT+QHko4hFeV3kHL9j0kFEOAKUoHbH3gV8EFJJ7Ss6s/yc/YmFf7P5GUeDpwF/GFE7AW8HFgXEdcCHwS+EhF7RsSRLct6Pakg70VqKE31/g4G/h34NCn/FgKrImIZaVv9aF7+KRO8/F2kX+ULgSNJDZvW7pln88T2fCbwWUn7TBXPIJltBX0OsDkitk8wb2OeP+bGiPhmRPwuIn497rmvIn373xARj5E2jukGI94XEb+OiFuBW0nJRETcHBE/jIjtEbEO+BfgT2b+1oDUOvlARGwjbWhzgE9FxNaIWAPc0eZ6TwbWRMSV+X/1T8ADLev5a+BDEbE2z/8gsDBvaNY/35S0ldRi3QS8V5JIhfLtEfFwRGwlfV6n5decCVwcEStyrm+IiJ9IOhB4CfDOiPhNRKwCvkj6ZTrmhoi4JiIeB/6VnFukxsJuwAJJu0TEuoj42TSxL4+INTkft03z3L8ArouIyyNiW0Q8lONrx2uBf4yITRExCryP9GUyZluevy0iriG19A9vc9l9N9sK+mZgziR94nPz/DH3TbGc/VvnR8SvSF0vU2ktiL8idfMg6XmSvi3pAUmPkDa2ORMtoA0P5Y0L0k9XSD+xaZnWznrHv78gtdTGHAx8StIWSVtIP8nF9L9SrF6n5hbx8cARpM9zCHgqcHPL53Vtng5wIKmbZbz9gbEvgDH38uTPeHxO7y5p50gD+GeTukk2SbpC0v7TxD7V9jbeZDG3Y3+e/Avg3jxtzEPjGny/31abYLYV9BuB35K6Cn5P0p6kn6grWyZP1eLeCBzQ8vo9SF0Tnfgc8BPSnixPJ3VlqMNlVbXe8e9PrY9JG99bImLvltseEfGDHsRt04iI7wHLSf3mm0lf5M9v+ayeEWnwFNJnecgEi7kf2FfSXi3TDiL1i7cTw5cj4jjSl3+QdkSAyber8dP/j/RFNObZLfcni3mq5Y+5P8c05qA8rQizqqBHxC9JP7E+LWmRpF0kzScN7qwn/Wxsx9eBUyS9OO8ZcwGdF+G9SINRj0o6AvibDpdT5Xq/A7xA0qn518xbefIG9XngXEnPB5D0DEmv7lHc1p5PksaEXkAaS7lQ0rMAJM2T9PL8vIuAN0o6UdJT8rwjIuI+0qDjhyTtLumFpO6ZS6dbsaTDJZ0gaTfgN6QvlN/l2Q8C89vYk2UVcFreRodJ3ZxjLgNeKuk1knaW9ExJC1uW/9wplns58G5JQ3ms6Px23lNTzKqCDhARHyW1Rj9GKmg3kb7xT4yI37a5jDXA35H6qTeS+tk2kVr/M/X3pD7BraQN7ysdLKMTk643IjYDrybtKfEQsAAYIb+/iLiK1OK6InfXrCb9wrEBkfuHv0QqWO8kDZD+MH9e15H7hSPiR8AbgQtJezR9jydasKeT9tK6n3Ssxnsj4ro2Vr8baSB2M6lb5lk8sQvl1/LfhyTdMsUy3kNqhf+C1Aj7cst7+zlpnGcpqbtvFU/0319E6rvfIumbEyz3/aRcvg24HbglTyvCrDywqGq5y2YLqfvif/sdT9Vya2o98NqIuL7f8ZjZxGZdC70qkk6R9FRJTyO19m/nid29Gk/SyyXtnX82j/Wv/7DPYZnZFFzQO7eYJw5OOAw4Lcr6ufMi0p4Em4FTSHtQjN9908wGiLtczMwK4Ra6mVkhuiroede/OyXdLemcqoIy6zfntjVRx10uknYinfTpJNIeED8GTo+IOyZ7zZw5c2L+/Pkdrc9sOuvWrWPz5s1dH5TVSW7n0xxbxY4++ugdpt188819iKT/ImLa3O7mtLDHAHdHxD0Akq4gDRROmvTz589nZGSki1WaTW54eLiqRc04t60eE9WLdOCyTaSbLpd5PPn8C+uZ4FwekpZIGpE0Mjo62sXqzHpmxrnds8jMplD7oGhELIuI4YgYHhoamv4FZg3Rmtv9jsUMuuty2UA669mYA2jzxD1mA865PSAGpXtl/FjjoMQ1Xjct9B8Dh0l6Tj5B1Wmkk9ybNZ1z2xqp4xZ6RGyXdBbp8mM7kU6Sv6ayyMz6xLltTdXVxY/zFT2uqSgWs4Hh3LYm8pGiZmaF6KqFbmbdmejAvkEdcJvNmvKZuIVuZlYIF3Qzs0K4oJuZFcJ96GZ9VGXfrPvjzS10M7NCuKCbmRXCBd3MrBAu6GZmhfCgqFkhPABqbqGbmRXCBd3MrBAu6GZmheiqD13SOmAr8Diw3ZfislI4t62JqhgU/dOI2FzBcswGjXPbGsVdLmZmhei2oAfwn5JulrSkioDMBoRz2xqn2y6X4yJig6RnASsk/SQivt/6hLwxLAE46KCDulydWc/MKLfNBkFXLfSI2JD/bgKuAo6Z4DnLImI4IoaHhoa6WZ1Zz8w0t3sdn9lEOi7okp4maa+x+8DLgNVVBWbWL87t+kXEDrdBUXdsdS67my6X/YCr8uHGOwNfjohrK4nKrL+c29ZIHRf0iLgHOLLCWMwGgnPbmsq7LZqZFcJnWzSznhvkM0PWHVudy3cL3cysEC7oZmaFcEE3MyuEC7qZWSE8KGpmExp/0MsgD2Q2KdY6uYVuZlYIF3Qzs0K4oJuZFcIF3cysEB4UNbMJNWlgsdexTnSWxEH4f7mFbmZWCBd0M7NCuKCbmRVi2oIu6WJJmyStbpm2r6QVku7Kf/epN0yz6jm3rTTttNCXA4vGTTsHWBkRhwEr82OzplmOc7ttg3zZuF6TtMNtEP4/0xb0fKXzh8dNXgxcku9fApxacVxmtXNuW2k67UPfLyI25vsPkK7BaFYC57Y1VteDopF+V0z620LSEkkjkkZGR0e7XZ1Zz8wkt3sYltmkOi3oD0qaC5D/bprsiRGxLCKGI2J4aGiow9WZ9UxHud2z6Mym0GlBvxo4I98/A/hWNeGY9Z1zu08GYVCxmzgmGijttXZ2W7wcuBE4XNJ6SWcCHwZOknQX8NL82KxRnNtWmmnP5RIRp08y68SKYzHrKee2lcZHipqZFcJnWzRrgEE4u18362vnEnGDcLZCGJw4OuEWuplZIVzQzcwK4YJuZlYIF3Qzs0J4UNSsAZo8UAeDG/8gDDZXyS10M7NCuKCbmRXCBd3MrBAu6GZmhfCgqJn13KAMRla5zkF4T26hm5kVwgXdzKwQLuhmZoVo5wIXF0vaJGl1y7QLJG2QtCrfTq43TLPqObetNO200JcDiyaYfmFELMy3a6oNy6wnltPn3B6Uy6712iBcrq1qg/Cepi3oEfF94OEexGLWU85tK003fehnSbot/2zdZ7InSVoiaUTSyOjoaBerM+uZGed2L4Mzm0ynBf1zwCHAQmAj8PHJnhgRyyJiOCKGh4aGOlydWc90lNu9Cs5sKh0dWBQRD47dl/QF4NuVRWTWR73O7RL6jm1m2hkn6TQvOmqhS5rb8vCVwOrJnmvWJM5ta7JpW+iSLgeOB+ZIWg+8Fzhe0kIggHXAW2qM0awWzm0rzbQFPSJOn2DyRTXEYtZTzm0rjY8UNTMrhM+2aNYAg3AmP6tGnZ+bW+hmZoVwQTczK4QLuplZIVzQzcwK4UFRswYY1AHQKgdrPfDbPbfQzcwK4YJuZlYIF3Qzs0K4oJuZFcKDombW8YBklYOWs3UAtMrBYLfQzcwK4YJuZlYIF3Qzs0JMW9AlHSjpekl3SFoj6W15+r6SVki6K/+d9GK6ZoPIuW2laaeFvh1YGhELgGOBt0paAJwDrIyIw4CV+bFZkzi3M0k73Kw3qvzfT1vQI2JjRNyS728F1gLzgMXAJflplwCndhyFWR84t600M+pDlzQfOAq4CdgvIjbmWQ8A+03ymiWSRiSNjI6OdhGqWX26ze2eBGk2jbYLuqQ9gW8AZ0fEI63zIu1IuePOlGnesogYjojhoaGhroI1q0MVud2DMM2m1VZBl7QLKeEvi4gr8+QHJc3N8+cCm+oJ0aw+ped2ROxw6+Z5Ntja2ctFpCuhr42IT7TMuho4I98/A/hW9eGZ1ce5baVp59D/lwCvB26XtCpPOw/4MPBVSWcC9wKvqSdEs9o4t60o0xb0iLgBmGw/mhOrDcesd5zbVhofKWpmVgifbdGsj+q+7Fq7y/KBRFMb/zkN6v/LLXQzs0K4oJuZFcIF3cysEC7oZmaF8KCoWR8NyuBa3YOznQ4q1h1Xuwblc5qOW+hmZoVwQTczK4QLuplZIVzQzcwK4UFRM6t90K/T5TdlMHJQuIVuZlYIF3Qzs0K0c4GLAyVdL+kOSWskvS1Pv0DSBkmr8u3k+sM1q45z20rTTh/6dmBpRNwiaS/gZkkr8rwLI+Jj9YVnVivnthWlnQtcbAQ25vtbJa0F5tUdmFndnNv1GJSjO2ejGfWhS5oPHAXclCedJek2SRdL2qfi2Mx6xrltJWi7oEvak3R19LMj4hHgc8AhwEJSK+fjk7xuiaQRSSOjo6MVhGxWrSpyu2fBmk2hrYIuaRdSwl8WEVcCRMSDEfF4RPwO+AJwzESvjYhlETEcEcNDQ0NVxW1Wiapyu3cRm02unb1cBFwErI2IT7RMn9vytFcCq6sPz6w+zu16SNrhZr3Rzl4uLwFeD9wuaVWedh5wuqSFQADrgLfUEqFZfZzbVpR29nK5AZjoK/aa6sMx6x3ntpXGR4qamRXCBd3MrBA+26LZgPGBOdYpt9DNzArhgm5mVggXdDOzQrigm5kVwoOiZgPGA6DWKbfQzcwK4YJuZlYIF3Qzs0K4oJuZFcKDomaF8BGm5ha6mVkhXNDNzArRzhWLdpf0I0m3Sloj6X15+nMk3STpbklfkbRr/eGaVce5baVpp4X+W+CEiDiSdNHcRZKOBT4CXBgRhwK/AM6sL0yzWhSV2770m01b0CN5ND/cJd8COAH4ep5+CXBqLRGa1cS5baVpqw9d0k75moubgBXAz4AtEbE9P2U9MK+eEM3q49y2krRV0CPi8YhYCBwAHAMc0e4KJC2RNCJpZHR0tMMwzepRVW7XFqDZDMxoL5eI2AJcD7wI2FvS2H7sBwAbJnnNsogYjojhoaGhroI1q0u3ud2jMM2m1M5eLkOS9s739wBOAtaSkv9V+WlnAN+qK0izOji3+ycidrhZ99o5UnQucImknUhfAF+NiG9LugO4QtL7gf8BLqoxTrM6OLetKNMW9Ii4DThqgun3kPoczRrJuW2l8ZGiZmaFcEE3MyuEejkYIWkUuBeYA2zu2Yqr1+T4mxw7TB3/wRHRl12pnNsDocmxQwW53dOC/vuVSiNN3tWryfE3OXYY/PgHPb7pNDn+JscO1cTvLhczs0K4oJuZFaJfBX1Zn9ZblSbH3+TYYfDjH/T4ptPk+JscO1QQf1/60M3MrHrucjEzK0TPC7qkRZLuzFeDOafX658pSRdL2iRpdcu0fSWtkHRX/rtPP2OcjKQDJV0v6Y58RZ635ekDH3/TribkvO6dJuc11JvbPS3o+ZwZnwVeASwATpe0oJcxdGA5sGjctHOAlRFxGLAyPx5E24GlEbEAOBZ4a/5/NyH+xlxNyHndc03Oa6gxt3vdQj8GuDsi7omIx4ArgMU9jmFGIuL7wMPjJi8mXckGBviKNhGxMSJuyfe3ks4kOI8GxN+wqwk5r3uoyXkN9eZ2rwv6POC+lsdNvRrMfhGxMd9/ANivn8G0Q9J80omobqIh8TfoakLO6z5pYl5DfbntQdEuRdpNaKB3FZK0J/AN4OyIeKR13iDH383VhKw7g5wXY5qa11Bfbve6oG8ADmx5POnVYAbcg5LmAuS/m/ocz6Qk7UJK+ssi4so8uTHxQ2dXE+ox53WPlZDXUH1u97qg/xg4LI/m7gqcBlzd4xiqcDXpSjYwwFe0kSTSxRnWRsQnWmYNfPwNu5qQ87qHmpzXUHNuT3QpqDpvwMnAT0l9Ru/q9fo7iPdyYCOwjdSvdSbwTNIo+l3AdcC+/Y5zktiPI/3svA1YlW8nNyF+4IWkqwXdBqwGzs/Tnwv8CLgb+BqwW79jzXE5r3sXe2PzOsdfW277SFEzs0J4UNTMrBAu6GZmhXBBNzMrhAu6mVkhXNDNzArhgm5mVggXdDOzQrigm5kV4v8BOdh6RJLppuAAAAAASUVORK5CYII=\n",
      "text/plain": [
       "<Figure size 432x288 with 2 Axes>"
      ]
     },
     "metadata": {
      "needs_background": "light"
     },
     "output_type": "display_data"
    },
    {
     "name": "stdout",
     "output_type": "stream",
     "text": [
      "epoch 67 Rec error: 296.34662 sq_error 0.15722656\n",
      "\r",
      "Epoch: 67 / 100\n"
     ]
    },
    {
     "data": {
      "application/vnd.jupyter.widget-view+json": {
       "model_id": "af340cb792f64001ae2d61fed733ff6a",
       "version_major": 2,
       "version_minor": 0
      },
      "text/plain": [
       "HBox(children=(IntProgress(value=0, max=422), HTML(value='')))"
      ]
     },
     "metadata": {},
     "output_type": "display_data"
    },
    {
     "data": {
      "image/png": "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\n",
      "text/plain": [
       "<Figure size 432x288 with 2 Axes>"
      ]
     },
     "metadata": {
      "needs_background": "light"
     },
     "output_type": "display_data"
    },
    {
     "name": "stdout",
     "output_type": "stream",
     "text": [
      "epoch 68 Rec error: 322.9436 sq_error 0.033203125\n",
      "\r",
      "Epoch: 68 / 100\n"
     ]
    },
    {
     "data": {
      "application/vnd.jupyter.widget-view+json": {
       "model_id": "1938bb02b0d8426483dc31dd476b2c56",
       "version_major": 2,
       "version_minor": 0
      },
      "text/plain": [
       "HBox(children=(IntProgress(value=0, max=422), HTML(value='')))"
      ]
     },
     "metadata": {},
     "output_type": "display_data"
    },
    {
     "data": {
      "image/png": "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\n",
      "text/plain": [
       "<Figure size 432x288 with 2 Axes>"
      ]
     },
     "metadata": {
      "needs_background": "light"
     },
     "output_type": "display_data"
    },
    {
     "name": "stdout",
     "output_type": "stream",
     "text": [
      "epoch 69 Rec error: 336.37024 sq_error 0.37402344\n",
      "\r",
      "Epoch: 69 / 100\n"
     ]
    },
    {
     "data": {
      "application/vnd.jupyter.widget-view+json": {
       "model_id": "8cf265b4fbaa440a9475821399308b9b",
       "version_major": 2,
       "version_minor": 0
      },
      "text/plain": [
       "HBox(children=(IntProgress(value=0, max=422), HTML(value='')))"
      ]
     },
     "metadata": {},
     "output_type": "display_data"
    },
    {
     "data": {
      "image/png": "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\n",
      "text/plain": [
       "<Figure size 432x288 with 2 Axes>"
      ]
     },
     "metadata": {
      "needs_background": "light"
     },
     "output_type": "display_data"
    },
    {
     "name": "stdout",
     "output_type": "stream",
     "text": [
      "epoch 70 Rec error: 304.66653 sq_error 0.10839844\n",
      "\r",
      "Epoch: 70 / 100\n"
     ]
    },
    {
     "data": {
      "application/vnd.jupyter.widget-view+json": {
       "model_id": "d29a9d769ffe4991845c92296ea8c272",
       "version_major": 2,
       "version_minor": 0
      },
      "text/plain": [
       "HBox(children=(IntProgress(value=0, max=422), HTML(value='')))"
      ]
     },
     "metadata": {},
     "output_type": "display_data"
    },
    {
     "data": {
      "image/png": "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\n",
      "text/plain": [
       "<Figure size 432x288 with 2 Axes>"
      ]
     },
     "metadata": {
      "needs_background": "light"
     },
     "output_type": "display_data"
    },
    {
     "name": "stdout",
     "output_type": "stream",
     "text": [
      "epoch 71 Rec error: 323.29105 sq_error 0.19140625\n",
      "\r",
      "Epoch: 71 / 100\n"
     ]
    },
    {
     "data": {
      "application/vnd.jupyter.widget-view+json": {
       "model_id": "e8cd9d2d65dc41048651460e176da006",
       "version_major": 2,
       "version_minor": 0
      },
      "text/plain": [
       "HBox(children=(IntProgress(value=0, max=422), HTML(value='')))"
      ]
     },
     "metadata": {},
     "output_type": "display_data"
    },
    {
     "data": {
      "image/png": "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\n",
      "text/plain": [
       "<Figure size 432x288 with 2 Axes>"
      ]
     },
     "metadata": {
      "needs_background": "light"
     },
     "output_type": "display_data"
    },
    {
     "name": "stdout",
     "output_type": "stream",
     "text": [
      "epoch 72 Rec error: 312.61084 sq_error 0.030273438\n",
      "\r",
      "Epoch: 72 / 100\n"
     ]
    },
    {
     "data": {
      "application/vnd.jupyter.widget-view+json": {
       "model_id": "867017ba84804600995b1b11fa4a71c7",
       "version_major": 2,
       "version_minor": 0
      },
      "text/plain": [
       "HBox(children=(IntProgress(value=0, max=422), HTML(value='')))"
      ]
     },
     "metadata": {},
     "output_type": "display_data"
    },
    {
     "data": {
      "image/png": "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\n",
      "text/plain": [
       "<Figure size 432x288 with 2 Axes>"
      ]
     },
     "metadata": {
      "needs_background": "light"
     },
     "output_type": "display_data"
    },
    {
     "name": "stdout",
     "output_type": "stream",
     "text": [
      "epoch 73 Rec error: 300.06622 sq_error 0.33984375\n",
      "\r",
      "Epoch: 73 / 100\n"
     ]
    },
    {
     "data": {
      "application/vnd.jupyter.widget-view+json": {
       "model_id": "e01419fb0a664d458c4715f63bc80c98",
       "version_major": 2,
       "version_minor": 0
      },
      "text/plain": [
       "HBox(children=(IntProgress(value=0, max=422), HTML(value='')))"
      ]
     },
     "metadata": {},
     "output_type": "display_data"
    },
    {
     "data": {
      "image/png": "iVBORw0KGgoAAAANSUhEUgAAAXQAAADHCAYAAAAJSqg8AAAABHNCSVQICAgIfAhkiAAAAAlwSFlzAAALEgAACxIB0t1+/AAAADl0RVh0U29mdHdhcmUAbWF0cGxvdGxpYiB2ZXJzaW9uIDMuMC4zLCBodHRwOi8vbWF0cGxvdGxpYi5vcmcvnQurowAAGdJJREFUeJzt3X/wJHV95/HnS0U0gQi4K8JCWCMEj1ziWt85Sg2Xo0QjoYqDpIwFZ3JoyK13F640xeUEjLqmEjUWUfPrzGGgwANBY1CJ8bxDimi8KPr9ciuyoAFzSwQXdhckLBejgO/749NfmZ2d+c5nerp7uvv7elRNfefbM9397pl3f6b78+lPfxQRmJlZ9z1l0QGYmVk1XKCbmfWEC3Qzs55wgW5m1hMu0M3MesIFuplZT7hAzyTpEkl/WvV7M5YVko6vYllm65GkHZJOXXQcTdB6vA5d0muBC4HnA48AHwMujoiHFxnXOJICOCEi7h7z2l8BV0dEJT8e1l2SdgJHAk8AjwKfBi6IiEcXGdcoSduA4yPil2pa/pXAvRHxm3Usv+3W3RG6pAuB3wV+A3gW8GLgOOBGSU+fMM/TmovQrLQzI+IQYAvwIuDiBcczMyXrrlyqTESsmwfwI6Sjl1ePTD8E2AP8SvH/NuCjwNWkI/hfLaZdPTTPvwXuAR4E3gLsBF4+NP/VxfPNQADnAX8P7AXePLSck4EvAA8Du4A/Ap4+9HqQjmjGbc9fAb9aPD8VuBf4L8DuYllnA2cAfws8BFwyw3p/Fvg68A/AfwU+u7qu4vVfAe4Evg38T+C4RX+/6/kxnH/F/+8G/rJ4fjBwaZF/DwB/Ajxz6L1nAduLXP8GcHox/WjghiJ37gb+3dA824CPAB8E9gE7gMHQ628C7ite+zpwGnA68D3gsWI//MpQHv8O8L+B7wDHj9me0f3vFOBvivz9JvBaYGux7O8Vy/+L0c+m+CzeB3yreLwPOHhkH7pwaB963aK/21ke6+2X8KXAM4DrhydGOi39FPCKoclnkQr1w4Brht8v6SRSIfca4CjSkf6mKes+BTiRlNhvlfTPiulPAL8ObABeUrz+H2fcrlXPJW3fJuCtwAeAXwKWgH8JvEXS86atV9IG0rZfDDybtEO+dHUlks4CLgF+AdgI/DVwbcmYrWKSjgF+jlQIA7wL+HHSkfvxPJkfSDqZVCj/BinXf4ZUAAJcRyrgjgZeBbxD0suGVvWvi/ccRir4/6hY5onABcC/iIhDgVcCOyPi08A7gA9HxCER8cKhZf0yqUA+lHSgtNb2HQf8D+APSfm3BdgeEZeR9tV3F8s/c8zsbyadlW8BXkg6sBmunnkuT+7P5wN/LOnwteJpk/VWoG8A9kbE42Ne21W8vuoLEfHxiPh+RHxn5L2vIv36fz4ivkfaOaY1Rrw9Ir4TEV8BvkJKJiJiJSK+GBGPR8RO4L8B/2r2TQPS0cnvRMRjpB1tA/D7EbEvInYAd2Su9wxgR0RcX3xWfwDcP7Sefw+8MyLuLF5/B7Cl2NFscT4uaR/piHU38DZJIhWUvx4RD0XEPtL3dU4xz/nAFRFxY5Hr90XE1yQdC/w08KaI+KeI2A78KenMdNXnI+JTEfEE8N8pcot0sHAwcJKkgyJiZ0R8Y0rsV0bEjiIfH5vy3n8DfCYiro2IxyLiwSK+HK8BfisidkfEHuDtpB+TVY8Vrz8WEZ8iHemfmLnshVtvBfpeYMOEOvGjitdXfXON5Rw9/HpE/COp6mUtwwXiP5KqeZD045I+Kel+SY+QdrYN4xaQ4cFi54J06grpFJuhaTnrHd2+IB2prToO+H1JD0t6mHRKLqafpVi9zi6OiE8FXkD6PjcCPwSsDH1fny6mAxxLqmYZdTSw+gOw6h72/45Hc/oZkp4WqQH/jaRqkt2SrpN09JTY19rfRk2KOcfR7H8GcE8xbdWDIwd8P9hXu2C9FehfAL5Lqir4AUmHkE5RbxqavNYR9y7gmKH5n0mqmijj/cDXSFey/AipKkMll1XVeke3T8P/k3a+10fEYUOPZ0bE3zQQt00REZ8FriTVm+8l/ZD/xNB39axIjaeQvsvnj1nMt4AjJB06NO1HSfXiOTF8KCJOIf34B+lCBJi8X41O/3+kH6JVzx16PinmtZa/6ltFTKt+tJjWC+uqQI+IfyCdYv2hpNMlHSRpM6lx517SaWOOjwJnSnppcWXMNsoXwoeSGqMelfQC4D+UXE6V6/1L4CclnV2czfwa++9QfwJcLOknACQ9S9IvNhS35XkfqU3oJ0ltKe+V9BwASZskvbJ43+XA6ySdJukpxWsviIhvkhod3ynpGZJ+ilQ9c/W0FUs6UdLLJB0M/BPpB+X7xcsPAJszrmTZDpxT7KMDUjXnqmuAl0t6taSnSXq2pC1Dy/+xNZZ7LfCbkjYWbUVvzdmmrlhXBTpARLybdDR6KalAu4X0i39aRHw3cxk7gP9EqqfeRapn2006+p/VfybVCe4j7XgfLrGMMiauNyL2Ar9IulLiQeAkYJli+yLiY6QjruuK6prbSWc41hJF/fAHSQXWm0gNpF8svq/PUNQLR8SXgNcB7yVd0fRZnjyCPZd0lda3SH013hYRn8lY/cGkhti9pGqZ5/DkJZR/Vvx9UNKtayzjLaSj8G+TDsI+NLRtf09q57mQVN23nSfr7y8n1d0/LOnjY5b726Rcvg34KnBrMa0X1mXHoqoVVTYPk6ov/u+i46lacTR1L/CaiLh50fGY2Xjr7gi9KpLOlPRDkn6YdLT/VZ683KvzJL1S0mHFafNq/foXFxyWma3BBXp5Z/Fk54QTgHOiX6c7LyFdSbAXOJN0BcXo5Ztm1iKucjEz6wkfoZuZ9cRcBXpx6d/XJd0t6aKqgjJbNOe2dVHpKhdJTyXd9OkVpCsgvgycGxF3rDHPAStbWlqauq6VlZUDpuXMN2neHLnLr9M8270IZT/rHDnbvXPnTvbu3Tt3p6wyub1hw4bYvHnzftPKfn+5n2OV+07Xcm2aqrenztzOFRFTc3ueAv0lwLaIeGXx/8XFSt+5xjwHrCxn/amj4uzzTZo3RxvaFubZ7kUo+1nnyNnuwWDA8vJyFQX6zLk9GAxieXl5dDkHvK9svo9T5b7TtVybpurtqTO3c+UU6PNUuWxi//sv3MuYe3lI2ippWdLy6GtmLTVzbu/Zs6ex4Mwmqb1RNCIui4hBRAzqXpdZk4Zze+PGjdNnMKvZPCPx3Ee669mqY5hy456lpSVGT0vr1uXTxnGqPB3vkoarBGbO7XHqrk6sc1njlteWqpoqqz9y46+yqqxO8xyhfxk4QdLzihtUnUO6yb1Z1zm3rZNKH6FHxOOSLiANP/ZU0k3yd1QWmdmCOLetq+Ya/LgY0eNTFcVi1hrObesi9xQ1M+uJuY7Qm9KWBr6cRo8qY637utmuX5fbhhjWktPgltvQmKPq/SRneYvYN8t+Zovoz9I0H6GbmfWEC3Qzs55wgW5m1hON1qGvrKxkdVbIUfYeFW3pHFGlRXQ2qrLudz1bRCeZNqg7VxbRnlDlNo2ubzDI62jvI3Qzs55wgW5m1hMu0M3MesIFuplZT7SyY1HZxoWynQtyVdnQ0qUGrLLWe8NplY30OcsfN19b86zqTm1tuENllfledj4foZuZ9YQLdDOznnCBbmbWE3PVoUvaCewDngAe9zBz1hfObesizdk4sRMYRMTezPdnraytwz11qVG0DUODzXMnu5wGv3FyRkbPjGknNeT2qLobjhdxR82mh97rmjk+16kzusrFzKwn5i3QA/hfklYkba0iILOWcG5b58x7HfopEXGfpOcAN0r6WkR8bvgNxc7gHcK6xrltnTNXHfp+C5K2AY9GxKVrvMd16AXXoU+eb9y8Tdehj6x7GxXl9ijXoc82Xx/UWYde+ghd0g8DT4mIfcXznwV+q+zyZrWIoaO61MtxET8ObehhV4WqcrsN2zVPwVnlgVVVt82u2iIOrOo0T5XLkcDHioCfBnwoIj5dSVRmi+Xctk6qrMola2UVVrnMsM7KllW3thy1jGpD9U2uOqpccozL7brv5VLWIs7efIQ+P1+2aGa2jiz8bot1/1LP0bh2wLQqG+/GaetweW09Gm+7snf/rLJ9aBFHwlXeYbDrud00H6GbmfWEC3Qzs55wgW5m1hMu0M3MemLhjaJVqrsTUU4DSt3DULW5gbLK2KpsbG7C0tISy8vL+00r+/219XvP7UxWZw/TeZS9xHLS+3I0femqj9DNzHrCBbqZWU+4QDcz6wkX6GZmPdGrRtGyDRdl7xiXu86+9UabpK3362jCyspKqYaseXKv7Hxl77ZYZWNhW3qFtuFCipz5BoO8IW19hG5m1hMu0M3MesIFuplZT0wt0CVdIWm3pNuHph0h6UZJdxV/D683TLPqObetb3KO0K8ETh+ZdhFwU0ScANxU/F+KpFKPupcVEVmPpuOqcl6rLreXlpYOyI1xyuZejtyczVU2H3PjmLYvzXsr6ir387LLz3nfPN/RqKkFeqSRzh8amXwWcFXx/Crg7NIRmC2Ic9v6pmwd+pERsat4fj9pDEazPnBuW2fN3Sga6fxg4jmCpK2SliUtT3qPWRvNktt79uxpMDKz8coW6A9IOgqg+Lt70hsj4rKIGERE3pXxZotVKrc3btzYWIBmk5Qt0G8Aziuenwd8Imem3IajHFU3euQ00OSss8qGnXm2J2feutXdgDu6PUtLS1WEXSq3q1S2obEtyu4DVe6H88Radn1t+E5yLlu8FvgCcKKkeyWdD7wLeIWku4CXF/+bdYpz2/pm6r1cIuLcCS+dVnEsZo1yblvfuKeomVlPLPxui5Mu2l+PcurcJnVMyNG3z7Vv27OWeb73nGXVLWeds3Sgmrb83HKlyvKnyvnKfrc+Qjcz6wkX6GZmPeEC3cysJ1ygm5n1hJq8+F1SqZXN03DRpYajstZDo+gMjVwL2ciyuZ2rbIN5W82Ts327kKLK3PYRuplZT7hANzPrCRfoZmY94QLdzKwnFt5TNEfdDR5dblCB7sefoy/bWOdFCF1qHJ/3DolNG/1sq4whp+F3MMi7+7iP0M3MesIFuplZT7hANzPriZwBLq6QtFvS7UPTtkm6T9L24nFGvWGaVc+5bX0ztaeopJ8BHgU+GBH/vJi2DXg0Ii6daWUd6k3Xt95ouapstFvEZz1LT9Eqc3swGMTy8v7joOc0dlV5O+Sqe1RXecvbtu47XdrPK+kpGhGfAx6qJCKzFnFuW9/MU4d+gaTbitPWwye9SdJWScuSlie9x6xlZs7tPXv2NBmf2VhlC/T3A88HtgC7gN+b9MaIuCwiBhGRdyGl2WKVyu2NGzc2FZ/ZRKU6FkXEA6vPJX0A+GRlEdF8PW6Td5xsSlu3qa1xrSqb2ysrK1l12jly69XLLn8R7SRtUHd9eRvq40sdoUs6aujfnwdun/Resy5xbluXTT1Cl3QtcCqwQdK9wNuAUyVtAQLYCby+xhjNauHctr5p5QAXba1y6frpZdOqvCQvV5sGuKj7Mtoci/gO2qrrVS4e4MLMbB1p9G6LS0tL5HS+qFLdR6rrtYGpbKxzHHlXtqymNH12uIgj7xmGT5u6rHmGm6uygbjpMqnK9fkI3cysJ1ygm5n1hAt0M7OecIFuZtYTjTaKjutNl6MtjThVXjpWVt2NvG29jKvtDaC5yjaI1d0rtO4e1VX1op1n3ir383HLKttYm/MeD0FnZrbOuEA3M+sJF+hmZj3hAt3MrCcabRQdp8qhr6rshZirzsa6RTSAdqlH5misuQ1HTcn5LOdptGxDL+gqG7kXsT2L2AeqbCAe5SN0M7OecIFuZtYTLtDNzHpiaoEu6VhJN0u6Q9IOSW8oph8h6UZJdxV/Jw6ma9ZGzm3rm6kDXBRDch0VEbdKOhRYAc4GXgs8FBHvknQRcHhEvGnKsrIGAWjDrULbMAhAWxpF615nlWYZ4KKtuT3OIhpY23Cr40Xcnjdn3rpv6ztqMBiwvLw8/wAXEbErIm4tnu8D7gQ2AWcBVxVvu4q0I5h1hnPb+mamyxYlbQZeBNwCHBkRu4qX7geOnDDPVmBr+RDN6ufctj7IbhSVdAjw58AbI+KR4dcinVeMPbeIiMsiYhAR7bpI2Kzg3La+yCrQJR1ESvhrIuL6YvIDRR3kal3k7mnLWVpaIiL2e9RtdH25j7pjyHnfOJIOeOQqO1/d6v7819J0bpfdznHfe9ll1f15l83RsvvJpPrsaZ9XRGTHWlVck2Krat/MucpFwOXAnRHxnqGXbgDOK56fB3yidBRmC+Dctr7JqUP/aeCXga9K2l5MuwR4F/ARSecD9wCvridEs9o4t61XphboEfF5YNI5wGnVhmPWHOe29Y17ipqZ9cTCh6Ab13AwOi13uKccdd9JbZy2Dus2TpWdTnK+29x529SImyvns5ynQbLKu/ZVeYfTsp2g2rwftiH+HD5CNzPrCRfoZmY94QLdzKwnXKCbmfVEo42iS0tLLC8vT31f3XdILDtflXd5K/u+so2Ks8TR9Hw529TWRqhFqjL3cj7fefK4yd6/fVA2t32EbmbWEy7Qzcx6wgW6mVlPuEA3M+uJRhtFx+lSw1bZHnCLUHcDbo7chswu5cAkub2g6xw2bp5evlX2FB2n699x0z2XR9c3GOTdct9H6GZmPeEC3cysJ3IGuDhW0s2S7pC0Q9IbiunbJN0naXvxOKP+cM2q49y2vsmpQ38cuDAibpV0KLAi6cbitfdGxKX1hWdWK+e29UrOABe7gF3F832S7gQ2VRVA2UbERTSy5KyzS7cArVtbG46G5q81t8vmS5U9nqu8HXKVvU6rVmWjZd09Xeu8PfhMdeiSNgMvAm4pJl0g6TZJV0g6vFQEZi3g3LY+yC7QJR1CGh39jRHxCPB+4PnAFtJRzu9NmG+rpGVJy3v27KkgZLNqVZHbjQVrtoasAl3SQaSEvyYirgeIiAci4omI+D7wAeDkcfNGxGURMYiIwcaNG6uK26wSVeV2cxGbTTa1Dl2pMudy4M6IeM/Q9KOKOkiAnwdun7ascZ0vxil7971x2trxx+Y3b71slbmdq2xdb9OdlGaJrczyq46h7g5xdar0s58WvKRTgL8Gvgp8v5h8CXAu6ZQ0gJ3A64d2gknLyvqkqvxAmx530RYrIrK/pDbk9jwNcFWOc1l3Q2bdBXqV6u5RXXb5Obk9tUCvkgt0q9ssBXqVXKDPtnwX6LMvPye33VPUzKwnXKCbmfXEwu+2WHdjT9PqjrXK0+o2fF6TlDlFn7VjURvMUwVY990Wmx5ese4OPVV2NmpL9dAoH6GbmfWEC3Qzs55wgW5m1hMu0M3MeqKV16GPWkTvzrobaHLXWVbdjUlt6HFb9lrdOgwGg1he3v+WLm393Mapu1G07gb5Oq/vLxvDPMuasHxfh25mtl64QDcz6wkX6GZmPeEC3cysJ9wo2oBF3Iio7qH9quzhW1abGkW7nttVNoq2YQi6XIto1J3jFspuFDUzWy9coJuZ9cTUAl3SMyR9SdJXJO2Q9PZi+vMk3SLpbkkflvT0+sM1q45z2/om5wj9u8DLIuKFpFFcTpf0YuB3gfdGxPHAt4Hz6wpS0gGPLi0/Ig54tHX5ucuq8jMru6zROJeWlmZd9cJze5xF5HvZHBo3X93x1y1nm3LnG6fOz2ZqgR7Jo8W/BxWPAF4GfLSYfhVwdqWRmdXMuW19k1WHLumpkrYDu4EbgW8AD0fE48Vb7gU21ROiWX2c29YnWQV6RDwREVuAY4CTgRfkrkDSVknLkpanv9usWc5t65OZrnKJiIeBm4GXAIdJWh3x6BjgvgnzXBYRg4jo3nAytm44t60Pcq5y2SjpsOL5M4FXAHeSkv9VxdvOAz5RJoBxDQk5j7p1vWGnrNztzvlOxi0rd/ll55txW2vN7XFyGhAX0bhW5eebE3/Z/X6efb/rF1fkyBlT9CjgKklPJf0AfCQiPinpDuA6Sb8N/B/g8hrjNKuDc9t6ZWqBHhG3AS8aM/3vSHWOZp3k3La+cU9RM7OecIFuZtYTOXXoVdoL3ANsKJ53qrFxKNYfxN8GM36GlcS+wO9trdw5rvFonnRAbo+T87mV/Wwr+k4a2TfraJCkR7k9RlZuN3r73B+sVFru8qVeXY6/y7FD++Nve3zTdDn+LscO1cTvKhczs55wgW5m1hOLKtAvW9B6q9Ll+LscO7Q//rbHN02X4+9y7FBB/AupQzczs+q5ysXMrCcaL9AlnS7p60qjwVzU9PpnJekKSbsl3T407QhJN0q6q/h7+CJjnETSsZJulnSH0og8byimtz5+dWw0Ied1c7qc11BvbjdaoBf3zPhj4OeAk4BzJZ3UZAwlXAmcPjLtIuCmiDgBuKn4v40eBy6MiJOAFwO/VnzeXYi/laMJjeO8blyX8xpqzO2mj9BPBu6OiL+LiO8B1wFnNRzDTCLic8BDI5PPIo1kAy0e0SYidkXErcXzfaQ7CW6iA/F3bDQh53WDupzXUG9uN12gbwK+OfR/V0eDOTIidhXP7weOXGQwOSRtJt2I6hY6Er+6M5qQ83pBupjXUF9uu1F0TpEuE2r1pUKSDgH+HHhjRDwy/Fqb459nNCGbT5vzYlVX8xrqy+2mC/T7gGOH/p84GkzLPSDpKIDi7+4FxzORpINISX9NRFxfTO5M/FBuNKGGOa8b1oe8hupzu+kC/cvACUVr7tOBc4AbGo6hCjeQRrKBike0qZLSXYYuB+6MiPcMvdT6+LWA0YTm4LxuUJfzGmrO7XmGgio5fNQZwN+S6oze3PT6S8R7LbALeIxUr3U+8GxSK/pdwGeAIxYd54TYTyGddt4GbC8eZ3QhfuCnSKMF3QbcDry1mP5jwJeAu4E/Aw5edKxFXM7r5mLvbF4X8deW2+4pambWE24UNTPrCRfoZmY94QLdzKwnXKCbmfWEC3Qzs55wgW5m1hMu0M3MesIFuplZT/x/GvFjGhl3ptAAAAAASUVORK5CYII=\n",
      "text/plain": [
       "<Figure size 432x288 with 2 Axes>"
      ]
     },
     "metadata": {
      "needs_background": "light"
     },
     "output_type": "display_data"
    },
    {
     "name": "stdout",
     "output_type": "stream",
     "text": [
      "epoch 74 Rec error: 312.2063 sq_error 0.033203125\n",
      "\r",
      "Epoch: 74 / 100\n"
     ]
    },
    {
     "data": {
      "application/vnd.jupyter.widget-view+json": {
       "model_id": "6b8caf2bfdab478ea885855ed6b4a7ac",
       "version_major": 2,
       "version_minor": 0
      },
      "text/plain": [
       "HBox(children=(IntProgress(value=0, max=422), HTML(value='')))"
      ]
     },
     "metadata": {},
     "output_type": "display_data"
    },
    {
     "data": {
      "image/png": "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\n",
      "text/plain": [
       "<Figure size 432x288 with 2 Axes>"
      ]
     },
     "metadata": {
      "needs_background": "light"
     },
     "output_type": "display_data"
    },
    {
     "name": "stdout",
     "output_type": "stream",
     "text": [
      "epoch 75 Rec error: 286.61368 sq_error 0.028320312\n",
      "\r",
      "Epoch: 75 / 100\n"
     ]
    },
    {
     "data": {
      "application/vnd.jupyter.widget-view+json": {
       "model_id": "6e72b09b47f94e61aaa43028ca5fc3e4",
       "version_major": 2,
       "version_minor": 0
      },
      "text/plain": [
       "HBox(children=(IntProgress(value=0, max=422), HTML(value='')))"
      ]
     },
     "metadata": {},
     "output_type": "display_data"
    },
    {
     "data": {
      "image/png": "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\n",
      "text/plain": [
       "<Figure size 432x288 with 2 Axes>"
      ]
     },
     "metadata": {
      "needs_background": "light"
     },
     "output_type": "display_data"
    },
    {
     "name": "stdout",
     "output_type": "stream",
     "text": [
      "epoch 76 Rec error: 307.96667 sq_error 0.37695312\n",
      "\r",
      "Epoch: 76 / 100\n"
     ]
    },
    {
     "data": {
      "application/vnd.jupyter.widget-view+json": {
       "model_id": "042aa792c97c48c1a5b24f726f97b34b",
       "version_major": 2,
       "version_minor": 0
      },
      "text/plain": [
       "HBox(children=(IntProgress(value=0, max=422), HTML(value='')))"
      ]
     },
     "metadata": {},
     "output_type": "display_data"
    },
    {
     "data": {
      "image/png": "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\n",
      "text/plain": [
       "<Figure size 432x288 with 2 Axes>"
      ]
     },
     "metadata": {
      "needs_background": "light"
     },
     "output_type": "display_data"
    },
    {
     "name": "stdout",
     "output_type": "stream",
     "text": [
      "epoch 77 Rec error: 309.88245 sq_error 0.08886719\n",
      "\r",
      "Epoch: 77 / 100\n"
     ]
    },
    {
     "data": {
      "application/vnd.jupyter.widget-view+json": {
       "model_id": "232b693865c44621b8159bd447da438a",
       "version_major": 2,
       "version_minor": 0
      },
      "text/plain": [
       "HBox(children=(IntProgress(value=0, max=422), HTML(value='')))"
      ]
     },
     "metadata": {},
     "output_type": "display_data"
    },
    {
     "data": {
      "image/png": "iVBORw0KGgoAAAANSUhEUgAAAXQAAADHCAYAAAAJSqg8AAAABHNCSVQICAgIfAhkiAAAAAlwSFlzAAALEgAACxIB0t1+/AAAADl0RVh0U29mdHdhcmUAbWF0cGxvdGxpYiB2ZXJzaW9uIDMuMC4zLCBodHRwOi8vbWF0cGxvdGxpYi5vcmcvnQurowAAGOtJREFUeJzt3X2QZFV5x/HvT0BQIQLuiMvysioIwVLWmgnlC0mI+IJUETClFkQNKmZNIim1iBHwDVO+l4pGjWYVCgwIvoESJZqFQg0R0R2y4C6ooFlkl4XdBVfW+Ab45I9zB5rZnu07t+/7/D5VXTNzu/vcp7ufe+b2Ofeco4jAzMy672FNB2BmZuVwhW5m1hOu0M3MesIVuplZT7hCNzPrCVfoZmY94Qo9J0lnSvp02Y/NUVZIOqiMsswWIklrJR3VdBx10EK8Dl3SK4DTgCcC9wCXAmdExNYm4xpGUgAHR8QtQ+77JnBBRJTyz8O6S9I6YB/gfuCXwNeBUyPil03GNZuks4CDIuJlFZV/HrA+It5SRfltt+DO0CWdBrwPeCPwaODpwIHASkkPn+M5O9cXoVlhx0XE7sAy4GnAGQ3HM29KFly9VJqIWDA34A9IZy8vmbV9d2Az8Krs77OALwIXkM7gX51tu2DgOX8F3ArcBbwVWAc8Z+D5F2S/LwUCOBn4GbAFePNAOUcA1wBbgY3Ax4CHD9wfpDOaYa/nm8Crs9+PAtYD/whsyso6ATgW+DFwN3DmPPb7POBHwC+AfwG+NbOv7P5XATcBPwe+ARzY9Oe7kG+D+Zf9/X7ga9nvuwIfyPLvTuCTwCMGHns8sDrL9Z8Ax2Tb9wUuy3LnFuCvB55zFvB54DPANmAtMDVw/5uADdl9PwKOBo4Bfgfcmx2H1w/k8buA/wZ+DRw05PXMPv6OBL6T5e9twCuA5VnZv8vK//fZ7032XnwYuD27fRjYddYxdNrAMfTKpj/b+dwW2n/CZwK7AZcMboz0tfRy4LkDm48nVep7AhcOPl7SYaRK7qXAYtKZ/pIR+z4SOISU2G+T9IfZ9vuBNwCLgGdk9//dPF/XjMeRXt8S4G3Ap4CXAZPAHwNvlfT4UfuVtIj02s8AHkM6IJ85sxNJxwNnAn8BTAD/BVxUMGYrmaT9gBeQKmGA9wJPIp25H8SD+YGkI0iV8htJuf4npAoQ4GJSBbcv8CLg3ZKePbCrP88esyep4v9YVuYhwKnAH0XEHsDzgXUR8XXg3cDnImL3iDh8oKyXkyrkPUgnSjt6fQcC/wF8lJR/y4DVEbGCdKy+Pyv/uCFPfzPpW/ky4HDSic1g88zjePB4PgX4uKS9dhRPmyy0Cn0RsCUi7hty38bs/hnXRMSXI+L3EfHrWY99Eem//9UR8TvSwTGqM+IdEfHriLgeuJ6UTETEdER8NyLui4h1wL8Cfzr/lwaks5N3RcS9pANtEfCRiNgWEWuBG3Pu91hgbURckr1X/wzcMbCfvwHeExE3Zfe/G1iWHWjWnC9L2kY6Y90EvF2SSBXlGyLi7ojYRvq8TsyecwpwbkSszHJ9Q0T8UNL+wLOAN0XEbyJiNfBp0jfTGVdHxOURcT/wb2S5RTpZ2BU4TNIuEbEuIn4yIvbzImJtlo/3jnjsXwJXRMRFEXFvRNyVxZfHS4F/iohNEbEZeAfpn8mMe7P7742Iy0ln+ofkLLtxC61C3wIsmqNNfHF2/4zbdlDOvoP3R8SvSE0vOzJYIf6K1MyDpCdJ+qqkOyTdQzrYFg0rIIe7soML0ldXSF+xGdiWZ7+zX1+QztRmHAh8RNJWSVtJX8nF6G8pVq0TsjPio4BDSZ/nBPBIYHrg8/p6th1gf1Izy2z7AjP/AGbcykM/49k5vZuknSN14L+e1EyySdLFkvYdEfuOjrfZ5oo5j3156DeAW7NtM+6adcL3wLHaBQutQr8G+C2pqeABknYnfUW9cmDzjs64NwL7DTz/EaSmiSI+AfyQdCXLH5CaMlSwrLL2O/v1afBv0sH3mojYc+D2iIj4Tg1x2wgR8S3gPFK7+RbSP/InD3xWj47UeQrps3zikGJuB/aWtMfAtgNI7eJ5YvhsRBxJ+ucfpAsRYO7javb2/yP9I5rxuIHf54p5R+XPuD2LacYB2bZeWFAVekT8gvQV66OSjpG0i6SlpM6d9aSvjXl8EThO0jOzK2POonglvAepM+qXkg4F/rZgOWXu92vAUySdkH2beS0PPaA+CZwh6ckAkh4t6cU1xW35fJjUJ/QUUl/K2ZIeCyBpiaTnZ487B3ilpKMlPSy779CIuI3U6fgeSbtJeiqpeeaCUTuWdIikZ0vaFfgN6R/K77O77wSW5riSZTVwYnaMTpGaOWdcCDxH0ksk7SzpMZKWDZT/hB2UexHwFkkTWV/R2/K8pq5YUBU6QES8n3Q2+gFShXYt6T/+0RHx25xlrAX+ntROvZHUzraJdPY/X/9AahPcRjrwPlegjCLm3G9EbAFeTLpS4i7gMGAV2euLiEtJZ1wXZ801a0jfcKwlsvbhz5AqrDeROki/m31eV5C1C0fE94BXAmeTrmj6Fg+ewZ5EukrrdtJYjbdHxBU5dr8rqSN2C6lZ5rE8eAnlF7Kfd0m6bgdlvJV0Fv5z0knYZwde289I/TynkZr7VvNg+/05pLb7rZK+PKTcd5Jy+QbgB8B12bZeWJADi8qWNdlsJTVf/G/T8ZQtO5taD7w0Iq5qOh4zG27BnaGXRdJxkh4p6VGks/0f8ODlXp0n6fmS9sy+Ns+0r3+34bDMbAdcoRd3PA8OTjgYODH69XXnGaQrCbYAx5GuoJh9+aaZtYibXMzMesJn6GZmPTFWhZ5d+vcjSbdIOr2soMya5ty2Lirc5CJpJ9KkT88lXQHxfeCkiLhxrucsWrQoli5dWmh/s01PTxd63uTkZKXljyNPbHnjKlpWme9P3rLylJ+nrHXr1rFly5axB2XVmdtN5FkbjJMbZWrrcT5b7twuOqsXqdPsGwN/n0GaU3zO50xOTkZZSCPC5n2ruvxxbmXGVbSsMt+fcRQpK8uvMmYurC23m8izNtzaoiuvPW9uj9PksoSHzr+wniFzeUhaLmmVpFWbN28eY3dmtXFuWydV3ikaESsiYioipiYmJkY/wawjnNvWNuOsxLOBNOvZjP3IOXFPk9I8U/0SQ/pB8rzOYc8bZ59lqrr8ESrL7bbmX9EcyltW0bLzxjX7cXkeMx9V5mOZOTHOGfr3gYMlPT6boOpE0iT3Zl3n3LZOKnyGHhH3STqVtPzYTqRJ8teWFplZQ5zb1lVjLX4caUWPy0uKxaw1nNvWRR4pambWE2Ododel6o6kMjuExim/zI7Moh1TDXdG9l6ezrsm1B1H2cdcnue2Nd/zxDA1NZWrLJ+hm5n1hCt0M7OecIVuZtYTtbahT09Pb9eOVXf7dZvb46uOtcvtjMO0pf15Lm2Pr23afOwUVfR4Khq/z9DNzHrCFbqZWU+4Qjcz6wlX6GZmPdH4wKKqOw2KdgQWVXWnYt7y29Ap1IYY2qborIBtfS+rzu06nlv3/ooMIPTAIjOzBcYVuplZT7hCNzPribHa0CWtA7YB9wP3RUS+hh6zlnNuWxeV0Sn6ZxGxpYRyHtDWDqAyVd0RW1RbR4U2pPLc7lIH6DBVLlPXJl3pdHWTi5lZT4xboQfwn5KmJS0vIyCzlnBuW+eM2+RyZERskPRYYKWkH0bEtwcfkB0MPiCsa+aV2wcccEATMZo9xFhn6BGxIfu5CbgUOGLIY1ZExJQ7laxL5pvbExMTdYdotp3CFbqkR0naY+Z34HnAmh09Z3Jykoh4yK2o2eXMVVZZ+8sbxzCStrsVKbvtHUlFXmMbFcntmamhR73+2Z9n0dyow7D8Kysf2/K6h8Ux7NaV43CcJpd9gEuzD2Jn4LMR8fVSojJrlnPbOqlwhR4RPwUOLzEWs1ZwbltX+bJFM7OeaHy2xaLKnG1xmKIDPsocKFJ0+a069plH1wfNVKENr7/o59KW5RvrXray7PKr5DN0M7OecIVuZtYTrtDNzHrCFbqZWU803ila5nJzfTNO50yXO3ag2FJteZfpqkuez6CJ5QmLyltW1zso6569tMz9+QzdzKwnXKGbmfWEK3Qzs55whW5m1hOqc+YwSdvtrGinQdUdNEXLLzOutnRstiGOeYwibKTnN29uF12Crs0z/M3WxJKIdY9ibeg4HLlTn6GbmfWEK3Qzs55whW5m1hMjK3RJ50raJGnNwLa9Ja2UdHP2c69qwzQrn3Pb+ibPGfp5wDGztp0OXBkRBwNXZn8XkmcpqnGWvqpyGa1h5ZcZV95luvKUVXanWt37q8h5VJjbwxRZNrEj7+UDiuZG3seVuURc3mOnDcvl5TGyQo+00vndszYfD5yf/X4+cELJcZlVzrltfVO0DX2fiNiY/X4HaQ1Gsz5wbltnjT05V0TEsGtwZ0haDiwfdz9mdXNuW9cUPUO/U9JigOznprkeGBErImIqIto1FZ7ZcM5t66yiFfplwMnZ7ycDXyknHKtS3g6gNnbI5e0gLkGh3J6cnGz8fRvnPSr63GHPK7OsYfLkaJsvfqhSnssWLwKuAQ6RtF7SKcB7gedKuhl4Tva3Wac4t61vRrahR8RJc9x1dMmxmNXKuW1945GiZmY90fgSdGWqembFMhWdbbEt5RfdZ5lmx9/kEnTT09ONvOdllV30ucOeN+x9KDrLZJmaOJ7qPiZ8hm5m1hOu0M3MesIVuplZT7hCNzPriV51ilatKx0jbVbm+9PF97XokoVVl1W0/DKXyysz/qqX8ctbVp73rMxjwmfoZmY94QrdzKwnXKGbmfWEK3Qzs57obKdolzrE8naglPmaqh792obOsLbnQJmva64ZBUc9L688seaNq2hujJNTVXcQV9mhWmYe+wzdzKwnXKGbmfWEK3Qzs57Is8DFuZI2SVozsO0sSRskrc5ux1Ybpln5nNvWN3k6Rc8DPgZ8Ztb2syPiA6VHRPUdHGXqa4feKFV3cuUpqwTnUWFuVz1aMY9xRiHW3ck9zsUDeToa2zJN9uw48sSVd2rokWfoEfFt4O5cpZl1iHPb+macNvRTJd2QfW3da64HSVouaZWkVWPsy6xOzm3rpKIV+ieAJwLLgI3AB+d6YESsiIipiGhuORmz/Jzb1lmFBhZFxJ0zv0v6FPDV0iIaour25ibas9vQL9DWtlRoro+h7tyeI4bttlU9I2Vb2pzzKDqD4TiKll+0r6moQmfokhYP/PlCYM1cjzXrEue2ddnIM3RJFwFHAYskrQfeDhwlaRkQwDrgNRXGaFYJ57b1jer8WiWpnd/hxtDWr6V5VN3kMo6iX0MjopG2mry53bLLNneoS7nd1iaXImXPJU9ue6SomVlPtHK2xbo7EtqqiY6qtszSWOWMdHXp0hnuMHWflTZ01lv4uWXF4SXozMxsO67Qzcx6whW6mVlPuEI3M+uJWjtFJycnWbWqnGkvqu7MKNMYl+CVHEkxRTuY+jhKsQ5Fl3or+5iockbNMmdWHKf8sp9bpPzGR4qamVn7uEI3M+sJV+hmZj3hCt3MrCcaHyladCRVW7S1I7aocTooyxwVV6SsvMt0VSFvh3+VIwfbMt9LG0Y4tyWPi3bgeqSomdkC5wrdzKwnXKGbmfXEyApd0v6SrpJ0o6S1kl6Xbd9b0kpJN2c/51xM16yNnNvWNyMXuMiW5FocEddJ2gOYBk4AXgHcHRHvlXQ6sFdEvGlEWdvtrEtT5VYdaxNT17ZBmZ1C81ngoszcnpqairI6RduizJGidY9qLRrXOKo8fqempli1atX4C1xExMaIuC77fRtwE7AEOB44P3vY+aQDwawznNvWN/NqQ5e0FHgacC2wT0RszO66A9hnjucsl7RKUjmTuJhVYNzc3rx5cy1xmu1I7gpd0u7Al4DXR8Q9g/dF+q4x9PtGRKyIiKmIaO4iYbMdKCO3JyYmaojUbMdyDSyStAsp4S+MiEuyzXdKWhwRG7O2yE2jyik622KZAwKqNk47XZlLfrXhvRhHXX0rZeV2Xm3oM2rrQL0yj52ij8kbR9UDqiobWKRU8jnATRHxoYG7LgNOzn4/GfhKoQjMGuLctr7Jc4b+LODlwA8krc62nQm8F/i8pFOAW4GXVBOiWWWc29YrIyv0iLgamOv8/+hywzGrj3Pb+sYjRc3MeqLx2Rb7ZpyOl6LlDyurrUv0ldkh16bZFouqemBL3pksi+ZL3s+z6OdeZlxVd7BWOQNj3tz2GbqZWU+4Qjcz6wlX6GZmPeEK3cysJ9wpOg9jzABYaVltkWfGO6tOmSMhhz2u6FKBc+0zj6I5VPVsi50dKWpmZt3gCt3MrCdcoZuZ9YQrdDOznmi8U7QNo9GGKbNDr2hnyTij/MpUdARimztw61DmiMa2jpjMq625UfT9qXuKY48UNTNbYFyhm5n1RJ4FLvaXdJWkGyWtlfS6bPtZkjZIWp3djq0+XLPyOLetb/K0od8HnBYR10naA5iWtDK77+yI+EB14ZlVyrltvZJngYuNwMbs922SbgKWVBlUmSMOy5y2M48mRkdWPQVr3sfNjqOJz22e+6g0t8tcP7QNFw9UfaFA1ZrIx7ovYphXG7qkpcDTgGuzTadKukHSuZL2Kjk2s9o4t60PclfoknYnrY7++oi4B/gE8ERgGeks54NzPG+5pFWSVm3evLmEkM3K5dy2vshVoUvahZTwF0bEJQARcWdE3B8Rvwc+BRwx7LkRsSIipiJiamJioqy4zUrh3LY+GdmGrtQIdA5wU0R8aGD74qwNEuCFwJpRZU1PTxdqx8rb5jTObHB1q3tgQtn7bOv7Oh9V53aez6DMgUVlt9e29TOuOre70l4+TJ6rXJ4FvBz4gaTV2bYzgZMkLQMCWAe8ppIIzarj3LZeyXOVy9XAsH9/l5cfjll9nNvWNx4pambWE67Qzcx6otYKfXJykogYeZtNUq5bmfLEWXaHR9X7qzL2ojHU8b7WYVhuFzXs/Sgz34uWVebnlLesoo/LW1bR15T3Pay6nprNZ+hmZj3hCt3MrCdcoZuZ9YQrdDOznmh8Cbq2yjvqq8oZ9aruHKyiU3dQW0ca1qUNIwfHmc2xys+z7Nwoumxc0VGnbe249xm6mVlPuEI3M+sJV+hmZj3hCt3MrCc60Sla9XSZbVX1a6y6026caY/b2uk0H0U7zKvufM+r6FS/eeQtq8z3Z5j5jJIt43l5FX1ffYZuZtYTrtDNzHpiZIUuaTdJ35N0vaS1kt6RbX+8pGsl3SLpc5IeXn24ZuVxblvf5DlD/y3w7Ig4nLRo7jGSng68Dzg7Ig4Cfg6cUl2Y22tihr6qZ3wsOhNcmbPz5Z3Zsg8zJNKC3B7nfaxzFr9h+5trn3leUxM5lXefeeJo66yhIyv0SH6Z/blLdgvg2cAXs+3nAydUEqFZRZzb1je52tAl7ZStubgJWAn8BNgaEfdlD1kPLKkmRLPqOLetT3JV6BFxf0QsA/YDjgAOzbsDScslrZK0avPmzQXDNKuGc9v6ZF5XuUTEVuAq4BnAnpJmrmPfD9gwx3NWRMRURExNTEyMFaxZVZzb1gd5rnKZkLRn9vsjgOcCN5GS/0XZw04GvlJVkHPE1fgyWm1RZudsWzp76ujwa0Nu5+2EbquiHffjlJ/n/cnbAZr3/S/6GZUV6+TkZK73K89I0cXA+ZJ2Iv0D+HxEfFXSjcDFkt4J/A9wTq49mrWHc9t6ZWSFHhE3AE8bsv2npDZHs05yblvfeKSomVlPuEI3M+sJ1dkpKGkzcCuwCNhS247L1+X4uxw77Dj+AyOikctNnNut0OXYoYTcrrVCf2Cn0qqImKp9xyXpcvxdjh3aH3/b4xuly/F3OXYoJ343uZiZ9YQrdDOznmiqQl/R0H7L0uX4uxw7tD/+tsc3Spfj73LsUEL8jbShm5lZ+dzkYmbWE7VX6JKOkfQjpdVgTq97//Ml6VxJmyStGdi2t6SVkm7Ofu7VZIxzkbS/pKsk3ai0Is/rsu2tj18dW03IeV2fLuc1VJvbtVbo2ZwZHwdeABwGnCTpsDpjKOA84JhZ204HroyIg4Ers7/b6D7gtIg4DHg68Nrs/e5C/I2vJpSX87p2Xc5rqDC36z5DPwK4JSJ+GhG/Ay4Gjq85hnmJiG8Dd8/afDxpJRto8Yo2EbExIq7Lft9GmklwCR2Iv2OrCTmva9TlvIZqc7vuCn0JcNvA311dDWafiNiY/X4HsE+TweQhaSlpIqpr6Uj86s5qQs7rhnQxr6G63Han6JgiXSbU6kuFJO0OfAl4fUTcM3hfm+MfZzUhG0+b82JGV/Maqsvtuiv0DcD+A3/PuRpMy90paTFA9nNTw/HMSdIupKS/MCIuyTZ3Jn4otppQzZzXNetDXkP5uV13hf594OCsN/fhwInAZTXHUIbLSCvZQAOrNeWltDzKOcBNEfGhgbtaH79asJrQPDiva9TlvIaKczvvkmNl3YBjgR+T2ozeXPf+C8R7EbARuJfUrnUK8BhSL/rNwBXA3k3HOUfsR5K+dt4ArM5ux3YhfuCppNWCbgDWAG/Ltj8B+B5wC/AFYNemY83icl7XF3tn8zqLv7Lc9khRM7OecKeomVlPuEI3M+sJV+hmZj3hCt3MrCdcoZuZ9YQrdDOznnCFbmbWE67Qzcx64v8BkfNknq609o4AAAAASUVORK5CYII=\n",
      "text/plain": [
       "<Figure size 432x288 with 2 Axes>"
      ]
     },
     "metadata": {
      "needs_background": "light"
     },
     "output_type": "display_data"
    },
    {
     "name": "stdout",
     "output_type": "stream",
     "text": [
      "epoch 78 Rec error: 281.9435 sq_error 0.3857422\n",
      "\r",
      "Epoch: 78 / 100\n"
     ]
    },
    {
     "data": {
      "application/vnd.jupyter.widget-view+json": {
       "model_id": "32e1ea0ba1ac49749b55627fb6f5dfa9",
       "version_major": 2,
       "version_minor": 0
      },
      "text/plain": [
       "HBox(children=(IntProgress(value=0, max=422), HTML(value='')))"
      ]
     },
     "metadata": {},
     "output_type": "display_data"
    },
    {
     "data": {
      "image/png": "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\n",
      "text/plain": [
       "<Figure size 432x288 with 2 Axes>"
      ]
     },
     "metadata": {
      "needs_background": "light"
     },
     "output_type": "display_data"
    },
    {
     "name": "stdout",
     "output_type": "stream",
     "text": [
      "epoch 79 Rec error: 290.444 sq_error 0.34960938\n",
      "\r",
      "Epoch: 79 / 100\n"
     ]
    },
    {
     "data": {
      "application/vnd.jupyter.widget-view+json": {
       "model_id": "e088b8a88c1543c88b28c83a0b246a9a",
       "version_major": 2,
       "version_minor": 0
      },
      "text/plain": [
       "HBox(children=(IntProgress(value=0, max=422), HTML(value='')))"
      ]
     },
     "metadata": {},
     "output_type": "display_data"
    },
    {
     "data": {
      "image/png": "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\n",
      "text/plain": [
       "<Figure size 432x288 with 2 Axes>"
      ]
     },
     "metadata": {
      "needs_background": "light"
     },
     "output_type": "display_data"
    },
    {
     "name": "stdout",
     "output_type": "stream",
     "text": [
      "epoch 80 Rec error: 321.9437 sq_error 0.19726562\n",
      "\r",
      "Epoch: 80 / 100\n"
     ]
    },
    {
     "data": {
      "application/vnd.jupyter.widget-view+json": {
       "model_id": "fd2d5a3976444f4cbbc6a090de30b80d",
       "version_major": 2,
       "version_minor": 0
      },
      "text/plain": [
       "HBox(children=(IntProgress(value=0, max=422), HTML(value='')))"
      ]
     },
     "metadata": {},
     "output_type": "display_data"
    },
    {
     "data": {
      "image/png": "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\n",
      "text/plain": [
       "<Figure size 432x288 with 2 Axes>"
      ]
     },
     "metadata": {
      "needs_background": "light"
     },
     "output_type": "display_data"
    },
    {
     "name": "stdout",
     "output_type": "stream",
     "text": [
      "epoch 81 Rec error: 288.8098 sq_error 0.36328125\n",
      "\r",
      "Epoch: 81 / 100\n"
     ]
    },
    {
     "data": {
      "application/vnd.jupyter.widget-view+json": {
       "model_id": "8b4594ccfa9b4b9cb847eed3881f67a1",
       "version_major": 2,
       "version_minor": 0
      },
      "text/plain": [
       "HBox(children=(IntProgress(value=0, max=422), HTML(value='')))"
      ]
     },
     "metadata": {},
     "output_type": "display_data"
    },
    {
     "data": {
      "image/png": "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\n",
      "text/plain": [
       "<Figure size 432x288 with 2 Axes>"
      ]
     },
     "metadata": {
      "needs_background": "light"
     },
     "output_type": "display_data"
    },
    {
     "name": "stdout",
     "output_type": "stream",
     "text": [
      "epoch 82 Rec error: 325.28778 sq_error 0.18554688\n",
      "\r",
      "Epoch: 82 / 100\n"
     ]
    },
    {
     "data": {
      "application/vnd.jupyter.widget-view+json": {
       "model_id": "5b786cce269a4927b1290779879bc35f",
       "version_major": 2,
       "version_minor": 0
      },
      "text/plain": [
       "HBox(children=(IntProgress(value=0, max=422), HTML(value='')))"
      ]
     },
     "metadata": {},
     "output_type": "display_data"
    },
    {
     "data": {
      "image/png": "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\n",
      "text/plain": [
       "<Figure size 432x288 with 2 Axes>"
      ]
     },
     "metadata": {
      "needs_background": "light"
     },
     "output_type": "display_data"
    },
    {
     "name": "stdout",
     "output_type": "stream",
     "text": [
      "epoch 83 Rec error: 312.86557 sq_error 0.35839844\n",
      "\r",
      "Epoch: 83 / 100\n"
     ]
    },
    {
     "data": {
      "application/vnd.jupyter.widget-view+json": {
       "model_id": "597f573085e3424cad7b2378904a3c82",
       "version_major": 2,
       "version_minor": 0
      },
      "text/plain": [
       "HBox(children=(IntProgress(value=0, max=422), HTML(value='')))"
      ]
     },
     "metadata": {},
     "output_type": "display_data"
    },
    {
     "data": {
      "image/png": "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\n",
      "text/plain": [
       "<Figure size 432x288 with 2 Axes>"
      ]
     },
     "metadata": {
      "needs_background": "light"
     },
     "output_type": "display_data"
    },
    {
     "name": "stdout",
     "output_type": "stream",
     "text": [
      "epoch 84 Rec error: 287.93167 sq_error 0.111328125\n",
      "\r",
      "Epoch: 84 / 100\n"
     ]
    },
    {
     "data": {
      "application/vnd.jupyter.widget-view+json": {
       "model_id": "38d1a93e958045dea4b35134fab00816",
       "version_major": 2,
       "version_minor": 0
      },
      "text/plain": [
       "HBox(children=(IntProgress(value=0, max=422), HTML(value='')))"
      ]
     },
     "metadata": {},
     "output_type": "display_data"
    },
    {
     "data": {
      "image/png": "iVBORw0KGgoAAAANSUhEUgAAAXQAAADHCAYAAAAJSqg8AAAABHNCSVQICAgIfAhkiAAAAAlwSFlzAAALEgAACxIB0t1+/AAAADl0RVh0U29mdHdhcmUAbWF0cGxvdGxpYiB2ZXJzaW9uIDMuMC4zLCBodHRwOi8vbWF0cGxvdGxpYi5vcmcvnQurowAAFxJJREFUeJzt3XuwJGV5x/HvT+4KCriIy3JTQAhGXepsKDUkIXhDqshiSimIJqiYNYmk1CKGiwpoRaMWikaNBoVaDAiiIhI1GKAQNSq6S5bLsiJoFmFZWBZYWaJyffLH28edHeac6TPTPdP9zu9TNXXm9Mx0PzPz9DPd79vdryICMzNrv6eMOwAzM6uGC7qZWSZc0M3MMuGCbmaWCRd0M7NMuKCbmWXCBb0kSadK+nzVzy0xr5C0bxXzMptEklZKOnTccYyCJvE4dElvBE4E9gEeBL4GnBIRG8YZVy+SAtgvIm7r8dh3gPMjopIfD2svSauBXYHHgYeAy4ETIuKhccbVTdIZwL4R8Yaa5r8UuDMi3lPH/Jtu4rbQJZ0IfBh4F/AM4MXAXsAVkrae4TVbji5Cs4EdGRHbAwuBg4BTxhzPnCmZuLpUmYiYmBvwdNLWy9Fd07cH7gXeXPx/BvAV4HzSFvxbimnnd7zmr4DbgfuA9wKrgZd3vP784v7eQADHAb8E1gPv7pjPwcAPgQ3AWuBTwNYdjwdpi6bX+/kO8Jbi/qHAncA/AuuKeR0FHAH8DLgfOHUOy30lcAvwK+BfgWuml1U8/mZgFfAA8G1gr3F/v5N868y/4v+PAN8s7m8DnFnk3z3AZ4HtOp67GFhR5PrPgcOL6bsBlxW5cxvw1x2vOQO4GPgCsBFYCSzqePwkYE3x2C3Ay4DDgUeAR4v18PqOPP4A8N/Ab4B9e7yf7vXvEOAHRf7eAbwRWFLM+5Fi/v/R/dkUn8XHgbuK28eBbbrWoRM71qE3jfu7nctt0n4JXwpsC1zSOTHSbum3gFd0TF5MKuo7Ahd0Pl/SgaQi93pgPmlLf0GfZR8C7E9K7NMk/V4x/XHgncA84CXF4383x/c17dmk97cAOA34HPAGYAr4I+C9kp7Tb7mS5pHe+ynAM0kr5EunFyJpMXAq8OfALsD3gAsHjNkqJml34NWkIgzwIeB5pC33fdmUH0g6mFSU30XK9T8mFUCAi0gFbjfgtcAHJR3Wsag/K56zI6nwf6qY5/7ACcAfRMQOwKuA1RFxOfBB4EsRsX1EvKhjXn9JKsg7kDaUZnt/ewH/CXySlH8LgRURcTZpXf1IMf8je7z83aS98oXAi0gbNp3NM89m0/p8PPBpSTvNFk+TTFpBnwesj4jHejy2tnh82g8j4tKIeCIiftP13NeSfv2/HxGPkFaOfp0R74uI30TE9cD1pGQiIpZHxI8i4rGIWA38G/Anc39rQNo6+UBEPEpa0eYBn4iIjRGxEri55HKPAFZGxCXFZ/UvwN0dy/kb4J8jYlXx+AeBhcWKZuNzqaSNpC3WdcDpkkQqlO+MiPsjYiPp+zqmeM3xwLkRcUWR62si4qeS9gD+EDgpIn4bESuAz5P2TKd9PyK+FRGPA/9OkVukjYVtgAMlbRURqyPi531iXxoRK4t8fLTPc/8CuDIiLoyIRyPiviK+Ml4PvD8i1kXEvcD7SD8m0x4tHn80Ir5F2tLfv+S8x27SCvp6YN4MbeLzi8en3THLfHbrfDwifk1qeplNZ0H8NamZB0nPk/QNSXdLepC0ss3rNYMS7itWLki7rpB2semYVma53e8vSFtq0/YCPiFpg6QNpF1y0X8vxep1VLFFfChwAOn73AV4KrC84/u6vJgOsAepmaXbbsD0D8C029n8O+7O6W0lbRmpA/8dpGaSdZIukrRbn9hnW9+6zRRzGbux+R7A7cW0afd1bfD9bl1tg0kr6D8EHiY1FfyOpO1Ju6hXdUyebYt7LbB7x+u3IzVNDOIzwE9JR7I8ndSUoQHnVdVyu9+fOv8nrXxvjYgdO27bRcQPRhC39RER1wBLSe3m60k/5M/v+K6eEanzFNJ3uU+P2dwF7Cxph45pe5LaxcvE8MWIOIT04x+kAxFg5vWqe/r/kX6Ipj274/5MMc82/2l3FTFN27OYloWJKugR8SvSLtYnJR0uaStJe5M6d+4k7TaW8RXgSEkvLY6MOYPBi/AOpM6ohyQdAPztgPOpcrnfBF4g6ahib+ZtbL5CfRY4RdLzASQ9Q9LrRhS3lfNxUp/QC0h9KWdJehaApAWSXlU87xzgTZJeJukpxWMHRMQdpE7Hf5a0raQXkppnzu+3YEn7SzpM0jbAb0k/KE8UD98D7F3iSJYVwDHFOrqI1Mw57QLg5ZKOlrSlpGdKWtgx/+fOMt8LgfdI2qXoKzqtzHtqi4kq6AAR8RHS1uiZpIJ2LekX/2UR8XDJeawE/p7UTr2W1M62jrT1P1f/QGoT3Eha8b40wDwGMeNyI2I98DrSkRL3AQcCyyjeX0R8jbTFdVHRXHMTaQ/HGqJoH/4CqWCdROog/VHxfV1J0S4cET8G3gScRTqi6Ro2bcEeSzpK6y7SuRqnR8SVJRa/Dakjdj2pWeZZbDqE8svF3/skXTfLPN5L2gp/gLQR9sWO9/ZLUj/PiaTmvhVsar8/h9R2v0HSpT3m+0+kXL4BuBG4rpiWhYk8sahqRZPNBlLzxf+OO56qFVtTdwKvj4irxx2PmfU2cVvoVZF0pKSnSnoaaWv/RjYd7tV6kl4lacdit3m6ff1HYw7LzGbhgj64xWw6OWE/4JjIa3fnJaQjCdYDR5KOoOg+fNPMGsRNLmZmmfAWuplZJoYq6MWhf7dIuk3SyVUFZTZuzm1ro4GbXCRtQbro0ytIR0D8BDg2Im6e5TUjb9+Zmpra7P/ly5ePOgQboYgY+qSstuT2pOpep2Ey1usyuT3MZWEPBm6LiF8ASLqI1FE4Y9KPw7Jlyzb7P530aDarVuT2pOpep8Hr9bRhmlwWsPn1F+6kx7U8JC2RtEzSk78Fs2Zyblsr1T5wQ3FJy7PBu6WWF+e2Nc0wBX0N6apn03an5IV7+ulu1x9md2oSdsV69YP0et9Vfq6Zqy23bXjO25kN0+TyE2A/Sc8pLlB1DOki92Zt59y2Vhp4Cz0iHpN0Amn4sS1IF8lfWVlkZmPi3La2GumZomXbGd00MDductmkisMWB+E2dKtbmdz2maJmZpmo/SiXKpTdAp1UZbbGeym7d+bP2qw+ZdbDRYsWlZqXt9DNzDLhgm5mlgkXdDOzTLSiDb3Jbbh1HjkyTN9B3Z+Z+zUsB1Xm8aDzqnK98Ra6mVkmXNDNzDLhgm5mlgkXdDOzTDSyU7RNnWt1xtrkz6HJsTVFbh3HTehArFqbv49evIVuZpYJF3Qzs0y4oJuZZWKoNnRJq4GNwOPAYxFR7goyZg3n3LY2qqJT9E8jYn0F8zFrmqFyO7cOt7JX9Rz12ZFVa/N7cpOLmVkmhi3oAfyXpOWSllQRkFlDOLetdYZtcjkkItZIehZwhaSfRsR3O59QrAxeIaxtnNvWOpWNKSrpDOChiDhzlud43EWrVR1jijq3Z9aUE4Sq1NT3VOuYopKeJmmH6fvAK4GbBp3fbCKi1M02acLn04QYBjHK3G47SU+6NUFbc29YwzS57Ap8rfgCtwS+GBGXVxKV2Xg5t62VKmtyKbWwAXdLPZjx3DVht3EcMdTR5FLGpDa5NNUwudeEdaeXWptczMysWRp5tcUymvCL2WRN+HyaEMM4NXhL70nTmhBXlXJ7P2V5C93MLBMu6GZmmXBBNzPLhAu6mVkmWtEpOqkdHNZuVeZtlR2ZXp9m1+bPx1voZmaZcEE3M8uEC7qZWSZc0M3MMjFxBX1SrsI2Ke+zKaamprL7vHN7P5Ng4gq6mVmuXNDNzDLhgm5mlom+BV3SuZLWSbqpY9rOkq6QdGvxd6d6wzSrnnPbclNmC30pcHjXtJOBqyJiP+Cq4v+RKjssXZmOnSqHuGtKZ2RThwYbVE2f61JGnNuD5mOdMcx0yyl/2qb7u5iamir1ur4FvRjp/P6uyYuB84r75wFHzSVYsyZwbltuBm1D3zUi1hb37yaNwWiWA+e2tdbQnaKR9gdn3CeUtETSMknLhl2W2SjNJbfvvffeEUZm1tugBf0eSfMBir/rZnpiRJwdEYsiYtGAyzIbpYFye5dddhlZgGYzGfTyuZcBxwEfKv5+vbKIGqKplz6dVCP8vAbK7eXLl5eKse68qlL3/J2zozPwpZH7JYWkC4FDgXnAPcDpwKXAxcCewO3A0RHR3bnUa16VZWDdyTzoB1o2Lq8c9YiI0h/spOb2oJyz41Umt/sW9Cq1Keld0NtpLgW9Sm3K7UE5Z8erTG77TFEzs0y0tqDXfeJMlScuWf56XW1x1DlUdp0Y9Hl18/o0vNYWdDMz25wLuplZJlzQzcwy4YJuZpaJQU8sqlWZzpCmHkLV1Lhs9HrlQpmTdQbtDJzLFUGrmn+V+T6OdaepJ/11x7VoUbkT7b2FbmaWCRd0M7NMuKCbmWXCBd3MLBONvJbLoDFV2cE0qCZ0qEyypl/Lpcp87M61Yc8ytWbztVzMzCaIC7qZWSZc0M3MMtG3oEs6V9I6STd1TDtD0hpJK4rbEfWGaVY957blpsyZokuBTwFf6Jp+VkScWXlEVDu4hAeqsFksZcy5XTZnez2vyrNO6z5j0sPZzU1tZ4pGxHeBvkNwmbWNc9tyM0wb+gmSbih2W3ea6UmSlkhaJmnZEMsyGyXntrXSoAX9M8A+wEJgLfDRmZ4YEWdHxKKIKLfPYDZezm1rrYEKekTcExGPR8QTwOeAg8u8ruwwXYMqM7RWk4eSa0IMbdL9eU1NTVUxz4FyexzqHG6u6jbuUQ9nN6kGKuiS5nf8+xrgppmea9Ymzm1rs75HuUi6EDgUmCfpTuB04FBJC4EAVgNvrTFGs1o4ty03fQt6RBzbY/I5NcRiNlLObcuNzxQ1M8vESIegW758eaVXiOs26NB1TemAdGfRzJryHc1kamqKZcs2P3px0CHoeinzvLo/o6YO15ajQT9Xb6GbmWXCBd3MLBMu6GZmmXBBNzPLxEg7RXupslNlUjtoJqGzKpf3U+cVDKueV3esTfkOJiHfB+UtdDOzTLigm5llwgXdzCwTLuhmZpnQKM/Ak9TI0/3cyTI6IxjqbCxfXBNy28Mm5q1MbnsL3cwsEy7oZmaZcEE3M8tE34IuaQ9JV0u6WdJKSW8vpu8s6QpJtxZ/ZxxM16yJnNuWm76dosWQXPMj4jpJOwDLgaOANwL3R8SHJJ0M7BQRJ/WZ19g7jnoZdhxTa465dIpOQm734oMA2qmSTtGIWBsR1xX3NwKrgAXAYuC84mnnkVYEs9Zwbltu5nQtF0l7AwcB1wK7RsTa4qG7gV1neM0SYMngIZrVz7ltOSh9HLqk7YFrgA9ExCWSNkTEjh2PPxARs7Y1NnW31E0u+RjkOPScc7sXN7m0U2XHoUvaCvgqcEFEXFJMvqdog5xui1w3aKBtIelJt4jY7Fa37uU1fWi2pmtLbvt7tzLKHOUi0kjoqyLiYx0PXQYcV9w/Dvh69eGZ1ce5bbkpc5TLIcD3gBuBJ4rJp5LaGi8G9gRuB46OiPv7zKuRmxXDnDI96KC/g/Lu8uzmeJRLa3K7yu/dOdROZXLb13LBBT0nuV7LxQXdfC0XM7MJMvYh6JpgmK2TUW/ZeEtqMnmoxtmV2cvO8X138xa6mVkmXNDNzDLhgm5mlgkXdDOzTGTVKdqmw7EG7cRp02UK2vR9WLt151Xdh2M3Nbe9hW5mlgkXdDOzTLigm5llwgXdzCwTWXWKNqFToqxBYy37ul6dNlV2xLbps7b2Kpt7o76mUpXzr3L98ha6mVkmXNDNzDJRZoCLPSRdLelmSSslvb2YfoakNZJWFLcj6g/XrDrObctNmQEu5gPzI+I6STsAy0mjoB8NPBQRZ5ZeWEOvh56jQU+sqLINfRxt73Mc4MK53XBNbUOv0hzeY9831bdTtBj9fG1xf6OkVcCCMoGOWm6dd00ZN7LuDtxeRrGCtim3y2hT/g8Ta5n1ok2fRZVxzakNXdLewEGkIboATpB0g6RzJc06KrpZkzm3LQelC7qk7Umjo78jIh4EPgPsAywkbeV8dIbXLZG0TNKyCuI1q5xz23JRakxRSVsB3wC+3TU6+vTjewPfiIjf7zOf1oy72ATjaHJpyuc1aJPLXMcUbUtul9Gm/B+0bXwYTf0syqqkDV3pUzgHWNWZ8JLmF22QAK8Bbho00Dq1ubOkbYYownWE01fbc7tbkwcoL5MbdQ/WPo6Btkf9I1vmKJdDgO8BNwJPFJNPBY4l7ZIGsBp4a8dKMNO8Rr6F3iOGOkOoVNu20Oss6HVsobcpt5vABX3u86p4mX1fWKrJpSou6HPjgj7QvMbyBbugz+21LugDLbPvC32mqJlZJlzQzcwy4asttkwTOl5mMgmff5OMuolxmHmVeW3dnehN+Szq5C10M7NMuKCbmWXCBd3MLBMu6GZmmRhpQZ+amiIiNrvZzCQ96TbM86y9utebiOj5vU9CHkzq+y7DW+hmZplwQTczy4QLuplZJlzQzcwykdXFuZqgKWdtjmk8z77PGUEMvjjXBJqEy2T74lxmZhPEBd3MLBN9C7qkbSX9WNL1klZKel8x/TmSrpV0m6QvSdq6/nDNquPcttyU2UJ/GDgsIl5EGsXlcEkvBj4MnBUR+wIPAMfXF2Z7lD3JodeJIuOIo85ltsBE5nbduTdoDMPE1cLcq0Xfgh7JQ8W/WxW3AA4DvlJMPw84qpYIzWri3LbclGpDl7SFpBXAOuAK4OfAhoh4rHjKncCCekI0q49z23JSqqBHxOMRsRDYHTgYOKDsAiQtkbRM0rIBYzSrjXPbcjKno1wiYgNwNfASYEdJ0yMe7Q6smeE1Z0fEoohYNFSkZjVyblsOyhzlsoukHYv72wGvAFaRkv+1xdOOA75eV5BlVdnJUrdJuEJc099jm3K7Sk34XspcMVFSo9fhJup7pqikF5I6hrYg/QBcHBHvl/Rc4CJgZ+B/gDdExMN95lXrt9GEMxVtvOZypmibcntSNeXM6yYok9tZnfrvgm4+9T8vLuib+NR/M7MJ4oJuZpaJLfs/pVLrgduBecX9So1wV6yW+EekzbHD7PHvNcpAutSa2yPUqPjnuE43KvYBDJ3bI21D/91CpWVtPtSrzfG3OXZofvxNj6+fNsff5tihmvjd5GJmlgkXdDOzTIyroJ89puVWpc3xtzl2aH78TY+vnzbH3+bYoYL4x9KGbmZm1XOTi5lZJkZe0CUdLumWYjSYk0e9/LmSdK6kdZJu6pi2s6QrJN1a/N1pnDHORNIekq6WdHMxIs/bi+mNj79towk5r0enzXkN9eb2SAu6pC2ATwOvBg4EjpV04ChjGMBS4PCuaScDV0XEfsBVxf9N9BhwYkQcCLwYeFvxebch/taMJuS8Hrk25zXUmNuj3kI/GLgtIn4REY+QLoC0eMQxzElEfBe4v2vyYtJFnaDBI9pExNqIuK64v5F0JcEFtCD+lo0m5LweoTbnNdSb26Mu6AuAOzr+b+toMLtGxNri/t3AruMMpgxJewMHAdfSkvjVntGEnNdj0sa8hvpy252iQ4p0mFCjDxWStD3wVeAdEfFg52NNjn+Y0YRsOE3Oi2ltzWuoL7dHXdDXAHt0/D/jaDANd4+k+QDF33VjjmdGkrYiJf0FEXFJMbk18cNgowmNmPN6xHLIa6g+t0dd0H8C7Ff05m4NHANcNuIYqnAZaSQbaPCINkpXNjoHWBURH+t4qPHxq12jCTmvR6jNeQ0153aZYduqvAFHAD8jtRm9e9TLHyDeC4G1wKOkdq3jgWeSetFvBa4Edh53nDPEfghpt/MGYEVxO6IN8QMvJI0WdANwE3BaMf25wI+B24AvA9uMO9YiLuf16GJvbV4X8deW2z5T1MwsE+4UNTPLhAu6mVkmXNDNzDLhgm5mlgkXdDOzTLigm5llwgXdzCwTLuhmZpn4f4uFYOA79fvJAAAAAElFTkSuQmCC\n",
      "text/plain": [
       "<Figure size 432x288 with 2 Axes>"
      ]
     },
     "metadata": {
      "needs_background": "light"
     },
     "output_type": "display_data"
    },
    {
     "name": "stdout",
     "output_type": "stream",
     "text": [
      "epoch 85 Rec error: 301.1953 sq_error 0.19335938\n",
      "\r",
      "Epoch: 85 / 100\n"
     ]
    },
    {
     "data": {
      "application/vnd.jupyter.widget-view+json": {
       "model_id": "5a293bba0fc14fa8adb8aac81eb37a0a",
       "version_major": 2,
       "version_minor": 0
      },
      "text/plain": [
       "HBox(children=(IntProgress(value=0, max=422), HTML(value='')))"
      ]
     },
     "metadata": {},
     "output_type": "display_data"
    },
    {
     "data": {
      "image/png": "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\n",
      "text/plain": [
       "<Figure size 432x288 with 2 Axes>"
      ]
     },
     "metadata": {
      "needs_background": "light"
     },
     "output_type": "display_data"
    },
    {
     "name": "stdout",
     "output_type": "stream",
     "text": [
      "epoch 86 Rec error: 290.15753 sq_error 0.0234375\n",
      "\r",
      "Epoch: 86 / 100\n"
     ]
    },
    {
     "data": {
      "application/vnd.jupyter.widget-view+json": {
       "model_id": "362757e40daf40eb98f05fb8445d94e9",
       "version_major": 2,
       "version_minor": 0
      },
      "text/plain": [
       "HBox(children=(IntProgress(value=0, max=422), HTML(value='')))"
      ]
     },
     "metadata": {},
     "output_type": "display_data"
    },
    {
     "data": {
      "image/png": "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\n",
      "text/plain": [
       "<Figure size 432x288 with 2 Axes>"
      ]
     },
     "metadata": {
      "needs_background": "light"
     },
     "output_type": "display_data"
    },
    {
     "name": "stdout",
     "output_type": "stream",
     "text": [
      "epoch 87 Rec error: 300.54004 sq_error 0.030273438\n",
      "\r",
      "Epoch: 87 / 100\n"
     ]
    },
    {
     "data": {
      "application/vnd.jupyter.widget-view+json": {
       "model_id": "23a6b079e5514779b8b1f4f861473d07",
       "version_major": 2,
       "version_minor": 0
      },
      "text/plain": [
       "HBox(children=(IntProgress(value=0, max=422), HTML(value='')))"
      ]
     },
     "metadata": {},
     "output_type": "display_data"
    },
    {
     "data": {
      "image/png": "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\n",
      "text/plain": [
       "<Figure size 432x288 with 2 Axes>"
      ]
     },
     "metadata": {
      "needs_background": "light"
     },
     "output_type": "display_data"
    },
    {
     "name": "stdout",
     "output_type": "stream",
     "text": [
      "epoch 88 Rec error: 291.72382 sq_error 0.15039062\n",
      "\r",
      "Epoch: 88 / 100\n"
     ]
    },
    {
     "data": {
      "application/vnd.jupyter.widget-view+json": {
       "model_id": "33b6c0a52d8e46a59f1b23f144011d4d",
       "version_major": 2,
       "version_minor": 0
      },
      "text/plain": [
       "HBox(children=(IntProgress(value=0, max=422), HTML(value='')))"
      ]
     },
     "metadata": {},
     "output_type": "display_data"
    },
    {
     "data": {
      "image/png": "iVBORw0KGgoAAAANSUhEUgAAAXQAAADHCAYAAAAJSqg8AAAABHNCSVQICAgIfAhkiAAAAAlwSFlzAAALEgAACxIB0t1+/AAAADl0RVh0U29mdHdhcmUAbWF0cGxvdGxpYiB2ZXJzaW9uIDMuMC4zLCBodHRwOi8vbWF0cGxvdGxpYi5vcmcvnQurowAAGV9JREFUeJzt3X+wbWV93/H3J4poAhHwHvFyIVwjBEsm8TrnlPEHbaloJMxQSMc4UGOJIcW20tEMTQWMip1EjUPENKamGBiwIGgMKjXUFhmitVH0XHpFLmhAe4nghXsuSLg0RgG//WOtI5vN3mc/Z+1n/Tyf18yec87aez3ru9f+rues/TzrWY8iAjMz67+faDsAMzPLwxW6mdlAuEI3MxsIV+hmZgPhCt3MbCBcoZuZDYQr9ESSLpD0p7lfm1BWSDoqR1lmG5GknZJOaDuOJmgjXocu6deBc4EXAA8DnwTOj4iH2oxrEkkBHB0Rd0147i+BKyMiyz8P6y9Ju4BDgceBR4DPAudExCNtxjVO0oXAURHxazWVfzlwT0T8Th3ld92GO0OXdC7w+8BvA88GXgIcCdwg6RlT1nl6cxGaVXZKRBwAbANeDJzfcjzrpsKGq5eyiYgN8wB+muLs5bVjyw8AVoDfKP++EPgEcCXFGfxvlsuuHFnnXwJ3Aw8Abwd2Aa8cWf/K8vetQABnAn8D7AXeNlLOccCXgIeA3cAHgWeMPB8UZzST3s9fAr9Z/n4CcA/wH4A9ZVmnAScDfw08CFywju3+EvBN4G+B/wx8fnVb5fO/AdwBfA/4H8CRbX++G/kxmn/l3+8D/qL8fX/gojL/7gf+BHjWyGtPBXaUuf4t4KRy+WHAdWXu3AX8q5F1LgQ+DnwE2AfsBJZGnn8rcG/53DeBE4GTgB8Cj5bH4ddG8vj3gP8NfB84asL7GT/+jgf+qszf7wC/Dpxdlv3Dsvz/Nr5vyn3xAeC75eMDwP5jx9C5I8fQG9r+bNfz2Gj/CV8GPBO4dnRhFF9LrwdeNbL4VIpK/SDgqtHXSzqWopJ7HbCZ4kx/y4xtHw8cQ5HY75D0D8rljwO/BWwCXlo+/2/X+b5WPY/i/W0B3gF8GPg1YBH4R8DbJT1/1nYlbaJ47+cDz6E4IF+2uhFJpwIXAP8cWAD+F3B1xZgtM0mHA79MUQkDvBf4OYoz96N4Ij+QdBxFpfzbFLn+jykqQIBrKCq4w4DXAO+W9IqRTf2z8jUHUVT8HyzLPAY4B/iHEXEg8GpgV0R8Fng38LGIOCAiXjRS1uspKuQDKU6U1np/RwL/HfgjivzbBuyIiEsojtX3leWfMmH1t1F8K98GvIjixGa0eeZ5PHE8nwX8saSD14qnSzZahb4J2BsRj014bnf5/KovRcSnIuJHEfH9sde+huK//xcj4ocUB8eszoh3RcT3I+JrwNcokomI2B4RX46IxyJiF/BfgH+y/rcGFGcnvxcRj1IcaJuAP4yIfRGxE7g9cbsnAzsj4tpyX/0n4L6R7fxr4D0RcUf5/LuBbeWBZu35lKR9FGese4B3ShJFRflbEfFgROyj+LxOL9c5C7gsIm4oc/3eiPiGpCOAlwNvjYi/j4gdwJ9SfDNd9cWIuD4iHgf+K2VuUZws7A8cK2m/iNgVEd+aEfvlEbGzzMdHZ7z2XwCfi4irI+LRiHigjC/F64D/GBF7ImIFeBfFP5NVj5bPPxoR11Oc6R+TWHbrNlqFvhfYNKVNfHP5/KrvrFHOYaPPR8TfUTS9rGW0Qvw7imYeJP2cpM9Iuk/SwxQH26ZJBSR4oDy4oPjqCsVXbEaWpWx3/P0FxZnaqiOBP5T0kKSHKL6Si9nfUqxep5VnxCcAL6T4PBeAnwS2j3xeny2XAxxB0cwy7jBg9R/Aqrt58mc8ntPPlPT0KDrw30LRTLJH0jWSDpsR+1rH27hpMac4jCd/A7i7XLbqgbETvh8fq32w0Sr0LwE/oGgq+DFJB1B8Rb1xZPFaZ9y7gcNH1n8WRdNEFR8CvkFxJctPUzRlqGJZubY7/v40+jfFwffGiDho5PGsiPirBuK2GSLi88DlFO3meyn+kf/8yGf17Cg6T6H4LF8woZjvAodIOnBk2c9QtIunxPDRiDie4p9/UFyIANOPq/Hl/4/iH9Gq5438Pi3mtcpf9d0yplU/Uy4bhA1VoUfE31J8xfojSSdJ2k/SVorOnXsovjam+ARwiqSXlVfGXEj1SvhAis6oRyS9EPg3FcvJud2/AH5B0mnlt5k38eQD6k+A8yX9PICkZ0v61YbitjQfoOgT+gWKvpSLJT0XQNIWSa8uX3cp8AZJJ0r6ifK5F0bEdyg6Hd8j6ZmSfpGieebKWRuWdIykV0jaH/h7in8oPyqfvh/YmnAlyw7g9PIYXaJo5lx1FfBKSa+V9HRJz5G0baT8n12j3KuB35G0UPYVvSPlPfXFhqrQASLifRRnoxdRVGg3U/zHPzEifpBYxk7g31G0U++maGfbQ3H2v17/nqJNcB/FgfexCmVUMXW7EbEX+FWKKyUeAI4FlinfX0R8kuKM65qyueY2im841hFl+/BHKCqst1J0kH65/Lw+R9kuHBFfAd4AXExxRdPneeIM9gyKq7S+SzFW450R8bmEze9P0RG7l6JZ5rk8cQnln5U/H5B0yxplvJ3iLPx7FCdhHx15b39D0c9zLkVz3w6eaL+/lKLt/iFJn5pQ7u9S5PKtwNeBW8plg7AhBxblVjbZPETRfPF/244nt/Js6h7gdRFxU9vxmNlkG+4MPRdJp0j6SUk/RXG2/3WeuNyr9yS9WtJB5dfm1fb1L7cclpmtwRV6dafyxOCEo4HTY1hfd15KcSXBXuAUiisoxi/fNLMOcZOLmdlA+AzdzGwg5qrQy0v/vinpLknn5QrKrG3Obeujyk0ukp5GcdOnV1FcAfFV4IyIuH3aOps2bYqtW7c+adn27duf8rrFxcWZ25+0XoqUsoeq6j7rgpTPbdeuXezdu3fuQVlVcru8zfGTTIo552dQNZdTY+jCsdJ0/TCt/Jz1zXhZqduLiJm5PU+F/lLgwoh4dfn3+eVG3zNtnaWlpVheXh4v5ymvS4lp0nopNnKfQdV91gUpn9vS0hLLy8s5KvR15/akCn1SzDk/gzmO3VrLz6np+mFa+Tnrm/GyUreXUqHP0+SyhSfff+EeJtzLQ9LZkpYlLa+srMyxObPGrDu3G4vMbA21d4pGxCURsRQRSwsLC7NXMOuJ0dxuOxYzgHlm4rmX4q5nqw4n8cY9OeT8Olh3U0QXvrr2XcPNRVlyuwvNK3WXVbfUWJtuTswZV87Y5zlD/ypwtKTnlzeoOp3iJvdmfefctl6qfIYeEY9JOodi+rGnUdwkf2e2yMxa4ty2vppr8uNyRo/rM8Vi1hnObesjjxQ1MxuIuc7Qm1L3dbN1Xy+cU+p1uW109HZ1n/VN1Q63eTo7Uz67NjpTq16Hnjs/x8vraq77DN3MbCBcoZuZDYQrdDOzgehkG3rV9qmq7W2TdGHwRep+6MrAqDr3WVfbLNdS9T4eXZXz+Eotf57X1amrA558hm5mNhCu0M3MBsIVupnZQLhCNzMbiEYniZ40CUCKrnZATDLEWLtgHYPLWtmxVXM7VdWBMjnzsY0O0K4MmkuRs9O4jQkuzMysQ1yhm5kNhCt0M7OBmGtgkaRdwD7gceAxT8VlQ+Hctj7KMVL0n0bE3gzlTJXa2VB1NvA2Oge7MCN8G7O/d2X/J6o9t1PVvd/qzpeco79zSo21jTs8VuEmFzOzgZi3Qg/gf0raLunsHAGZdYRz23pn3iaX4yPiXknPBW6Q9I2I+MLoC8qDwQeE9Y1z23on28AiSRcCj0TERWu8JlujXxcu/s/NbejrW2+SOgYWNZ3bqZrO2y4PBqoqZxv6JJmP6foGFkn6KUkHrv4O/BJwW9XyrLqIeMqjzvXm0cY216tKbi8uLtb6vibtN0lPekx5L0mvS1m3alySav/MJ8WR8kgtK2dcVdZbXFxMWm+eJpdDgU+WH/TTgY9GxGfnKM+sK5zb1kuVK/SI+DbwooyxmHWCc9v6ypctmpkNRKN3W1xaWorl5eXGttc3TXeKpsbQRjt31X3Rpbst5rxDYldzo+o2c3eSppTflf6aOnPbZ+hmZgPhCt3MbCBcoZuZDYQrdDOzgWh9CrqUDqABdGbUWv482+yCpkfT1SFnp+gkVY+TNkZ3tnHnxqqdrjnLb6Az252iZmYbhSt0M7OBcIVuZjYQrtDNzAYixxR02dXZodfGbTyrdtD0KVZ7qro70XPKmWtVR8Omqnv/5OyAbvpWwj5DNzMbCFfoZmYD4QrdzGwgZlboki6TtEfSbSPLDpF0g6Q7y58H1xumWX7ObRualDP0y4GTxpadB9wYEUcDN5Z/zzRpmq6qU2TNM7VWF1SdUqxqWamPNrQ4Ld3l1Jjbk6RMi5b6WVXdZ1WnYqv6flLfY6qceZtaVtNT11U1s0KPYqbzB8cWnwpcUf5+BXBa5rjMaufctqGp2oZ+aETsLn+/j2IORrMhcG5bb83dKRrF94qp3y0knS1pWdLyysrKvJsza4xz2/qmaoV+v6TNAOXPPdNeGBGXRMRSRCwtLCxU3JxZY5zb1ltVK/TrgDPL388EPl01gKodCU2vl1tXOiTrVLVjdp4Ovwwaze028iB1m7M+k3k6N1OPw6qxzqPuz6RKJ/Li4mJS2SmXLV4NfAk4RtI9ks4C3gu8StKdwCvLv816xbltQzPzXi4RccaUp07MHItZo5zbNjQeKWpmNhCdvNtiivW01dVpvPx52ttSYs1Zft3ttTn3/bT2577JGfN4WXXn+qTYUz+XlNxroz+rrT60uvgM3cxsIFyhm5kNhCt0M7OBcIVuZjYQvegUbaPzLuc2U8uvus3U9frYibiW8f26tLTUUiTdMM+FAl3IvXk6XauqWlZXO1N9hm5mNhCu0M3MBsIVupnZQLhCNzMbiNY7ReseMdb0aLqudLDWXVZXRvp1WVc7oevOl7pHPNetz3nsM3Qzs4FwhW5mNhCu0M3MBiJlgovLJO2RdNvIsgsl3StpR/k4ud4wzfJzbtvQpHSKXg58EPjI2PKLI+Ki9Wxs+/bttXaGdKXDsGlVY819q9+mO6AzuJxMud2Gpm+HnHNUaO7R0zn3RdX4c6oa/8wz9Ij4AvBgpdLNOsy5bUMzTxv6OZJuLb+2HjztRZLOlrQsaXmObZk1ad25vbKy0mR8ZhNVrdA/BLwA2AbsBv5g2gsj4pKIWIqIjX3nJOuLSrm9sLDQVHxmU1UaWBQR96/+LunDwGdS1ltcXGR5ud0T9a60M7YxACnn9rranzCvqrk9paxK61Vtq07dXhc+u9wxNP2e6p4Cs+qdRCudoUvaPPLnrwC3TXutWZ84t63PZp6hS7oaOAHYJOke4J3ACZK2AQHsAt5YY4xmtXBu29DMrNAj4owJiy+tIRazRjm3bWg8UtTMbCBav9tiTl2dTmojDFJKlfPufD0YuPQUVTsy6x40N0lKrF29k2jdcnZA53zfPkM3MxsIV+hmZgPhCt3MbCBcoZuZDUQvOkXb6CxJ7YSr826O83T6pcTflTvGdbXjaz2q3kk0Z57l7jjuwt0c6x5tW1XuO5XOek2tI0XNzKx7XKGbmQ2EK3Qzs4FwhW5mNhC96BStW87OmDY6oSZtM2eHZ923Za37Vr99k3PatbpH2LYxgrXpsqC7t+cd5zN0M7OBcIVuZjYQrtDNzAZiZoUu6QhJN0m6XdJOSW8ulx8i6QZJd5Y/p06ma9ZFzm0bmpQz9MeAcyPiWOAlwJskHQucB9wYEUcDN5Z/91JEPOVRdV1J2R6pUtetWn6qSfsx5ZES/zyf0Rp6k9sp+63qeqn5kvMzyBnXPLmc+1gcl7LPJm1vfJ3FxcWk7c2s0CNid0TcUv6+D7gD2AKcClxRvuwK4LS0t2jWDc5tG5p1taFL2gq8GLgZODQidpdP3QccOmWdsyUtS1peWVmZI1Sz+syb240EaTZDcoUu6QDgz4G3RMTDo89F8T1i4veviLgkIpYiYmlhYWGuYM3qkCO3GwjTbKakgUWS9qNI+Ksi4tpy8f2SNkfEbkmbgT2zypl0R7qm72CYqu7BRinlz9s2mBJHTn0c/JMrtxcXF1lenn2iXjX/q+ZLzs+k7rJy3l0099R+dQ5+y3lcplzlIoqZ0O+IiPePPHUdcGb5+5nAp7NFZdYA57YNTcoZ+suB1wNfl7SjXHYB8F7g45LOAu4GXltPiGa1cW7boMys0CPii8C07xIn5g3HrDnObRsajxQ1MxuIRu+2mNpxVLVzMGcHaM7yJ6m7g7Jude+Lqp1cfTNP52DTnZR1d3qn7oucudDGsV8nn6GbmQ2EK3Qzs4FwhW5mNhCu0M3MBqL1KehSOhva6ASpqk9Tv817F7mc5aWU3zc5R3emdA6m7v95RqdWLauqrnRG1tlBnHPUrM/QzcwGwhW6mdlAuEI3MxsIV+hmZgPReqdo1cb/Nm4PO0mfOu+a7hDuSodWW1JyI+ctY+dZr+7O/Lo7WHPWI/O8LmW98VgbvX2umZn1gyt0M7OBSJng4ghJN0m6XdJOSW8ul18o6V5JO8rHyfWHa5aPc9uGJqUN/THg3Ii4RdKBwHZJN5TPXRwRF9UXnlmtnNs2KCkTXOwGdpe/75N0B7Cl7sBmqXt+z1Q5b/Pa9KjZ1PLbmKuyic7mnLmdOl9uTjnnuWyjozSnLhw7OVU9vtbVhi5pK/Bi4OZy0TmSbpV0maSDK0Vg1gHObRuC5Apd0gEUs6O/JSIeBj4EvADYRnGW8wdT1jtb0rKk5ZWVlQwhm+WVI7cbC9ZsDUkVuqT9KBL+qoi4FiAi7o+IxyPiR8CHgeMmrRsRl0TEUkQsLSws5IrbLItcud1cxGbTpVzlIuBS4I6IeP/I8s0jL/sV4LZZZa22M44+Uoyv08SAlYhIetS5zUna2BdDlTO3FxcXa82NSSblwvgjNY8nPVLyrE/52KdYxz+LxcXFpPVSrnJ5OfB64OuSdpTLLgDOkLQNCGAX8Mb1h23WKue2DUrKVS5fBCb9K7s+fzhmzXFu29B4pKiZ2UC4QjczG4jW77bY9KCSNu6uVre6pwFrY5t9GygyaWDRJHUO1unKIKKc+6GN3K6q7ikjU/gM3cxsIFyhm5kNhCt0M7OBcIVuZjYQrXeKVp2mqytT0FXVp86eSVL2fxc635qyuLjI8vKTb+lS9S6VbdxJNOV18+zvqneG7Mq0kjnvpFnlOFlaSru7hM/QzcwGwhW6mdlAuEI3MxsIV+hmZgPReqdoVTk7jibpwojPNmLIOR1f3ap2HNUhdaTouCF2EufsAJ3ndVXiWs82c62X8wIJn6GbmQ2EK3Qzs4FImbHomZK+IulrknZKele5/PmSbpZ0l6SPSXpG/eGa5ePctqFJOUP/AfCKiHgRxaS5J0l6CfD7wMURcRTwPeCs+sKsV91TU1Wdui51va5OrVX3lH0ZZMvtSVPQVX3/OT/PrnwGOfMzZf+kTKm3nmn7qsQwj6pT0M2s0KPwSPnnfuUjgFcAnyiXXwGctv6wzdrj3LahSWpDl/S0cs7FPcANwLeAhyLisfIl9wBb6gnRrD7ObRuSpAo9Ih6PiG3A4cBxwAtTNyDpbEnLkpZnv9qsWblye2VlpbYYzVKt6yqXiHgIuAl4KXCQpNXr2A8H7p2yziURsRQR7V0kbDbDvLm9sLDQUKRm06Vc5bIg6aDy92cBrwLuoEj+15QvOxP49KyyJnUcVe1cSO3gSFmvKx1HG0Hq59ZEJ2/O3J5S/sxcm6eslDyuu4M19djJ2bmfEsM877tqPla9iCGnlJGim4ErJD2N4h/AxyPiM5JuB66R9LvA/wEuzRqZWf2c2zYoMyv0iLgVePGE5d+maHM06yXntg2NR4qamQ2EK3Qzs4FQkx2AklaAu4FNwN7GNpxfn+Pvc+ywdvxHRkQrl5s4tzuhz7FDhtxutEL/8Ual5T5fxtjn+PscO3Q//q7HN0uf4+9z7JAnfje5mJkNhCt0M7OBaKtCv6Sl7ebS5/j7HDt0P/6uxzdLn+Pvc+yQIf5W2tDNzCw/N7mYmQ1E4xW6pJMkfVPFbDDnNb399ZJ0maQ9km4bWXaIpBsk3Vn+PLjNGKeRdISkmyTdrmJGnjeXyzsfv3o2m5Dzujl9zmuoN7cbrdDLe2b8MfDLwLHAGZKObTKGCi4HThpbdh5wY0QcDdxY/t1FjwHnRsSxwEuAN5X7uw/x92amLOd14/qc11Bjbjd9hn4ccFdEfDsifghcA5zacAzrEhFfAB4cW3wqxUw20OEZbSJid0TcUv6+j+JOglvoQfw9m03Ied2gPuc11JvbTVfoW4DvjPzd19lgDo2I3eXv9wGHthlMCklbKW5EdTM9iV/9mU3Ied2SPuY11Jfb7hSdUxSXCXX6UiFJBwB/DrwlIh4efa7L8c8zm5DNp8t5saqveQ315XbTFfq9wBEjf0+dDabj7pe0GaD8uafleKaStB9F0l8VEdeWi3sTP1SbTahhzuuGDSGvIX9uN12hfxU4uuzNfQZwOnBdwzHkcB3FTDYwx4w2dVMxHcqlwB0R8f6Rpzofv2qeTSgz53WD+pzXUHNup04rlesBnAz8NUWb0dua3n6FeK8GdgOPUrRrnQU8h6IX/U7gc8Ahbcc5JfbjKb523grsKB8n9yF+4BcpZgu6FbgNeEe5/GeBrwB3AX8G7N92rGVczuvmYu9tXpfx15bbHilqZjYQ7hQ1MxsIV+hmZgPhCt3MbCBcoZuZDYQrdDOzgXCFbmY2EK7QzcwGwhW6mdlA/H8cJzx/PIX/lgAAAABJRU5ErkJggg==\n",
      "text/plain": [
       "<Figure size 432x288 with 2 Axes>"
      ]
     },
     "metadata": {
      "needs_background": "light"
     },
     "output_type": "display_data"
    },
    {
     "name": "stdout",
     "output_type": "stream",
     "text": [
      "epoch 89 Rec error: 312.61163 sq_error 0.40820312\n",
      "\r",
      "Epoch: 89 / 100\n"
     ]
    },
    {
     "data": {
      "application/vnd.jupyter.widget-view+json": {
       "model_id": "a70a0c8f633b4d438f06a95b3dcb9a2a",
       "version_major": 2,
       "version_minor": 0
      },
      "text/plain": [
       "HBox(children=(IntProgress(value=0, max=422), HTML(value='')))"
      ]
     },
     "metadata": {},
     "output_type": "display_data"
    },
    {
     "data": {
      "image/png": "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\n",
      "text/plain": [
       "<Figure size 432x288 with 2 Axes>"
      ]
     },
     "metadata": {
      "needs_background": "light"
     },
     "output_type": "display_data"
    },
    {
     "name": "stdout",
     "output_type": "stream",
     "text": [
      "epoch 90 Rec error: 308.3402 sq_error 0.21484375\n",
      "\r",
      "Epoch: 90 / 100\n"
     ]
    },
    {
     "data": {
      "application/vnd.jupyter.widget-view+json": {
       "model_id": "cd89f2e6308948db8f86c68335431a63",
       "version_major": 2,
       "version_minor": 0
      },
      "text/plain": [
       "HBox(children=(IntProgress(value=0, max=422), HTML(value='')))"
      ]
     },
     "metadata": {},
     "output_type": "display_data"
    },
    {
     "data": {
      "image/png": "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\n",
      "text/plain": [
       "<Figure size 432x288 with 2 Axes>"
      ]
     },
     "metadata": {
      "needs_background": "light"
     },
     "output_type": "display_data"
    },
    {
     "name": "stdout",
     "output_type": "stream",
     "text": [
      "epoch 91 Rec error: 301.80478 sq_error 0.024414062\n",
      "\r",
      "Epoch: 91 / 100\n"
     ]
    },
    {
     "data": {
      "application/vnd.jupyter.widget-view+json": {
       "model_id": "dfac75333dd24e5696e96a1809e95c1b",
       "version_major": 2,
       "version_minor": 0
      },
      "text/plain": [
       "HBox(children=(IntProgress(value=0, max=422), HTML(value='')))"
      ]
     },
     "metadata": {},
     "output_type": "display_data"
    },
    {
     "data": {
      "image/png": "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\n",
      "text/plain": [
       "<Figure size 432x288 with 2 Axes>"
      ]
     },
     "metadata": {
      "needs_background": "light"
     },
     "output_type": "display_data"
    },
    {
     "name": "stdout",
     "output_type": "stream",
     "text": [
      "epoch 92 Rec error: 304.4454 sq_error 0.021484375\n",
      "\r",
      "Epoch: 92 / 100\n"
     ]
    },
    {
     "data": {
      "application/vnd.jupyter.widget-view+json": {
       "model_id": "bbb5f26e8cf044fbad1d21612c1e7b79",
       "version_major": 2,
       "version_minor": 0
      },
      "text/plain": [
       "HBox(children=(IntProgress(value=0, max=422), HTML(value='')))"
      ]
     },
     "metadata": {},
     "output_type": "display_data"
    },
    {
     "data": {
      "image/png": "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\n",
      "text/plain": [
       "<Figure size 432x288 with 2 Axes>"
      ]
     },
     "metadata": {
      "needs_background": "light"
     },
     "output_type": "display_data"
    },
    {
     "name": "stdout",
     "output_type": "stream",
     "text": [
      "epoch 93 Rec error: 297.9168 sq_error 0.35351562\n",
      "\r",
      "Epoch: 93 / 100\n"
     ]
    },
    {
     "data": {
      "application/vnd.jupyter.widget-view+json": {
       "model_id": "fd106467a1c7459fb942167ae0a2871a",
       "version_major": 2,
       "version_minor": 0
      },
      "text/plain": [
       "HBox(children=(IntProgress(value=0, max=422), HTML(value='')))"
      ]
     },
     "metadata": {},
     "output_type": "display_data"
    },
    {
     "data": {
      "image/png": "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\n",
      "text/plain": [
       "<Figure size 432x288 with 2 Axes>"
      ]
     },
     "metadata": {
      "needs_background": "light"
     },
     "output_type": "display_data"
    },
    {
     "name": "stdout",
     "output_type": "stream",
     "text": [
      "epoch 94 Rec error: 304.96014 sq_error 0.37109375\n",
      "\r",
      "Epoch: 94 / 100\n"
     ]
    },
    {
     "data": {
      "application/vnd.jupyter.widget-view+json": {
       "model_id": "1f8ef68225864307b24badeafe766186",
       "version_major": 2,
       "version_minor": 0
      },
      "text/plain": [
       "HBox(children=(IntProgress(value=0, max=422), HTML(value='')))"
      ]
     },
     "metadata": {},
     "output_type": "display_data"
    },
    {
     "data": {
      "image/png": "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\n",
      "text/plain": [
       "<Figure size 432x288 with 2 Axes>"
      ]
     },
     "metadata": {
      "needs_background": "light"
     },
     "output_type": "display_data"
    },
    {
     "name": "stdout",
     "output_type": "stream",
     "text": [
      "epoch 95 Rec error: 311.06467 sq_error 0.026367188\n",
      "\r",
      "Epoch: 95 / 100\n"
     ]
    },
    {
     "data": {
      "application/vnd.jupyter.widget-view+json": {
       "model_id": "81692daebf464c818d9bb62b33995635",
       "version_major": 2,
       "version_minor": 0
      },
      "text/plain": [
       "HBox(children=(IntProgress(value=0, max=422), HTML(value='')))"
      ]
     },
     "metadata": {},
     "output_type": "display_data"
    },
    {
     "data": {
      "image/png": "iVBORw0KGgoAAAANSUhEUgAAAXQAAADHCAYAAAAJSqg8AAAABHNCSVQICAgIfAhkiAAAAAlwSFlzAAALEgAACxIB0t1+/AAAADl0RVh0U29mdHdhcmUAbWF0cGxvdGxpYiB2ZXJzaW9uIDMuMC4zLCBodHRwOi8vbWF0cGxvdGxpYi5vcmcvnQurowAAFEtJREFUeJzt3X2QZFV5x/HvT951UcDFdVleVgUh+LZUNpQakiCKrlQR1pRSEE1QMWsSSalFDC8qoImvRUSjRoNCrQYEUREJEsxCIWpUdCEL7IIImkVYFtYFVpaovD7545xxm2Fm+k7Pvd33nvl9qrqm53b3vU/PPPfpc8+5fY8iAjMz674njToAMzOrhwu6mVkhXNDNzArhgm5mVggXdDOzQrigm5kVwgW9IkknS/p83c+tsK6QtHcd6zKbjSStkXTwqOMYBs3G89AlvRE4HngOcD/wdeCkiNg0yrgmIimAfSLi1gke+zZwTkTU8uFh3SVpLTAPeBR4ALgMOC4iHhhlXONJOg3YOyLe0ND6lwN3RMR7mlh/2826Frqk44GPAO8Cnga8GNgLWCFp20les/XwIjQb2OERMQdYBBwAnDTieKZNyayrS7WJiFlzA55Kar0cOW75HOCXwJvz76cBXwXOIbXg35KXndPzmr8EbgPuAd4LrAVe0fP6c/L9hUAAxwC/ADYC7+5Zz4HAD4BNwHrgU8C2PY8HqUUz0fv5NvCWfP9g4A7gH4ANeV1LgcOAnwL3AidPY7uvBG4GfgX8K3DV2Lby428GbgLuA74F7DXq/+9svvXmX/79o8A38/3tgNNz/t0NfBbYoee5RwCrcq7/DFiSl+8GXJxz51bgr3pecxpwAfBFYDOwBljc8/gJwLr82M3Ay4ElwEPAw3k/vK4njz8A/DfwG2DvCd7P+P3vIOD7OX9vB94ILMvrfiiv/z/G/23y3+LjwJ359nFgu3H70PE9+9CbRv2/nc5ttn0SvhTYHriwd2Gkw9JLgUN7Fh9BKuo7Aef2Pl/S/qQi93pgPqmlv6DPtg8C9iUl9imSfi8vfxR4JzAXeEl+/G+n+b7GPJP0/hYApwCfA94A/D7wR8B7JT2r33YlzSW995OAp5N2yJeObUTSEcDJwJ8BuwLfBc4bMGarmaTdgVeTijDAh4Hnklrue7MlP5B0IKkov4uU639MKoAA55MK3G7Aa4EPSjqkZ1N/mp+zE6nwfyqvc1/gOOAPImJH4FXA2oi4DPgg8OWImBMRL+pZ11+QCvKOpIbSVO9vL+A/gU+S8m8RsCoiziTtqx/N6z98gpe/m3RUvgh4Ealh09s980y27M/HAp+WtPNU8bTJbCvoc4GNEfHIBI+tz4+P+UFEXBQRj0XEb8Y997WkT//vRcRDpJ2j32DE+yLiNxFxHXAdKZmIiGsi4ocR8UhErAX+DfiT6b81ILVOPhARD5N2tLnAJyJic0SsAW6suN3DgDURcWH+W/0LcFfPdv4a+FBE3JQf/yCwKO9oNjoXSdpMarFuAE6VJFKhfGdE3BsRm0n/r6Pya44Fzo6IFTnX10XETyTtAfwhcEJE/DYiVgGfJx2ZjvleRFwaEY8C/07OLVJjYTtgf0nbRMTaiPhZn9iXR8SanI8P93nunwOXR8R5EfFwRNyT46vi9cD7I2JDRPwSeB/pw2TMw/nxhyPiUlJLf9+K6x652VbQNwJzJ+kTn58fH3P7FOvZrffxiPg1qetlKr0F8dekbh4kPVfSJZLuknQ/aWebO9EKKrgn71yQDl0hHWLTs6zKdse/vyC11MbsBXxC0iZJm0iH5KL/UYo1a2luER8M7Ef6f+4KPBm4puf/dVleDrAHqZtlvN2AsQ+AMbfx+P/x+JzeXtLWkQbw30HqJtkg6XxJu/WJfar9bbzJYq5iNx5/BHBbXjbmnnENvt/tq10w2wr6D4AHSV0FvyNpDukQ9YqexVO1uNcDu/e8fgdS18QgPgP8hHQmy1NJXRkacF11bXf8+1Pv76Sd760RsVPPbYeI+P4Q4rY+IuIqYDmp33wj6YP8eT3/q6dFGjyF9L98zgSruRPYRdKOPcv2JPWLV4nhSxFxEOnDP0gnIsDk+9X45f9H+iAa88ye+5PFPNX6x9yZYxqzZ15WhFlV0CPiV6RDrE9KWiJpG0kLSYM7d5AOG6v4KnC4pJfmM2NOY/AivCNpMOoBSfsBfzPgeurc7jeBF0hamo9m3sbjd6jPAidJeh6ApKdJet2Q4rZqPk4aE3oBaSzlDEnPAJC0QNKr8vPOAt4k6eWSnpQf2y8ibicNOn5I0vaSXkjqnjmn34Yl7SvpEEnbAb8lfaA8lh++G1hY4UyWVcBReR9dTOrmHHMu8ApJR0raWtLTJS3qWf+zp1jvecB7JO2ax4pOqfKeumJWFXSAiPgoqTV6OqmgXU36xH95RDxYcR1rgL8j9VOvJ/WzbSC1/qfr70l9gptJO96XB1jHICbdbkRsBF5HOlPiHmB/YCX5/UXE10ktrvNzd81q0hGOtUTuH/4iqWCdQBog/WH+f11O7heOiB8BbwLOIJ3RdBVbWrBHk87SupP0XY1TI+LyCpvfjjQQu5HULfMMtpxC+ZX88x5J106xjveSWuH3kRphX+p5b78gjfMcT+ruW8WW/vuzSH33myRdNMF6/4mUy9cDNwDX5mVFmJVfLKpb7rLZROq++N9Rx1O33Jq6A3h9RFw56njMbGKzroVeF0mHS3qypKeQWvs3sOV0r86T9CpJO+XD5rH+9R+OOCwzm4IL+uCOYMuXE/YBjoqyDndeQjqTYCNwOOkMivGnb5pZi7jLxcysEG6hm5kVYkYFPZ/6d7OkWyWdWFdQZqPm3LYuGrjLRdJWpIs+HUo6A+LHwNERceMUr3H/jjUqImb8pSzntrVRldyeSQv9QODWiPh5vp7J+aSBQrOuc25bJ82koC/g8ddfuIMJruUhaZmklZJWzmBbZsPk3LZOanzihnxJyzPBh6VWFue2tc1MCvo60lXPxuxOxQv3mLWccxsYP76WrtE2O1UZa2zD32cmXS4/BvaR9Kx8gaqjSBe5N+s657Z10sAt9Ih4RNJxpOnHtiJdJH9NbZGZjYhz27pqqN8UdT+jNa2O0xYHUWJuu8tlizZ0uTR92qKZmbVI42e5mFm7TNTanKh12eUWedX3WFVX/hZuoZuZFcIF3cysEC7oZmaFcB+6WSFmQ994VbPhPU7ELXQzs0K4oJuZFcIF3cysEC7oZmaF8KCoWSG6PhBY95eBZiO30M3MCuGCbmZWCBd0M7NCzKgPXdJaYDPwKPBIRCyuIyizUXNuWxfVMSj6sojYWMN6zNrGuT1EHgCdOXe5mJkVYqYFPYD/knSNpGV1BGTWEs5t65yZdrkcFBHrJD0DWCHpJxHxnd4n5J3BO4R1jXPbOqe2OUUlnQY8EBGnT/Gc4uZdtHZpYk5R57a1QaNzikp6iqQdx+4DrwRWD7o+s7ZwbltXzaTLZR7w9TwyvTXwpYi4rJaozEbLuW2dVFuXS6WN+bDUGtZEl0sVzm1rWqNdLmZm1i4u6GZmhXBBNzMrhAu6mVkhXNDNzArhgm5mVghPQWdmExp/SrOvhliPJv+ubqGbmRXCBd3MrBAu6GZmhXBBNzMrhAdFzYaoSwONbY6ty5r8u7qFbmZWCBd0M7NCuKCbmRWib0GXdLakDZJW9yzbRdIKSbfknzs3G6ZZ/ZzbVpoqLfTlwJJxy04EroiIfYAr8u9mXbOcIee2pMfdzOrUt6Dnmc7vHbf4COAL+f4XgKU1x2XWOOe2lWbQPvR5EbE+37+LNAejWQmc29ZZMz4PPSJiqvkUJS0Dls10O2bD5ty2rhm0hX63pPkA+eeGyZ4YEWdGxOKIWDzgtsyGybltnTVoQb8YOCbfPwb4Rj3hmI2cc7sBEfG4W1uMj6tNsQ1C/d6ApPOAg4G5wN3AqcBFwAXAnsBtwJERMX5waaJ1dfuvZa0XEZVPHXFuD09bL3kwUf1rS2zjVcntvgW9Tk56a9p0CnqdnNtTc0GfuSq57W+KmpkVwldbNCtYW1qgdW6zzvfU1tb4oNxCNzMrhAu6mVkhXNDNzArhgm5mVggPipoVrLRBPyjzPdXFLXQzs0K4oJuZFcIF3cysEC7oZmaF8KCoWcu05dud1j1uoZuZFcIF3cysEC7oZmaF6FvQJZ0taYOk1T3LTpO0TtKqfDus2TDN6ufcttJUaaEvB5ZMsPyMiFiUb5fWG5bZUCynhbkt6Qk3G62uTFPXt6BHxHeAvlNwmXWNc9tKM5M+9OMkXZ8PW3ee7EmSlklaKWnlDLZlNkzObeukSnOKSloIXBIRz8+/zwM2AgH8IzA/It5cYT3tPVaxIkx3TlHntlXRhjlRG5tTNCLujohHI+Ix4HPAgYOsx6xtnNs2ka6MaQxU0CXN7/n1NcDqyZ5r1iXObeuyvl/9l3QecDAwV9IdwKnAwZIWkQ5L1wJvbTBGs0Y4t600lfrQa9uY+xmtYdPtQ6+Lc9ua1lgfupmZtY8LuplZIVzQzcwK4YJuZlYIF3Qzs0K4oJuZFcIF3cysEC7oZmaFcEE3MyuEC7qZWSFc0M3MCtH34lxmNnoTXXOpzZdx7ae099MWbqGbmRXCBd3MrBAu6GZmhehb0CXtIelKSTdKWiPp7Xn5LpJWSLol/5x0Ml2zNnJuW2n6TnCRp+SaHxHXStoRuAZYCrwRuDciPizpRGDniDihz7o8CYA1ajoTXDi3rUsq5XZETOsGfAM4FLiZtDMAzAdurvDa8M23Jm/TzWfntm9duVXJ4WmdtihpIXAAcDUwLyLW54fuAuZN8pplwLLpbMds2JzbVoLKc4pKmgNcBXwgIi6UtCkidup5/L6ImLKv0Yel1rRB5hR1blsX1DanqKRtgK8B50bEhXnx3bkPcqwvcsOggZqNinO7eybp8uqsOt9PlbNcBJwF3BQRH+t56GLgmHz/GFL/o1lnOLetNFXOcjkI+C5wA/BYXnwyqa/xAmBP4DbgyIi4t8+6uv1Raq03zbNcnNsdVNplA6q+nyq5XbkPvQ5OemvaIH3odXBuD48L+uT8TVEzs0L4aotmVklbWsZdbo1PpM734xa6mVkhXNDNzArhgm5mVggXdDOzQnhQ1Mwqactg5KCDs20Z1G2SW+hmZoVwQTczK4QLuplZIVzQzcwK4UFRM+uUQQcy2zIAOn5w1t8UNTOzJ3BBNzMrRJUJLvaQdKWkGyWtkfT2vPw0Seskrcq3w5oP16w+zm0rTZUJLuaTZkC/VtKOwDXAUuBI4IGIOL3yxnzNaGvYNCe4cG7b0A3ah14lt/sOiubZz9fn+5sl3QQsqBSBWYs5t61OVb+J2uTg7LT60CUtBA4gTdEFcJyk6yWdLWnKWdHN2sy5bSWoXNAlzSHNjv6OiLgf+AzwHGARqZXzz5O8bpmklZJW1hCvWe2c21aKSnOKStoGuAT41rjZ0cceXwhcEhHP77Me9zNao6Y7p6hz2+rS9MW/aplTVCmis4CbehM+DyiNeQ2wepAgzUbFuW11kvSE29BjqHCWy0HAd4EbgMfy4pOBo0mHpAGsBd6aB5mmWpdbMdaoaZ7l4ty2zqiS25W6XOripLemTbfLpS7ObWtaLV0uZmbWDS7oZmaF8NUWmR1TU5mNUpNXGGyLNtQRt9DNzArhgm5mVggXdDOzQrigm5kVwoOilDlAY+Xr0kBjm2OrSxveo1voZmaFcEE3MyuEC7qZWSFc0M3MCuFBUbOOGj8I14ZvKtpouYVuZlYIF3Qzs0JUmbFoe0k/knSdpDWS3peXP0vS1ZJulfRlSds2H65ZfZzbVpoqLfQHgUMi4kWkWVyWSHox8BHgjIjYG7gPOLa5MM0aUVRut2EKNButvgU9kgfyr9vkWwCHAF/Ny78ALG0kQrOGOLetNJX60CVtJWkVsAFYAfwM2BQRj+Sn3AEsaCZEs+Y4t60klQp6RDwaEYuA3YEDgf2qbkDSMkkrJa0cMEazxji3rSTTOsslIjYBVwIvAXaSNHYe++7Auklec2ZELI6IxTOK1KxBzm0rQZWzXHaVtFO+vwNwKHATKflfm592DPCNpoI0a8Jsze2IeMLNyqB+/0xJLyQNDG1F+gC4ICLeL+nZwPnALsD/AG+IiAf7rMuZY42KiMqndszW3PY3SrupSm73Leh16lLSWzdNp6DXqUu57YLeTVVy298UNTMrhAu6mVkhhn21xY3AbcDcfL+ruhx/l2OHqePfa5iBjNOZ3O7TvdL6+KfQ5dihhtweah/67zYqrezyqV5djr/LsUP74297fP10Of4uxw71xO8uFzOzQrigm5kVYlQF/cwRbbcuXY6/y7FD++Nve3z9dDn+LscONcQ/kj50MzOrn7tczMwKMfSCLmmJpJvzbDAnDnv70yXpbEkbJK3uWbaLpBWSbsk/dx5ljJORtIekKyXdmGfkeXte3vr4uzabkPN6eLqc19Bsbg+1oEvaCvg08Gpgf+BoSfsPM4YBLAeWjFt2InBFROwDXJF/b6NHgOMjYn/gxcDb8t+7C/F3ZjYh5/XQdTmvocHcHnYL/UDg1oj4eUQ8RLoA0hFDjmFaIuI7wL3jFh9BuqgTtHhGm4hYHxHX5vubSVcSXEAH4u/YbELO6yHqcl5Ds7k97IK+ALi95/euzgYzLyLW5/t3AfNGGUwVkhYCBwBX05H4OzSbkPN6RLqY19BcbntQdIYinSbU6lOFJM0Bvga8IyLu732szfHPZDYhm5k258WYruY1NJfbwy7o64A9en6fdDaYlrtb0nyA/HPDiOOZlKRtSEl/bkRcmBd3Jn4YbDahIXNeD1kJeQ315/awC/qPgX3yaO62wFHAxUOOoQ4Xk2aygRbPaKN0FaazgJsi4mM9D7U+/o7NJuS8HqIu5zU0nNsTTUfV5A04DPgpqc/o3cPe/gDxngesBx4m9WsdCzydNIp+C3A5sMuo45wk9oNIh53XA6vy7bAuxA+8kDRb0PXAauCUvPzZwI+AW4GvANuNOtYcl/N6eLF3Nq9z/I3ltr8pamZWCA+KmpkVwgXdzKwQLuhmZoVwQTczK4QLuplZIVzQzcwK4YJuZlYIF3Qzs0L8PzYIOQRgAs1KAAAAAElFTkSuQmCC\n",
      "text/plain": [
       "<Figure size 432x288 with 2 Axes>"
      ]
     },
     "metadata": {
      "needs_background": "light"
     },
     "output_type": "display_data"
    },
    {
     "name": "stdout",
     "output_type": "stream",
     "text": [
      "epoch 96 Rec error: 318.83365 sq_error 0.24511719\n",
      "\r",
      "Epoch: 96 / 100\n"
     ]
    },
    {
     "data": {
      "application/vnd.jupyter.widget-view+json": {
       "model_id": "ad9d81c4cc49449aad0bd3884653f458",
       "version_major": 2,
       "version_minor": 0
      },
      "text/plain": [
       "HBox(children=(IntProgress(value=0, max=422), HTML(value='')))"
      ]
     },
     "metadata": {},
     "output_type": "display_data"
    },
    {
     "data": {
      "image/png": "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\n",
      "text/plain": [
       "<Figure size 432x288 with 2 Axes>"
      ]
     },
     "metadata": {
      "needs_background": "light"
     },
     "output_type": "display_data"
    },
    {
     "name": "stdout",
     "output_type": "stream",
     "text": [
      "epoch 97 Rec error: 308.2605 sq_error 0.35253906\n",
      "\r",
      "Epoch: 97 / 100\n"
     ]
    },
    {
     "data": {
      "application/vnd.jupyter.widget-view+json": {
       "model_id": "6d477dbe7ad749be8b0b9820b43085f0",
       "version_major": 2,
       "version_minor": 0
      },
      "text/plain": [
       "HBox(children=(IntProgress(value=0, max=422), HTML(value='')))"
      ]
     },
     "metadata": {},
     "output_type": "display_data"
    },
    {
     "data": {
      "image/png": "iVBORw0KGgoAAAANSUhEUgAAAXQAAADHCAYAAAAJSqg8AAAABHNCSVQICAgIfAhkiAAAAAlwSFlzAAALEgAACxIB0t1+/AAAADl0RVh0U29mdHdhcmUAbWF0cGxvdGxpYiB2ZXJzaW9uIDMuMC4zLCBodHRwOi8vbWF0cGxvdGxpYi5vcmcvnQurowAAFrRJREFUeJzt3XuwJGV5x/HvT+66KODiuiyXVUEI3pY6G0oNMRTekCqymFIKogkqZo2RlFrEcFFhNfFaeIsaDQoFBgRREQkaDFCIGq+7ZIFdVgTNIiwL6wIru1G5Pvnj7ePOHs850zPTPdP9zu9TNXXm9My8/c7M08+8/b7d/SoiMDOz9nvcqCtgZmbVcEI3M8uEE7qZWSac0M3MMuGEbmaWCSd0M7NMOKGXJOl0SZ+v+rklygpJ+1dRltk4krRa0uGjrscwaByPQ5f0OuBk4BnAA8DXgNMiYtMo6zUdSQEcEBG3TfPYt4ELIqKSHw9rL0lrgXnAo8AW4ErgpIjYMsp6TSVpGbB/RLy2pvLPA+6MiHfVUX7TjV0LXdLJwIeAdwBPAp4P7AdcJWnHGV6z/fBqaNa3oyNiDrAIOAQ4bcT16ZmSsctLlYmIsbkBTyS1Xo6dsnwO8CvgDcX/y4CvABeQWvBvLJZd0PGavwZuB+4F3g2sBV7S8foLivsLgQBOAH4JbATe2VHOocAPgE3AeuBTwI4djwepRTPd+/k28Mbi/uHAncA/AhuKso4BjgJ+BtwHnN7Del8G3AL8GvhX4LrJdRWPvwFYA9wPfAvYb9Tf7zjfOuOv+P/DwDeK+zsBZxXxdw/wWWCXjucuAVYWsf5z4Mhi+V7A5UXs3Ab8TcdrlgGXAF8ANgOrgcUdj58CrCseuwV4MXAk8BDwcLEd3tARx+8D/hv4LbD/NO9n6vZ3GPD9In7vAF4HLC3Kfqgo/z+mfjbFZ/Fx4K7i9nFgpynb0Mkd29DrR/3d9nIbt1/CFwI7A5d2Loy0W/pN4KUdi5eQkvpuwIWdz5d0MCnJvQaYT2rpL+iy7sOAA0mBfYakPyqWPwq8HZgLvKB4/O96fF+Tnkp6fwuAM4DPAa8FJoA/Bd4t6Wnd1itpLum9nwY8mbRBvnByJZKWAKcDfwHsCXwXuKjPOlvFJO0NvIKUhAE+CDyT1HLfn63xgaRDSUn5HaRYfxEpAQJcTEpwewGvAt4v6YiOVf158ZzdSIn/U0WZBwInAX8cEbsCLwfWRsSVwPuBL0XEnIh4XkdZf0VKyLuSGkqzvb/9gP8EPkmKv0XAyog4m7Stfrgo/+hpXv5O0l75IuB5pIZNZ/fMU9m6PZ8IfFrS7rPVp0nGLaHPBTZGxCPTPLa+eHzSDyLisoh4LCJ+O+W5ryL9+n8vIh4ibRzdBiPeExG/jYgbgBtIwURErIiIH0bEIxGxFvg34M96f2tAap28LyIeJm1oc4FPRMTmiFgN3FxyvUcBqyPi0uKz+hfg7o71/C3wgYhYUzz+fmBRsaHZ6FwmaTOpxboBOFOSSIny7RFxX0RsJn1fxxWvORE4NyKuKmJ9XUT8VNI+wJ8Ap0TE7yJiJfB50p7ppO9FxDcj4lHg3ylii9RY2Ak4WNIOEbE2In7epe7nRcTqIh4f7vLcvwSujoiLIuLhiLi3qF8ZrwHeGxEbIuJXwHtIPyaTHi4efzgivklq6R9YsuyRG7eEvhGYO0Of+Pzi8Ul3zFLOXp2PR8RvSF0vs+lMiL8hdfMg6ZmSrpB0t6QHSBvb3OkKKOHeYuOCtOsKaRebjmVl1jv1/QWppTZpP+ATkjZJ2kTaJRfd91KsXscULeLDgYNI3+eewOOBFR3f15XFcoB9SN0sU+0FTP4ATLqdbb/jqTG9s6TtIw3gv43UTbJB0sWS9upS99m2t6lmqnMZe7HtHsDtxbJJ905p8P1+W22DcUvoPwAeJHUV/J6kOaRd1Gs6Fs/W4l4P7N3x+l1IXRP9+AzwU9KRLE8kdWWoz7KqWu/U96fO/0kb35siYreO2y4R8f0h1Nu6iIjrgPNI/eYbST/kz+r4rp4UafAU0nf5jGmKuQvYQ9KuHcv2JfWLl6nDFyPiMNKPf5AORICZt6upy/+P9EM06akd92eq82zlT7qrqNOkfYtlWRirhB4RvybtYn1S0pGSdpC0kDS4cydpt7GMrwBHS3phcWTMMvpPwruSBqO2SDoIeHOf5VS53m8Az5F0TLE38xa23aA+C5wm6VkAkp4k6dVDqreV83HSmNBzSGMpH5P0FABJCyS9vHjeOcDrJb1Y0uOKxw6KiDtIg44fkLSzpOeSumcu6LZiSQdKOkLSTsDvSD8ojxUP3wMsLHEky0rguGIbXUzq5px0IfASScdK2l7SkyUt6ij/6bOUexHwLkl7FmNFZ5R5T20xVgkdICI+TGqNnkVKaD8i/eK/OCIeLFnGauDvSf3U60n9bBtIrf9e/QOpT3AzacP7Uh9l9GPG9UbERuDVpCMl7gUOBpZTvL+I+BqpxXVx0V2zirSHYw1R9A9/gZSwTiENkP6w+L6upugXjogfA68HPkY6ouk6trZgjycdpXUX6VyNMyPi6hKr34k0ELuR1C3zFLYeQvnl4u+9kq6fpYx3k1rh95MaYV/seG+/JI3znEzq7lvJ1v77c0h995skXTZNuf9MiuUbgZuA64tlWRjLE4uqVnTZbCJ1X/zvqOtTtaI1dSfwmoi4dtT1MbPpjV0LvSqSjpb0eElPILX2b2Lr4V6tJ+nlknYrdpsn+9d/OOJqmdksnND7t4StJyccABwXee3uvIB0JMFG4GjSERRTD980swZxl4uZWSbcQjczy8RACb049O8WSbdJOrWqSpmNmmPb2qjvLhdJ25Eu+vRS0hEQPwGOj4ibZ3mN+3dGaGJiYpv/V6xY0fU5M5nutU0QEQOflOXYtiYqE9uDXBb2UOC2iPgFgKSLSQOFMwa9jdby5cu3+T+dADr7c2Yy3Wsz4ti2Vhqky2UB215/4U6muZaHpKWSlksqlynMRs+xba1U+8QNxSUtzwbvllpeHNvWNIMk9HWkq55N2puSF+4x6zTdOM6Iu3Qc2y3XwJgaikG6XH4CHCDpacUFqo4jXeTerO0c29ZKfbfQI+IRSSeRph/bjnSR/NWV1cxsRBzb1lZDPVPU/YyjNfW7nm4XtGw8VLn7WuXucRWHLfbDsd0sOXa5lIltnylqZpaJ2o9yseZqynV82t5ysuHqN27Lttrrbt2X2VPul1voZmaZcEI3M8uEE7qZWSbch25duY+7Ov0eadTvEUk5fnd1v6cy5Q/Sz15n/d1CNzPLhBO6mVkmnNDNzDLhhG5mlomhJvSJiQkiYpvbdPp5Ti/PK3Mrq9/XjYKkvm5NNfWzLzvbUh2mi+3pblV+tlV+d4NsA8NW5Tbd7/tu6nbiFrqZWSac0M3MMuGEbmaWiYFOLJK0FtgMPAo8EhGLq6iU2ag5tq2NBroeehH0iyNiY8nnl1pZv3Uaxdl0dV45zXpX1fXQ64rtqaq8AmCO1wDv17CvmFh1+TOs09dDNzMbF4Mm9AD+S9IKSUurqJBZQzi2rXUGvTjXYRGxTtJTgKsk/TQivtP5hGJj8AZhbePYttapbE5RScuALRFx1izPcR+61aqOOUWrjO2p3IdeD/eh90jSEyTtOnkfeBmwqt/y+lh/qTO16j6bq4lni9lghhnb/cbxdM9r6tmLg6j6zO6qTPdZN6Feg3S5zAO+VgTN9sAXI+LKSmplNlqObWulyrpcSq2swi6Xflsf3i3NWx1dLmX02+Vis+vl2irdXjeELpFa1+nDFs3Mxkgjp6Bzi7kedQ/geoC4O39Gven38xnF59rvYHaV3EI3M8uEE7qZWSac0M3MMuGEbmaWiUYOitapTYcute0QyybXrSn8GY2XYZ+97ha6mVkmnNDNzDLhhG5mlgkndDOzTAw1oU9MTIz8amRtUvfV85pwdThrN8dQs7iFbmaWCSd0M7NMOKGbmWWia0KXdK6kDZJWdSzbQ9JVkm4t/u5ebzXNqufYttyUaaGfBxw5ZdmpwDURcQBwTfF/VytWrMhuiqypyg5kjmIwabq65f59dHEeFcV22/Ubj46h3tW5HXZN6MVM5/dNWbwEOL+4fz5wTN81MBsRx7blpt8+9HkRsb64fzdpDkazHDi2rbUGvjhXRMRs8ylKWgosHXQ9ZsPm2La26beFfo+k+QDF3w0zPTEizo6IxRGxuM91mQ2TY9taq9+EfjlwQnH/BODr1VSnOeoetBzFYJLP6Csl+9iejgc3R6fKXKNuL5Z0EXA4MBe4BzgTuAy4BNgXuB04NiKmDi5NV1ZrskjbrkVexjhMUBwRpd/UuMa2NUvZXFMmtrsm9Cq1Keid0Nupl4RepTbFtjVLlQndZ4qamWVi7KagK6vtrdcm9JH3cnKKWY7KtL6rjH+30M3MMuGEbmaWCSd0M7NMOKGbmWXCU9Blqk1XVpzuxIoycTL1ORMTE0Ouudnshr3duYVuZpYJJ3Qzs0w4oZuZZcIJ3cwsEyM/UzTHa6ZYUvf36DixmYxrXnEL3cwsE07oZmaZcEI3M8tE14Qu6VxJGySt6li2TNI6SSuL21H1VtOseo5ty02ZGYteBGwBvhARzy6WLQO2RMRZPa1sBJMANGFSh1EM0JRZZ1MGjqqsR48zFg09tpsQj2WVOZO77fFSpbrrVckEFxHxHaDrFFxmbePYttwM0od+kqQbi93W3Wd6kqSlkpZLWj7AusyGybFtrVRqTlFJC4ErOnZL5wEbgQD+CZgfEW8oUY67XIZUD3e5lDPs2G5CPJblLpfeNKHLpa8TiyLinsn7kj4HXNFPObOUv83/g3woTfiiR1GHGSaZHXo9ymjCdzSp7thu0nvtpql1LRPbTdnmhq2vLhdJ8zv+fSWwaqbnmrWJY9varGsLXdJFwOHAXEl3AmcCh0taRNotXQu8qcY6mtXCsW25KdWHXtnKMuxnbJOm9olWqdc+9KqMYnzIthqHnFHJYYtmZtYOI7/aYhlNHdW24XEM2GwcC4lb6GZmmXBCNzPLhBO6mVkmnNDNzDIx8kHRpp69mKM2Dxy1ue6dyhxeNw4DwOPwHsuq8rNwC93MLBNO6GZmmXBCNzPLhBO6mVkmRj4o2tRLYdatCddIz/FzbZJ+v+Nx+F6aMB9AU8qvsl5uoZuZZcIJ3cwsE07oZmaZ6JrQJe0j6VpJN0taLemtxfI9JF0l6dbi74yT6Zo1kWPbctN1gotiSq75EXG9pF2BFcAxwOuA+yLig5JOBXaPiFO6lNWa00LbNKhiW/UywUWbYtvxYpVMcBER6yPi+uL+ZmANsABYApxfPO180oZg1hqObctNT4ctSloIHAL8CJgXEeuLh+4G5s3wmqXA0v6raFY/x7bloPScopLmANcB74uISyVtiojdOh6/PyJm7Wt0l8vwyh9X/cwp2obYdrxYmdgu1UKXtAPwVeDCiLi0WHyPpPkRsb7oi9zQZyXLrL+fogfi5D0e6oztKrUpXtp+0lybt9cyR7kIOAdYExEf7XjocuCE4v4JwNerr55ZfRzblpsyR7kcBnwXuAl4rFh8Oqmv8RJgX+B24NiIuK9LWX+wsqa20KvU5l/8tunxKJdaY3tcuYVejzKxXboPvQpO6Fu1/T01VT996FVwQt/KCb0elRy2aGZm7dDIqy3mZhzeow1fU6+e2faDGNq0NzGVW+hmZplwQjczy4QTuplZJpzQzcwyMfJBUZtZ2cOnmnCYWNl1NvWQsDYa9udW5Xc3znFQ5/t0C93MLBNO6GZmmXBCNzPLhBO6mVkmPCjaMsO89k4dxmXgq8n6HZBs8tmYdZ8129SzcqdyC93MLBNO6GZmmSgzwcU+kq6VdLOk1ZLeWixfJmmdpJXF7aj6q2tWHce25abMBBfzgfkRcb2kXYEVpFnQjwW2RMRZpVfma0b3ZJD+8qaeWFS3Hie4GMvYbup3N4hx6EOvZE7RYvbz9cX9zZLWAAsGr155OQZgGePwHkepCbE9CjnGVd3vqS2fWU996JIWAoeQpugCOEnSjZLOlTTrrOhmTebYthyUTuiS5pBmR39bRDwAfAZ4BrCI1Mr5yAyvWyppuaTlFdTXrHKObctFqTlFJe0AXAF8a8rs6JOPLwSuiIhndymnr37Gce1yabKmfie9zik66tg2K6uSOUWVttJzgDWdAV8MKE16JbCqn0r2KyL+4GbDI+kPbm3T1Ni25mtq/ilzlMthwHeBm4DHisWnA8eTdkkDWAu8qRhkmq2sylroM5TfT/GWkR6Pchl5bFs7jeiS1V1XUKrLpSpO6Fa3XrtcquKEPl6amtB9pqiZWSac0M3MMtGKhD7dAFwOg3J1auqgTa4mJiZKfd7+TvLQ1PzTioRuZmbdOaGbmWXCCd3MLBNO6GZmmRjqceiLFy+O5ct7v+xFUwYc2qSpp+bXzcehG+QZ/z4O3cxsjDihm5llwgndzCwTTuhmZpnoOgXdKLR98KKMMoM2OQ7smA1DU7aTYW/DbqGbmWXCCd3MLBNlZizaWdKPJd0gabWk9xTLnybpR5Juk/QlSTvWX12z6ji2LTvTXZVvytXgBMwp7u9AmhX9+cAlwHHF8s8Cby5RVvjm29TbdAYoq2tMO7Z9G9atTGyXjf8yMd21hV6Uv6X4d4fiFsARwFeK5ecDx3Qry6xJHNuWm1J96JK2k7QS2ABcBfwc2BQRjxRPuRNYUE8Vzerj2LaclEroEfFoRCwC9gYOBQ4quwJJSyUtl9T7RVzMaubYtpz0dJRLRGwCrgVeAOwmafI49r2BdTO85uyIWBwRiweqqVmNHNuWgzJHuewpabfi/i7AS4E1pOB/VfG0E4Cv11VJy1uZ6bxmGIgcdL2ObRu5Kqez63r5XEnPJQ0MbUf6AbgkIt4r6enAxcAewP8Ar42IB7uUNfhWaGNpujidIfGX3hoc21a3snFbsqyuLxzq9dAd9NavOhJ6lRzbNp1hJ3SfKWpmlgkndDOzTAz7aosbgduBucX9tmpz/VtZ947d1Nnqv99wajMtx/boNa7uPXavDBzbQ+1D//1KpeVtPtSrzfVvc92h+fVvev26aXP921x3qKb+7nIxM8uEE7qZWSZGldDPHtF6q9Lm+re57tD8+je9ft20uf5trjtUUP+R9KGbmVn13OViZpaJoSd0SUdKuqWYDebUYa+/V5LOlbRB0qqOZXtIukrSrcXf3UdZx5lI2kfStZJuLmbkeWuxvPH1b9tsQo7r4WlzXEO9sT3UhC5pO+DTwCuAg4HjJR08zDr04TzgyCnLTgWuiYgDgGuK/5voEeDkiDiYNBPPW4rPuw31fxA4IiKeBywCjpT0fOBDwMciYn/gfuDEEdYRcFyPQJvjGmqM7WG30A8FbouIX0TEQ6QLIC0Zch16EhHfAe6bsngJ6aJO0OAZbSJifURcX9zfTLqS4AJaUP+WzSbkuB6iNsc11Bvbw07oC4A7Ov5v62ww8yJifXH/bmDeKCtThqSFwCGkeTNbUf8WzSbkuB6RNsY11BfbHhQdUMeEro0laQ7wVeBtEfFA52NNrv8gswnZYJocF5PaGtdQX2wPO6GvA/bp+H/G2WAa7h5J8wGKvxtGXJ8ZSdqBFPQXRsSlxeLW1B/6m01oyBzXQ5ZDXEP1sT3shP4T4IBiNHdH4Djg8iHXoQqXk2aygQbPaKN0ZaBzgDUR8dGOhxpff7VrNiHH9RC1Oa6h5tiebmqvOm/AUcDPSH1G7xz2+vuo70XAeuBhUr/WicCTSaPotwJXA3uMup4z1P0w0m7njcDK4nZUG+oPPJc0W9CNwCrgjGL504EfA7cBXwZ2GnVdi3o5rodX99bGdVH/2mLbZ4qamWXCg6JmZplwQjczy4QTuplZJpzQzcwy4YRuZpYJJ3Qzs0w4oZuZZcIJ3cwsE/8PfxBe/lTFi8wAAAAASUVORK5CYII=\n",
      "text/plain": [
       "<Figure size 432x288 with 2 Axes>"
      ]
     },
     "metadata": {
      "needs_background": "light"
     },
     "output_type": "display_data"
    },
    {
     "name": "stdout",
     "output_type": "stream",
     "text": [
      "epoch 98 Rec error: 307.99628 sq_error 0.115234375\n",
      "\r",
      "Epoch: 98 / 100\n"
     ]
    },
    {
     "data": {
      "application/vnd.jupyter.widget-view+json": {
       "model_id": "cc524f4112a440108d8acd28883193f4",
       "version_major": 2,
       "version_minor": 0
      },
      "text/plain": [
       "HBox(children=(IntProgress(value=0, max=422), HTML(value='')))"
      ]
     },
     "metadata": {},
     "output_type": "display_data"
    },
    {
     "data": {
      "image/png": "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\n",
      "text/plain": [
       "<Figure size 432x288 with 2 Axes>"
      ]
     },
     "metadata": {
      "needs_background": "light"
     },
     "output_type": "display_data"
    },
    {
     "name": "stdout",
     "output_type": "stream",
     "text": [
      "epoch 99 Rec error: 281.9455 sq_error 0.13378906\n",
      "\r",
      "Epoch: 99 / 100\n"
     ]
    },
    {
     "data": {
      "application/vnd.jupyter.widget-view+json": {
       "model_id": "e6d59bf5bbe64fc4ac385936410f86af",
       "version_major": 2,
       "version_minor": 0
      },
      "text/plain": [
       "HBox(children=(IntProgress(value=0, max=422), HTML(value='')))"
      ]
     },
     "metadata": {},
     "output_type": "display_data"
    },
    {
     "data": {
      "image/png": "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\n",
      "text/plain": [
       "<Figure size 432x288 with 2 Axes>"
      ]
     },
     "metadata": {
      "needs_background": "light"
     },
     "output_type": "display_data"
    },
    {
     "name": "stdout",
     "output_type": "stream",
     "text": [
      "epoch 100 Rec error: 309.25293 sq_error 0.16699219\n"
     ]
    }
   ],
   "source": [
    "datah5 = dd.io.load('ising_data.hdf5')\n",
    "# datah5 =  h5py.File('ising_data.hdf5')\n",
    "#Transform -1 in 0 and take spin up as standard configuration\n",
    "binarizer = Binarizer(threshold=0)\n",
    "keys = list(datah5.keys())\n",
    "#put here the temperature from keys that you want to use for the training\n",
    "class_names = ['T=1.000000', 'T=2.269184', 'T=3.000000']\n",
    "datah5_norm={}\n",
    "data_bin={}\n",
    "for key in keys:\n",
    "    datah5_norm[key] = np.array([np.where(np.sum(slice)<0,-slice,slice) for slice in datah5[key]])\n",
    "    data_bin[key] = np.array([binarizer.fit_transform(slice) for slice in datah5_norm[key]])\n",
    "\n",
    "#class labels even if they are not really useful here\n",
    "class_labels = np.asarray(list(itertools.chain.from_iterable(itertools.repeat(x, 5000) for x in range(0,len(class_names)))))\n",
    "\n",
    "data = data_bin[class_names[0]]\n",
    "for temperature in class_names[1:]:\n",
    "    data = np.concatenate([data,data_bin[temperature]])\n",
    "\n",
    "#create dictionary for training\n",
    "x_train, x_test, y_train, y_test = train_test_split(data, class_labels, test_size=0.1, random_state=42)\n",
    "\n",
    "#reshape pictures to be vectors and fix datatype\n",
    "x_train = x_train.reshape(x_train.shape[0],-1).astype(np.float32)\n",
    "x_test = x_test.reshape(x_test.shape[0],-1).astype(np.float32)\n",
    "\n",
    "data = {\"x_train\": x_train ,\"y_train\": y_train,\"x_test\": x_test,\"y_test\": y_test}\n",
    "\n",
    "#Create a restricted boltzmann machines\n",
    "machine = RBM(x_train[0].shape[0], 200, 100, (32, 32), 32, init_learning_rate=0.1)\n",
    "\n",
    "#Train the machine\n",
    "machine.train(data)"
   ]
  },
  {
   "cell_type": "markdown",
   "metadata": {},
   "source": [
    "## Task 5"
   ]
  },
  {
   "cell_type": "markdown",
   "metadata": {},
   "source": [
    "Generating 500 new configurations (1 MC steps each) from all three temperature groups we trained the RBM with and showing some random generated sample examples:"
   ]
  },
  {
   "cell_type": "code",
   "execution_count": 110,
   "metadata": {
    "ExecuteTime": {
     "end_time": "2019-04-04T22:08:44.265664Z",
     "start_time": "2019-04-04T22:08:41.503304Z"
    }
   },
   "outputs": [
    {
     "data": {
      "image/png": "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\n",
      "text/plain": [
       "<Figure size 360x360 with 16 Axes>"
      ]
     },
     "metadata": {
      "needs_background": "light"
     },
     "output_type": "display_data"
    }
   ],
   "source": [
    "n = 1000\n",
    "MC_step = 1\n",
    "fresh_samples = np.empty([n, 1024])\n",
    "choices = np.random.choice(x_train.shape[0], n, replace=False)\n",
    "fresh_samples_inputs, fresh_temps = x_train[choices], y_train[choices]\n",
    "for i in range(n):\n",
    "    fresh_samples[i] = machine.sample(inpt=fresh_samples_inputs[i], n_step_MC=MC_step)[0]\n",
    "\n",
    "fig, axes = plt.subplots(4, 4, figsize=(5, 5))\n",
    "fig.tight_layout()\n",
    "example_choice = np.random.choice(fresh_samples.shape[0], 16, replace=False)\n",
    "examples = fresh_samples[example_choice]\n",
    "example_temps = fresh_temps[example_choice]\n",
    "for i in range(4):\n",
    "    for j in range(4):\n",
    "        axes[i, j].imshow(examples[i*3+j].reshape(machine._picture_shape), cmap='Greys')\n",
    "        axes[i, j].set_title('T label : {}'.format(example_temps[i*3+j]))\n",
    "        axes[i, j].xaxis.set_ticklabels([])\n",
    "        axes[i, j].yaxis.set_ticklabels([])\n",
    "plt.show(block=False)"
   ]
  },
  {
   "cell_type": "markdown",
   "metadata": {
    "ExecuteTime": {
     "end_time": "2019-04-04T22:04:14.299650Z",
     "start_time": "2019-04-04T22:04:14.295773Z"
    }
   },
   "source": [
    "Looking at several of these samples it seems pretty obvious that either the RBM was not trained to a sufficient degree or that something is off with the training data provided:\n",
    "![weird_labels](./src/samples.png)"
   ]
  },
  {
   "cell_type": "markdown",
   "metadata": {},
   "source": [
    "## Task 6"
   ]
  },
  {
   "cell_type": "markdown",
   "metadata": {},
   "source": [
    "Done implicitly by doing task 4 and 5 for three temperatures."
   ]
  },
  {
   "cell_type": "markdown",
   "metadata": {},
   "source": [
    "# Exercise 2"
   ]
  },
  {
   "cell_type": "markdown",
   "metadata": {},
   "source": [
    "## Task 1"
   ]
  },
  {
   "cell_type": "markdown",
   "metadata": {},
   "source": [
    "As I've manually calculated the expressions for backprop several times already, I'm just quoting from my personal notes instead: ![here](./src/backprop.png)"
   ]
  },
  {
   "cell_type": "markdown",
   "metadata": {},
   "source": [
    "\n",
    "\n",
    "## Task 2"
   ]
  },
  {
   "cell_type": "markdown",
   "metadata": {
    "ExecuteTime": {
     "end_time": "2019-04-04T21:07:46.951201Z",
     "start_time": "2019-04-04T21:07:46.947461Z"
    }
   },
   "source": [
    "Loading the data. As temperatures around $T_c$ are qualitatively similar, including all of those examples in the training data gives no great results. On the other hand, only including ['T=1.000000', 'T=2.269184', 'T=3.000000'] like we trained the RBM quickly overfits in spite of regularization attempts and gives near 100% accuracy within 2-5 training epochs (CNN, see below) or, with less overfitting, within 10-15 epochs (vanilla NN, see below). Just for the sake of the experiment and noting that the amount of training examples is on the low side for a neural network anyway, I kept those three temperatures to see how the network would fare on the generated samples."
   ]
  },
  {
   "cell_type": "code",
   "execution_count": 50,
   "metadata": {
    "ExecuteTime": {
     "end_time": "2019-04-04T21:22:48.573175Z",
     "start_time": "2019-04-04T21:22:46.976969Z"
    }
   },
   "outputs": [],
   "source": [
    "##### preprocessing the data\n",
    "datah5 = dd.io.load('ising_data.hdf5')\n",
    "\n",
    "binarizer = Binarizer(threshold=0)\n",
    "keys = list(datah5.keys())\n",
    "for key in keys:\n",
    "    datah5[key] = np.array([np.where(np.sum(slice)<0,-slice,slice) for slice in datah5[key]])\n",
    "    datah5[key] = np.array([binarizer.fit_transform(slice) for slice in datah5[key]])\n",
    "\n",
    "\"\"\"\n",
    "**************************************************************************\n",
    "CHOOSE AS MANY TEMPERATURES AS YOU WOULD LIKE TO IDENTIFY!****************\n",
    "KEEP IN MIND THAT THE ACCURACY GETS HIGHER THE LESS TEMPERATURES YOU PICK!\n",
    "**************************************************************************\n",
    "\"\"\"\n",
    "# class_names = ['T=1.000000', 'T=2.186995', 'T=2.261435', 'T=2.268900', 'T=2.269184', 'T=3.000000']\n",
    "# class_names = ['T=1.000000', 'T=2.186995', 'T=2.269184', 'T=3.000000']\n",
    "class_names = ['T=1.000000', 'T=2.269184', 'T=3.000000']"
   ]
  },
  {
   "cell_type": "markdown",
   "metadata": {},
   "source": [
    "A vanilla convolutional neural network for image classification:"
   ]
  },
  {
   "cell_type": "code",
   "execution_count": 55,
   "metadata": {
    "ExecuteTime": {
     "end_time": "2019-04-04T21:27:25.465371Z",
     "start_time": "2019-04-04T21:27:25.455182Z"
    }
   },
   "outputs": [],
   "source": [
    "# CNN\n",
    "def create_model():\n",
    "    model = Sequential()\n",
    "    model.add(Conv2D(16, (4, 4), padding=\"same\",\n",
    "              input_shape=(32, 32, 1)))\n",
    "    model.add(Activation(\"relu\"))\n",
    "    model.add(BatchNormalization())\n",
    "    model.add(Dropout(0.5))\n",
    "    model.add(MaxPooling2D(pool_size=(2, 2), strides=(2, 2)))\n",
    "    model.add(Conv2D(32, (4, 4), padding=\"same\"))\n",
    "    model.add(Activation(\"relu\"))\n",
    "    model.add(BatchNormalization())\n",
    "    model.add(Dropout(0.5))\n",
    "    model.add(MaxPooling2D(pool_size=(2, 2), strides=(2, 2)))\n",
    "    model.add(Conv2D(64, (4, 4), padding=\"same\"))\n",
    "    model.add(Activation(\"relu\"))\n",
    "    model.add(BatchNormalization())\n",
    "    model.add(Dropout(0.5))\n",
    "    model.add(MaxPooling2D(pool_size=(2, 2), strides=(2, 2)))\n",
    "    model.add(Flatten())\n",
    "    model.add(Dense(256))\n",
    "    model.add(Activation(\"relu\"))\n",
    "    model.add(Dense(len(class_names)))\n",
    "    model.add(Activation(\"softmax\"))\n",
    "    model.compile(optimizer='nadam',\n",
    "                  loss='categorical_crossentropy',\n",
    "                  metrics=['categorical_accuracy', 'accuracy'])\n",
    "    return model"
   ]
  },
  {
   "cell_type": "code",
   "execution_count": 89,
   "metadata": {
    "ExecuteTime": {
     "end_time": "2019-04-04T21:56:05.054688Z",
     "start_time": "2019-04-04T21:56:05.049031Z"
    }
   },
   "outputs": [],
   "source": [
    "# Vanilla NN\n",
    "def create_model():\n",
    "    model = Sequential()\n",
    "    model.add(Dense(1, input_shape=(32, 32, 1)))\n",
    "    model.add(Flatten())\n",
    "    model.add(Activation(\"relu\"))\n",
    "    model.add(Dense(256))\n",
    "    model.add(Activation(\"relu\"))\n",
    "    model.add(Dense(128))\n",
    "    model.add(Activation(\"relu\"))\n",
    "    model.add(Dense(len(class_names)))\n",
    "    model.add(Activation(\"softmax\"))\n",
    "    model.compile(optimizer='adam',\n",
    "                  loss='categorical_crossentropy',\n",
    "                  metrics=['categorical_accuracy', 'accuracy'])\n",
    "    return model"
   ]
  },
  {
   "cell_type": "code",
   "execution_count": 92,
   "metadata": {
    "ExecuteTime": {
     "end_time": "2019-04-04T21:57:11.680192Z",
     "start_time": "2019-04-04T21:57:00.150694Z"
    }
   },
   "outputs": [
    {
     "name": "stderr",
     "output_type": "stream",
     "text": [
      "/usr/local/lib/python3.7/site-packages/ipykernel_launcher.py:14: DeprecationWarning: Both axis > a.ndim and axis < -a.ndim - 1 are deprecated and will raise an AxisError in the future.\n",
      "  \n"
     ]
    },
    {
     "name": "stdout",
     "output_type": "stream",
     "text": [
      "Model: \"sequential_7\"\n",
      "_________________________________________________________________\n",
      "Layer (type)                 Output Shape              Param #   \n",
      "=================================================================\n",
      "dense_18 (Dense)             (None, 32, 32, 1)         2         \n",
      "_________________________________________________________________\n",
      "flatten_6 (Flatten)          (None, 1024)              0         \n",
      "_________________________________________________________________\n",
      "activation_27 (Activation)   (None, 1024)              0         \n",
      "_________________________________________________________________\n",
      "dense_19 (Dense)             (None, 256)               262400    \n",
      "_________________________________________________________________\n",
      "activation_28 (Activation)   (None, 256)               0         \n",
      "_________________________________________________________________\n",
      "dense_20 (Dense)             (None, 128)               32896     \n",
      "_________________________________________________________________\n",
      "activation_29 (Activation)   (None, 128)               0         \n",
      "_________________________________________________________________\n",
      "dense_21 (Dense)             (None, 3)                 387       \n",
      "_________________________________________________________________\n",
      "activation_30 (Activation)   (None, 3)                 0         \n",
      "=================================================================\n",
      "Total params: 295,685\n",
      "Trainable params: 295,685\n",
      "Non-trainable params: 0\n",
      "_________________________________________________________________\n",
      "Train on 13500 samples, validate on 1500 samples\n",
      "Epoch 1/15\n",
      "13500/13500 [==============================] - 1s 74us/sample - loss: 0.6968 - categorical_accuracy: 0.6879 - accuracy: 0.6879 - val_loss: 0.2756 - val_categorical_accuracy: 0.9587 - val_accuracy: 0.9587\n",
      "Epoch 2/15\n",
      "13500/13500 [==============================] - 1s 52us/sample - loss: 0.4817 - categorical_accuracy: 0.8096 - accuracy: 0.8096 - val_loss: 0.5485 - val_categorical_accuracy: 0.7513 - val_accuracy: 0.7513\n",
      "Epoch 3/15\n",
      "13500/13500 [==============================] - 1s 52us/sample - loss: 0.4383 - categorical_accuracy: 0.8133 - accuracy: 0.8133 - val_loss: 0.2445 - val_categorical_accuracy: 0.9047 - val_accuracy: 0.9047\n",
      "Epoch 4/15\n",
      "13500/13500 [==============================] - 1s 51us/sample - loss: 0.3992 - categorical_accuracy: 0.8390 - accuracy: 0.8390 - val_loss: 0.5173 - val_categorical_accuracy: 0.7573 - val_accuracy: 0.7573\n",
      "Epoch 5/15\n",
      "12864/13500 [===========================>..] - ETA: 0s - loss: 0.3848 - categorical_accuracy: 0.8506 - accuracy: 0.8506\n",
      "Epoch 00005: saving model to training_1/cp.ckpt\n",
      "13500/13500 [==============================] - 1s 53us/sample - loss: 0.3822 - categorical_accuracy: 0.8513 - accuracy: 0.8513 - val_loss: 0.1891 - val_categorical_accuracy: 0.9413 - val_accuracy: 0.9413\n",
      "Epoch 6/15\n",
      "13500/13500 [==============================] - 1s 52us/sample - loss: 0.3648 - categorical_accuracy: 0.8628 - accuracy: 0.8628 - val_loss: 0.3224 - val_categorical_accuracy: 0.8920 - val_accuracy: 0.8920\n",
      "Epoch 7/15\n",
      "13500/13500 [==============================] - 1s 52us/sample - loss: 0.3381 - categorical_accuracy: 0.8773 - accuracy: 0.8773 - val_loss: 0.2510 - val_categorical_accuracy: 0.8993 - val_accuracy: 0.8993\n",
      "Epoch 8/15\n",
      "13500/13500 [==============================] - 1s 51us/sample - loss: 0.2934 - categorical_accuracy: 0.8918 - accuracy: 0.8918 - val_loss: 0.4857 - val_categorical_accuracy: 0.7707 - val_accuracy: 0.7707\n",
      "Epoch 9/15\n",
      "13500/13500 [==============================] - 1s 51us/sample - loss: 0.2111 - categorical_accuracy: 0.9319 - accuracy: 0.9319 - val_loss: 0.3929 - val_categorical_accuracy: 0.8307 - val_accuracy: 0.8307\n",
      "Epoch 10/15\n",
      "12992/13500 [===========================>..] - ETA: 0s - loss: 0.1253 - categorical_accuracy: 0.9647 - accuracy: 0.9647\n",
      "Epoch 00010: saving model to training_1/cp.ckpt\n",
      "13500/13500 [==============================] - 1s 53us/sample - loss: 0.1243 - categorical_accuracy: 0.9649 - accuracy: 0.9649 - val_loss: 0.2142 - val_categorical_accuracy: 0.9220 - val_accuracy: 0.9220\n",
      "Epoch 11/15\n",
      "13500/13500 [==============================] - 1s 56us/sample - loss: 0.1988 - categorical_accuracy: 0.9290 - accuracy: 0.9290 - val_loss: 0.5260 - val_categorical_accuracy: 0.8060 - val_accuracy: 0.8060\n",
      "Epoch 12/15\n",
      "13500/13500 [==============================] - 1s 58us/sample - loss: 0.2365 - categorical_accuracy: 0.9136 - accuracy: 0.9136 - val_loss: 0.2868 - val_categorical_accuracy: 0.8807 - val_accuracy: 0.8807\n",
      "Epoch 13/15\n",
      "13500/13500 [==============================] - 1s 53us/sample - loss: 0.1438 - categorical_accuracy: 0.9607 - accuracy: 0.9607 - val_loss: 0.3169 - val_categorical_accuracy: 0.8673 - val_accuracy: 0.8673\n",
      "Epoch 14/15\n",
      "13500/13500 [==============================] - 1s 52us/sample - loss: 0.0939 - categorical_accuracy: 0.9790 - accuracy: 0.9790 - val_loss: 0.3743 - val_categorical_accuracy: 0.8387 - val_accuracy: 0.8387\n",
      "Epoch 15/15\n",
      "12992/13500 [===========================>..] - ETA: 0s - loss: 0.1422 - categorical_accuracy: 0.9557 - accuracy: 0.9557\n",
      "Epoch 00015: saving model to training_1/cp.ckpt\n",
      "13500/13500 [==============================] - 1s 53us/sample - loss: 0.1443 - categorical_accuracy: 0.9553 - accuracy: 0.9553 - val_loss: 0.3066 - val_categorical_accuracy: 0.8820 - val_accuracy: 0.8820\n"
     ]
    },
    {
     "data": {
      "text/plain": [
       "<tensorflow.python.keras.callbacks.History at 0x16c3b5a58>"
      ]
     },
     "execution_count": 92,
     "metadata": {},
     "output_type": "execute_result"
    }
   ],
   "source": [
    "#the correspondent label for the class will be the index in the previous list so label 0 ==> T=1.0000000\n",
    "\n",
    "#We have to concatenate all the data and also create all the correspondent labels\n",
    "\n",
    "data = datah5[class_names[0]]\n",
    "\n",
    "for temperature in class_names[1:]:\n",
    "    data = np.concatenate([data,datah5[temperature]])\n",
    "\n",
    "# reshape data into line vectors for standard NN\n",
    "# data = data.reshape(-1, 1024)\n",
    "\n",
    "# add b/w color channel to data for CNN\n",
    "data = np.expand_dims(data, axis=4)\n",
    "\n",
    "#to create the correspondent label we just need a list [0,0,...,0,1,...,1,...]\n",
    "class_labels = np.asarray(list(itertools.chain.from_iterable(itertools.repeat(x, 5000) for x in range(0,len(class_names)))))\n",
    "\n",
    "# one-hot encode labels for categorization\n",
    "onehot_encoder = OneHotEncoder(categories='auto')\n",
    "y_onehot_encoded = onehot_encoder.fit_transform(class_labels.reshape(-1, 1))\n",
    "\n",
    "#Split the dataset into test and train\n",
    "ising_train, ising_test, temp_train, temp_test = train_test_split(data, y_onehot_encoded, test_size=0.1, random_state=42)\n",
    "\n",
    "checkpoint_path = \"training_1/cp.ckpt\"\n",
    "checkpoint_dir = os.path.dirname(checkpoint_path)\n",
    "\n",
    "# Create checkpoint callback to save our trained model every epoch\n",
    "cp_callback = tf.keras.callbacks.ModelCheckpoint(checkpoint_path,save_weights_only=True,verbose=1, period=5)\n",
    "\n",
    "#Now we can create our neural network and print out a summary of the architecture\n",
    "neural_network = create_model()\n",
    "neural_network.summary()\n",
    "\n",
    "#Start training the model by testing every epoch the accuracy of the class prediction on the test set\n",
    "\n",
    "# neural_network.fit(ising_train, temp_train, epochs=5, batch_size=64,\n",
    "#                    validation_data = (ising_test,temp_test), callbacks=[cp_callback])\n",
    "\n",
    "neural_network.fit(data, y_onehot_encoded, epochs=15, batch_size=64, validation_split=0.1,\n",
    "                   shuffle=True, callbacks=[cp_callback])"
   ]
  },
  {
   "cell_type": "markdown",
   "metadata": {},
   "source": [
    "## Task 3"
   ]
  },
  {
   "cell_type": "markdown",
   "metadata": {},
   "source": [
    "Now using the trained model to predict the temperatures of the samples generated above from the trained RBM:"
   ]
  },
  {
   "cell_type": "code",
   "execution_count": 111,
   "metadata": {
    "ExecuteTime": {
     "end_time": "2019-04-04T22:11:41.209309Z",
     "start_time": "2019-04-04T22:11:41.204239Z"
    }
   },
   "outputs": [
    {
     "name": "stderr",
     "output_type": "stream",
     "text": [
      "/usr/local/lib/python3.7/site-packages/ipykernel_launcher.py:2: DeprecationWarning: Both axis > a.ndim and axis < -a.ndim - 1 are deprecated and will raise an AxisError in the future.\n",
      "  \n"
     ]
    }
   ],
   "source": [
    "# get data into proper shape\n",
    "fresh_samples = np.expand_dims(fresh_samples.reshape((-1, 32, 32)), axis=4) # add color channel\n",
    "fresh_temps = onehot_encoder.transform(fresh_temps.reshape(-1, 1))"
   ]
  },
  {
   "cell_type": "code",
   "execution_count": 112,
   "metadata": {
    "ExecuteTime": {
     "end_time": "2019-04-04T22:11:42.710864Z",
     "start_time": "2019-04-04T22:11:42.654826Z"
    }
   },
   "outputs": [
    {
     "name": "stdout",
     "output_type": "stream",
     "text": [
      "1000/1000 [==============================] - 0s 50us/sample - loss: 4.0966 - categorical_accuracy: 0.3430 - accuracy: 0.3430\n"
     ]
    },
    {
     "data": {
      "text/plain": [
       "[4.0966467247009275, 0.343, 0.343]"
      ]
     },
     "execution_count": 112,
     "metadata": {},
     "output_type": "execute_result"
    }
   ],
   "source": [
    "neural_network.evaluate(fresh_samples, fresh_temps)"
   ]
  },
  {
   "cell_type": "markdown",
   "metadata": {},
   "source": [
    "Which of course is the analogue of the manual check:"
   ]
  },
  {
   "cell_type": "code",
   "execution_count": 94,
   "metadata": {
    "ExecuteTime": {
     "end_time": "2019-04-04T21:57:29.699592Z",
     "start_time": "2019-04-04T21:57:29.059725Z"
    }
   },
   "outputs": [
    {
     "name": "stdout",
     "output_type": "stream",
     "text": [
      "Accuracy: 36.00%\n"
     ]
    }
   ],
   "source": [
    "correct = 0\n",
    "for i in range(fresh_samples.shape[0]):\n",
    "    if np.argmax(neural_network.predict(fresh_samples[i].reshape((-1,32,32,1)))) == np.argmax(fresh_temps[i].toarray()):\n",
    "        correct += 1\n",
    "print('Accuracy: {:.2%}'.format(correct/fresh_samples.shape[0]))    "
   ]
  },
  {
   "cell_type": "markdown",
   "metadata": {},
   "source": [
    "This is obviously a disappointing result which would merit further investigation.\n",
    "\n",
    "Considering how off the labels of the samples generated by the RBM were (see above), my first inclination would be to suspect the RBM part of the generation-classification loop."
   ]
  },
  {
   "cell_type": "markdown",
   "metadata": {},
   "source": [
    "## Task 4"
   ]
  },
  {
   "cell_type": "markdown",
   "metadata": {},
   "source": [
    "Implictly done already during previous tasks."
   ]
  },
  {
   "cell_type": "markdown",
   "metadata": {},
   "source": [
    "# References / Bibliography"
   ]
  },
  {
   "cell_type": "markdown",
   "metadata": {},
   "source": [
    "<a id='geron'></a>\n",
    "Aurélien Géron:\n",
    "*Hands-On Machine Learning with Scikit-Learn and TensorFlow*,\n",
    "O'Reilly,\n",
    "2017"
   ]
  },
  {
   "cell_type": "markdown",
   "metadata": {},
   "source": [
    "<a id='hinton'></a>\n",
    "Miguel A. Carreira-Perpinan, Geoffrey E. Hinton:\n",
    "[*On Contrastive Divergence Learning*](http://www.cs.toronto.edu/~fritz/absps/cdmiguel.pdf),\n",
    "University of Toronto,\n",
    "2005"
   ]
  },
  {
   "cell_type": "markdown",
   "metadata": {
    "heading_collapsed": true
   },
   "source": [
    "# Original source code by course team"
   ]
  },
  {
   "cell_type": "markdown",
   "metadata": {
    "hidden": true
   },
   "source": [
    "## my_RBM_tf2.py"
   ]
  },
  {
   "cell_type": "code",
   "execution_count": null,
   "metadata": {
    "hidden": true
   },
   "outputs": [],
   "source": [
    "import tensorflow as tf \n",
    "import numpy as np \n",
    "import datetime\n",
    "import math\n",
    "import sys\n",
    "from tqdm import tqdm\n",
    "import random\n",
    "import matplotlib.pyplot as plt\n",
    "import deepdish as dd\n",
    "\n",
    "'''\n",
    "class monitoring():\n",
    "    def reconstruction_cross_e(): \n",
    "    \n",
    "    def ava_sq_error(): \n",
    "    \n",
    "    def pseudo_log_l():\n",
    "'''\n",
    "\n",
    "class RBM():\n",
    "    def __init__(self, visible_dim, hidden_dim,  number_of_epochs, picture_shape, batch_size, optimizer='cd',n_test_samples=100, init_learning_rate = 0.8):\n",
    "        self._n_epoch = number_of_epochs\n",
    "        self._v_dim = visible_dim\n",
    "        self._h_dim = hidden_dim\n",
    "        self._l_r = init_learning_rate\n",
    "        self._batch_size = batch_size\n",
    "        self._picture_shape = picture_shape\n",
    "        self.n_test_samples = n_test_samples\n",
    "        self.optimizer = optimizer\n",
    "        self._current_time = datetime.datetime.now().strftime(\"%Y%m%d-%H%M%S\")\n",
    "        self._log_dir = 'logs/scalars/' + self._current_time + '/train'\n",
    "        self._file_writer = tf.summary.create_file_writer(self._log_dir)\n",
    "        self._file_writer.set_as_default()\n",
    "        #self.model = self.model\n",
    "        self.visible_biases = tf.Variable(tf.random.uniform([1, visible_dim], 0, 0.1), tf.float32, name=\"visible_biases\")\n",
    "        self.hidden_biases = tf.Variable(tf.random.uniform([1, hidden_dim], 0, 0.1), tf.float32, name=\"hidden_biases\")\n",
    "        self.weights = tf.Variable(tf.random.normal([hidden_dim, visible_dim], mean = 0.0, stddev = 0.1), tf.float32, name=\"weights\")\n",
    "\n",
    "    '''\n",
    "    @tf.function    \n",
    "    def model(self):\n",
    "        self.visible_biases = tf.Variable(tf.random.uniform([1, self._v_dim], 0, 1), tf.float32, name=\"visible_biases\")\n",
    "        self.hidden_biases = tf.Variable(tf.random.uniform([1, self._h_dim], 0, 1), tf.float32, name=\"hidden_biases\")\n",
    "        self.weights = tf.Variable(tf.random.normal([self._h_dim,self._v_dim], mean = 0.0, stddev = 0.01),tf.float32, name=\"weights\")\n",
    "        #self.learning_rate = tf.Variable(tf.fill([self._v_dim, self._h_dim], learning_rate), name=\"learning_rate\")\n",
    "    '''\n",
    "    def save_model(self):\n",
    "        \"\"\"\n",
    "        Save the current RBM model as .h5 file dictionary with  keys: {'weights', 'visible biases', 'hidden_biases' }\n",
    "        \"\"\"\n",
    "        model_dict = {'weights': np.asarray(self.weights), 'visible biases': np.asarray(self.visible_biases), 'hidden biases': np.asarray(self.hidden_biases)}\n",
    "        return dd.io.save('results/models/'+self._current_time+'model.h5', model_dict)\n",
    "\n",
    "    def from_saved_model(self,model_path):\n",
    "        \"\"\"\n",
    "\n",
    "        :param model_path: string\n",
    "                           path of .h5 file containing dictionary of the model with  keys: {'weights', 'visible biases', 'hidden biases' }\n",
    "        :return: loaded model\n",
    "        \"\"\"\n",
    "        model_dict = dd.io.load(model_path)\n",
    "        self.weights = model_dict['weights']\n",
    "        self.visible_biases = model_dict['visible biases']\n",
    "        self.hidden_biases = model_dict['hidden biases']\n",
    "        return self\n",
    "\n",
    "    #@tf.function\n",
    "    def calculate_state(self, probability):\n",
    "        \"\"\"\n",
    "        Given the probability(x'=1|W,b) = sigmoid(Wx+b) computes the next state by sampling from the relative binomial distribution.\n",
    "        x and x' can be the visible and hidden layers respectively or viceversa.\n",
    "        :param probability: array, shape(visible_dim) or shape(hidden_dim)\n",
    "        :return: array , shape(visible_dim) or shape(hidden_dim)\n",
    "                 0,1 state of each unit in the layer\n",
    "        \"\"\"\n",
    "        binom = tf.concat([1-probability,probability],0)\n",
    "        prob_re = tf.reshape(binom,(2,probability.get_shape()[1]))\n",
    "        #print(\"check summation probability:\", tf.reduce_sum(prob_re,0)) # check prob summation to 1\n",
    "        return tf.reshape(tf.cast(tf.random.categorical(tf.math.log(tf.transpose(prob_re)),1), tf.float32), (1,probability.get_shape()[1]))\n",
    "   \n",
    "\n",
    "    #@tf.function\n",
    "    def sample(self, inpt = [] ,n_step_MC=1,p_0=0.5,p_1=0.5):\n",
    "        \"\"\"\n",
    "        Sample from the RBM with n_step_MC steps markov chain.\n",
    "        :param inpt: array shape(visible_dim)\n",
    "                     It is possible to start the markov chain from a given point from the dataset or from a random state\n",
    "        :param n_step_MC: scalar\n",
    "                          number of markov chain steps to sample.\n",
    "        :return: visible_states_1: array shape(visible_dim)\n",
    "                 visible state after n_step_MC steps\n",
    "                 visible_probabilities_1: array shape(visible_dim)\n",
    "                 probabilities from which visible_states_1 is sampled\n",
    "        \"\"\"\n",
    "        if len(inpt) == 0:\n",
    "            #inpt = tf.constant(np.random.randint(2, size=self._v_dim), tf.float32)\n",
    "            inpt = tf.constant(np.random.choice([0,1], size=self._v_dim,p=[p_0,p_1]), tf.float32)\n",
    "        hidden_probabilities_0 = tf.sigmoid(tf.add(tf.tensordot(self.weights, inpt,1), self.hidden_biases)) # dimension W + 1 row for biases\n",
    "        hidden_states_0 = self.calculate_state(hidden_probabilities_0)\n",
    "        evolution_MC = [inpt]\n",
    "        for _ in range(n_step_MC): #gibbs update\n",
    "            visible_probabilities_1 = tf.sigmoid(tf.add(tf.tensordot(hidden_states_0,self.weights,1), self.visible_biases)) # dimension W + 1 row for biases\n",
    "            visible_states_1 = self.calculate_state(visible_probabilities_1)\n",
    "            hidden_probabilities_1 = tf.sigmoid(tf.add(tf.tensordot(visible_states_1, tf.transpose(self.weights),1), self.hidden_biases)) # dimension W + 1 row for biases\n",
    "            hidden_states_1 = self.calculate_state(hidden_probabilities_1)\n",
    "            hidden_states_0 = hidden_states_1\n",
    "            evolution_MC.append(visible_states_1)\n",
    "        return visible_states_1,visible_probabilities_1,inpt,evolution_MC\n",
    "\n",
    "    #@tf.function\n",
    "    def contr_divergence(self, data_point, n_step_MC=1):\n",
    "        \"\"\"\n",
    "        Perform contrastive divergence given a data point.\n",
    "        :param data_point: array, shape(visible layer)\n",
    "                           data point sampled from the batch\n",
    "        :param n_step_MC: int\n",
    "                          tep of the markov chain for the sampling (CD1,CD2,...)\n",
    "        :return: delta_w: array shape(hidden_dim, visible_dim)\n",
    "                          Array of the same shape of the weight matrix which entries are the gradients dw_{ij}\n",
    "                 delta_vb: array, shape(visible_dim)\n",
    "                           Array of the same shape of the visible biases which entries are the gradients d_vb_i\n",
    "                 delta_vb: array, shape(hidden_dim)\n",
    "                           Array of the same shape of the hidden biases which entries are the gradients d_hb_i\n",
    "\n",
    "        \"\"\"\n",
    "        \"\"\"\n",
    "        *************************\n",
    "        YOUR TURN****************\n",
    "        *************************\n",
    "        \"\"\"\n",
    "        return delta_w, delta_vb, delta_hb, visible_states_1\n",
    "\n",
    "\n",
    "    #@tf.function\n",
    "    def persistent_contr_divergence(self, data):\n",
    "        \"\"\"\n",
    "        Persistent CD [Tieleman08] uses another approximation for sampling from p(v,h).\n",
    "        It relies on a single Markov chain, which has a persistent state (i.e., not restarting\n",
    "        a chain for each observed example). For each parameter update, we extract new samples by\n",
    "        simply running the chain for k-steps. The state of the chain is then preserved for subsequent updates.\n",
    "        \"\"\"\n",
    "        return\n",
    "\n",
    "\n",
    "\n",
    "    def reconstruction_cross_entropy(self,test_points, plot=True):\n",
    "        \"\"\"\n",
    "        Compute the reconstruction cross entropy = - \\Sum_[i=1]^d z_i log(p(z_i)) + (1-z_i) log(1-p(z_i)) where i\n",
    "        is the i-th component of the reconstructed vector and p(z_i) = sigmoid(Wx+b)_i.\n",
    "        :param test_point: array like\n",
    "                           Random point sampled from the test set\n",
    "        :param plot: bool\n",
    "                    if True plot the reconstruction togheter with the sampled test point for comparison\n",
    "        :return: scalar\n",
    "                Reconstruction cross entropy\n",
    "        \"\"\"\n",
    "        \n",
    "        r_ce_list=[]\n",
    "        for vec in test_points: \n",
    "            reconstruction,prob,_,_ = self.sample(inpt=vec)\n",
    "            #tf.where is needed to have 0*-\\infty = 0\n",
    "            r_ce = tf.multiply(reconstruction, tf.where(tf.math.is_inf(tf.math.log(prob)),np.zeros_like(tf.math.log(prob)),tf.math.log(prob))) \\\n",
    "                   + tf.multiply((1-reconstruction), tf.where(tf.math.is_inf(tf.math.log(1-prob)),np.zeros_like(tf.math.log(1-prob)), tf.math.log(1-prob)))\n",
    "            r_ce_list.append(-tf.reduce_sum(r_ce,1)[0])\n",
    "\n",
    "        if plot:\n",
    "            reconstruction_plot= self.sample(inpt=test_points[1,:])[0]\n",
    "            fig, axes = plt.subplots(nrows=1, ncols=2)\n",
    "            axes[0].imshow(test_points[1,:].reshape(self._picture_shape),cmap='Greys')\n",
    "            axes[0].set_title(\"Original Image\")\n",
    "            axes[1].imshow(np.asarray(reconstruction_plot).reshape(self._picture_shape), cmap='Greys')\n",
    "            axes[1].set_title(\"Reconstruction\")\n",
    "            plt.show(block=False)\n",
    "            plt.pause(3)\n",
    "            plt.close()\n",
    "\n",
    "        return np.average(r_ce_list)\n",
    "\n",
    "    def average_squared_error(self, test_points):\n",
    "        \"\"\"\n",
    "        Compute the mean squared error between a test vector and its reconstruction performed by the RBM, ||x - z||^2.  \n",
    "        :param test_point: array, shape(visible_dim)\n",
    "                           data point to test the reconstruction\n",
    "        :return: sqr: float\n",
    "                      error\n",
    "        \"\"\"\n",
    "        ase_list=[]\n",
    "        for vec in test_points:\n",
    "            reconstruction= self.sample(inpt = vec)[0]\n",
    "            as_e = tf.pow(vec - reconstruction,2)\n",
    "            sqr = tf.reduce_sum(as_e,1)/self._v_dim\n",
    "            ase_list.append(sqr[0])\n",
    "            return np.mean(ase_list)\n",
    "\n",
    "    def free_energy(self,test_point):\n",
    "        \"\"\"\n",
    "        Compute the free energy of the RBM, it is useful to compute the pseudologlikelihood.\n",
    "        F(v) = - log \\sum_h e^{-E(v,h)} = -bv - \\sum_i \\log(1 + e^{c_i + W_i v}) where v= visible state, h = hidden state,\n",
    "        b = visible biases, c = hidden biases, W_i = i-th column of the weights matrix\n",
    "        :param test_point: array, shape(visible_dim)\n",
    "                           random point sampled from the test set\n",
    "        :return: scalar\n",
    "        \"\"\"\n",
    "        bv = tf.tensordot(test_point, tf.transpose(self.visible_biases),1)\n",
    "        wx_b = tf.tensordot(self.weights,test_point,1) + self.hidden_biases\n",
    "        hidden_term = tf.reduce_sum(tf.math.log(1+tf.math.exp(wx_b)))\n",
    "        return np.asarray(-hidden_term -bv)[0]\n",
    "\n",
    "    def pseudo_log_likelihood(self):\n",
    "\n",
    "        return self\n",
    "\n",
    "    def KL_divergence(self):\n",
    "\n",
    "        return self\n",
    "\n",
    "    def exp_decay_l_r(self,epoch):\n",
    "        \"\"\"\n",
    "        When training a model, it is often recommended to lower the learning rate as the training progresses.\n",
    "        This function applies an exponential decay function to a provided initial learning rate.\n",
    "        :param epoch: scalar\n",
    "        :return: scalar\n",
    "        \"\"\"\n",
    "        k = 0.1\n",
    "        lrate = self._l_r * np.exp(-k * epoch)\n",
    "        return lrate\n",
    "\n",
    "    def variable_summaries(self,var, step):\n",
    "        with tf.name_scope('summaries'):\n",
    "            mean = tf.reduce_mean(var)\n",
    "            tf.summary.scalar('mean', mean, step)\n",
    "            with tf.name_scope('stddev'):\n",
    "                stddev = tf.sqrt(tf.reduce_mean(tf.square(var - mean)))\n",
    "            tf.summary.scalar('stddev', stddev, step)\n",
    "            tf.summary.scalar('max', tf.reduce_max(var), step)\n",
    "            tf.summary.scalar('min', tf.reduce_min(var), step)\n",
    "            tf.summary.histogram('histogram', var, step = step)\n",
    "\n",
    "    def train(self, data):\n",
    "        \"\"\"\n",
    "        This function shuffle the dataset and create #data_train/batch_size mini batches and perform contrastive divergence on each vector of the batch. \n",
    "        The upgrade of the parameters is performed only at the end of each batch by taking the average of the gradients on the batch. \n",
    "        In the last part a random datapoint is sampled from the test set to calculate the error reconstruction. The entire procedure is repeted \n",
    "         _n_epochs times.\n",
    "        :param data: dict\n",
    "                     dictionary of numpy arrays with labels ['x_train','y_train','x_test', 'y_test']\n",
    "        :return: self\n",
    "        \"\"\"\n",
    "        print('Start training...')\n",
    "        for epoch in range(self._n_epoch):\n",
    "            sys.stdout.write('\\r')\n",
    "            print('Epoch:',epoch, '/', self._n_epoch)\n",
    "            np.random.shuffle(data['x_train'])\n",
    "            with tf.name_scope('Learning rate'):\n",
    "                learning_rate = self.exp_decay_l_r(epoch)\n",
    "            for i in tqdm(range(0, data['x_train'].shape[0], self._batch_size)):\n",
    "                x_train_mini = data['x_train'][i:i+self._batch_size]\n",
    "                batch_dw = np.zeros((self._h_dim, self._v_dim, self._batch_size)) #d_w,d_v,d_h don't know why but this is not working\n",
    "                batch_dvb = np.zeros((self._v_dim, self._batch_size))\n",
    "                batch_dhb = np.zeros((self._h_dim, self._batch_size))\n",
    "                # I should create an optimizer class at the moment is just if\n",
    "                if self.optimizer == 'cd':\n",
    "                    for ind,vec in enumerate(x_train_mini):\n",
    "                        #print(ind)\n",
    "                        batch_dw[:,:,ind],batch_dvb[:,ind],batch_dhb[:,ind],_ = self.contr_divergence(vec, L2_l=0) #d_w,d_v,d_h not working get lost to write down the values\n",
    "                #Persistent contrastive divergence\n",
    "                elif self.optimizer == 'pcd':\n",
    "                    start_point = x_train_mini[np.random.randint(0,self._batch_size,1)].reshape(self._v_dim)\n",
    "                    for ind in range(self._batch_size):\n",
    "                        batch_dw[:, :, ind], batch_dvb[:, ind], batch_dhb[:, ind], last_state = self.contr_divergence(start_point)\n",
    "                        start_point = tf.reshape(last_state,(self._v_dim,))\n",
    "                dw = np.average(batch_dw,2)\n",
    "                dvb = np.average(batch_dvb,1)\n",
    "                dhb = np.average(batch_dhb,1)\n",
    "                self.weights = self.weights + learning_rate * dw\n",
    "                self.visible_biases = self.visible_biases + learning_rate* dvb\n",
    "                self.hidden_biases = self.hidden_biases + learning_rate* dhb\n",
    "            #Save model every epoch\n",
    "            self.save_model()\n",
    "\n",
    "            #test every epoch\n",
    "            np.random.shuffle(data['x_test'])\n",
    "            rnd_test_points_idx = np.random.randint(low = 0,high = data['x_test'].shape[0], size=self.n_test_samples) #sample size random points indexes from test\n",
    "            with tf.name_scope('Errors'):\n",
    "                rec_error = self.reconstruction_cross_entropy(data['x_test'][rnd_test_points_idx,:])\n",
    "                sq_error = self.average_squared_error(data['x_test'][rnd_test_points_idx,:])\n",
    "                free_energy = self.free_energy(data['x_test'][rnd_test_points_idx[0],:])\n",
    "                tf.summary.scalar('rec_error', rec_error, step = epoch)\n",
    "                tf.summary.scalar('squared_error', sq_error, step = epoch)\n",
    "                tf.summary.scalar('Free Energy', free_energy, step = epoch)\n",
    "                tf.summary.scalar('Learning rate', learning_rate, step = epoch)\n",
    "            with tf.name_scope('Weights'):\n",
    "                self.variable_summaries(self.weights, step = epoch)\n",
    "            with tf.name_scope('Hidden biases'):\n",
    "                self.variable_summaries(self.hidden_biases, step = epoch)\n",
    "            with tf.name_scope('Visible biases'):\n",
    "                self.variable_summaries(self.visible_biases, step=epoch)\n",
    "\n",
    "            print(\"epoch %d\" % (epoch + 1),\"Rec error: %s\" % np.asarray(rec_error),\"sq_error %s\" % np.asarray(sq_error))\n"
   ]
  },
  {
   "cell_type": "markdown",
   "metadata": {
    "hidden": true
   },
   "source": [
    "## measuring_temperature.py"
   ]
  },
  {
   "cell_type": "code",
   "execution_count": null,
   "metadata": {
    "hidden": true
   },
   "outputs": [],
   "source": [
    "import tensorflow as tf\n",
    "import numpy as np\n",
    "from sklearn.preprocessing import Binarizer\n",
    "from sklearn.model_selection import train_test_split\n",
    "import deepdish as dd\n",
    "import itertools\n",
    "import os\n",
    "\n",
    "\n",
    "def create_model():\n",
    "    model = \n",
    "        \"\"\"\n",
    "        *************************\n",
    "        YOUR TURN****************\n",
    "        *************************\n",
    "        \"\"\"\n",
    "    model.compile(optimizer='adam',\n",
    "                  loss='sparse_categorical_crossentropy',\n",
    "                  metrics=['accuracy'])\n",
    "    return model\n",
    "\n",
    "\n",
    "#preprocessing the data\n",
    "datah5 = dd.io.load('ising_data.hdf5')\n",
    "\n",
    "binarizer = Binarizer(threshold=0)\n",
    "keys = list(datah5.keys())\n",
    "for key in keys:\n",
    "    datah5[key] = np.array([np.where(np.sum(slice)<0,-slice,slice) for slice in datah5[key]])\n",
    "    datah5[key] = np.array([binarizer.fit_transform(slice) for slice in datah5[key]])\n",
    "\n",
    "\"\"\"\n",
    "**************************************************************************\n",
    "CHOOSE AS MANY TEMPERATURES AS YOU WOULD LIKE TO IDENTIFY!****************\n",
    "KEEP IN MIND THAT THE ACCURACY GETS HIGHER THE LESS TEMPERATURES YOU PICK!\n",
    "**************************************************************************\n",
    "\"\"\"\n",
    "#class_names = ['T=1.000000', 'T=2.186995', 'T=2.261435', 'T=2.268900', 'T=2.269184', 'T=3.000000']\n",
    "\n",
    "#the correspondent label for the class will be the index in the previous list so label 0 ==> T=1.0000000\n",
    "\n",
    "#We have to concatenate all the data and also create all the correspondent labels\n",
    "\n",
    "data = datah5[class_names[0]]\n",
    "for temperature in class_names[1:]:\n",
    "    data = np.concatenate([data,datah5[temperature]])\n",
    "\n",
    "#to create the correspondent label we just need a list [0,0,...,0,1,...,1,...]\n",
    "class_labels = np.asarray(list(itertools.chain.from_iterable(itertools.repeat(x, 5000) for x in range(0,len(class_names)))))\n",
    "\n",
    "#Split the dataset into test and train\n",
    "ising_train, ising_test, temp_train, temp_test = train_test_split(data, class_labels, test_size=0.1, random_state=42)\n",
    "\n",
    "checkpoint_path = \"training_1/cp.ckpt\"\n",
    "checkpoint_dir = os.path.dirname(checkpoint_path)\n",
    "\n",
    "# Create checkpoint callback to save our trained model every epoch\n",
    "cp_callback = tf.keras.callbacks.ModelCheckpoint(checkpoint_path,save_weights_only=True,verbose=1, period=5)\n",
    "\n",
    "#Now we can create our neural network and print out a summary of the architecture\n",
    "neural_network = create_model()\n",
    "neural_network.summary()\n",
    "\n",
    "#Start training the model by testing every epoch the accuracy of the class prediction on the test set\n",
    "\n",
    "neural_network.fit(ising_train, temp_train , epochs=100,batch_size=64,validation_data = (ising_test,temp_test),callbacks = [cp_callback])\n",
    "\n"
   ]
  },
  {
   "cell_type": "markdown",
   "metadata": {
    "hidden": true
   },
   "source": [
    "## ising_main.py"
   ]
  },
  {
   "cell_type": "code",
   "execution_count": null,
   "metadata": {
    "hidden": true
   },
   "outputs": [],
   "source": [
    "import numpy as np\n",
    "import tensorflow as tf\n",
    "from sklearn.preprocessing import Binarizer\n",
    "from sklearn.model_selection import train_test_split\n",
    "#import matplotlib.pyplot as plt\n",
    "from my_RBM_tf2 import RBM\n",
    "import deepdish as dd\n",
    "import itertools\n",
    "import os\n",
    "\n",
    "datah5 = dd.io.load('ising_data.hdf5')\n",
    "\n",
    "#Transform -1 in 0 and take spin up as standard configuration\n",
    "binarizer = Binarizer(threshold=0)\n",
    "keys = list(datah5.keys())\n",
    "#put here the temperature from keys that you want to use for the training\n",
    "class_names = ['T=1.000000', 'T=2.269184', 'T=3.000000']\n",
    "datah5_norm={}\n",
    "data_bin={}\n",
    "for key in keys:\n",
    "    datah5_norm[key] = np.array([np.where(np.sum(slice)<0,-slice,slice) for slice in datah5[key]])\n",
    "    data_bin[key] = np.array([binarizer.fit_transform(slice) for slice in datah5_norm[key]])\n",
    "\n",
    "#class labels even if they are not really useful here\n",
    "class_labels = np.asarray(list(itertools.chain.from_iterable(itertools.repeat(x, 5000) for x in range(0,len(class_names)))))\n",
    "\n",
    "data = data_bin[class_names[0]]\n",
    "for temperature in class_names[1:]:\n",
    "    data = np.concatenate([data,data_bin[temperature]])\n",
    "\n",
    "#create dictionary for training\n",
    "x_train, x_test, y_train, y_test = train_test_split(data, class_labels, test_size=0.1, random_state=42)\n",
    "\n",
    "#reshape pictures to be vectors and fix datatype\n",
    "x_train = x_train.reshape(x_train.shape[0],-1).astype(np.float32)\n",
    "x_test = x_test.reshape(x_test.shape[0],-1).astype(np.float32)\n",
    "\n",
    "data = {\"x_train\": x_train ,\"y_train\": y_train,\"x_test\": x_test,\"y_test\": y_test}\n",
    "\n",
    "#Create a restricted boltzmann machines\n",
    "machine = RBM(x_train[0].shape[0], 200, 100, (32, 32), 32)\n",
    "\n",
    "#Train the machine\n",
    "machine.train(data)\n"
   ]
  }
 ],
 "metadata": {
  "kernelspec": {
   "display_name": "Python 3",
   "language": "python",
   "name": "python3"
  },
  "language_info": {
   "codemirror_mode": {
    "name": "ipython",
    "version": 3
   },
   "file_extension": ".py",
   "mimetype": "text/x-python",
   "name": "python",
   "nbconvert_exporter": "python",
   "pygments_lexer": "ipython3",
   "version": "3.7.3"
  },
  "toc": {
   "base_numbering": 1,
   "nav_menu": {},
   "number_sections": true,
   "sideBar": true,
   "skip_h1_title": false,
   "title_cell": "Table of Contents",
   "title_sidebar": "Contents",
   "toc_cell": false,
   "toc_position": {},
   "toc_section_display": true,
   "toc_window_display": false
  }
 },
 "nbformat": 4,
 "nbformat_minor": 2
}
=======
  "nbformat": 4,
  "nbformat_minor": 0,
  "metadata": {
    "colab": {
      "name": "exercise05.ipynb",
      "version": "0.3.2",
      "provenance": [],
      "include_colab_link": true
    },
    "kernelspec": {
      "name": "python3",
      "display_name": "Python 3"
    }
  },
  "cells": [
    {
      "cell_type": "markdown",
      "metadata": {
        "id": "view-in-github",
        "colab_type": "text"
      },
      "source": [
        "<a href=\"https://colab.research.google.com/github/BeatHubmann/19F-CSP/blob/master/ex05/exercise05.ipynb\" target=\"_parent\"><img src=\"https://colab.research.google.com/assets/colab-badge.svg\" alt=\"Open In Colab\"/></a>"
      ]
    },
    {
      "metadata": {
        "id": "3aIQUlaOud67",
        "colab_type": "code",
        "colab": {}
      },
      "cell_type": "code",
      "source": [
        ""
      ],
      "execution_count": 0,
      "outputs": []
    }
  ]
}
>>>>>>> ebbfc00ade66daf05c747282b32db03fad18d33d
