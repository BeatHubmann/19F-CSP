{
 "cells": [
  {
   "cell_type": "markdown",
   "metadata": {},
   "source": [
    "### Import statements and configuration"
   ]
  },
  {
   "cell_type": "code",
   "execution_count": 1,
   "metadata": {
    "ExecuteTime": {
     "end_time": "2019-03-26T17:31:47.146832Z",
     "start_time": "2019-03-26T17:31:46.970999Z"
    }
   },
   "outputs": [],
   "source": [
    "import sys\n",
    "import timeit\n",
    "import numpy as np\n",
    "import matplotlib.pyplot as plt\n",
    "import matplotlib.cm as cm"
   ]
  },
  {
   "cell_type": "code",
   "execution_count": 2,
   "metadata": {
    "ExecuteTime": {
     "end_time": "2019-03-26T17:31:47.152369Z",
     "start_time": "2019-03-26T17:31:47.148347Z"
    }
   },
   "outputs": [],
   "source": [
    "%matplotlib inline"
   ]
  },
  {
   "cell_type": "markdown",
   "metadata": {},
   "source": [
    "### Definite class for running Swendsen-Wang algorithm"
   ]
  },
  {
   "cell_type": "code",
   "execution_count": 30,
   "metadata": {
    "ExecuteTime": {
     "end_time": "2019-03-26T19:28:21.192078Z",
     "start_time": "2019-03-26T19:28:21.162385Z"
    }
   },
   "outputs": [],
   "source": [
    "class SwendsenWang:\n",
    "    def __init__(self, T, L, W=None, H=None, J=1.0, verbose=False):\n",
    "        self.T = T # temperature T\n",
    "        self.L = L # lattice side length L\n",
    "        if W is None: # lattice width if given\n",
    "            self.W = self.L\n",
    "        if H is None: # lattice height if given\n",
    "            self.H = self.L\n",
    "        self.J = J # magnetic coupling constant\n",
    "        \n",
    "        # 3d lattice dimensions\n",
    "        self.N = self.L * self.W * self.H\n",
    "      \n",
    "        # inverse temperature\n",
    "        self.beta = 1.0 / self.T\n",
    "          \n",
    "        # bond probability: key element when building new clusters e/a step\n",
    "        self.bond_prob = 1.0 - np.exp(-2 * self.beta * self.J)\n",
    "        \n",
    "        # number of bonds in fully connected lattice\n",
    "        self.n_bonds = 3 * self.N # periodic boundary conditions\n",
    "    \n",
    "        # starting energy\n",
    "        self.ene_start = - self.J * self.n_bonds # n_bonds fully connecting all-up spins\n",
    "    \n",
    "        if verbose:\n",
    "            print('Lattice: {} x {} x {} -> {} sites'.format(self.L, self.W, self.H, self.N))\n",
    "            print('Temperature T = {:.3f} -> inverse temperature beta = {:.3f}'.format(self.T, self.beta))\n",
    "            print('Bond probability = {:.3f}'.format(self.bond_prob))\n",
    "    \n",
    "        # set up lattice, graph coordinates, cluster_ids\n",
    "        self.spins = np.ones((self.L, self.W, self.H), dtype=int) # all spins up\n",
    "        self.neighborhood = np.zeros((*self.spins.shape, 6, 3), dtype=int) # L**3 lattice, 6 neighbors/site, 3 coordinates/neighbor              \n",
    "        self.cluster_ids = np.zeros(self.spins.shape, dtype=int) # init to zero\n",
    "        self.masses = np.ones(self.spins.shape, dtype=int) # init to one\n",
    "        self.parents = np.zeros((*self.spins.shape, 3), dtype=int) # space for L*W*H lattice, 3 coordinates/parent\n",
    "        for site in np.ndindex(self.spins.shape):\n",
    "            self.parents[site] = site # init parent coordinates to self for all sites\n",
    "            self.neighborhood[site] = self.find_neighbors(*site) # populate neighbor coordinates\n",
    "            \n",
    "    def reset_clusters(self):\n",
    "        self.cluster_ids = np.zeros(self.spins.shape, dtype=int) # init to zero\n",
    "        self.masses = np.ones(self.spins.shape, dtype=int) # init to one\n",
    "        self.parents = np.zeros((*self.spins.shape, 3), dtype=int) # space for L*W*H lattice, 3 coordinates/parent\n",
    "        for site in np.ndindex(self.spins.shape):\n",
    "            self.parents[site] = site # init parent coordinates to self for all sites\n",
    "            \n",
    "            \n",
    "    def find_neighbors(self, i, j, k):\n",
    "        L_m, W_m, H_m = self.L - 1, self.W - 1, self.H - 1  # save [L, W, H] - 1 for efficient reuse\n",
    "        return (((i+1) if i < L_m else 0, j, k), # east\n",
    "                (i, (j+1) if j < W_m else 0, k), # south\n",
    "                (i, j, (k+1) if k < H_m else 0), # up\n",
    "                ((i-1) if i > 0 else L_m, j, k), # west\n",
    "                (i, (j-1) if j > 0 else W_m, k), # north\n",
    "                (i, j, (k-1) if k > 0 else H_m)) # down\n",
    "    \n",
    "    def union(self, site_a, site_b):\n",
    "        if site_a == site_b: # do nothing if called on same site (periodic boundary conditions)\n",
    "            return site_a\n",
    "        root_a, root_b = self.find(site_a), self.find(site_b) # find roots of respective clusters\n",
    "        if root_a == root_b:\n",
    "            return root_a # do nothing if already part of same cluster\n",
    "        mass_a, mass_b = self.masses[root_a], self.masses[root_b] # find masses of respective clusters\n",
    "        if mass_a < mass_b: # lighter cluster will be adopted by heavier cluster: swap places if necessary\n",
    "            root_a, root_b = root_b, root_a\n",
    "        self.parents[root_b] = root_a # adopt cluster of site_b into cluster of site_a\n",
    "        self.masses[root_a] += self.masses[root_b] # add mass of adopted cluster to mass of adopting cluster\n",
    "        return root_a\n",
    "    \n",
    "    def is_root(self, site):\n",
    "        return tuple(self.parents[site]) == site # end of recursion: site is root if it's its own parent\n",
    "    \n",
    "    def find(self, site):\n",
    "        while not self.is_root(site): # follow up the tree until root is found\n",
    "            site = tuple(self.parents[site])\n",
    "        return site    \n",
    "    \n",
    "    def label_clusters(self):\n",
    "        n_clusters = 0 # running count of clusters in lattice\n",
    "        for site in np.ndindex(self.spins.shape):\n",
    "            if self.is_root(site):\n",
    "                self.cluster_ids[site] = n_clusters # pass 1: e/a cluster's root gets numbered\n",
    "                n_clusters += 1\n",
    "        cluster_sizes = np.zeros(n_clusters, dtype=float) # keep a tally of cluster sizes\n",
    "        for site in np.ndindex(self.spins.shape):\n",
    "            cluster_id = self.cluster_ids[tuple(self.parents[site])] # find which cluster id site belongs to\n",
    "            self.cluster_ids[site] = cluster_id # pass 2: e/a site gets cluster id of its root\n",
    "            cluster_sizes[cluster_id] += 1\n",
    "        return n_clusters, cluster_sizes\n",
    "    \n",
    "    def union_find(self, plot_slice=False):\n",
    "        n_active_bonds = 0 # init to zero, used to calculate energy ene\n",
    "        self.reset_clusters() # reset cluster data (cluster_id, masses, parents) at beginning of step\n",
    "\n",
    "        for site in np.ndindex(self.spins.shape):\n",
    "            spin = self.spins[site] # site's own spin\n",
    "            bond_neighbors = [tuple(neighbor) for neighbor in self.neighborhood[site][:3] if # add neighbor if it has same spin and...\n",
    "                              spin == self.spins[tuple(neighbor)] and np.random.rand() < self.bond_prob] # ... passes Monte Carlo step\n",
    "            n_active_bonds += len(bond_neighbors) # count active bonds in lattice as we're not saving them for later\n",
    "            [self.union(site, bond_neighbor) for bond_neighbor in bond_neighbors] # run union-find on all bonded neighbors\n",
    "        n_clusters, cluster_sizes = self.label_clusters() # now label all found clusters\n",
    "        if plot_slice: # plot slice 0 of the spin lattice with colored clusters for diagnostics\n",
    "            plt.figure()\n",
    "            plt.imshow(self.cluster_ids[:, :, 0].reshape(self.spins.shape[:-1]), cmap=cm.get_cmap('PiYG', n_clusters))\n",
    "            plt.colorbar()\n",
    "        return n_active_bonds, n_clusters, cluster_sizes # to do calculations with\n",
    "    \n",
    "    def update(self, thermalize=False):\n",
    "        # Run union-find algorithm and get clusters\n",
    "        n_active_bonds, n_clusters, cluster_sizes = self.union_find() \n",
    "        \n",
    "        # Flip clusters\n",
    "        new_spins = np.random.randint(0, 2, size=n_clusters) * 2 - 1 # table: p=0.5 random -1, +1 for n_clusters\n",
    "        for site in np.ndindex(self.spins.shape):\n",
    "            self.spins[site] = new_spins[self.cluster_ids[site]] # grab new random spin from table\n",
    "\n",
    "        if thermalize: # save the trouble of calculating observables while thermalizing\n",
    "            return None\n",
    "        \n",
    "        # Calculate observables\n",
    "        mag = np.abs(np.mean(self.spins)) # magnetization density over lattice\n",
    "        mag_2 = mag * mag # mag^2\n",
    "        mag_4 = mag_2 * mag_2 # mag^4\n",
    "        ene = -n_active_bonds * self.J # not sure this is ok, but don't need it for Binder cumulant\n",
    "        return mag, mag_2, mag_4, ene\n",
    "    \n",
    "    def run(self, thermalization_steps=50, time_steps=50):\n",
    "        for _ in range(thermalization_steps):\n",
    "            self.update(thermalize=True) # thermalize\n",
    "        mag_array = np.zeros(time_steps)\n",
    "        mag_2_array = np.zeros(time_steps)\n",
    "        mag_4_array = np.zeros(time_steps)\n",
    "        ene_array = np.zeros(time_steps)\n",
    "        for i in range(time_steps):\n",
    "            mag, mag_2, mag_4, ene = self.update() # MC steps with observable recording\n",
    "            mag_array[i] = mag\n",
    "            mag_2_array[i] = mag_2\n",
    "            mag_4_array[i] = mag_4\n",
    "            ene_array[i] = ene\n",
    "        return mag_array, mag_2_array, mag_4_array, ene_array     "
   ]
  },
  {
   "cell_type": "markdown",
   "metadata": {},
   "source": [
    "### Set parameters"
   ]
  },
  {
   "cell_type": "code",
   "execution_count": 38,
   "metadata": {
    "ExecuteTime": {
     "end_time": "2019-03-26T21:09:31.801166Z",
     "start_time": "2019-03-26T21:09:31.797191Z"
    }
   },
   "outputs": [],
   "source": [
    "# magnetic coupling constant\n",
    "J = 1.0\n",
    "\n",
    "# lattice cubic side lengths\n",
    "L_range = [8, 12, 16, 20]\n",
    "\n",
    "# temperatures\n",
    "T_range = [3, 4, 4.5, 4.52, 5, 6]\n",
    "\n",
    "# thermalization steps\n",
    "thermalize = 50\n",
    "\n",
    "# observation time steps\n",
    "time_steps = 50\n",
    "\n",
    "# samples: number of fresh starts\n",
    "samples = 10"
   ]
  },
  {
   "cell_type": "markdown",
   "metadata": {},
   "source": [
    "### Run simulations"
   ]
  },
  {
   "cell_type": "code",
   "execution_count": 39,
   "metadata": {
    "ExecuteTime": {
     "end_time": "2019-03-26T21:40:27.201897Z",
     "start_time": "2019-03-26T21:09:33.584168Z"
    }
   },
   "outputs": [
    {
     "name": "stdout",
     "output_type": "stream",
     "text": [
      "----------------------------------------------------------------------------------------------------\n",
      "L = 8, T = 3.000 : 14.039s simulation time for 10 samples over 1000 total steps (10*[50+50])\n",
      "====================================================================================================\n",
      "----------------------------------------------------------------------------------------------------\n",
      "L = 8, T = 4.000 : 11.587s simulation time for 10 samples over 1000 total steps (10*[50+50])\n",
      "====================================================================================================\n",
      "----------------------------------------------------------------------------------------------------\n",
      "L = 8, T = 4.500 : 10.641s simulation time for 10 samples over 1000 total steps (10*[50+50])\n",
      "====================================================================================================\n",
      "----------------------------------------------------------------------------------------------------\n",
      "L = 8, T = 4.520 : 10.587s simulation time for 10 samples over 1000 total steps (10*[50+50])\n",
      "====================================================================================================\n",
      "----------------------------------------------------------------------------------------------------\n",
      "L = 8, T = 5.000 : 9.926s simulation time for 10 samples over 1000 total steps (10*[50+50])\n",
      "====================================================================================================\n",
      "----------------------------------------------------------------------------------------------------\n",
      "L = 8, T = 6.000 : 9.518s simulation time for 10 samples over 1000 total steps (10*[50+50])\n",
      "====================================================================================================\n",
      "----------------------------------------------------------------------------------------------------\n",
      "L = 12, T = 3.000 : 48.680s simulation time for 10 samples over 1000 total steps (10*[50+50])\n",
      "====================================================================================================\n",
      "----------------------------------------------------------------------------------------------------\n",
      "L = 12, T = 4.000 : 39.899s simulation time for 10 samples over 1000 total steps (10*[50+50])\n",
      "====================================================================================================\n",
      "----------------------------------------------------------------------------------------------------\n",
      "L = 12, T = 4.500 : 35.665s simulation time for 10 samples over 1000 total steps (10*[50+50])\n",
      "====================================================================================================\n",
      "----------------------------------------------------------------------------------------------------\n",
      "L = 12, T = 4.520 : 35.840s simulation time for 10 samples over 1000 total steps (10*[50+50])\n",
      "====================================================================================================\n",
      "----------------------------------------------------------------------------------------------------\n",
      "L = 12, T = 5.000 : 33.783s simulation time for 10 samples over 1000 total steps (10*[50+50])\n",
      "====================================================================================================\n",
      "----------------------------------------------------------------------------------------------------\n",
      "L = 12, T = 6.000 : 31.524s simulation time for 10 samples over 1000 total steps (10*[50+50])\n",
      "====================================================================================================\n",
      "----------------------------------------------------------------------------------------------------\n",
      "L = 16, T = 3.000 : 113.471s simulation time for 10 samples over 1000 total steps (10*[50+50])\n",
      "====================================================================================================\n",
      "----------------------------------------------------------------------------------------------------\n",
      "L = 16, T = 4.000 : 93.560s simulation time for 10 samples over 1000 total steps (10*[50+50])\n",
      "====================================================================================================\n",
      "----------------------------------------------------------------------------------------------------\n",
      "L = 16, T = 4.500 : 83.801s simulation time for 10 samples over 1000 total steps (10*[50+50])\n",
      "====================================================================================================\n",
      "----------------------------------------------------------------------------------------------------\n",
      "L = 16, T = 4.520 : 84.272s simulation time for 10 samples over 1000 total steps (10*[50+50])\n",
      "====================================================================================================\n",
      "----------------------------------------------------------------------------------------------------\n",
      "L = 16, T = 5.000 : 78.834s simulation time for 10 samples over 1000 total steps (10*[50+50])\n",
      "====================================================================================================\n",
      "----------------------------------------------------------------------------------------------------\n",
      "L = 16, T = 6.000 : 73.418s simulation time for 10 samples over 1000 total steps (10*[50+50])\n",
      "====================================================================================================\n",
      "----------------------------------------------------------------------------------------------------\n",
      "L = 20, T = 3.000 : 223.013s simulation time for 10 samples over 1000 total steps (10*[50+50])\n",
      "====================================================================================================\n",
      "----------------------------------------------------------------------------------------------------\n",
      "L = 20, T = 4.000 : 182.279s simulation time for 10 samples over 1000 total steps (10*[50+50])\n",
      "====================================================================================================\n",
      "----------------------------------------------------------------------------------------------------\n",
      "L = 20, T = 4.500 : 164.090s simulation time for 10 samples over 1000 total steps (10*[50+50])\n",
      "====================================================================================================\n",
      "----------------------------------------------------------------------------------------------------\n",
      "L = 20, T = 4.520 : 166.685s simulation time for 10 samples over 1000 total steps (10*[50+50])\n",
      "====================================================================================================\n",
      "----------------------------------------------------------------------------------------------------\n",
      "L = 20, T = 5.000 : 154.039s simulation time for 10 samples over 1000 total steps (10*[50+50])\n",
      "====================================================================================================\n",
      "----------------------------------------------------------------------------------------------------\n",
      "L = 20, T = 6.000 : 144.197s simulation time for 10 samples over 1000 total steps (10*[50+50])\n",
      "====================================================================================================\n"
     ]
    },
    {
     "data": {
      "image/png": "[encoded data removed]",
      "text/plain": [
       "<Figure size 432x288 with 1 Axes>"
      ]
     },
     "metadata": {
      "needs_background": "light"
     },
     "output_type": "display_data"
    }
   ],
   "source": [
    "for L in L_range:\n",
    "    binder_array = []\n",
    "    chi_array = []\n",
    "    m_array = []\n",
    "    ene_array = []\n",
    "    for T in T_range:\n",
    "        result_mag = np.zeros((samples,))\n",
    "        result_mag_2 = np.zeros_like(result_mag)\n",
    "        result_mag_4 = np.zeros_like(result_mag)\n",
    "        result_ene = np.zeros_like(result_mag)\n",
    "        result_binder = np.zeros_like(result_mag)\n",
    "        result_chi = np.zeros_like(result_mag)\n",
    "\n",
    "        start = timeit.default_timer()\n",
    "\n",
    "        for n in range(samples):\n",
    "            simulation = SwendsenWang(T, L)\n",
    "            mag_array, mag_2_array, mag_4_array, ene_array = simulation.run(thermalize, time_steps)\n",
    "            result_mag[n] = np.mean(mag_array)\n",
    "            result_mag_2[n] = np.mean(mag_2_array)\n",
    "            result_mag_4[n] = np.mean(mag_4_array)\n",
    "            result_ene[n] = np.mean(ene_array)\n",
    "            result_binder[n] = 1 - result_mag_4[n] / (3 * result_mag_2[n]**2)\n",
    "            result_chi[n] = 1 / T * L**3 * (result_mag_2[n] - result_mag[n]**2)\n",
    "            \n",
    "        end = timeit.default_timer()\n",
    "        print(100 * '-')\n",
    "        print('L = {}, T = {:.3f} : {:.3f}s simulation time for {} samples over {} total steps ({}*[{}+{}]) on {} sites'.format(L, T, end-start, samples, samples*(thermalize+time_steps), samples, thermalize, time_steps, L**3))\n",
    "        print(100 * '=')\n",
    "        binder_array.append(np.mean(result_binder))\n",
    "        chi_array.append(np.mean(result_chi))\n",
    "        m_array.append(np.mean(result_mag))\n",
    "        ene_array.append(np.mean(result_ene))\n",
    "        \n",
    "    plt.plot(T_range, binder_array, 'o-', label='L = {}'.format(L))\n",
    "plt.xlabel('$T$')\n",
    "plt.ylabel('$U(T)$')\n",
    "plt.title('Binder cumulant (Swendsen-Wang, Ising 3D cubic, {} samples)'.format(samples))\n",
    "plt.legend()\n",
    "plt.savefig('binder_cumulant.pdf', dpi=300)"
   ]
  },
  {
   "cell_type": "code",
   "execution_count": 40,
   "metadata": {
    "ExecuteTime": {
     "end_time": "2019-03-26T21:40:27.341838Z",
     "start_time": "2019-03-26T21:40:27.203952Z"
    }
   },
   "outputs": [
    {
     "data": {
      "text/plain": [
       "[<matplotlib.lines.Line2D at 0x128ac78d0>]"
      ]
     },
     "execution_count": 40,
     "metadata": {},
     "output_type": "execute_result"
    },
    {
     "data": {
      "image/png": "[encoded data removed]",
      "text/plain": [
       "<Figure size 432x288 with 1 Axes>"
      ]
     },
     "metadata": {
      "needs_background": "light"
     },
     "output_type": "display_data"
    }
   ],
   "source": [
    "plt.plot(T_range, chi_array, '^-')"
   ]
  },
  {
   "cell_type": "code",
   "execution_count": 41,
   "metadata": {
    "ExecuteTime": {
     "end_time": "2019-03-26T21:40:27.588371Z",
     "start_time": "2019-03-26T21:40:27.442496Z"
    }
   },
   "outputs": [
    {
     "data": {
      "text/plain": [
       "[<matplotlib.lines.Line2D at 0x12b801400>]"
      ]
     },
     "execution_count": 41,
     "metadata": {},
     "output_type": "execute_result"
    },
    {
     "data": {
      "image/png": "[encoded data removed]",
      "text/plain": [
       "<Figure size 432x288 with 1 Axes>"
      ]
     },
     "metadata": {
      "needs_background": "light"
     },
     "output_type": "display_data"
    }
   ],
   "source": [
    "plt.plot(T_range, m_array, 'v-')"
   ]
  },
  {
   "cell_type": "code",
   "execution_count": null,
   "metadata": {},
   "outputs": [],
   "source": []
  }
 ],
 "metadata": {
  "kernelspec": {
   "display_name": "Python 3",
   "language": "python",
   "name": "python3"
  },
  "language_info": {
   "codemirror_mode": {
    "name": "ipython",
    "version": 3
   },
   "file_extension": ".py",
   "mimetype": "text/x-python",
   "name": "python",
   "nbconvert_exporter": "python",
   "pygments_lexer": "ipython3",
   "version": "3.7.2"
  },
  "toc": {
   "base_numbering": 1,
   "nav_menu": {},
   "number_sections": true,
   "sideBar": true,
   "skip_h1_title": false,
   "title_cell": "Table of Contents",
   "title_sidebar": "Contents",
   "toc_cell": false,
   "toc_position": {},
   "toc_section_display": true,
   "toc_window_display": false
  }
 },
 "nbformat": 4,
 "nbformat_minor": 2
}
